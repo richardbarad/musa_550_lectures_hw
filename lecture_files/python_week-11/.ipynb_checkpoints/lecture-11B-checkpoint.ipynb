{
 "cells": [
  {
   "cell_type": "code",
   "execution_count": 1,
   "metadata": {
    "slideshow": {
     "slide_type": "skip"
    },
    "tags": []
   },
   "outputs": [],
   "source": [
    "from matplotlib import pyplot as plt\n",
    "import numpy as np\n",
    "import pandas as pd\n",
    "import geopandas as gpd\n",
    "np.random.seed(42)"
   ]
  },
  {
   "cell_type": "markdown",
   "metadata": {
    "slideshow": {
     "slide_type": "slide"
    }
   },
   "source": [
    "# Lecture 11B: Clustering Analysis in Python\n",
    "\n",
    "- Section 401\n",
    "- Nov 15, 2023"
   ]
  },
  {
   "cell_type": "markdown",
   "metadata": {
    "slideshow": {
     "slide_type": "slide"
    }
   },
   "source": [
    "## Last lecture (11A)\n",
    "\n",
    "- Introduction to clustering with scikit-learn\n",
    "- K-means algorithm for non-spatial clustering"
   ]
  },
  {
   "cell_type": "markdown",
   "metadata": {
    "slideshow": {
     "slide_type": "slide"
    }
   },
   "source": [
    "## Today\n",
    "\n",
    "- Spatial clustering with the DBSCAN algorithm\n",
    "- Exercise on spatial clustering of NYC taxi trips"
   ]
  },
  {
   "cell_type": "markdown",
   "metadata": {
    "slideshow": {
     "slide_type": "slide"
    }
   },
   "source": [
    "## Part 2: Spatial clustering\n",
    "\n",
    "Now on to the more traditional view of \"clustering\"..."
   ]
  },
  {
   "cell_type": "markdown",
   "metadata": {
    "slideshow": {
     "slide_type": "slide"
    }
   },
   "source": [
    "## DBSCAN\n",
    "\n",
    "\"Density-Based Spatial Clustering of Applications with Noise\""
   ]
  },
  {
   "cell_type": "markdown",
   "metadata": {
    "slideshow": {
     "slide_type": "subslide"
    }
   },
   "source": [
    "- Clusters are areas of **high density** separated by areas of low density.\n",
    "- Can identify clusters of any shape\n",
    "- Good at separating **core samples** in high-density regions from low-density **noise** samples\n",
    "- **Best for spatial data**"
   ]
  },
  {
   "cell_type": "markdown",
   "metadata": {
    "slideshow": {
     "slide_type": "subslide"
    }
   },
   "source": [
    "## Two key parameters \n",
    "\n",
    "1. **eps**: The maximum distance between two samples for them to be considered as in the same neighborhood.\n",
    "1. **min_samples**: The number of samples in a neighborhood for a point to be considered as a core point (including the point itself)."
   ]
  },
  {
   "cell_type": "markdown",
   "metadata": {
    "slideshow": {
     "slide_type": "slide"
    }
   },
   "source": [
    "### Example Scenario\n",
    "\n",
    "<img width=\"500\" src=\"https://upload.wikimedia.org/wikipedia/commons/thumb/a/af/DBSCAN-Illustration.svg/1200px-DBSCAN-Illustration.svg.png\" alt=\"DBSCAN-Illustration.svg\">\n",
    "\n",
    "\n",
    "- `min_samples` = 4. \n",
    "- Point A and the other red points are **core points**\n",
    "    - There are at least `min_samples` (4) points (including the point itself) within a distance of `eps` from each of these points.\n",
    "    - These points are all reachable from one another, so they for a cluster\n",
    "- Points B and C are **edge points** of the cluster\n",
    "    - They are reachable (within a distance of `eps`) from the core points so they are part of the cluster \n",
    "    - They do not have at least `min_pts` within a distance of `eps` so they are not core points\n",
    "- Point N is a **noise point** — it not within a distance of `eps` from any of the cluster points"
   ]
  },
  {
   "cell_type": "markdown",
   "metadata": {
    "slideshow": {
     "slide_type": "subslide"
    }
   },
   "source": [
    "## Importance of parameter choices\n",
    "\n",
    "Higher `min_samples` or a lower `eps` requires a higher density necessary to form a cluster."
   ]
  },
  {
   "cell_type": "markdown",
   "metadata": {
    "slideshow": {
     "slide_type": "slide"
    }
   },
   "source": [
    "## Example: OpenStreetMap GPS traces in Philadelphia\n",
    "\n",
    "- Data extracted from the set of 1 billion GPS traces from OSM.\n",
    "- CRS is EPSG=3857 — `x` and `y` in units of meters"
   ]
  },
  {
   "cell_type": "code",
   "execution_count": 12,
   "metadata": {
    "slideshow": {
     "slide_type": "subslide"
    },
    "tags": []
   },
   "outputs": [
    {
     "data": {
      "text/html": [
       "<div>\n",
       "<style scoped>\n",
       "    .dataframe tbody tr th:only-of-type {\n",
       "        vertical-align: middle;\n",
       "    }\n",
       "\n",
       "    .dataframe tbody tr th {\n",
       "        vertical-align: top;\n",
       "    }\n",
       "\n",
       "    .dataframe thead th {\n",
       "        text-align: right;\n",
       "    }\n",
       "</style>\n",
       "<table border=\"1\" class=\"dataframe\">\n",
       "  <thead>\n",
       "    <tr style=\"text-align: right;\">\n",
       "      <th></th>\n",
       "      <th>x</th>\n",
       "      <th>y</th>\n",
       "      <th>geometry</th>\n",
       "    </tr>\n",
       "  </thead>\n",
       "  <tbody>\n",
       "    <tr>\n",
       "      <th>0</th>\n",
       "      <td>-8370750.5</td>\n",
       "      <td>4865303.0</td>\n",
       "      <td>POINT (-8370750.500 4865303.000)</td>\n",
       "    </tr>\n",
       "    <tr>\n",
       "      <th>1</th>\n",
       "      <td>-8368298.0</td>\n",
       "      <td>4859096.5</td>\n",
       "      <td>POINT (-8368298.000 4859096.500)</td>\n",
       "    </tr>\n",
       "    <tr>\n",
       "      <th>2</th>\n",
       "      <td>-8365991.0</td>\n",
       "      <td>4860380.0</td>\n",
       "      <td>POINT (-8365991.000 4860380.000)</td>\n",
       "    </tr>\n",
       "    <tr>\n",
       "      <th>3</th>\n",
       "      <td>-8372306.5</td>\n",
       "      <td>4868231.0</td>\n",
       "      <td>POINT (-8372306.500 4868231.000)</td>\n",
       "    </tr>\n",
       "    <tr>\n",
       "      <th>4</th>\n",
       "      <td>-8376768.5</td>\n",
       "      <td>4864341.0</td>\n",
       "      <td>POINT (-8376768.500 4864341.000)</td>\n",
       "    </tr>\n",
       "  </tbody>\n",
       "</table>\n",
       "</div>"
      ],
      "text/plain": [
       "           x          y                          geometry\n",
       "0 -8370750.5  4865303.0  POINT (-8370750.500 4865303.000)\n",
       "1 -8368298.0  4859096.5  POINT (-8368298.000 4859096.500)\n",
       "2 -8365991.0  4860380.0  POINT (-8365991.000 4860380.000)\n",
       "3 -8372306.5  4868231.0  POINT (-8372306.500 4868231.000)\n",
       "4 -8376768.5  4864341.0  POINT (-8376768.500 4864341.000)"
      ]
     },
     "execution_count": 12,
     "metadata": {},
     "output_type": "execute_result"
    }
   ],
   "source": [
    "coords = gpd.read_file('./data/osm_gps_philadelphia.geojson').drop_duplicates()\n",
    "coords.head() "
   ]
  },
  {
   "cell_type": "code",
   "execution_count": 13,
   "metadata": {
    "slideshow": {
     "slide_type": "subslide"
    },
    "tags": []
   },
   "outputs": [
    {
     "name": "stdout",
     "output_type": "stream",
     "text": [
      "Total number of points = 39689\n"
     ]
    }
   ],
   "source": [
    "num_points = len(coords)\n",
    "\n",
    "print(f\"Total number of points = {num_points}\")"
   ]
  },
  {
   "cell_type": "markdown",
   "metadata": {
    "slideshow": {
     "slide_type": "slide"
    }
   },
   "source": [
    "## DBSCAN basics"
   ]
  },
  {
   "cell_type": "code",
   "execution_count": 14,
   "metadata": {
    "slideshow": {
     "slide_type": "fragment"
    },
    "tags": []
   },
   "outputs": [],
   "source": [
    "from sklearn.cluster import dbscan "
   ]
  },
  {
   "cell_type": "code",
   "execution_count": 20,
   "metadata": {
    "slideshow": {
     "slide_type": "fragment"
    }
   },
   "outputs": [
    {
     "data": {
      "text/plain": [
       "\u001b[0;31mSignature:\u001b[0m\n",
       "\u001b[0mdbscan\u001b[0m\u001b[0;34m(\u001b[0m\u001b[0;34m\u001b[0m\n",
       "\u001b[0;34m\u001b[0m    \u001b[0mX\u001b[0m\u001b[0;34m,\u001b[0m\u001b[0;34m\u001b[0m\n",
       "\u001b[0;34m\u001b[0m    \u001b[0meps\u001b[0m\u001b[0;34m=\u001b[0m\u001b[0;36m0.5\u001b[0m\u001b[0;34m,\u001b[0m\u001b[0;34m\u001b[0m\n",
       "\u001b[0;34m\u001b[0m    \u001b[0;34m*\u001b[0m\u001b[0;34m,\u001b[0m\u001b[0;34m\u001b[0m\n",
       "\u001b[0;34m\u001b[0m    \u001b[0mmin_samples\u001b[0m\u001b[0;34m=\u001b[0m\u001b[0;36m5\u001b[0m\u001b[0;34m,\u001b[0m\u001b[0;34m\u001b[0m\n",
       "\u001b[0;34m\u001b[0m    \u001b[0mmetric\u001b[0m\u001b[0;34m=\u001b[0m\u001b[0;34m'minkowski'\u001b[0m\u001b[0;34m,\u001b[0m\u001b[0;34m\u001b[0m\n",
       "\u001b[0;34m\u001b[0m    \u001b[0mmetric_params\u001b[0m\u001b[0;34m=\u001b[0m\u001b[0;32mNone\u001b[0m\u001b[0;34m,\u001b[0m\u001b[0;34m\u001b[0m\n",
       "\u001b[0;34m\u001b[0m    \u001b[0malgorithm\u001b[0m\u001b[0;34m=\u001b[0m\u001b[0;34m'auto'\u001b[0m\u001b[0;34m,\u001b[0m\u001b[0;34m\u001b[0m\n",
       "\u001b[0;34m\u001b[0m    \u001b[0mleaf_size\u001b[0m\u001b[0;34m=\u001b[0m\u001b[0;36m30\u001b[0m\u001b[0;34m,\u001b[0m\u001b[0;34m\u001b[0m\n",
       "\u001b[0;34m\u001b[0m    \u001b[0mp\u001b[0m\u001b[0;34m=\u001b[0m\u001b[0;36m2\u001b[0m\u001b[0;34m,\u001b[0m\u001b[0;34m\u001b[0m\n",
       "\u001b[0;34m\u001b[0m    \u001b[0msample_weight\u001b[0m\u001b[0;34m=\u001b[0m\u001b[0;32mNone\u001b[0m\u001b[0;34m,\u001b[0m\u001b[0;34m\u001b[0m\n",
       "\u001b[0;34m\u001b[0m    \u001b[0mn_jobs\u001b[0m\u001b[0;34m=\u001b[0m\u001b[0;32mNone\u001b[0m\u001b[0;34m,\u001b[0m\u001b[0;34m\u001b[0m\n",
       "\u001b[0;34m\u001b[0m\u001b[0;34m)\u001b[0m\u001b[0;34m\u001b[0m\u001b[0;34m\u001b[0m\u001b[0m\n",
       "\u001b[0;31mDocstring:\u001b[0m\n",
       "Perform DBSCAN clustering from vector array or distance matrix.\n",
       "\n",
       "Read more in the :ref:`User Guide <dbscan>`.\n",
       "\n",
       "Parameters\n",
       "----------\n",
       "X : {array-like, sparse (CSR) matrix} of shape (n_samples, n_features) or             (n_samples, n_samples)\n",
       "    A feature array, or array of distances between samples if\n",
       "    ``metric='precomputed'``.\n",
       "\n",
       "eps : float, default=0.5\n",
       "    The maximum distance between two samples for one to be considered\n",
       "    as in the neighborhood of the other. This is not a maximum bound\n",
       "    on the distances of points within a cluster. This is the most\n",
       "    important DBSCAN parameter to choose appropriately for your data set\n",
       "    and distance function.\n",
       "\n",
       "min_samples : int, default=5\n",
       "    The number of samples (or total weight) in a neighborhood for a point\n",
       "    to be considered as a core point. This includes the point itself.\n",
       "\n",
       "metric : str or callable, default='minkowski'\n",
       "    The metric to use when calculating distance between instances in a\n",
       "    feature array. If metric is a string or callable, it must be one of\n",
       "    the options allowed by :func:`sklearn.metrics.pairwise_distances` for\n",
       "    its metric parameter.\n",
       "    If metric is \"precomputed\", X is assumed to be a distance matrix and\n",
       "    must be square during fit.\n",
       "    X may be a :term:`sparse graph <sparse graph>`,\n",
       "    in which case only \"nonzero\" elements may be considered neighbors.\n",
       "\n",
       "metric_params : dict, default=None\n",
       "    Additional keyword arguments for the metric function.\n",
       "\n",
       "    .. versionadded:: 0.19\n",
       "\n",
       "algorithm : {'auto', 'ball_tree', 'kd_tree', 'brute'}, default='auto'\n",
       "    The algorithm to be used by the NearestNeighbors module\n",
       "    to compute pointwise distances and find nearest neighbors.\n",
       "    See NearestNeighbors module documentation for details.\n",
       "\n",
       "leaf_size : int, default=30\n",
       "    Leaf size passed to BallTree or cKDTree. This can affect the speed\n",
       "    of the construction and query, as well as the memory required\n",
       "    to store the tree. The optimal value depends\n",
       "    on the nature of the problem.\n",
       "\n",
       "p : float, default=2\n",
       "    The power of the Minkowski metric to be used to calculate distance\n",
       "    between points.\n",
       "\n",
       "sample_weight : array-like of shape (n_samples,), default=None\n",
       "    Weight of each sample, such that a sample with a weight of at least\n",
       "    ``min_samples`` is by itself a core sample; a sample with negative\n",
       "    weight may inhibit its eps-neighbor from being core.\n",
       "    Note that weights are absolute, and default to 1.\n",
       "\n",
       "n_jobs : int, default=None\n",
       "    The number of parallel jobs to run for neighbors search. ``None`` means\n",
       "    1 unless in a :obj:`joblib.parallel_backend` context. ``-1`` means\n",
       "    using all processors. See :term:`Glossary <n_jobs>` for more details.\n",
       "    If precomputed distance are used, parallel execution is not available\n",
       "    and thus n_jobs will have no effect.\n",
       "\n",
       "Returns\n",
       "-------\n",
       "core_samples : ndarray of shape (n_core_samples,)\n",
       "    Indices of core samples.\n",
       "\n",
       "labels : ndarray of shape (n_samples,)\n",
       "    Cluster labels for each point.  Noisy samples are given the label -1.\n",
       "\n",
       "See Also\n",
       "--------\n",
       "DBSCAN : An estimator interface for this clustering algorithm.\n",
       "OPTICS : A similar estimator interface clustering at multiple values of\n",
       "    eps. Our implementation is optimized for memory usage.\n",
       "\n",
       "Notes\n",
       "-----\n",
       "For an example, see :ref:`examples/cluster/plot_dbscan.py\n",
       "<sphx_glr_auto_examples_cluster_plot_dbscan.py>`.\n",
       "\n",
       "This implementation bulk-computes all neighborhood queries, which increases\n",
       "the memory complexity to O(n.d) where d is the average number of neighbors,\n",
       "while original DBSCAN had memory complexity O(n). It may attract a higher\n",
       "memory complexity when querying these nearest neighborhoods, depending\n",
       "on the ``algorithm``.\n",
       "\n",
       "One way to avoid the query complexity is to pre-compute sparse\n",
       "neighborhoods in chunks using\n",
       ":func:`NearestNeighbors.radius_neighbors_graph\n",
       "<sklearn.neighbors.NearestNeighbors.radius_neighbors_graph>` with\n",
       "``mode='distance'``, then using ``metric='precomputed'`` here.\n",
       "\n",
       "Another way to reduce memory and computation time is to remove\n",
       "(near-)duplicate points and use ``sample_weight`` instead.\n",
       "\n",
       ":func:`cluster.optics <sklearn.cluster.optics>` provides a similar\n",
       "clustering with lower memory usage.\n",
       "\n",
       "References\n",
       "----------\n",
       "Ester, M., H. P. Kriegel, J. Sander, and X. Xu, `\"A Density-Based\n",
       "Algorithm for Discovering Clusters in Large Spatial Databases with Noise\"\n",
       "<https://www.dbs.ifi.lmu.de/Publikationen/Papers/KDD-96.final.frame.pdf>`_.\n",
       "In: Proceedings of the 2nd International Conference on Knowledge Discovery\n",
       "and Data Mining, Portland, OR, AAAI Press, pp. 226-231. 1996\n",
       "\n",
       "Schubert, E., Sander, J., Ester, M., Kriegel, H. P., & Xu, X. (2017).\n",
       ":doi:`\"DBSCAN revisited, revisited: why and how you should (still) use DBSCAN.\"\n",
       "<10.1145/3068335>`\n",
       "ACM Transactions on Database Systems (TODS), 42(3), 19.\n",
       "\u001b[0;31mFile:\u001b[0m      ~/mambaforge/envs/musa-550-fall-2023/lib/python3.10/site-packages/sklearn/cluster/_dbscan.py\n",
       "\u001b[0;31mType:\u001b[0m      function"
      ]
     },
     "metadata": {},
     "output_type": "display_data"
    }
   ],
   "source": [
    "dbscan?"
   ]
  },
  {
   "cell_type": "code",
   "execution_count": 15,
   "metadata": {
    "slideshow": {
     "slide_type": "subslide"
    },
    "tags": []
   },
   "outputs": [],
   "source": [
    "# some parameters to start with\n",
    "eps = 100  # in meters\n",
    "min_samples = 50\n",
    "\n",
    "cores, labels = dbscan(coords[[\"x\", \"y\"]], eps=eps, min_samples=min_samples)"
   ]
  },
  {
   "cell_type": "markdown",
   "metadata": {
    "slideshow": {
     "slide_type": "subslide"
    }
   },
   "source": [
    "The function returns two objects, which we call `cores` and `labels`. `cores` contains the indices of each point which is classified as a core. "
   ]
  },
  {
   "cell_type": "code",
   "execution_count": 21,
   "metadata": {
    "slideshow": {
     "slide_type": "fragment"
    },
    "tags": []
   },
   "outputs": [
    {
     "data": {
      "text/plain": [
       "array([1, 2, 4, 6, 8], dtype=int64)"
      ]
     },
     "execution_count": 21,
     "metadata": {},
     "output_type": "execute_result"
    }
   ],
   "source": [
    "# The first 5 elements\n",
    "cores[:5]"
   ]
  },
  {
   "cell_type": "markdown",
   "metadata": {
    "slideshow": {
     "slide_type": "subslide"
    }
   },
   "source": [
    "The length of cores tells you how many core samples we have:"
   ]
  },
  {
   "cell_type": "code",
   "execution_count": 22,
   "metadata": {
    "slideshow": {
     "slide_type": "fragment"
    },
    "tags": []
   },
   "outputs": [
    {
     "name": "stdout",
     "output_type": "stream",
     "text": [
      "Number of core samples = 17415\n"
     ]
    }
   ],
   "source": [
    "num_cores = len(cores)\n",
    "print(f\"Number of core samples = {num_cores}\")"
   ]
  },
  {
   "cell_type": "markdown",
   "metadata": {
    "slideshow": {
     "slide_type": "subslide"
    }
   },
   "source": [
    "The `labels` tells you the cluster number each point belongs to. Those points classified as noise receive a cluster number of `-1`: "
   ]
  },
  {
   "cell_type": "code",
   "execution_count": 23,
   "metadata": {
    "slideshow": {
     "slide_type": "fragment"
    },
    "tags": []
   },
   "outputs": [
    {
     "data": {
      "text/plain": [
       "array([-1,  0,  1, -1,  2], dtype=int64)"
      ]
     },
     "execution_count": 23,
     "metadata": {},
     "output_type": "execute_result"
    }
   ],
   "source": [
    "# The first 5 elements\n",
    "labels[:5]"
   ]
  },
  {
   "cell_type": "markdown",
   "metadata": {
    "slideshow": {
     "slide_type": "subslide"
    }
   },
   "source": [
    "The `labels` array is the same length as our input data, so we can add it as a column in our original data frame"
   ]
  },
  {
   "cell_type": "code",
   "execution_count": 24,
   "metadata": {
    "slideshow": {
     "slide_type": "fragment"
    },
    "tags": []
   },
   "outputs": [],
   "source": [
    "# Add our labels to the original data\n",
    "coords['label'] = labels"
   ]
  },
  {
   "cell_type": "code",
   "execution_count": 25,
   "metadata": {
    "slideshow": {
     "slide_type": "slide"
    },
    "tags": []
   },
   "outputs": [
    {
     "data": {
      "text/html": [
       "<div>\n",
       "<style scoped>\n",
       "    .dataframe tbody tr th:only-of-type {\n",
       "        vertical-align: middle;\n",
       "    }\n",
       "\n",
       "    .dataframe tbody tr th {\n",
       "        vertical-align: top;\n",
       "    }\n",
       "\n",
       "    .dataframe thead th {\n",
       "        text-align: right;\n",
       "    }\n",
       "</style>\n",
       "<table border=\"1\" class=\"dataframe\">\n",
       "  <thead>\n",
       "    <tr style=\"text-align: right;\">\n",
       "      <th></th>\n",
       "      <th>x</th>\n",
       "      <th>y</th>\n",
       "      <th>geometry</th>\n",
       "      <th>label</th>\n",
       "    </tr>\n",
       "  </thead>\n",
       "  <tbody>\n",
       "    <tr>\n",
       "      <th>0</th>\n",
       "      <td>-8370750.5</td>\n",
       "      <td>4865303.0</td>\n",
       "      <td>POINT (-8370750.500 4865303.000)</td>\n",
       "      <td>-1</td>\n",
       "    </tr>\n",
       "    <tr>\n",
       "      <th>1</th>\n",
       "      <td>-8368298.0</td>\n",
       "      <td>4859096.5</td>\n",
       "      <td>POINT (-8368298.000 4859096.500)</td>\n",
       "      <td>0</td>\n",
       "    </tr>\n",
       "    <tr>\n",
       "      <th>2</th>\n",
       "      <td>-8365991.0</td>\n",
       "      <td>4860380.0</td>\n",
       "      <td>POINT (-8365991.000 4860380.000)</td>\n",
       "      <td>1</td>\n",
       "    </tr>\n",
       "    <tr>\n",
       "      <th>3</th>\n",
       "      <td>-8372306.5</td>\n",
       "      <td>4868231.0</td>\n",
       "      <td>POINT (-8372306.500 4868231.000)</td>\n",
       "      <td>-1</td>\n",
       "    </tr>\n",
       "    <tr>\n",
       "      <th>4</th>\n",
       "      <td>-8376768.5</td>\n",
       "      <td>4864341.0</td>\n",
       "      <td>POINT (-8376768.500 4864341.000)</td>\n",
       "      <td>2</td>\n",
       "    </tr>\n",
       "  </tbody>\n",
       "</table>\n",
       "</div>"
      ],
      "text/plain": [
       "           x          y                          geometry  label\n",
       "0 -8370750.5  4865303.0  POINT (-8370750.500 4865303.000)     -1\n",
       "1 -8368298.0  4859096.5  POINT (-8368298.000 4859096.500)      0\n",
       "2 -8365991.0  4860380.0  POINT (-8365991.000 4860380.000)      1\n",
       "3 -8372306.5  4868231.0  POINT (-8372306.500 4868231.000)     -1\n",
       "4 -8376768.5  4864341.0  POINT (-8376768.500 4864341.000)      2"
      ]
     },
     "execution_count": 25,
     "metadata": {},
     "output_type": "execute_result"
    }
   ],
   "source": [
    "coords.head()"
   ]
  },
  {
   "cell_type": "markdown",
   "metadata": {
    "slideshow": {
     "slide_type": "subslide"
    }
   },
   "source": [
    "The number of clusters is the number of unique labels minus one (because noise has a label of -1)"
   ]
  },
  {
   "cell_type": "code",
   "execution_count": 28,
   "metadata": {
    "slideshow": {
     "slide_type": "fragment"
    },
    "tags": []
   },
   "outputs": [
    {
     "name": "stdout",
     "output_type": "stream",
     "text": [
      "number of clusters = 38\n"
     ]
    }
   ],
   "source": [
    "num_clusters = coords['label'].nunique() - 1\n",
    "print(f\"number of clusters = {num_clusters}\")"
   ]
  },
  {
   "cell_type": "markdown",
   "metadata": {
    "slideshow": {
     "slide_type": "subslide"
    }
   },
   "source": [
    "We can group by the `label` column to get the size of each cluster:"
   ]
  },
  {
   "cell_type": "code",
   "execution_count": 29,
   "metadata": {
    "slideshow": {
     "slide_type": "subslide"
    },
    "tags": []
   },
   "outputs": [
    {
     "data": {
      "text/html": [
       "<div>\n",
       "<style scoped>\n",
       "    .dataframe tbody tr th:only-of-type {\n",
       "        vertical-align: middle;\n",
       "    }\n",
       "\n",
       "    .dataframe tbody tr th {\n",
       "        vertical-align: top;\n",
       "    }\n",
       "\n",
       "    .dataframe thead th {\n",
       "        text-align: right;\n",
       "    }\n",
       "</style>\n",
       "<table border=\"1\" class=\"dataframe\">\n",
       "  <thead>\n",
       "    <tr style=\"text-align: right;\">\n",
       "      <th></th>\n",
       "      <th>label</th>\n",
       "      <th>size</th>\n",
       "    </tr>\n",
       "  </thead>\n",
       "  <tbody>\n",
       "    <tr>\n",
       "      <th>0</th>\n",
       "      <td>-1</td>\n",
       "      <td>18624</td>\n",
       "    </tr>\n",
       "    <tr>\n",
       "      <th>1</th>\n",
       "      <td>0</td>\n",
       "      <td>12507</td>\n",
       "    </tr>\n",
       "    <tr>\n",
       "      <th>2</th>\n",
       "      <td>1</td>\n",
       "      <td>915</td>\n",
       "    </tr>\n",
       "    <tr>\n",
       "      <th>3</th>\n",
       "      <td>2</td>\n",
       "      <td>201</td>\n",
       "    </tr>\n",
       "    <tr>\n",
       "      <th>4</th>\n",
       "      <td>3</td>\n",
       "      <td>242</td>\n",
       "    </tr>\n",
       "    <tr>\n",
       "      <th>5</th>\n",
       "      <td>4</td>\n",
       "      <td>1235</td>\n",
       "    </tr>\n",
       "    <tr>\n",
       "      <th>6</th>\n",
       "      <td>5</td>\n",
       "      <td>124</td>\n",
       "    </tr>\n",
       "    <tr>\n",
       "      <th>7</th>\n",
       "      <td>6</td>\n",
       "      <td>116</td>\n",
       "    </tr>\n",
       "    <tr>\n",
       "      <th>8</th>\n",
       "      <td>7</td>\n",
       "      <td>892</td>\n",
       "    </tr>\n",
       "    <tr>\n",
       "      <th>9</th>\n",
       "      <td>8</td>\n",
       "      <td>210</td>\n",
       "    </tr>\n",
       "    <tr>\n",
       "      <th>10</th>\n",
       "      <td>9</td>\n",
       "      <td>617</td>\n",
       "    </tr>\n",
       "    <tr>\n",
       "      <th>11</th>\n",
       "      <td>10</td>\n",
       "      <td>105</td>\n",
       "    </tr>\n",
       "    <tr>\n",
       "      <th>12</th>\n",
       "      <td>11</td>\n",
       "      <td>219</td>\n",
       "    </tr>\n",
       "    <tr>\n",
       "      <th>13</th>\n",
       "      <td>12</td>\n",
       "      <td>84</td>\n",
       "    </tr>\n",
       "    <tr>\n",
       "      <th>14</th>\n",
       "      <td>13</td>\n",
       "      <td>222</td>\n",
       "    </tr>\n",
       "    <tr>\n",
       "      <th>15</th>\n",
       "      <td>14</td>\n",
       "      <td>92</td>\n",
       "    </tr>\n",
       "    <tr>\n",
       "      <th>16</th>\n",
       "      <td>15</td>\n",
       "      <td>176</td>\n",
       "    </tr>\n",
       "    <tr>\n",
       "      <th>17</th>\n",
       "      <td>16</td>\n",
       "      <td>95</td>\n",
       "    </tr>\n",
       "    <tr>\n",
       "      <th>18</th>\n",
       "      <td>17</td>\n",
       "      <td>508</td>\n",
       "    </tr>\n",
       "    <tr>\n",
       "      <th>19</th>\n",
       "      <td>18</td>\n",
       "      <td>343</td>\n",
       "    </tr>\n",
       "    <tr>\n",
       "      <th>20</th>\n",
       "      <td>19</td>\n",
       "      <td>269</td>\n",
       "    </tr>\n",
       "    <tr>\n",
       "      <th>21</th>\n",
       "      <td>20</td>\n",
       "      <td>152</td>\n",
       "    </tr>\n",
       "    <tr>\n",
       "      <th>22</th>\n",
       "      <td>21</td>\n",
       "      <td>140</td>\n",
       "    </tr>\n",
       "    <tr>\n",
       "      <th>23</th>\n",
       "      <td>22</td>\n",
       "      <td>204</td>\n",
       "    </tr>\n",
       "    <tr>\n",
       "      <th>24</th>\n",
       "      <td>23</td>\n",
       "      <td>134</td>\n",
       "    </tr>\n",
       "    <tr>\n",
       "      <th>25</th>\n",
       "      <td>24</td>\n",
       "      <td>68</td>\n",
       "    </tr>\n",
       "    <tr>\n",
       "      <th>26</th>\n",
       "      <td>25</td>\n",
       "      <td>56</td>\n",
       "    </tr>\n",
       "    <tr>\n",
       "      <th>27</th>\n",
       "      <td>26</td>\n",
       "      <td>346</td>\n",
       "    </tr>\n",
       "    <tr>\n",
       "      <th>28</th>\n",
       "      <td>27</td>\n",
       "      <td>108</td>\n",
       "    </tr>\n",
       "    <tr>\n",
       "      <th>29</th>\n",
       "      <td>28</td>\n",
       "      <td>88</td>\n",
       "    </tr>\n",
       "    <tr>\n",
       "      <th>30</th>\n",
       "      <td>29</td>\n",
       "      <td>51</td>\n",
       "    </tr>\n",
       "    <tr>\n",
       "      <th>31</th>\n",
       "      <td>30</td>\n",
       "      <td>83</td>\n",
       "    </tr>\n",
       "    <tr>\n",
       "      <th>32</th>\n",
       "      <td>31</td>\n",
       "      <td>50</td>\n",
       "    </tr>\n",
       "    <tr>\n",
       "      <th>33</th>\n",
       "      <td>32</td>\n",
       "      <td>53</td>\n",
       "    </tr>\n",
       "    <tr>\n",
       "      <th>34</th>\n",
       "      <td>33</td>\n",
       "      <td>94</td>\n",
       "    </tr>\n",
       "    <tr>\n",
       "      <th>35</th>\n",
       "      <td>34</td>\n",
       "      <td>53</td>\n",
       "    </tr>\n",
       "    <tr>\n",
       "      <th>36</th>\n",
       "      <td>35</td>\n",
       "      <td>68</td>\n",
       "    </tr>\n",
       "    <tr>\n",
       "      <th>37</th>\n",
       "      <td>36</td>\n",
       "      <td>91</td>\n",
       "    </tr>\n",
       "    <tr>\n",
       "      <th>38</th>\n",
       "      <td>37</td>\n",
       "      <td>54</td>\n",
       "    </tr>\n",
       "  </tbody>\n",
       "</table>\n",
       "</div>"
      ],
      "text/plain": [
       "    label   size\n",
       "0      -1  18624\n",
       "1       0  12507\n",
       "2       1    915\n",
       "3       2    201\n",
       "4       3    242\n",
       "5       4   1235\n",
       "6       5    124\n",
       "7       6    116\n",
       "8       7    892\n",
       "9       8    210\n",
       "10      9    617\n",
       "11     10    105\n",
       "12     11    219\n",
       "13     12     84\n",
       "14     13    222\n",
       "15     14     92\n",
       "16     15    176\n",
       "17     16     95\n",
       "18     17    508\n",
       "19     18    343\n",
       "20     19    269\n",
       "21     20    152\n",
       "22     21    140\n",
       "23     22    204\n",
       "24     23    134\n",
       "25     24     68\n",
       "26     25     56\n",
       "27     26    346\n",
       "28     27    108\n",
       "29     28     88\n",
       "30     29     51\n",
       "31     30     83\n",
       "32     31     50\n",
       "33     32     53\n",
       "34     33     94\n",
       "35     34     53\n",
       "36     35     68\n",
       "37     36     91\n",
       "38     37     54"
      ]
     },
     "execution_count": 29,
     "metadata": {},
     "output_type": "execute_result"
    }
   ],
   "source": [
    "cluster_sizes = coords.groupby('label', as_index=False).size()\n",
    "\n",
    "cluster_sizes"
   ]
  },
  {
   "cell_type": "code",
   "execution_count": 30,
   "metadata": {
    "slideshow": {
     "slide_type": "subslide"
    },
    "tags": []
   },
   "outputs": [
    {
     "data": {
      "text/plain": [
       "True"
      ]
     },
     "execution_count": 30,
     "metadata": {},
     "output_type": "execute_result"
    }
   ],
   "source": [
    "# All points get assigned a cluster label (-1 reserved for noise)\n",
    "cluster_sizes['size'].sum() == num_points"
   ]
  },
  {
   "cell_type": "markdown",
   "metadata": {
    "slideshow": {
     "slide_type": "slide"
    }
   },
   "source": [
    "The number of noise points is the size of the cluster with label \"-1\":"
   ]
  },
  {
   "cell_type": "code",
   "execution_count": 31,
   "metadata": {
    "slideshow": {
     "slide_type": "fragment"
    },
    "tags": []
   },
   "outputs": [
    {
     "name": "stdout",
     "output_type": "stream",
     "text": [
      "number of noise points = 18624\n"
     ]
    }
   ],
   "source": [
    "num_noise = cluster_sizes.iloc[0]['size']\n",
    "\n",
    "print(f\"number of noise points = {num_noise}\")"
   ]
  },
  {
   "cell_type": "markdown",
   "metadata": {
    "slideshow": {
     "slide_type": "slide"
    }
   },
   "source": [
    "If points aren't noise or core samples, they must be edges:"
   ]
  },
  {
   "cell_type": "code",
   "execution_count": 32,
   "metadata": {
    "slideshow": {
     "slide_type": "slide"
    },
    "tags": []
   },
   "outputs": [
    {
     "name": "stdout",
     "output_type": "stream",
     "text": [
      "Number of edge points = 3650\n"
     ]
    }
   ],
   "source": [
    "num_edges = num_points - num_cores - num_noise\n",
    "print(f\"Number of edge points = {num_edges}\")"
   ]
  },
  {
   "cell_type": "markdown",
   "metadata": {
    "slideshow": {
     "slide_type": "slide"
    }
   },
   "source": [
    "## Now let's plot the noise and clusters\n",
    "\n",
    "- Extract each cluster: select points with the same label number\n",
    "- Plot the cluster centers: the mean `x` and mean `y` value for each cluster"
   ]
  },
  {
   "cell_type": "code",
   "execution_count": 33,
   "metadata": {
    "slideshow": {
     "slide_type": "subslide"
    },
    "tags": []
   },
   "outputs": [
    {
     "data": {
      "image/png": "[encoded data removed]",
      "text/plain": [
       "<Figure size 1000x1000 with 1 Axes>"
      ]
     },
     "metadata": {},
     "output_type": "display_data"
    }
   ],
   "source": [
    "# Setup figure and axis\n",
    "f, ax = plt.subplots(figsize=(10, 10), facecolor=\"black\")\n",
    "\n",
    "# Plot the noise samples in grey\n",
    "noise = coords.loc[coords[\"label\"] == -1]\n",
    "ax.scatter(noise[\"x\"], noise[\"y\"], c=\"grey\", s=5, linewidth=0)\n",
    "\n",
    "# Loop over each cluster number\n",
    "for label_num in range(0, num_clusters):\n",
    "\n",
    "    # Extract the samples with this label number\n",
    "    this_cluster = coords.loc[coords[\"label\"] == label_num]\n",
    "\n",
    "    # Calculate the mean (x,y) point for this cluster in red\n",
    "    x_mean = this_cluster[\"x\"].mean()\n",
    "    y_mean = this_cluster[\"y\"].mean()\n",
    "    \n",
    "    # Plot this centroid point in red\n",
    "    ax.scatter(x_mean, y_mean, linewidth=0, color=\"red\")\n",
    "\n",
    "# Format\n",
    "ax.set_axis_off()\n",
    "ax.set_aspect(\"equal\")"
   ]
  },
  {
   "cell_type": "markdown",
   "metadata": {
    "slideshow": {
     "slide_type": "slide"
    }
   },
   "source": [
    "## Extending DBSCAN beyond just spatial coordinates\n",
    "\n",
    "DBSCAN can perform high-density clusters from more than just spatial coordinates, as long as they are properly normalized"
   ]
  },
  {
   "cell_type": "markdown",
   "metadata": {
    "slideshow": {
     "slide_type": "slide"
    }
   },
   "source": [
    "## Exercise: Extracting patterns from NYC taxi rides\n",
    "\n",
    "I've extracted data for taxi pickups or drop offs occurring in the Williamsburg neighborhood of NYC from the NYC taxi open data. \n",
    "\n",
    "Includes data for: \n",
    "- Pickup/dropoff location\n",
    "- Fare amount\n",
    "- Trip distance\n",
    "- Pickup/dropoff hour"
   ]
  },
  {
   "cell_type": "markdown",
   "metadata": {
    "slideshow": {
     "slide_type": "subslide"
    }
   },
   "source": [
    "**Goal:** identify clusters of similar taxi rides that are not only clustered spatially, but also clustered for features like hour of day and trip distance\n",
    "\n",
    "Inspired by [this CARTO blog post](https://carto.com/blog/using-location-data-identify-communities-williamsburg-ny/)"
   ]
  },
  {
   "cell_type": "markdown",
   "metadata": {
    "slideshow": {
     "slide_type": "slide"
    }
   },
   "source": [
    "### Step 1: Load the data\n",
    "\n",
    "See the `data/williamsburg_taxi_trips.csv` file in this week's repository."
   ]
  },
  {
   "cell_type": "code",
   "execution_count": 34,
   "metadata": {
    "tags": []
   },
   "outputs": [
    {
     "data": {
      "text/html": [
       "<div>\n",
       "<style scoped>\n",
       "    .dataframe tbody tr th:only-of-type {\n",
       "        vertical-align: middle;\n",
       "    }\n",
       "\n",
       "    .dataframe tbody tr th {\n",
       "        vertical-align: top;\n",
       "    }\n",
       "\n",
       "    .dataframe thead th {\n",
       "        text-align: right;\n",
       "    }\n",
       "</style>\n",
       "<table border=\"1\" class=\"dataframe\">\n",
       "  <thead>\n",
       "    <tr style=\"text-align: right;\">\n",
       "      <th></th>\n",
       "      <th>tpep_pickup_datetime</th>\n",
       "      <th>tpep_dropoff_datetime</th>\n",
       "      <th>passenger_count</th>\n",
       "      <th>trip_distance</th>\n",
       "      <th>pickup_x</th>\n",
       "      <th>pickup_y</th>\n",
       "      <th>dropoff_x</th>\n",
       "      <th>dropoff_y</th>\n",
       "      <th>fare_amount</th>\n",
       "      <th>tip_amount</th>\n",
       "      <th>dropoff_hour</th>\n",
       "      <th>pickup_hour</th>\n",
       "    </tr>\n",
       "  </thead>\n",
       "  <tbody>\n",
       "    <tr>\n",
       "      <th>0</th>\n",
       "      <td>2015-01-15 19:05:41</td>\n",
       "      <td>2015-01-15 19:20:22</td>\n",
       "      <td>2</td>\n",
       "      <td>7.13</td>\n",
       "      <td>-8223667.0</td>\n",
       "      <td>4979065.0</td>\n",
       "      <td>-8232341.0</td>\n",
       "      <td>4970922.0</td>\n",
       "      <td>21.5</td>\n",
       "      <td>4.50</td>\n",
       "      <td>19</td>\n",
       "      <td>19</td>\n",
       "    </tr>\n",
       "    <tr>\n",
       "      <th>1</th>\n",
       "      <td>2015-01-15 19:05:44</td>\n",
       "      <td>2015-01-15 19:17:44</td>\n",
       "      <td>1</td>\n",
       "      <td>2.92</td>\n",
       "      <td>-8237459.0</td>\n",
       "      <td>4971133.5</td>\n",
       "      <td>-8232725.0</td>\n",
       "      <td>4970482.5</td>\n",
       "      <td>12.5</td>\n",
       "      <td>2.70</td>\n",
       "      <td>19</td>\n",
       "      <td>19</td>\n",
       "    </tr>\n",
       "    <tr>\n",
       "      <th>2</th>\n",
       "      <td>2015-01-25 00:13:06</td>\n",
       "      <td>2015-01-25 00:34:32</td>\n",
       "      <td>1</td>\n",
       "      <td>3.05</td>\n",
       "      <td>-8236711.5</td>\n",
       "      <td>4972170.5</td>\n",
       "      <td>-8232267.0</td>\n",
       "      <td>4970362.0</td>\n",
       "      <td>16.5</td>\n",
       "      <td>5.34</td>\n",
       "      <td>0</td>\n",
       "      <td>0</td>\n",
       "    </tr>\n",
       "    <tr>\n",
       "      <th>3</th>\n",
       "      <td>2015-01-26 12:41:15</td>\n",
       "      <td>2015-01-26 12:59:22</td>\n",
       "      <td>1</td>\n",
       "      <td>8.10</td>\n",
       "      <td>-8222485.5</td>\n",
       "      <td>4978445.5</td>\n",
       "      <td>-8233442.5</td>\n",
       "      <td>4969903.5</td>\n",
       "      <td>24.5</td>\n",
       "      <td>5.05</td>\n",
       "      <td>12</td>\n",
       "      <td>12</td>\n",
       "    </tr>\n",
       "    <tr>\n",
       "      <th>4</th>\n",
       "      <td>2015-01-20 22:49:11</td>\n",
       "      <td>2015-01-20 22:58:46</td>\n",
       "      <td>1</td>\n",
       "      <td>3.50</td>\n",
       "      <td>-8236294.5</td>\n",
       "      <td>4970916.5</td>\n",
       "      <td>-8231820.5</td>\n",
       "      <td>4971722.0</td>\n",
       "      <td>12.5</td>\n",
       "      <td>2.00</td>\n",
       "      <td>22</td>\n",
       "      <td>22</td>\n",
       "    </tr>\n",
       "  </tbody>\n",
       "</table>\n",
       "</div>"
      ],
      "text/plain": [
       "  tpep_pickup_datetime tpep_dropoff_datetime  passenger_count  trip_distance  \\\n",
       "0  2015-01-15 19:05:41   2015-01-15 19:20:22                2           7.13   \n",
       "1  2015-01-15 19:05:44   2015-01-15 19:17:44                1           2.92   \n",
       "2  2015-01-25 00:13:06   2015-01-25 00:34:32                1           3.05   \n",
       "3  2015-01-26 12:41:15   2015-01-26 12:59:22                1           8.10   \n",
       "4  2015-01-20 22:49:11   2015-01-20 22:58:46                1           3.50   \n",
       "\n",
       "    pickup_x   pickup_y  dropoff_x  dropoff_y  fare_amount  tip_amount  \\\n",
       "0 -8223667.0  4979065.0 -8232341.0  4970922.0         21.5        4.50   \n",
       "1 -8237459.0  4971133.5 -8232725.0  4970482.5         12.5        2.70   \n",
       "2 -8236711.5  4972170.5 -8232267.0  4970362.0         16.5        5.34   \n",
       "3 -8222485.5  4978445.5 -8233442.5  4969903.5         24.5        5.05   \n",
       "4 -8236294.5  4970916.5 -8231820.5  4971722.0         12.5        2.00   \n",
       "\n",
       "   dropoff_hour  pickup_hour  \n",
       "0            19           19  \n",
       "1            19           19  \n",
       "2             0            0  \n",
       "3            12           12  \n",
       "4            22           22  "
      ]
     },
     "execution_count": 34,
     "metadata": {},
     "output_type": "execute_result"
    }
   ],
   "source": [
    "taxi_williamsburg = pd.read_csv('data/williamsburg_taxi_trips.csv')\n",
    "\n",
    "taxi_williamsburg.head()\n",
    "                        "
   ]
  },
  {
   "cell_type": "markdown",
   "metadata": {
    "slideshow": {
     "slide_type": "slide"
    }
   },
   "source": [
    "### Step 2: Extract and normalize several features\n",
    "\n",
    "We will focus on the following columns:\n",
    "- `pickup_x` and `pickup_y`\n",
    "- `dropoff_x` and `dropoff_y`\n",
    "- `trip_distance`\n",
    "- `pickup_hour`\n",
    "\n",
    "Use the `StandardScaler` to normalize these features."
   ]
  },
  {
   "cell_type": "code",
   "execution_count": 36,
   "metadata": {
    "tags": []
   },
   "outputs": [],
   "source": [
    "from sklearn.preprocessing import StandardScaler"
   ]
  },
  {
   "cell_type": "code",
   "execution_count": 42,
   "metadata": {
    "tags": []
   },
   "outputs": [
    {
     "data": {
      "text/html": [
       "<div>\n",
       "<style scoped>\n",
       "    .dataframe tbody tr th:only-of-type {\n",
       "        vertical-align: middle;\n",
       "    }\n",
       "\n",
       "    .dataframe tbody tr th {\n",
       "        vertical-align: top;\n",
       "    }\n",
       "\n",
       "    .dataframe thead th {\n",
       "        text-align: right;\n",
       "    }\n",
       "</style>\n",
       "<table border=\"1\" class=\"dataframe\">\n",
       "  <thead>\n",
       "    <tr style=\"text-align: right;\">\n",
       "      <th></th>\n",
       "      <th>pickup_x_scalled</th>\n",
       "      <th>pickup_y_scalled</th>\n",
       "      <th>dropoff_x_scalled</th>\n",
       "      <th>dropoff_y_scalled</th>\n",
       "      <th>trip_distance_scalled</th>\n",
       "      <th>pickup_hour_scalled</th>\n",
       "    </tr>\n",
       "  </thead>\n",
       "  <tbody>\n",
       "    <tr>\n",
       "      <th>0</th>\n",
       "      <td>3.352542</td>\n",
       "      <td>2.181967</td>\n",
       "      <td>0.085935</td>\n",
       "      <td>0.189872</td>\n",
       "      <td>-0.002587</td>\n",
       "      <td>0.816908</td>\n",
       "    </tr>\n",
       "    <tr>\n",
       "      <th>1</th>\n",
       "      <td>-0.937729</td>\n",
       "      <td>-0.408168</td>\n",
       "      <td>-0.097618</td>\n",
       "      <td>-0.009771</td>\n",
       "      <td>-0.002817</td>\n",
       "      <td>0.816908</td>\n",
       "    </tr>\n",
       "    <tr>\n",
       "      <th>2</th>\n",
       "      <td>-0.705204</td>\n",
       "      <td>-0.069522</td>\n",
       "      <td>0.121307</td>\n",
       "      <td>-0.064509</td>\n",
       "      <td>-0.002810</td>\n",
       "      <td>-1.327130</td>\n",
       "    </tr>\n",
       "    <tr>\n",
       "      <th>3</th>\n",
       "      <td>3.720070</td>\n",
       "      <td>1.979661</td>\n",
       "      <td>-0.440583</td>\n",
       "      <td>-0.272783</td>\n",
       "      <td>-0.002534</td>\n",
       "      <td>0.026999</td>\n",
       "    </tr>\n",
       "    <tr>\n",
       "      <th>4</th>\n",
       "      <td>-0.575488</td>\n",
       "      <td>-0.479032</td>\n",
       "      <td>0.334734</td>\n",
       "      <td>0.553273</td>\n",
       "      <td>-0.002785</td>\n",
       "      <td>1.155440</td>\n",
       "    </tr>\n",
       "  </tbody>\n",
       "</table>\n",
       "</div>"
      ],
      "text/plain": [
       "   pickup_x_scalled  pickup_y_scalled  dropoff_x_scalled  dropoff_y_scalled  \\\n",
       "0          3.352542          2.181967           0.085935           0.189872   \n",
       "1         -0.937729         -0.408168          -0.097618          -0.009771   \n",
       "2         -0.705204         -0.069522           0.121307          -0.064509   \n",
       "3          3.720070          1.979661          -0.440583          -0.272783   \n",
       "4         -0.575488         -0.479032           0.334734           0.553273   \n",
       "\n",
       "   trip_distance_scalled  pickup_hour_scalled  \n",
       "0              -0.002587             0.816908  \n",
       "1              -0.002817             0.816908  \n",
       "2              -0.002810            -1.327130  \n",
       "3              -0.002534             0.026999  \n",
       "4              -0.002785             1.155440  "
      ]
     },
     "execution_count": 42,
     "metadata": {},
     "output_type": "execute_result"
    }
   ],
   "source": [
    "scaler = StandardScaler()\n",
    "taxi_scaled = scaler.fit_transform(taxi_williamsburg[['pickup_x', 'pickup_y', 'dropoff_x','dropoff_y','trip_distance','pickup_hour']])\n",
    "taxi_scaled_df = pd.DataFrame(taxi_scaled, columns=('pickup_x_scalled','pickup_y_scalled','dropoff_x_scalled','dropoff_y_scalled','trip_distance_scalled','pickup_hour_scalled'))\n",
    "taxi_scaled_df.head()"
   ]
  },
  {
   "cell_type": "markdown",
   "metadata": {
    "slideshow": {
     "slide_type": "slide"
    }
   },
   "source": [
    "### Step 3: Run DBSCAN to extract high-density clusters\n",
    "\n",
    "- We want the highest density clusters, ideally no more than about 30-50 clusters.\n",
    "- Run the DBSCAN and experiment with different values of `eps` and `min_samples`\n",
    "    - I started with `eps` of 0.25 and `min_samples` of 50 \n",
    "\n",
    "- Add the labels to the original data frame and calculate the number of clusters. It should be less than 50 or so. \n",
    "    \n",
    "**Hint:** If the algorithm is taking a long time to run (more than a few minutes), the `eps` is probably too big!"
   ]
  },
  {
   "cell_type": "code",
   "execution_count": 45,
   "metadata": {
    "tags": []
   },
   "outputs": [],
   "source": [
    "# some parameters to start with\n",
    "eps = 0.25\n",
    "min_samples = 50\n",
    "\n",
    "cores, labels = dbscan(taxi_scaled_df, eps=eps, min_samples=min_samples)"
   ]
  },
  {
   "cell_type": "markdown",
   "metadata": {
    "hide_input": false,
    "slideshow": {
     "slide_type": "slide"
    }
   },
   "source": [
    "### Step 4: Identify the 5 largest clusters\n",
    "\n",
    "Group by the label, calculate and sort the sizes to find the label numbers of the top 5 largest clusters"
   ]
  },
  {
   "cell_type": "code",
   "execution_count": 56,
   "metadata": {
    "tags": []
   },
   "outputs": [
    {
     "data": {
      "text/html": [
       "<div>\n",
       "<style scoped>\n",
       "    .dataframe tbody tr th:only-of-type {\n",
       "        vertical-align: middle;\n",
       "    }\n",
       "\n",
       "    .dataframe tbody tr th {\n",
       "        vertical-align: top;\n",
       "    }\n",
       "\n",
       "    .dataframe thead th {\n",
       "        text-align: right;\n",
       "    }\n",
       "</style>\n",
       "<table border=\"1\" class=\"dataframe\">\n",
       "  <thead>\n",
       "    <tr style=\"text-align: right;\">\n",
       "      <th></th>\n",
       "      <th>pickup_hour</th>\n",
       "    </tr>\n",
       "    <tr>\n",
       "      <th>label</th>\n",
       "      <th></th>\n",
       "    </tr>\n",
       "  </thead>\n",
       "  <tbody>\n",
       "    <tr>\n",
       "      <th>-1</th>\n",
       "      <td>101292</td>\n",
       "    </tr>\n",
       "    <tr>\n",
       "      <th>1</th>\n",
       "      <td>50673</td>\n",
       "    </tr>\n",
       "    <tr>\n",
       "      <th>2</th>\n",
       "      <td>33277</td>\n",
       "    </tr>\n",
       "    <tr>\n",
       "      <th>3</th>\n",
       "      <td>24360</td>\n",
       "    </tr>\n",
       "    <tr>\n",
       "      <th>0</th>\n",
       "      <td>4481</td>\n",
       "    </tr>\n",
       "    <tr>\n",
       "      <th>6</th>\n",
       "      <td>2270</td>\n",
       "    </tr>\n",
       "    <tr>\n",
       "      <th>5</th>\n",
       "      <td>2215</td>\n",
       "    </tr>\n",
       "    <tr>\n",
       "      <th>7</th>\n",
       "      <td>1459</td>\n",
       "    </tr>\n",
       "    <tr>\n",
       "      <th>4</th>\n",
       "      <td>912</td>\n",
       "    </tr>\n",
       "    <tr>\n",
       "      <th>9</th>\n",
       "      <td>519</td>\n",
       "    </tr>\n",
       "    <tr>\n",
       "      <th>11</th>\n",
       "      <td>414</td>\n",
       "    </tr>\n",
       "    <tr>\n",
       "      <th>8</th>\n",
       "      <td>254</td>\n",
       "    </tr>\n",
       "    <tr>\n",
       "      <th>12</th>\n",
       "      <td>224</td>\n",
       "    </tr>\n",
       "    <tr>\n",
       "      <th>13</th>\n",
       "      <td>211</td>\n",
       "    </tr>\n",
       "    <tr>\n",
       "      <th>10</th>\n",
       "      <td>183</td>\n",
       "    </tr>\n",
       "    <tr>\n",
       "      <th>17</th>\n",
       "      <td>143</td>\n",
       "    </tr>\n",
       "    <tr>\n",
       "      <th>14</th>\n",
       "      <td>116</td>\n",
       "    </tr>\n",
       "    <tr>\n",
       "      <th>23</th>\n",
       "      <td>97</td>\n",
       "    </tr>\n",
       "    <tr>\n",
       "      <th>20</th>\n",
       "      <td>86</td>\n",
       "    </tr>\n",
       "    <tr>\n",
       "      <th>16</th>\n",
       "      <td>85</td>\n",
       "    </tr>\n",
       "    <tr>\n",
       "      <th>18</th>\n",
       "      <td>76</td>\n",
       "    </tr>\n",
       "    <tr>\n",
       "      <th>15</th>\n",
       "      <td>70</td>\n",
       "    </tr>\n",
       "    <tr>\n",
       "      <th>19</th>\n",
       "      <td>69</td>\n",
       "    </tr>\n",
       "    <tr>\n",
       "      <th>24</th>\n",
       "      <td>52</td>\n",
       "    </tr>\n",
       "    <tr>\n",
       "      <th>22</th>\n",
       "      <td>51</td>\n",
       "    </tr>\n",
       "    <tr>\n",
       "      <th>21</th>\n",
       "      <td>49</td>\n",
       "    </tr>\n",
       "    <tr>\n",
       "      <th>26</th>\n",
       "      <td>43</td>\n",
       "    </tr>\n",
       "    <tr>\n",
       "      <th>25</th>\n",
       "      <td>41</td>\n",
       "    </tr>\n",
       "  </tbody>\n",
       "</table>\n",
       "</div>"
      ],
      "text/plain": [
       "       pickup_hour\n",
       "label             \n",
       "-1          101292\n",
       " 1           50673\n",
       " 2           33277\n",
       " 3           24360\n",
       " 0            4481\n",
       " 6            2270\n",
       " 5            2215\n",
       " 7            1459\n",
       " 4             912\n",
       " 9             519\n",
       " 11            414\n",
       " 8             254\n",
       " 12            224\n",
       " 13            211\n",
       " 10            183\n",
       " 17            143\n",
       " 14            116\n",
       " 23             97\n",
       " 20             86\n",
       " 16             85\n",
       " 18             76\n",
       " 15             70\n",
       " 19             69\n",
       " 24             52\n",
       " 22             51\n",
       " 21             49\n",
       " 26             43\n",
       " 25             41"
      ]
     },
     "execution_count": 56,
     "metadata": {},
     "output_type": "execute_result"
    }
   ],
   "source": [
    "taxi_williamsburg['label'] = labels\n",
    "label_count = taxi_williamsburg.groupby('label')[['pickup_hour']].count()\n",
    "label_count.sort_values('pickup_hour',inplace=True, ascending=False)\n",
    "label_count"
   ]
  },
  {
   "cell_type": "markdown",
   "metadata": {
    "hide_input": true,
    "slideshow": {
     "slide_type": "slide"
    }
   },
   "source": [
    "### Step 5: Get mean statistics for the top 5 largest clusters\n",
    "\n",
    "To better identify trends in the top 5 clusters, calculate the mean trip distance and pickup_hour for each of the clusters."
   ]
  },
  {
   "cell_type": "code",
   "execution_count": 65,
   "metadata": {
    "tags": []
   },
   "outputs": [
    {
     "data": {
      "text/html": [
       "<div>\n",
       "<style scoped>\n",
       "    .dataframe tbody tr th:only-of-type {\n",
       "        vertical-align: middle;\n",
       "    }\n",
       "\n",
       "    .dataframe tbody tr th {\n",
       "        vertical-align: top;\n",
       "    }\n",
       "\n",
       "    .dataframe thead th {\n",
       "        text-align: right;\n",
       "    }\n",
       "</style>\n",
       "<table border=\"1\" class=\"dataframe\">\n",
       "  <thead>\n",
       "    <tr style=\"text-align: right;\">\n",
       "      <th></th>\n",
       "      <th>tpep_pickup_datetime</th>\n",
       "      <th>tpep_dropoff_datetime</th>\n",
       "      <th>passenger_count</th>\n",
       "      <th>trip_distance</th>\n",
       "      <th>pickup_x</th>\n",
       "      <th>pickup_y</th>\n",
       "      <th>dropoff_x</th>\n",
       "      <th>dropoff_y</th>\n",
       "      <th>fare_amount</th>\n",
       "      <th>tip_amount</th>\n",
       "      <th>dropoff_hour</th>\n",
       "      <th>pickup_hour</th>\n",
       "      <th>label</th>\n",
       "    </tr>\n",
       "  </thead>\n",
       "  <tbody>\n",
       "    <tr>\n",
       "      <th>46643</th>\n",
       "      <td>2015-01-16 14:54:54</td>\n",
       "      <td>2015-01-16 15:04:03</td>\n",
       "      <td>1</td>\n",
       "      <td>2.00</td>\n",
       "      <td>-8232502.5</td>\n",
       "      <td>4974452.5</td>\n",
       "      <td>-8233198.0</td>\n",
       "      <td>4971106.0</td>\n",
       "      <td>9.0</td>\n",
       "      <td>1.50</td>\n",
       "      <td>15</td>\n",
       "      <td>14</td>\n",
       "      <td>0</td>\n",
       "    </tr>\n",
       "    <tr>\n",
       "      <th>109985</th>\n",
       "      <td>2015-01-25 16:39:51</td>\n",
       "      <td>2015-01-25 17:09:59</td>\n",
       "      <td>1</td>\n",
       "      <td>5.80</td>\n",
       "      <td>-8237258.5</td>\n",
       "      <td>4976030.0</td>\n",
       "      <td>-8231016.0</td>\n",
       "      <td>4969517.0</td>\n",
       "      <td>23.5</td>\n",
       "      <td>5.00</td>\n",
       "      <td>17</td>\n",
       "      <td>16</td>\n",
       "      <td>0</td>\n",
       "    </tr>\n",
       "    <tr>\n",
       "      <th>166618</th>\n",
       "      <td>2015-01-07 22:46:52</td>\n",
       "      <td>2015-01-07 22:55:04</td>\n",
       "      <td>1</td>\n",
       "      <td>1.44</td>\n",
       "      <td>-8231735.5</td>\n",
       "      <td>4968713.0</td>\n",
       "      <td>-8234103.5</td>\n",
       "      <td>4969201.0</td>\n",
       "      <td>7.5</td>\n",
       "      <td>0.00</td>\n",
       "      <td>22</td>\n",
       "      <td>22</td>\n",
       "      <td>0</td>\n",
       "    </tr>\n",
       "    <tr>\n",
       "      <th>222882</th>\n",
       "      <td>2015-01-19 20:13:53</td>\n",
       "      <td>2015-01-19 20:28:53</td>\n",
       "      <td>6</td>\n",
       "      <td>3.42</td>\n",
       "      <td>-8232178.0</td>\n",
       "      <td>4971700.0</td>\n",
       "      <td>-8235926.0</td>\n",
       "      <td>4970434.5</td>\n",
       "      <td>14.0</td>\n",
       "      <td>2.90</td>\n",
       "      <td>20</td>\n",
       "      <td>20</td>\n",
       "      <td>0</td>\n",
       "    </tr>\n",
       "    <tr>\n",
       "      <th>223708</th>\n",
       "      <td>2015-01-23 13:10:08</td>\n",
       "      <td>2015-01-23 13:30:44</td>\n",
       "      <td>1</td>\n",
       "      <td>3.30</td>\n",
       "      <td>-8233067.0</td>\n",
       "      <td>4970002.5</td>\n",
       "      <td>-8236165.5</td>\n",
       "      <td>4973438.5</td>\n",
       "      <td>15.5</td>\n",
       "      <td>3.25</td>\n",
       "      <td>13</td>\n",
       "      <td>13</td>\n",
       "      <td>0</td>\n",
       "    </tr>\n",
       "  </tbody>\n",
       "</table>\n",
       "</div>"
      ],
      "text/plain": [
       "       tpep_pickup_datetime tpep_dropoff_datetime  passenger_count  \\\n",
       "46643   2015-01-16 14:54:54   2015-01-16 15:04:03                1   \n",
       "109985  2015-01-25 16:39:51   2015-01-25 17:09:59                1   \n",
       "166618  2015-01-07 22:46:52   2015-01-07 22:55:04                1   \n",
       "222882  2015-01-19 20:13:53   2015-01-19 20:28:53                6   \n",
       "223708  2015-01-23 13:10:08   2015-01-23 13:30:44                1   \n",
       "\n",
       "        trip_distance   pickup_x   pickup_y  dropoff_x  dropoff_y  \\\n",
       "46643            2.00 -8232502.5  4974452.5 -8233198.0  4971106.0   \n",
       "109985           5.80 -8237258.5  4976030.0 -8231016.0  4969517.0   \n",
       "166618           1.44 -8231735.5  4968713.0 -8234103.5  4969201.0   \n",
       "222882           3.42 -8232178.0  4971700.0 -8235926.0  4970434.5   \n",
       "223708           3.30 -8233067.0  4970002.5 -8236165.5  4973438.5   \n",
       "\n",
       "        fare_amount  tip_amount  dropoff_hour  pickup_hour  label  \n",
       "46643           9.0        1.50            15           14      0  \n",
       "109985         23.5        5.00            17           16      0  \n",
       "166618          7.5        0.00            22           22      0  \n",
       "222882         14.0        2.90            20           20      0  \n",
       "223708         15.5        3.25            13           13      0  "
      ]
     },
     "execution_count": 65,
     "metadata": {},
     "output_type": "execute_result"
    }
   ],
   "source": [
    "highest = taxi_williamsburg['label'].isin([1,2,3,0,6])\n",
    "filter_taxi = taxi_williamsburg.loc[highest]\n",
    "filter_taxi.head()"
   ]
  },
  {
   "cell_type": "code",
   "execution_count": 67,
   "metadata": {
    "tags": []
   },
   "outputs": [
    {
     "data": {
      "text/html": [
       "<div>\n",
       "<style scoped>\n",
       "    .dataframe tbody tr th:only-of-type {\n",
       "        vertical-align: middle;\n",
       "    }\n",
       "\n",
       "    .dataframe tbody tr th {\n",
       "        vertical-align: top;\n",
       "    }\n",
       "\n",
       "    .dataframe thead th {\n",
       "        text-align: right;\n",
       "    }\n",
       "</style>\n",
       "<table border=\"1\" class=\"dataframe\">\n",
       "  <thead>\n",
       "    <tr style=\"text-align: right;\">\n",
       "      <th></th>\n",
       "      <th>trip_distance</th>\n",
       "      <th>pickup_hour</th>\n",
       "    </tr>\n",
       "    <tr>\n",
       "      <th>label</th>\n",
       "      <th></th>\n",
       "      <th></th>\n",
       "    </tr>\n",
       "  </thead>\n",
       "  <tbody>\n",
       "    <tr>\n",
       "      <th>0</th>\n",
       "      <td>3.871968</td>\n",
       "      <td>11.826378</td>\n",
       "    </tr>\n",
       "    <tr>\n",
       "      <th>1</th>\n",
       "      <td>3.917194</td>\n",
       "      <td>11.804965</td>\n",
       "    </tr>\n",
       "    <tr>\n",
       "      <th>2</th>\n",
       "      <td>3.907462</td>\n",
       "      <td>11.630586</td>\n",
       "    </tr>\n",
       "    <tr>\n",
       "      <th>3</th>\n",
       "      <td>3.921000</td>\n",
       "      <td>11.765681</td>\n",
       "    </tr>\n",
       "    <tr>\n",
       "      <th>6</th>\n",
       "      <td>3.882159</td>\n",
       "      <td>11.606167</td>\n",
       "    </tr>\n",
       "  </tbody>\n",
       "</table>\n",
       "</div>"
      ],
      "text/plain": [
       "       trip_distance  pickup_hour\n",
       "label                            \n",
       "0           3.871968    11.826378\n",
       "1           3.917194    11.804965\n",
       "2           3.907462    11.630586\n",
       "3           3.921000    11.765681\n",
       "6           3.882159    11.606167"
      ]
     },
     "execution_count": 67,
     "metadata": {},
     "output_type": "execute_result"
    }
   ],
   "source": [
    "means_group = filter_taxi.groupby('label')[['trip_distance','pickup_hour']].mean() \n",
    "means_group"
   ]
  },
  {
   "cell_type": "markdown",
   "metadata": {
    "slideshow": {
     "slide_type": "slide"
    }
   },
   "source": [
    "### Step 6a: Visualize the top 5 largest clusters\n",
    "\n",
    "Now visualize the top 5 largest clusters:\n",
    "- plot the dropoffs and pickups (same color) for the 5 largest clusters\n",
    "- include the \"noise\" samples, shown in gray\n",
    "      \n",
    "\n",
    "**Hints:**\n",
    "- For a given cluster, plot the dropoffs and pickups with the same color so we can visualize patterns in the taxi trips\n",
    "- A good color scheme for a black background is given below"
   ]
  },
  {
   "cell_type": "code",
   "execution_count": 61,
   "metadata": {
    "hide_input": false,
    "slideshow": {
     "slide_type": "subslide"
    },
    "tags": []
   },
   "outputs": [],
   "source": [
    "# a good color scheme for a black background\n",
    "colors = ['aqua', 'lime', 'red', 'fuchsia', 'yellow']"
   ]
  },
  {
   "cell_type": "code",
   "execution_count": 62,
   "metadata": {
    "slideshow": {
     "slide_type": "subslide"
    },
    "tags": []
   },
   "outputs": [
    {
     "name": "stdout",
     "output_type": "stream",
     "text": [
      "i = 0\n",
      "label_num = 0\n",
      "i = 1\n",
      "label_num = 1\n",
      "i = 2\n",
      "label_num = 2\n",
      "i = 3\n",
      "label_num = 3\n",
      "i = 4\n",
      "label_num = 4\n"
     ]
    }
   ],
   "source": [
    "# EXAMPLE: enumerating a list\n",
    "for i, label_num in enumerate([0, 1, 2, 3, 4]):\n",
    "    print(f\"i = {i}\")\n",
    "    print(f\"label_num = {label_num}\")"
   ]
  },
  {
   "cell_type": "code",
   "execution_count": null,
   "metadata": {},
   "outputs": [],
   "source": [
    "# Setup figure and axis\n",
    "f, ax = plt.subplots(figsize=(10, 10), facecolor=\"black\")\n",
    "\n",
    "# Plot the noise samples in grey\n",
    "noise = coords.loc[coords[\"label\"] == -1]\n",
    "ax.scatter(noise[\"x\"], noise[\"y\"], c=\"grey\", s=5, linewidth=0)"
   ]
  },
  {
   "cell_type": "markdown",
   "metadata": {
    "slideshow": {
     "slide_type": "slide"
    }
   },
   "source": [
    "## If you're feeling ambitious, and time-permitting..."
   ]
  },
  {
   "cell_type": "markdown",
   "metadata": {
    "hide_input": true,
    "slideshow": {
     "slide_type": "slide"
    }
   },
   "source": [
    "### Step 6b: Visualizing one cluster at a time\n",
    "\n",
    "Another good way to visualize the results is to explore the other clusters one at a time, plotting both the pickups and dropoffs to identify the trends.  \n",
    "\n",
    "Use different colors for pickups/dropoffs to easily identify them."
   ]
  },
  {
   "cell_type": "markdown",
   "metadata": {
    "hide_input": true,
    "slideshow": {
     "slide_type": "subslide"
    }
   },
   "source": [
    "Make it a function so we can repeat it easily:"
   ]
  },
  {
   "cell_type": "code",
   "execution_count": null,
   "metadata": {},
   "outputs": [],
   "source": []
  },
  {
   "cell_type": "markdown",
   "metadata": {
    "slideshow": {
     "slide_type": "slide"
    },
    "tags": []
   },
   "source": [
    "### Step 7: an interactive map of clusters with hvplot + datashader\n",
    "\n",
    "- We'll plot the pickup/dropoff locations for the top 5 clusters\n",
    "- Use the `.hvplot.scatter()` function to plot the x/y points\n",
    "- Specify the `c=` keyword as the column holding the cluster label\n",
    "- Specify the aggregator as `ds.count_cat(\"label\")` — this will color the data points using our categorical color map\n",
    "- Use the `datashade=True` keyword to tell hvplot to use datashader\n",
    "- Add a background tile using Geoviews\n",
    "- Combine the pickups, dropoffs, and background tile into a single interactive map\n"
   ]
  },
  {
   "cell_type": "code",
   "execution_count": 51,
   "metadata": {
    "hide_input": false,
    "slideshow": {
     "slide_type": "subslide"
    },
    "tags": []
   },
   "outputs": [
    {
     "name": "stdout",
     "output_type": "stream",
     "text": [
      "{1: 'aqua', 2: 'lime', 3: 'red', 0: 'fuchsia', 6: 'yellow'}\n"
     ]
    }
   ],
   "source": [
    "# map colors to the top 5 cluster labels\n",
    "color_key = dict(zip(top5_labels, ['aqua', 'lime', 'red', 'fuchsia', 'yellow']))\n",
    "print(color_key)"
   ]
  },
  {
   "cell_type": "code",
   "execution_count": null,
   "metadata": {},
   "outputs": [],
   "source": []
  },
  {
   "cell_type": "markdown",
   "metadata": {},
   "source": [
    "## That's it! \n",
    "\n",
    "Next time, regressions with scikit-learn!"
   ]
  },
  {
   "cell_type": "code",
   "execution_count": null,
   "metadata": {},
   "outputs": [],
   "source": []
  }
 ],
 "metadata": {
  "celltoolbar": "Slideshow",
  "kernelspec": {
   "display_name": "Python 3 (ipykernel)",
   "language": "python",
   "name": "python3"
  },
  "language_info": {
   "codemirror_mode": {
    "name": "ipython",
    "version": 3
   },
   "file_extension": ".py",
   "mimetype": "text/x-python",
   "name": "python",
   "nbconvert_exporter": "python",
   "pygments_lexer": "ipython3",
   "version": "3.10.12"
  }
 },
 "nbformat": 4,
 "nbformat_minor": 4
}
