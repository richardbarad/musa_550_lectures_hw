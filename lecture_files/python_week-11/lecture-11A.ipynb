{
 "cells": [
  {
   "cell_type": "code",
   "execution_count": 1,
   "metadata": {
    "slideshow": {
     "slide_type": "skip"
    },
    "tags": []
   },
   "outputs": [],
   "source": [
    "from matplotlib import pyplot as plt\n",
    "import numpy as np\n",
    "import pandas as pd\n",
    "import geopandas as gpd\n",
    "np.random.seed(42)"
   ]
  },
  {
   "cell_type": "markdown",
   "metadata": {
    "slideshow": {
     "slide_type": "slide"
    }
   },
   "source": [
    "# Week 11: Clustering Analysis in Python\n",
    "\n",
    "- Section 401\n",
    "- Nov 13, 2023"
   ]
  },
  {
   "cell_type": "markdown",
   "metadata": {
    "slideshow": {
     "slide_type": "slide"
    }
   },
   "source": [
    "## Clustering in Python\n",
    "\n",
    "- Both spatial and non-spatial datasets\n",
    "- Two new techniques: \n",
    "    - Non-spatial: **K-means**\n",
    "    - Spatial: **DBSCAN**\n",
    "- Two labs/exercises this week:\n",
    "    1. Grouping Philadelphia neighborhoods by AirBnb listings\n",
    "    1. Identifying clusters in taxi rides in NYC"
   ]
  },
  {
   "cell_type": "markdown",
   "metadata": {
    "slideshow": {
     "slide_type": "slide"
    }
   },
   "source": [
    "## \"Machine learning\" and \"AI\"\n",
    "\n",
    "![](imgs/machine_learning.jpg)"
   ]
  },
  {
   "cell_type": "markdown",
   "metadata": {
    "slideshow": {
     "slide_type": "subslide"
    }
   },
   "source": [
    "- The computer **learns** patterns and properties of an input data set without the user specifying them beforehand\n",
    "- Can be both **supervised** and **unsupervised**"
   ]
  },
  {
   "cell_type": "markdown",
   "metadata": {
    "slideshow": {
     "slide_type": "subslide"
    }
   },
   "source": [
    "### Supervised\n",
    "- Example: classification\n",
    "- Given a training set of **labeled** data, learn to assign labels to new data\n",
    "\n",
    "### Unsupervised\n",
    "- Example: clustering\n",
    "- Identify structure / clusters in data without any prior knowledge"
   ]
  },
  {
   "cell_type": "markdown",
   "metadata": {
    "slideshow": {
     "slide_type": "slide"
    }
   },
   "source": [
    "## Machine learning in Python: scikit-learn\n",
    "\n",
    "- State-of-the-art machine learning in Python\n",
    "- Easy to use, lots of functionality"
   ]
  },
  {
   "cell_type": "markdown",
   "metadata": {
    "slideshow": {
     "slide_type": "subslide"
    }
   },
   "source": [
    "## Clustering is just one (of many) features\n",
    "\n",
    "![](imgs/scikit_learn.png)"
   ]
  },
  {
   "cell_type": "markdown",
   "metadata": {
    "slideshow": {
     "slide_type": "subslide"
    }
   },
   "source": [
    "[https://scikit-learn.org/stable/](https://scikit-learn.org/stable/)\n",
    "\n",
    "\n",
    "::: {.callout-note}\n",
    "We will focus on clustering algorithms today and discuss a few other machine learning techniques in the next two weeks. If there is a specific scikit-learn use case we won't cover, I'm open to ideas for incorporating it as part of the final project. \n",
    "\n",
    ":::"
   ]
  },
  {
   "cell_type": "markdown",
   "metadata": {
    "slideshow": {
     "slide_type": "slide"
    }
   },
   "source": [
    "## Part 1: Non-spatial clustering\n",
    "\n",
    "**The goal**\n",
    "\n",
    "Partition a dataset into groups that have a similar set of attributes, **or features**, within the group and a dissimilar set of features between groups.\n",
    "\n",
    "Minimize the *intra-cluster* variance and maximize the *inter-cluster* variance of features."
   ]
  },
  {
   "cell_type": "markdown",
   "metadata": {
    "slideshow": {
     "slide_type": "subslide"
    }
   },
   "source": [
    "### Some intuition\n",
    "\n",
    "![](imgs/clustering.png)"
   ]
  },
  {
   "cell_type": "markdown",
   "metadata": {
    "slideshow": {
     "slide_type": "slide"
    }
   },
   "source": [
    "### K-Means clustering\n",
    "\n",
    "- Simple but robust clustering algorithm\n",
    "- Widely used\n",
    "- **Important:** user must specify the number of clusters\n",
    "- **Cannot** be used to find density-based clusters"
   ]
  },
  {
   "cell_type": "markdown",
   "metadata": {
    "slideshow": {
     "slide_type": "slide"
    }
   },
   "source": [
    "### This is just one of several clustering methods\n",
    "\n",
    "[https://scikit-learn.org/stable/modules/clustering.html#overview-of-clustering-methods](https://scikit-learn.org/stable/modules/clustering.html#overview-of-clustering-methods)"
   ]
  },
  {
   "cell_type": "markdown",
   "metadata": {
    "slideshow": {
     "slide_type": "subslide"
    }
   },
   "source": [
    "::: {.callout-tip}\n",
    "### A good introduction\n",
    "\n",
    "Check out [Andrew Ng's Coursera lecture](https://www.youtube.com/watch?v=0D4LnsJr85Y) on unsupervised clustering.\n",
    "\n",
    ":::"
   ]
  },
  {
   "cell_type": "markdown",
   "metadata": {
    "slideshow": {
     "slide_type": "slide"
    }
   },
   "source": [
    "### How does it work?\n",
    "\n",
    "**Minimizes the intra-cluster variance**: minimizes the sum of the squared distances between all points in a cluster and the cluster centroid"
   ]
  },
  {
   "cell_type": "markdown",
   "metadata": {
    "slideshow": {
     "slide_type": "slide"
    }
   },
   "source": [
    "### K-means in action\n",
    "\n",
    "![](imgs/K-means_convergence.gif)"
   ]
  },
  {
   "cell_type": "markdown",
   "metadata": {
    "slideshow": {
     "slide_type": "slide"
    }
   },
   "source": [
    "### Example: Clustering countries by health and income\n",
    "\n",
    "- Health expectancy in years vs. GDP per capita and population for 187 countries (as of 2015)\n",
    "- Data from [Gapminder](https://www.gapminder.org/data/)"
   ]
  },
  {
   "cell_type": "code",
   "execution_count": 2,
   "metadata": {
    "slideshow": {
     "slide_type": "subslide"
    },
    "tags": []
   },
   "outputs": [],
   "source": [
    "import altair as alt\n",
    "from vega_datasets import data as vega_data"
   ]
  },
  {
   "cell_type": "markdown",
   "metadata": {
    "slideshow": {
     "slide_type": "subslide"
    }
   },
   "source": [
    "Read the data from a URL:"
   ]
  },
  {
   "cell_type": "code",
   "execution_count": 3,
   "metadata": {
    "slideshow": {
     "slide_type": "subslide"
    },
    "tags": []
   },
   "outputs": [
    {
     "data": {
      "text/html": [
       "<div>\n",
       "<style scoped>\n",
       "    .dataframe tbody tr th:only-of-type {\n",
       "        vertical-align: middle;\n",
       "    }\n",
       "\n",
       "    .dataframe tbody tr th {\n",
       "        vertical-align: top;\n",
       "    }\n",
       "\n",
       "    .dataframe thead th {\n",
       "        text-align: right;\n",
       "    }\n",
       "</style>\n",
       "<table border=\"1\" class=\"dataframe\">\n",
       "  <thead>\n",
       "    <tr style=\"text-align: right;\">\n",
       "      <th></th>\n",
       "      <th>country</th>\n",
       "      <th>income</th>\n",
       "      <th>health</th>\n",
       "      <th>population</th>\n",
       "    </tr>\n",
       "  </thead>\n",
       "  <tbody>\n",
       "    <tr>\n",
       "      <th>0</th>\n",
       "      <td>Afghanistan</td>\n",
       "      <td>1925</td>\n",
       "      <td>57.63</td>\n",
       "      <td>32526562</td>\n",
       "    </tr>\n",
       "    <tr>\n",
       "      <th>1</th>\n",
       "      <td>Albania</td>\n",
       "      <td>10620</td>\n",
       "      <td>76.00</td>\n",
       "      <td>2896679</td>\n",
       "    </tr>\n",
       "    <tr>\n",
       "      <th>2</th>\n",
       "      <td>Algeria</td>\n",
       "      <td>13434</td>\n",
       "      <td>76.50</td>\n",
       "      <td>39666519</td>\n",
       "    </tr>\n",
       "    <tr>\n",
       "      <th>3</th>\n",
       "      <td>Andorra</td>\n",
       "      <td>46577</td>\n",
       "      <td>84.10</td>\n",
       "      <td>70473</td>\n",
       "    </tr>\n",
       "    <tr>\n",
       "      <th>4</th>\n",
       "      <td>Angola</td>\n",
       "      <td>7615</td>\n",
       "      <td>61.00</td>\n",
       "      <td>25021974</td>\n",
       "    </tr>\n",
       "  </tbody>\n",
       "</table>\n",
       "</div>"
      ],
      "text/plain": [
       "       country  income  health  population\n",
       "0  Afghanistan    1925   57.63    32526562\n",
       "1      Albania   10620   76.00     2896679\n",
       "2      Algeria   13434   76.50    39666519\n",
       "3      Andorra   46577   84.10       70473\n",
       "4       Angola    7615   61.00    25021974"
      ]
     },
     "execution_count": 3,
     "metadata": {},
     "output_type": "execute_result"
    }
   ],
   "source": [
    "gapminder = pd.read_csv(vega_data.gapminder_health_income.url)\n",
    "gapminder.head()"
   ]
  },
  {
   "cell_type": "markdown",
   "metadata": {
    "slideshow": {
     "slide_type": "slide"
    }
   },
   "source": [
    "Plot it with altair:"
   ]
  },
  {
   "cell_type": "code",
   "execution_count": 4,
   "metadata": {
    "slideshow": {
     "slide_type": "subslide"
    },
    "tags": []
   },
   "outputs": [
    {
     "data": {
      "text/html": [
       "\n",
       "<style>\n",
       "  #altair-viz-a21aca4102ad4eefa186e15d514577f6.vega-embed {\n",
       "    width: 100%;\n",
       "    display: flex;\n",
       "  }\n",
       "\n",
       "  #altair-viz-a21aca4102ad4eefa186e15d514577f6.vega-embed details,\n",
       "  #altair-viz-a21aca4102ad4eefa186e15d514577f6.vega-embed details summary {\n",
       "    position: relative;\n",
       "  }\n",
       "</style>\n",
       "<div id=\"altair-viz-a21aca4102ad4eefa186e15d514577f6\"></div>\n",
       "<script type=\"text/javascript\">\n",
       "  var VEGA_DEBUG = (typeof VEGA_DEBUG == \"undefined\") ? {} : VEGA_DEBUG;\n",
       "  (function(spec, embedOpt){\n",
       "    let outputDiv = document.currentScript.previousElementSibling;\n",
       "    if (outputDiv.id !== \"altair-viz-a21aca4102ad4eefa186e15d514577f6\") {\n",
       "      outputDiv = document.getElementById(\"altair-viz-a21aca4102ad4eefa186e15d514577f6\");\n",
       "    }\n",
       "    const paths = {\n",
       "      \"vega\": \"https://cdn.jsdelivr.net/npm/vega@5?noext\",\n",
       "      \"vega-lib\": \"https://cdn.jsdelivr.net/npm/vega-lib?noext\",\n",
       "      \"vega-lite\": \"https://cdn.jsdelivr.net/npm/vega-lite@5.14.1?noext\",\n",
       "      \"vega-embed\": \"https://cdn.jsdelivr.net/npm/vega-embed@6?noext\",\n",
       "    };\n",
       "\n",
       "    function maybeLoadScript(lib, version) {\n",
       "      var key = `${lib.replace(\"-\", \"\")}_version`;\n",
       "      return (VEGA_DEBUG[key] == version) ?\n",
       "        Promise.resolve(paths[lib]) :\n",
       "        new Promise(function(resolve, reject) {\n",
       "          var s = document.createElement('script');\n",
       "          document.getElementsByTagName(\"head\")[0].appendChild(s);\n",
       "          s.async = true;\n",
       "          s.onload = () => {\n",
       "            VEGA_DEBUG[key] = version;\n",
       "            return resolve(paths[lib]);\n",
       "          };\n",
       "          s.onerror = () => reject(`Error loading script: ${paths[lib]}`);\n",
       "          s.src = paths[lib];\n",
       "        });\n",
       "    }\n",
       "\n",
       "    function showError(err) {\n",
       "      outputDiv.innerHTML = `<div class=\"error\" style=\"color:red;\">${err}</div>`;\n",
       "      throw err;\n",
       "    }\n",
       "\n",
       "    function displayChart(vegaEmbed) {\n",
       "      vegaEmbed(outputDiv, spec, embedOpt)\n",
       "        .catch(err => showError(`Javascript Error: ${err.message}<br>This usually means there's a typo in your chart specification. See the javascript console for the full traceback.`));\n",
       "    }\n",
       "\n",
       "    if(typeof define === \"function\" && define.amd) {\n",
       "      requirejs.config({paths});\n",
       "      require([\"vega-embed\"], displayChart, err => showError(`Error loading script: ${err.message}`));\n",
       "    } else {\n",
       "      maybeLoadScript(\"vega\", \"5\")\n",
       "        .then(() => maybeLoadScript(\"vega-lite\", \"5.14.1\"))\n",
       "        .then(() => maybeLoadScript(\"vega-embed\", \"6\"))\n",
       "        .catch(showError)\n",
       "        .then(() => displayChart(vegaEmbed));\n",
       "    }\n",
       "  })({\"config\": {\"view\": {\"continuousWidth\": 300, \"continuousHeight\": 300}}, \"data\": {\"name\": \"data-7e3b7ef5d72a8470b0044710e8a24cca\"}, \"mark\": {\"type\": \"circle\"}, \"encoding\": {\"size\": {\"field\": \"population\", \"type\": \"quantitative\"}, \"tooltip\": [{\"field\": \"country\", \"type\": \"nominal\"}, {\"field\": \"income\", \"type\": \"quantitative\"}, {\"field\": \"health\", \"type\": \"quantitative\"}, {\"field\": \"population\", \"type\": \"quantitative\"}], \"x\": {\"field\": \"income\", \"scale\": {\"type\": \"log\"}, \"type\": \"quantitative\"}, \"y\": {\"field\": \"health\", \"scale\": {\"zero\": false}, \"type\": \"quantitative\"}}, \"height\": 600, \"params\": [{\"name\": \"param_1\", \"select\": {\"type\": \"interval\", \"encodings\": [\"x\", \"y\"]}, \"bind\": \"scales\"}], \"width\": 800, \"$schema\": \"https://vega.github.io/schema/vega-lite/v5.14.1.json\", \"datasets\": {\"data-7e3b7ef5d72a8470b0044710e8a24cca\": [{\"country\": \"Afghanistan\", \"income\": 1925, \"health\": 57.63, \"population\": 32526562}, {\"country\": \"Albania\", \"income\": 10620, \"health\": 76.0, \"population\": 2896679}, {\"country\": \"Algeria\", \"income\": 13434, \"health\": 76.5, \"population\": 39666519}, {\"country\": \"Andorra\", \"income\": 46577, \"health\": 84.1, \"population\": 70473}, {\"country\": \"Angola\", \"income\": 7615, \"health\": 61.0, \"population\": 25021974}, {\"country\": \"Antigua and Barbuda\", \"income\": 21049, \"health\": 75.2, \"population\": 91818}, {\"country\": \"Argentina\", \"income\": 17344, \"health\": 76.2, \"population\": 43416755}, {\"country\": \"Armenia\", \"income\": 7763, \"health\": 74.4, \"population\": 3017712}, {\"country\": \"Australia\", \"income\": 44056, \"health\": 81.8, \"population\": 23968973}, {\"country\": \"Austria\", \"income\": 44401, \"health\": 81.0, \"population\": 8544586}, {\"country\": \"Azerbaijan\", \"income\": 16986, \"health\": 72.9, \"population\": 9753968}, {\"country\": \"Bahamas\", \"income\": 22818, \"health\": 72.3, \"population\": 388019}, {\"country\": \"Bahrain\", \"income\": 44138, \"health\": 79.2, \"population\": 1377237}, {\"country\": \"Bangladesh\", \"income\": 3161, \"health\": 70.1, \"population\": 160995642}, {\"country\": \"Barbados\", \"income\": 12984, \"health\": 75.8, \"population\": 284215}, {\"country\": \"Belarus\", \"income\": 17415, \"health\": 70.4, \"population\": 9495826}, {\"country\": \"Belgium\", \"income\": 41240, \"health\": 80.4, \"population\": 11299192}, {\"country\": \"Belize\", \"income\": 8501, \"health\": 70.0, \"population\": 359287}, {\"country\": \"Benin\", \"income\": 1830, \"health\": 65.5, \"population\": 10879829}, {\"country\": \"Bhutan\", \"income\": 7983, \"health\": 70.2, \"population\": 774830}, {\"country\": \"Bolivia\", \"income\": 6295, \"health\": 72.3, \"population\": 10724705}, {\"country\": \"Bosnia and Herzegovina\", \"income\": 9833, \"health\": 77.9, \"population\": 3810416}, {\"country\": \"Botswana\", \"income\": 17196, \"health\": 66.4, \"population\": 2262485}, {\"country\": \"Brazil\", \"income\": 15441, \"health\": 75.6, \"population\": 207847528}, {\"country\": \"Brunei\", \"income\": 73003, \"health\": 78.7, \"population\": 423188}, {\"country\": \"Bulgaria\", \"income\": 16371, \"health\": 74.9, \"population\": 7149787}, {\"country\": \"Burkina Faso\", \"income\": 1654, \"health\": 62.8, \"population\": 18105570}, {\"country\": \"Burundi\", \"income\": 777, \"health\": 60.4, \"population\": 11178921}, {\"country\": \"Cambodia\", \"income\": 3267, \"health\": 68.4, \"population\": 15577899}, {\"country\": \"Cameroon\", \"income\": 2897, \"health\": 59.5, \"population\": 23344179}, {\"country\": \"Canada\", \"income\": 43294, \"health\": 81.7, \"population\": 35939927}, {\"country\": \"Cape Verde\", \"income\": 6514, \"health\": 74.6, \"population\": 520502}, {\"country\": \"Central African Republic\", \"income\": 599, \"health\": 53.8, \"population\": 4900274}, {\"country\": \"Chad\", \"income\": 2191, \"health\": 57.7, \"population\": 14037472}, {\"country\": \"Chile\", \"income\": 22465, \"health\": 79.3, \"population\": 17948141}, {\"country\": \"China\", \"income\": 13334, \"health\": 76.9, \"population\": 1376048943}, {\"country\": \"Colombia\", \"income\": 12761, \"health\": 75.8, \"population\": 48228704}, {\"country\": \"Comoros\", \"income\": 1472, \"health\": 64.1, \"population\": 788474}, {\"country\": \"Congo, Dem. Rep.\", \"income\": 809, \"health\": 58.3, \"population\": 77266814}, {\"country\": \"Congo, Rep.\", \"income\": 6220, \"health\": 61.9, \"population\": 4620330}, {\"country\": \"Costa Rica\", \"income\": 14132, \"health\": 80.0, \"population\": 4807850}, {\"country\": \"Cote d'Ivoire\", \"income\": 3491, \"health\": 60.33, \"population\": 22701556}, {\"country\": \"Croatia\", \"income\": 20260, \"health\": 78.0, \"population\": 4240317}, {\"country\": \"Cuba\", \"income\": 21291, \"health\": 78.5, \"population\": 11389562}, {\"country\": \"Cyprus\", \"income\": 29797, \"health\": 82.6, \"population\": 1165300}, {\"country\": \"Czech Republic\", \"income\": 29437, \"health\": 78.6, \"population\": 10543186}, {\"country\": \"Denmark\", \"income\": 43495, \"health\": 80.1, \"population\": 5669081}, {\"country\": \"Djibouti\", \"income\": 3139, \"health\": 64.63, \"population\": 887861}, {\"country\": \"Dominica\", \"income\": 10503, \"health\": 74.6, \"population\": 72680}, {\"country\": \"Dominican Republic\", \"income\": 12837, \"health\": 73.8, \"population\": 10528391}, {\"country\": \"Ecuador\", \"income\": 10996, \"health\": 75.2, \"population\": 16144363}, {\"country\": \"Egypt\", \"income\": 11031, \"health\": 71.3, \"population\": 91508084}, {\"country\": \"El Salvador\", \"income\": 7776, \"health\": 74.1, \"population\": 6126583}, {\"country\": \"Equatorial Guinea\", \"income\": 31087, \"health\": 60.63, \"population\": 845060}, {\"country\": \"Eritrea\", \"income\": 1129, \"health\": 62.9, \"population\": 5227791}, {\"country\": \"Estonia\", \"income\": 26812, \"health\": 76.8, \"population\": 1312558}, {\"country\": \"Ethiopia\", \"income\": 1520, \"health\": 63.6, \"population\": 99390750}, {\"country\": \"Fiji\", \"income\": 7925, \"health\": 66.3, \"population\": 892145}, {\"country\": \"Finland\", \"income\": 38923, \"health\": 80.8, \"population\": 5503457}, {\"country\": \"France\", \"income\": 37599, \"health\": 81.9, \"population\": 64395345}, {\"country\": \"Gabon\", \"income\": 18627, \"health\": 60.53, \"population\": 1725292}, {\"country\": \"Gambia\", \"income\": 1644, \"health\": 65.1, \"population\": 1990924}, {\"country\": \"Georgia\", \"income\": 7474, \"health\": 73.3, \"population\": 3999812}, {\"country\": \"Germany\", \"income\": 44053, \"health\": 81.1, \"population\": 80688545}, {\"country\": \"Ghana\", \"income\": 4099, \"health\": 65.5, \"population\": 27409893}, {\"country\": \"Greece\", \"income\": 25430, \"health\": 79.8, \"population\": 10954617}, {\"country\": \"Grenada\", \"income\": 11593, \"health\": 71.7, \"population\": 106825}, {\"country\": \"Guatemala\", \"income\": 7279, \"health\": 73.1, \"population\": 16342897}, {\"country\": \"Guinea\", \"income\": 1225, \"health\": 60.8, \"population\": 12608590}, {\"country\": \"Guinea-Bissau\", \"income\": 1386, \"health\": 53.4, \"population\": 1844325}, {\"country\": \"Guyana\", \"income\": 6816, \"health\": 64.4, \"population\": 767085}, {\"country\": \"Haiti\", \"income\": 1710, \"health\": 65.3, \"population\": 10711067}, {\"country\": \"Honduras\", \"income\": 4270, \"health\": 72.4, \"population\": 8075060}, {\"country\": \"Hungary\", \"income\": 24200, \"health\": 76.2, \"population\": 9855023}, {\"country\": \"Iceland\", \"income\": 42182, \"health\": 82.8, \"population\": 329425}, {\"country\": \"India\", \"income\": 5903, \"health\": 66.8, \"population\": 1311050527}, {\"country\": \"Indonesia\", \"income\": 10504, \"health\": 70.9, \"population\": 257563815}, {\"country\": \"Iran\", \"income\": 15573, \"health\": 78.5, \"population\": 79109272}, {\"country\": \"Iraq\", \"income\": 14646, \"health\": 72.1, \"population\": 36423395}, {\"country\": \"Ireland\", \"income\": 47758, \"health\": 80.4, \"population\": 4688465}, {\"country\": \"Israel\", \"income\": 31590, \"health\": 82.4, \"population\": 8064036}, {\"country\": \"Italy\", \"income\": 33297, \"health\": 82.1, \"population\": 59797685}, {\"country\": \"Jamaica\", \"income\": 8606, \"health\": 75.5, \"population\": 2793335}, {\"country\": \"Japan\", \"income\": 36162, \"health\": 83.5, \"population\": 126573481}, {\"country\": \"Jordan\", \"income\": 11752, \"health\": 78.3, \"population\": 7594547}, {\"country\": \"Kazakhstan\", \"income\": 23468, \"health\": 68.2, \"population\": 17625226}, {\"country\": \"Kenya\", \"income\": 2898, \"health\": 66.63, \"population\": 46050302}, {\"country\": \"Kiribati\", \"income\": 1824, \"health\": 62.4, \"population\": 112423}, {\"country\": \"Kuwait\", \"income\": 82633, \"health\": 80.7, \"population\": 3892115}, {\"country\": \"Kyrgyz Republic\", \"income\": 3245, \"health\": 69.0, \"population\": 5939962}, {\"country\": \"Lao\", \"income\": 5212, \"health\": 66.4, \"population\": 6802023}, {\"country\": \"Latvia\", \"income\": 23282, \"health\": 75.7, \"population\": 1970503}, {\"country\": \"Lebanon\", \"income\": 17050, \"health\": 78.5, \"population\": 5850743}, {\"country\": \"Lesotho\", \"income\": 2598, \"health\": 48.5, \"population\": 2135022}, {\"country\": \"Liberia\", \"income\": 958, \"health\": 63.9, \"population\": 4503438}, {\"country\": \"Libya\", \"income\": 17261, \"health\": 76.2, \"population\": 6278438}, {\"country\": \"Lithuania\", \"income\": 26665, \"health\": 75.4, \"population\": 2878405}, {\"country\": \"Luxembourg\", \"income\": 88314, \"health\": 81.1, \"population\": 567110}, {\"country\": \"Macedonia, FYR\", \"income\": 12547, \"health\": 77.0, \"population\": 2078453}, {\"country\": \"Madagascar\", \"income\": 1400, \"health\": 64.7, \"population\": 24235390}, {\"country\": \"Malawi\", \"income\": 799, \"health\": 60.22, \"population\": 17215232}, {\"country\": \"Malaysia\", \"income\": 24320, \"health\": 75.1, \"population\": 30331007}, {\"country\": \"Maldives\", \"income\": 14408, \"health\": 79.5, \"population\": 363657}, {\"country\": \"Mali\", \"income\": 1684, \"health\": 57.6, \"population\": 17599694}, {\"country\": \"Malta\", \"income\": 30265, \"health\": 82.1, \"population\": 418670}, {\"country\": \"Marshall Islands\", \"income\": 3661, \"health\": 65.1, \"population\": 52993}, {\"country\": \"Mauritania\", \"income\": 3877, \"health\": 65.7, \"population\": 4067564}, {\"country\": \"Mauritius\", \"income\": 18350, \"health\": 73.9, \"population\": 1273212}, {\"country\": \"Mexico\", \"income\": 16850, \"health\": 74.5, \"population\": 127017224}, {\"country\": \"Micronesia, Fed. Sts.\", \"income\": 3510, \"health\": 67.0, \"population\": 104460}, {\"country\": \"Moldova\", \"income\": 4896, \"health\": 72.7, \"population\": 4068897}, {\"country\": \"Mongolia\", \"income\": 11819, \"health\": 65.3, \"population\": 2959134}, {\"country\": \"Montenegro\", \"income\": 14833, \"health\": 75.8, \"population\": 625781}, {\"country\": \"Morocco\", \"income\": 7319, \"health\": 74.7, \"population\": 34377511}, {\"country\": \"Mozambique\", \"income\": 1176, \"health\": 56.4, \"population\": 27977863}, {\"country\": \"Myanmar\", \"income\": 4012, \"health\": 67.9, \"population\": 53897154}, {\"country\": \"Namibia\", \"income\": 10040, \"health\": 61.0, \"population\": 2458830}, {\"country\": \"Nepal\", \"income\": 2352, \"health\": 71.2, \"population\": 28513700}, {\"country\": \"Netherlands\", \"income\": 45784, \"health\": 80.6, \"population\": 16924929}, {\"country\": \"New Zealand\", \"income\": 34186, \"health\": 80.6, \"population\": 4528526}, {\"country\": \"Nicaragua\", \"income\": 4712, \"health\": 76.8, \"population\": 6082032}, {\"country\": \"Niger\", \"income\": 943, \"health\": 62.2, \"population\": 19899120}, {\"country\": \"Nigeria\", \"income\": 5727, \"health\": 61.33, \"population\": 182201962}, {\"country\": \"North Korea\", \"income\": 1390, \"health\": 71.4, \"population\": 25155317}, {\"country\": \"Norway\", \"income\": 64304, \"health\": 81.6, \"population\": 5210967}, {\"country\": \"Oman\", \"income\": 48226, \"health\": 75.7, \"population\": 4490541}, {\"country\": \"Pakistan\", \"income\": 4743, \"health\": 66.5, \"population\": 188924874}, {\"country\": \"Panama\", \"income\": 20485, \"health\": 78.2, \"population\": 3929141}, {\"country\": \"Papua New Guinea\", \"income\": 2529, \"health\": 60.6, \"population\": 7619321}, {\"country\": \"Paraguay\", \"income\": 8219, \"health\": 73.9, \"population\": 6639123}, {\"country\": \"Peru\", \"income\": 11903, \"health\": 77.5, \"population\": 31376670}, {\"country\": \"Philippines\", \"income\": 6876, \"health\": 70.2, \"population\": 100699395}, {\"country\": \"Poland\", \"income\": 24787, \"health\": 77.3, \"population\": 38611794}, {\"country\": \"Portugal\", \"income\": 26437, \"health\": 79.8, \"population\": 10349803}, {\"country\": \"Qatar\", \"income\": 132877, \"health\": 82.0, \"population\": 2235355}, {\"country\": \"Romania\", \"income\": 19203, \"health\": 76.8, \"population\": 19511324}, {\"country\": \"Russia\", \"income\": 23038, \"health\": 73.13, \"population\": 143456918}, {\"country\": \"Rwanda\", \"income\": 1549, \"health\": 66.53, \"population\": 11609666}, {\"country\": \"Samoa\", \"income\": 5558, \"health\": 72.2, \"population\": 193228}, {\"country\": \"Sao Tome and Principe\", \"income\": 3003, \"health\": 68.8, \"population\": 190344}, {\"country\": \"Saudi Arabia\", \"income\": 52469, \"health\": 78.1, \"population\": 31540372}, {\"country\": \"Senegal\", \"income\": 2251, \"health\": 66.1, \"population\": 15129273}, {\"country\": \"Serbia\", \"income\": 12908, \"health\": 78.1, \"population\": 8850975}, {\"country\": \"Seychelles\", \"income\": 25684, \"health\": 73.7, \"population\": 96471}, {\"country\": \"Sierra Leone\", \"income\": 2085, \"health\": 58.5, \"population\": 6453184}, {\"country\": \"Singapore\", \"income\": 80794, \"health\": 82.1, \"population\": 5603740}, {\"country\": \"Slovak Republic\", \"income\": 27204, \"health\": 76.4, \"population\": 5426258}, {\"country\": \"Slovenia\", \"income\": 28550, \"health\": 80.2, \"population\": 2067526}, {\"country\": \"Solomon Islands\", \"income\": 2047, \"health\": 64.1, \"population\": 583591}, {\"country\": \"Somalia\", \"income\": 624, \"health\": 58.7, \"population\": 10787104}, {\"country\": \"South Africa\", \"income\": 12509, \"health\": 63.72, \"population\": 54490406}, {\"country\": \"South Korea\", \"income\": 34644, \"health\": 80.7, \"population\": 50293439}, {\"country\": \"South Sudan\", \"income\": 3047, \"health\": 58.0, \"population\": 12339812}, {\"country\": \"Spain\", \"income\": 32979, \"health\": 81.7, \"population\": 46121699}, {\"country\": \"Sri Lanka\", \"income\": 10624, \"health\": 76.5, \"population\": 20715010}, {\"country\": \"St. Lucia\", \"income\": 9997, \"health\": 74.5, \"population\": 184999}, {\"country\": \"St. Vincent and the Grenadines\", \"income\": 10435, \"health\": 72.9, \"population\": 109462}, {\"country\": \"Sudan\", \"income\": 3975, \"health\": 69.5, \"population\": 40234882}, {\"country\": \"Suriname\", \"income\": 17125, \"health\": 70.5, \"population\": 542975}, {\"country\": \"Swaziland\", \"income\": 6095, \"health\": 51.5, \"population\": 1286970}, {\"country\": \"Sweden\", \"income\": 44892, \"health\": 82.0, \"population\": 9779426}, {\"country\": \"Switzerland\", \"income\": 56118, \"health\": 82.9, \"population\": 8298663}, {\"country\": \"Syria\", \"income\": 4637, \"health\": 70.26, \"population\": 18502413}, {\"country\": \"Tajikistan\", \"income\": 2582, \"health\": 71.0, \"population\": 8481855}, {\"country\": \"Tanzania\", \"income\": 2571, \"health\": 63.43, \"population\": 53470420}, {\"country\": \"Thailand\", \"income\": 14512, \"health\": 75.1, \"population\": 67959359}, {\"country\": \"Timor-Leste\", \"income\": 2086, \"health\": 72.4, \"population\": 1184765}, {\"country\": \"Togo\", \"income\": 1433, \"health\": 64.23, \"population\": 7304578}, {\"country\": \"Tonga\", \"income\": 5069, \"health\": 70.5, \"population\": 106170}, {\"country\": \"Trinidad and Tobago\", \"income\": 30113, \"health\": 71.4, \"population\": 1360088}, {\"country\": \"Tunisia\", \"income\": 11126, \"health\": 77.3, \"population\": 11253554}, {\"country\": \"Turkey\", \"income\": 19360, \"health\": 76.5, \"population\": 78665830}, {\"country\": \"Turkmenistan\", \"income\": 15865, \"health\": 67.9, \"population\": 5373502}, {\"country\": \"Uganda\", \"income\": 1680, \"health\": 60.8, \"population\": 39032383}, {\"country\": \"Ukraine\", \"income\": 8449, \"health\": 72.1, \"population\": 44823765}, {\"country\": \"United Arab Emirates\", \"income\": 60749, \"health\": 76.6, \"population\": 9156963}, {\"country\": \"United Kingdom\", \"income\": 38225, \"health\": 81.4, \"population\": 64715810}, {\"country\": \"United States\", \"income\": 53354, \"health\": 79.1, \"population\": 321773631}, {\"country\": \"Uruguay\", \"income\": 20438, \"health\": 77.3, \"population\": 3431555}, {\"country\": \"Uzbekistan\", \"income\": 5598, \"health\": 70.1, \"population\": 29893488}, {\"country\": \"Vanuatu\", \"income\": 2912, \"health\": 65.0, \"population\": 264652}, {\"country\": \"Venezuela\", \"income\": 15753, \"health\": 75.8, \"population\": 31108083}, {\"country\": \"Vietnam\", \"income\": 5623, \"health\": 76.5, \"population\": 93447601}, {\"country\": \"West Bank and Gaza\", \"income\": 4319, \"health\": 75.2, \"population\": 4668466}, {\"country\": \"Yemen\", \"income\": 3887, \"health\": 67.6, \"population\": 26832215}, {\"country\": \"Zambia\", \"income\": 4034, \"health\": 58.96, \"population\": 16211767}, {\"country\": \"Zimbabwe\", \"income\": 1801, \"health\": 60.01, \"population\": 15602751}]}}, {\"mode\": \"vega-lite\"});\n",
       "</script>"
      ],
      "text/plain": [
       "alt.Chart(...)"
      ]
     },
     "execution_count": 4,
     "metadata": {},
     "output_type": "execute_result"
    }
   ],
   "source": [
    "(\n",
    "    alt.Chart(gapminder)\n",
    "    .mark_circle()\n",
    "    .encode(\n",
    "        alt.X(\"income:Q\", scale=alt.Scale(type=\"log\")),\n",
    "        alt.Y(\"health:Q\", scale=alt.Scale(zero=False)),\n",
    "        size=\"population:Q\",\n",
    "        tooltip=list(gapminder.columns),\n",
    "    )\n",
    "    .properties(width=800, height=600)\n",
    "    .interactive()\n",
    ")"
   ]
  },
  {
   "cell_type": "markdown",
   "metadata": {
    "slideshow": {
     "slide_type": "slide"
    }
   },
   "source": [
    "#### K-Means with scikit-learn"
   ]
  },
  {
   "cell_type": "code",
   "execution_count": 5,
   "metadata": {
    "slideshow": {
     "slide_type": "fragment"
    },
    "tags": []
   },
   "outputs": [],
   "source": [
    "from sklearn.cluster import KMeans"
   ]
  },
  {
   "cell_type": "markdown",
   "metadata": {
    "slideshow": {
     "slide_type": "slide"
    }
   },
   "source": [
    "Let's start with 5 clusters"
   ]
  },
  {
   "cell_type": "code",
   "execution_count": 6,
   "metadata": {
    "tags": []
   },
   "outputs": [
    {
     "data": {
      "text/plain": [
       "\u001b[0;31mInit signature:\u001b[0m\n",
       "\u001b[0mKMeans\u001b[0m\u001b[0;34m(\u001b[0m\u001b[0;34m\u001b[0m\n",
       "\u001b[0;34m\u001b[0m    \u001b[0mn_clusters\u001b[0m\u001b[0;34m=\u001b[0m\u001b[0;36m8\u001b[0m\u001b[0;34m,\u001b[0m\u001b[0;34m\u001b[0m\n",
       "\u001b[0;34m\u001b[0m    \u001b[0;34m*\u001b[0m\u001b[0;34m,\u001b[0m\u001b[0;34m\u001b[0m\n",
       "\u001b[0;34m\u001b[0m    \u001b[0minit\u001b[0m\u001b[0;34m=\u001b[0m\u001b[0;34m'k-means++'\u001b[0m\u001b[0;34m,\u001b[0m\u001b[0;34m\u001b[0m\n",
       "\u001b[0;34m\u001b[0m    \u001b[0mn_init\u001b[0m\u001b[0;34m=\u001b[0m\u001b[0;34m'warn'\u001b[0m\u001b[0;34m,\u001b[0m\u001b[0;34m\u001b[0m\n",
       "\u001b[0;34m\u001b[0m    \u001b[0mmax_iter\u001b[0m\u001b[0;34m=\u001b[0m\u001b[0;36m300\u001b[0m\u001b[0;34m,\u001b[0m\u001b[0;34m\u001b[0m\n",
       "\u001b[0;34m\u001b[0m    \u001b[0mtol\u001b[0m\u001b[0;34m=\u001b[0m\u001b[0;36m0.0001\u001b[0m\u001b[0;34m,\u001b[0m\u001b[0;34m\u001b[0m\n",
       "\u001b[0;34m\u001b[0m    \u001b[0mverbose\u001b[0m\u001b[0;34m=\u001b[0m\u001b[0;36m0\u001b[0m\u001b[0;34m,\u001b[0m\u001b[0;34m\u001b[0m\n",
       "\u001b[0;34m\u001b[0m    \u001b[0mrandom_state\u001b[0m\u001b[0;34m=\u001b[0m\u001b[0;32mNone\u001b[0m\u001b[0;34m,\u001b[0m\u001b[0;34m\u001b[0m\n",
       "\u001b[0;34m\u001b[0m    \u001b[0mcopy_x\u001b[0m\u001b[0;34m=\u001b[0m\u001b[0;32mTrue\u001b[0m\u001b[0;34m,\u001b[0m\u001b[0;34m\u001b[0m\n",
       "\u001b[0;34m\u001b[0m    \u001b[0malgorithm\u001b[0m\u001b[0;34m=\u001b[0m\u001b[0;34m'lloyd'\u001b[0m\u001b[0;34m,\u001b[0m\u001b[0;34m\u001b[0m\n",
       "\u001b[0;34m\u001b[0m\u001b[0;34m)\u001b[0m\u001b[0;34m\u001b[0m\u001b[0;34m\u001b[0m\u001b[0m\n",
       "\u001b[0;31mDocstring:\u001b[0m     \n",
       "K-Means clustering.\n",
       "\n",
       "Read more in the :ref:`User Guide <k_means>`.\n",
       "\n",
       "Parameters\n",
       "----------\n",
       "\n",
       "n_clusters : int, default=8\n",
       "    The number of clusters to form as well as the number of\n",
       "    centroids to generate.\n",
       "\n",
       "init : {'k-means++', 'random'}, callable or array-like of shape             (n_clusters, n_features), default='k-means++'\n",
       "    Method for initialization:\n",
       "\n",
       "    'k-means++' : selects initial cluster centroids using sampling based on\n",
       "    an empirical probability distribution of the points' contribution to the\n",
       "    overall inertia. This technique speeds up convergence. The algorithm\n",
       "    implemented is \"greedy k-means++\". It differs from the vanilla k-means++\n",
       "    by making several trials at each sampling step and choosing the best centroid\n",
       "    among them.\n",
       "\n",
       "    'random': choose `n_clusters` observations (rows) at random from data\n",
       "    for the initial centroids.\n",
       "\n",
       "    If an array is passed, it should be of shape (n_clusters, n_features)\n",
       "    and gives the initial centers.\n",
       "\n",
       "    If a callable is passed, it should take arguments X, n_clusters and a\n",
       "    random state and return an initialization.\n",
       "\n",
       "n_init : 'auto' or int, default=10\n",
       "    Number of times the k-means algorithm is run with different centroid\n",
       "    seeds. The final results is the best output of `n_init` consecutive runs\n",
       "    in terms of inertia. Several runs are recommended for sparse\n",
       "    high-dimensional problems (see :ref:`kmeans_sparse_high_dim`).\n",
       "\n",
       "    When `n_init='auto'`, the number of runs depends on the value of init:\n",
       "    10 if using `init='random'` or `init` is a callable;\n",
       "    1 if using `init='k-means++'` or `init` is an array-like.\n",
       "\n",
       "    .. versionadded:: 1.2\n",
       "       Added 'auto' option for `n_init`.\n",
       "\n",
       "    .. versionchanged:: 1.4\n",
       "       Default value for `n_init` will change from 10 to `'auto'` in version 1.4.\n",
       "\n",
       "max_iter : int, default=300\n",
       "    Maximum number of iterations of the k-means algorithm for a\n",
       "    single run.\n",
       "\n",
       "tol : float, default=1e-4\n",
       "    Relative tolerance with regards to Frobenius norm of the difference\n",
       "    in the cluster centers of two consecutive iterations to declare\n",
       "    convergence.\n",
       "\n",
       "verbose : int, default=0\n",
       "    Verbosity mode.\n",
       "\n",
       "random_state : int, RandomState instance or None, default=None\n",
       "    Determines random number generation for centroid initialization. Use\n",
       "    an int to make the randomness deterministic.\n",
       "    See :term:`Glossary <random_state>`.\n",
       "\n",
       "copy_x : bool, default=True\n",
       "    When pre-computing distances it is more numerically accurate to center\n",
       "    the data first. If copy_x is True (default), then the original data is\n",
       "    not modified. If False, the original data is modified, and put back\n",
       "    before the function returns, but small numerical differences may be\n",
       "    introduced by subtracting and then adding the data mean. Note that if\n",
       "    the original data is not C-contiguous, a copy will be made even if\n",
       "    copy_x is False. If the original data is sparse, but not in CSR format,\n",
       "    a copy will be made even if copy_x is False.\n",
       "\n",
       "algorithm : {\"lloyd\", \"elkan\", \"auto\", \"full\"}, default=\"lloyd\"\n",
       "    K-means algorithm to use. The classical EM-style algorithm is `\"lloyd\"`.\n",
       "    The `\"elkan\"` variation can be more efficient on some datasets with\n",
       "    well-defined clusters, by using the triangle inequality. However it's\n",
       "    more memory intensive due to the allocation of an extra array of shape\n",
       "    `(n_samples, n_clusters)`.\n",
       "\n",
       "    `\"auto\"` and `\"full\"` are deprecated and they will be removed in\n",
       "    Scikit-Learn 1.3. They are both aliases for `\"lloyd\"`.\n",
       "\n",
       "    .. versionchanged:: 0.18\n",
       "        Added Elkan algorithm\n",
       "\n",
       "    .. versionchanged:: 1.1\n",
       "        Renamed \"full\" to \"lloyd\", and deprecated \"auto\" and \"full\".\n",
       "        Changed \"auto\" to use \"lloyd\" instead of \"elkan\".\n",
       "\n",
       "Attributes\n",
       "----------\n",
       "cluster_centers_ : ndarray of shape (n_clusters, n_features)\n",
       "    Coordinates of cluster centers. If the algorithm stops before fully\n",
       "    converging (see ``tol`` and ``max_iter``), these will not be\n",
       "    consistent with ``labels_``.\n",
       "\n",
       "labels_ : ndarray of shape (n_samples,)\n",
       "    Labels of each point\n",
       "\n",
       "inertia_ : float\n",
       "    Sum of squared distances of samples to their closest cluster center,\n",
       "    weighted by the sample weights if provided.\n",
       "\n",
       "n_iter_ : int\n",
       "    Number of iterations run.\n",
       "\n",
       "n_features_in_ : int\n",
       "    Number of features seen during :term:`fit`.\n",
       "\n",
       "    .. versionadded:: 0.24\n",
       "\n",
       "feature_names_in_ : ndarray of shape (`n_features_in_`,)\n",
       "    Names of features seen during :term:`fit`. Defined only when `X`\n",
       "    has feature names that are all strings.\n",
       "\n",
       "    .. versionadded:: 1.0\n",
       "\n",
       "See Also\n",
       "--------\n",
       "MiniBatchKMeans : Alternative online implementation that does incremental\n",
       "    updates of the centers positions using mini-batches.\n",
       "    For large scale learning (say n_samples > 10k) MiniBatchKMeans is\n",
       "    probably much faster than the default batch implementation.\n",
       "\n",
       "Notes\n",
       "-----\n",
       "The k-means problem is solved using either Lloyd's or Elkan's algorithm.\n",
       "\n",
       "The average complexity is given by O(k n T), where n is the number of\n",
       "samples and T is the number of iteration.\n",
       "\n",
       "The worst case complexity is given by O(n^(k+2/p)) with\n",
       "n = n_samples, p = n_features.\n",
       "Refer to :doi:`\"How slow is the k-means method?\" D. Arthur and S. Vassilvitskii -\n",
       "SoCG2006.<10.1145/1137856.1137880>` for more details.\n",
       "\n",
       "In practice, the k-means algorithm is very fast (one of the fastest\n",
       "clustering algorithms available), but it falls in local minima. That's why\n",
       "it can be useful to restart it several times.\n",
       "\n",
       "If the algorithm stops before fully converging (because of ``tol`` or\n",
       "``max_iter``), ``labels_`` and ``cluster_centers_`` will not be consistent,\n",
       "i.e. the ``cluster_centers_`` will not be the means of the points in each\n",
       "cluster. Also, the estimator will reassign ``labels_`` after the last\n",
       "iteration to make ``labels_`` consistent with ``predict`` on the training\n",
       "set.\n",
       "\n",
       "Examples\n",
       "--------\n",
       "\n",
       ">>> from sklearn.cluster import KMeans\n",
       ">>> import numpy as np\n",
       ">>> X = np.array([[1, 2], [1, 4], [1, 0],\n",
       "...               [10, 2], [10, 4], [10, 0]])\n",
       ">>> kmeans = KMeans(n_clusters=2, random_state=0, n_init=\"auto\").fit(X)\n",
       ">>> kmeans.labels_\n",
       "array([1, 1, 1, 0, 0, 0], dtype=int32)\n",
       ">>> kmeans.predict([[0, 0], [12, 3]])\n",
       "array([1, 0], dtype=int32)\n",
       ">>> kmeans.cluster_centers_\n",
       "array([[10.,  2.],\n",
       "       [ 1.,  2.]])\n",
       "\u001b[0;31mFile:\u001b[0m           ~/mambaforge/envs/musa-550-fall-2023/lib/python3.10/site-packages/sklearn/cluster/_kmeans.py\n",
       "\u001b[0;31mType:\u001b[0m           ABCMeta\n",
       "\u001b[0;31mSubclasses:\u001b[0m     "
      ]
     },
     "metadata": {},
     "output_type": "display_data"
    }
   ],
   "source": [
    "KMeans?"
   ]
  },
  {
   "cell_type": "code",
   "execution_count": 11,
   "metadata": {
    "slideshow": {
     "slide_type": "subslide"
    },
    "tags": []
   },
   "outputs": [],
   "source": [
    "kmeans = KMeans(n_clusters=5, n_init=10, random_state=42)"
   ]
  },
  {
   "cell_type": "markdown",
   "metadata": {
    "slideshow": {
     "slide_type": "subslide"
    }
   },
   "source": [
    "Lot's of optional parameters, but `n_clusters` is the most important:"
   ]
  },
  {
   "cell_type": "markdown",
   "metadata": {
    "slideshow": {
     "slide_type": "slide"
    }
   },
   "source": [
    "#### Let's fit just income first\n",
    "\n",
    "Use the `fit()` function"
   ]
  },
  {
   "cell_type": "code",
   "execution_count": 12,
   "metadata": {
    "slideshow": {
     "slide_type": "fragment"
    },
    "tags": []
   },
   "outputs": [
    {
     "name": "stderr",
     "output_type": "stream",
     "text": [
      "C:\\ProgramData\\mambaforge\\envs\\musa-550-fall-2023\\lib\\site-packages\\sklearn\\cluster\\_kmeans.py:1436: UserWarning: KMeans is known to have a memory leak on Windows with MKL, when there are less chunks than available threads. You can avoid it by setting the environment variable OMP_NUM_THREADS=1.\n",
      "  warnings.warn(\n"
     ]
    }
   ],
   "source": [
    "kmeans.fit(gapminder[['income']]);"
   ]
  },
  {
   "cell_type": "markdown",
   "metadata": {
    "slideshow": {
     "slide_type": "slide"
    }
   },
   "source": [
    "#### Extract the cluster labels\n",
    "\n",
    "Use the `labels_` attribute"
   ]
  },
  {
   "cell_type": "code",
   "execution_count": 14,
   "metadata": {
    "slideshow": {
     "slide_type": "fragment"
    },
    "tags": []
   },
   "outputs": [],
   "source": [
    "gapminder['label'] = kmeans.labels_"
   ]
  },
  {
   "cell_type": "markdown",
   "metadata": {
    "slideshow": {
     "slide_type": "slide"
    }
   },
   "source": [
    "#### How big are our clusters?"
   ]
  },
  {
   "cell_type": "code",
   "execution_count": 16,
   "metadata": {
    "slideshow": {
     "slide_type": "fragment"
    },
    "tags": []
   },
   "outputs": [
    {
     "data": {
      "text/plain": [
       "label\n",
       "0    106\n",
       "1      6\n",
       "2     50\n",
       "3      1\n",
       "4     24\n",
       "dtype: int64"
      ]
     },
     "execution_count": 16,
     "metadata": {},
     "output_type": "execute_result"
    }
   ],
   "source": [
    "gapminder.groupby('label').size()"
   ]
  },
  {
   "cell_type": "markdown",
   "metadata": {
    "slideshow": {
     "slide_type": "slide"
    }
   },
   "source": [
    "#### Plot it again, coloring by our labels"
   ]
  },
  {
   "cell_type": "code",
   "execution_count": 17,
   "metadata": {
    "slideshow": {
     "slide_type": "subslide"
    },
    "tags": []
   },
   "outputs": [
    {
     "data": {
      "text/html": [
       "\n",
       "<style>\n",
       "  #altair-viz-3f23eeeaab4d4a0dbfc0774357e80aa3.vega-embed {\n",
       "    width: 100%;\n",
       "    display: flex;\n",
       "  }\n",
       "\n",
       "  #altair-viz-3f23eeeaab4d4a0dbfc0774357e80aa3.vega-embed details,\n",
       "  #altair-viz-3f23eeeaab4d4a0dbfc0774357e80aa3.vega-embed details summary {\n",
       "    position: relative;\n",
       "  }\n",
       "</style>\n",
       "<div id=\"altair-viz-3f23eeeaab4d4a0dbfc0774357e80aa3\"></div>\n",
       "<script type=\"text/javascript\">\n",
       "  var VEGA_DEBUG = (typeof VEGA_DEBUG == \"undefined\") ? {} : VEGA_DEBUG;\n",
       "  (function(spec, embedOpt){\n",
       "    let outputDiv = document.currentScript.previousElementSibling;\n",
       "    if (outputDiv.id !== \"altair-viz-3f23eeeaab4d4a0dbfc0774357e80aa3\") {\n",
       "      outputDiv = document.getElementById(\"altair-viz-3f23eeeaab4d4a0dbfc0774357e80aa3\");\n",
       "    }\n",
       "    const paths = {\n",
       "      \"vega\": \"https://cdn.jsdelivr.net/npm/vega@5?noext\",\n",
       "      \"vega-lib\": \"https://cdn.jsdelivr.net/npm/vega-lib?noext\",\n",
       "      \"vega-lite\": \"https://cdn.jsdelivr.net/npm/vega-lite@5.14.1?noext\",\n",
       "      \"vega-embed\": \"https://cdn.jsdelivr.net/npm/vega-embed@6?noext\",\n",
       "    };\n",
       "\n",
       "    function maybeLoadScript(lib, version) {\n",
       "      var key = `${lib.replace(\"-\", \"\")}_version`;\n",
       "      return (VEGA_DEBUG[key] == version) ?\n",
       "        Promise.resolve(paths[lib]) :\n",
       "        new Promise(function(resolve, reject) {\n",
       "          var s = document.createElement('script');\n",
       "          document.getElementsByTagName(\"head\")[0].appendChild(s);\n",
       "          s.async = true;\n",
       "          s.onload = () => {\n",
       "            VEGA_DEBUG[key] = version;\n",
       "            return resolve(paths[lib]);\n",
       "          };\n",
       "          s.onerror = () => reject(`Error loading script: ${paths[lib]}`);\n",
       "          s.src = paths[lib];\n",
       "        });\n",
       "    }\n",
       "\n",
       "    function showError(err) {\n",
       "      outputDiv.innerHTML = `<div class=\"error\" style=\"color:red;\">${err}</div>`;\n",
       "      throw err;\n",
       "    }\n",
       "\n",
       "    function displayChart(vegaEmbed) {\n",
       "      vegaEmbed(outputDiv, spec, embedOpt)\n",
       "        .catch(err => showError(`Javascript Error: ${err.message}<br>This usually means there's a typo in your chart specification. See the javascript console for the full traceback.`));\n",
       "    }\n",
       "\n",
       "    if(typeof define === \"function\" && define.amd) {\n",
       "      requirejs.config({paths});\n",
       "      require([\"vega-embed\"], displayChart, err => showError(`Error loading script: ${err.message}`));\n",
       "    } else {\n",
       "      maybeLoadScript(\"vega\", \"5\")\n",
       "        .then(() => maybeLoadScript(\"vega-lite\", \"5.14.1\"))\n",
       "        .then(() => maybeLoadScript(\"vega-embed\", \"6\"))\n",
       "        .catch(showError)\n",
       "        .then(() => displayChart(vegaEmbed));\n",
       "    }\n",
       "  })({\"config\": {\"view\": {\"continuousWidth\": 300, \"continuousHeight\": 300}}, \"data\": {\"name\": \"data-d9e6fabb9055911832784c2d26798428\"}, \"mark\": {\"type\": \"circle\"}, \"encoding\": {\"color\": {\"field\": \"label\", \"scale\": {\"scheme\": \"dark2\"}, \"type\": \"nominal\"}, \"size\": {\"field\": \"population\", \"type\": \"quantitative\"}, \"tooltip\": [{\"field\": \"country\", \"type\": \"nominal\"}, {\"field\": \"income\", \"type\": \"quantitative\"}, {\"field\": \"health\", \"type\": \"quantitative\"}, {\"field\": \"population\", \"type\": \"quantitative\"}, {\"field\": \"label\", \"type\": \"quantitative\"}], \"x\": {\"field\": \"income\", \"scale\": {\"type\": \"log\"}, \"type\": \"quantitative\"}, \"y\": {\"field\": \"health\", \"scale\": {\"zero\": false}, \"type\": \"quantitative\"}}, \"height\": 600, \"params\": [{\"name\": \"param_3\", \"select\": {\"type\": \"interval\", \"encodings\": [\"x\", \"y\"]}, \"bind\": \"scales\"}], \"width\": 800, \"$schema\": \"https://vega.github.io/schema/vega-lite/v5.14.1.json\", \"datasets\": {\"data-d9e6fabb9055911832784c2d26798428\": [{\"country\": \"Afghanistan\", \"income\": 1925, \"health\": 57.63, \"population\": 32526562, \"label\": 0}, {\"country\": \"Albania\", \"income\": 10620, \"health\": 76.0, \"population\": 2896679, \"label\": 0}, {\"country\": \"Algeria\", \"income\": 13434, \"health\": 76.5, \"population\": 39666519, \"label\": 2}, {\"country\": \"Andorra\", \"income\": 46577, \"health\": 84.1, \"population\": 70473, \"label\": 4}, {\"country\": \"Angola\", \"income\": 7615, \"health\": 61.0, \"population\": 25021974, \"label\": 0}, {\"country\": \"Antigua and Barbuda\", \"income\": 21049, \"health\": 75.2, \"population\": 91818, \"label\": 2}, {\"country\": \"Argentina\", \"income\": 17344, \"health\": 76.2, \"population\": 43416755, \"label\": 2}, {\"country\": \"Armenia\", \"income\": 7763, \"health\": 74.4, \"population\": 3017712, \"label\": 0}, {\"country\": \"Australia\", \"income\": 44056, \"health\": 81.8, \"population\": 23968973, \"label\": 4}, {\"country\": \"Austria\", \"income\": 44401, \"health\": 81.0, \"population\": 8544586, \"label\": 4}, {\"country\": \"Azerbaijan\", \"income\": 16986, \"health\": 72.9, \"population\": 9753968, \"label\": 2}, {\"country\": \"Bahamas\", \"income\": 22818, \"health\": 72.3, \"population\": 388019, \"label\": 2}, {\"country\": \"Bahrain\", \"income\": 44138, \"health\": 79.2, \"population\": 1377237, \"label\": 4}, {\"country\": \"Bangladesh\", \"income\": 3161, \"health\": 70.1, \"population\": 160995642, \"label\": 0}, {\"country\": \"Barbados\", \"income\": 12984, \"health\": 75.8, \"population\": 284215, \"label\": 0}, {\"country\": \"Belarus\", \"income\": 17415, \"health\": 70.4, \"population\": 9495826, \"label\": 2}, {\"country\": \"Belgium\", \"income\": 41240, \"health\": 80.4, \"population\": 11299192, \"label\": 4}, {\"country\": \"Belize\", \"income\": 8501, \"health\": 70.0, \"population\": 359287, \"label\": 0}, {\"country\": \"Benin\", \"income\": 1830, \"health\": 65.5, \"population\": 10879829, \"label\": 0}, {\"country\": \"Bhutan\", \"income\": 7983, \"health\": 70.2, \"population\": 774830, \"label\": 0}, {\"country\": \"Bolivia\", \"income\": 6295, \"health\": 72.3, \"population\": 10724705, \"label\": 0}, {\"country\": \"Bosnia and Herzegovina\", \"income\": 9833, \"health\": 77.9, \"population\": 3810416, \"label\": 0}, {\"country\": \"Botswana\", \"income\": 17196, \"health\": 66.4, \"population\": 2262485, \"label\": 2}, {\"country\": \"Brazil\", \"income\": 15441, \"health\": 75.6, \"population\": 207847528, \"label\": 2}, {\"country\": \"Brunei\", \"income\": 73003, \"health\": 78.7, \"population\": 423188, \"label\": 1}, {\"country\": \"Bulgaria\", \"income\": 16371, \"health\": 74.9, \"population\": 7149787, \"label\": 2}, {\"country\": \"Burkina Faso\", \"income\": 1654, \"health\": 62.8, \"population\": 18105570, \"label\": 0}, {\"country\": \"Burundi\", \"income\": 777, \"health\": 60.4, \"population\": 11178921, \"label\": 0}, {\"country\": \"Cambodia\", \"income\": 3267, \"health\": 68.4, \"population\": 15577899, \"label\": 0}, {\"country\": \"Cameroon\", \"income\": 2897, \"health\": 59.5, \"population\": 23344179, \"label\": 0}, {\"country\": \"Canada\", \"income\": 43294, \"health\": 81.7, \"population\": 35939927, \"label\": 4}, {\"country\": \"Cape Verde\", \"income\": 6514, \"health\": 74.6, \"population\": 520502, \"label\": 0}, {\"country\": \"Central African Republic\", \"income\": 599, \"health\": 53.8, \"population\": 4900274, \"label\": 0}, {\"country\": \"Chad\", \"income\": 2191, \"health\": 57.7, \"population\": 14037472, \"label\": 0}, {\"country\": \"Chile\", \"income\": 22465, \"health\": 79.3, \"population\": 17948141, \"label\": 2}, {\"country\": \"China\", \"income\": 13334, \"health\": 76.9, \"population\": 1376048943, \"label\": 2}, {\"country\": \"Colombia\", \"income\": 12761, \"health\": 75.8, \"population\": 48228704, \"label\": 0}, {\"country\": \"Comoros\", \"income\": 1472, \"health\": 64.1, \"population\": 788474, \"label\": 0}, {\"country\": \"Congo, Dem. Rep.\", \"income\": 809, \"health\": 58.3, \"population\": 77266814, \"label\": 0}, {\"country\": \"Congo, Rep.\", \"income\": 6220, \"health\": 61.9, \"population\": 4620330, \"label\": 0}, {\"country\": \"Costa Rica\", \"income\": 14132, \"health\": 80.0, \"population\": 4807850, \"label\": 2}, {\"country\": \"Cote d'Ivoire\", \"income\": 3491, \"health\": 60.33, \"population\": 22701556, \"label\": 0}, {\"country\": \"Croatia\", \"income\": 20260, \"health\": 78.0, \"population\": 4240317, \"label\": 2}, {\"country\": \"Cuba\", \"income\": 21291, \"health\": 78.5, \"population\": 11389562, \"label\": 2}, {\"country\": \"Cyprus\", \"income\": 29797, \"health\": 82.6, \"population\": 1165300, \"label\": 2}, {\"country\": \"Czech Republic\", \"income\": 29437, \"health\": 78.6, \"population\": 10543186, \"label\": 2}, {\"country\": \"Denmark\", \"income\": 43495, \"health\": 80.1, \"population\": 5669081, \"label\": 4}, {\"country\": \"Djibouti\", \"income\": 3139, \"health\": 64.63, \"population\": 887861, \"label\": 0}, {\"country\": \"Dominica\", \"income\": 10503, \"health\": 74.6, \"population\": 72680, \"label\": 0}, {\"country\": \"Dominican Republic\", \"income\": 12837, \"health\": 73.8, \"population\": 10528391, \"label\": 0}, {\"country\": \"Ecuador\", \"income\": 10996, \"health\": 75.2, \"population\": 16144363, \"label\": 0}, {\"country\": \"Egypt\", \"income\": 11031, \"health\": 71.3, \"population\": 91508084, \"label\": 0}, {\"country\": \"El Salvador\", \"income\": 7776, \"health\": 74.1, \"population\": 6126583, \"label\": 0}, {\"country\": \"Equatorial Guinea\", \"income\": 31087, \"health\": 60.63, \"population\": 845060, \"label\": 2}, {\"country\": \"Eritrea\", \"income\": 1129, \"health\": 62.9, \"population\": 5227791, \"label\": 0}, {\"country\": \"Estonia\", \"income\": 26812, \"health\": 76.8, \"population\": 1312558, \"label\": 2}, {\"country\": \"Ethiopia\", \"income\": 1520, \"health\": 63.6, \"population\": 99390750, \"label\": 0}, {\"country\": \"Fiji\", \"income\": 7925, \"health\": 66.3, \"population\": 892145, \"label\": 0}, {\"country\": \"Finland\", \"income\": 38923, \"health\": 80.8, \"population\": 5503457, \"label\": 4}, {\"country\": \"France\", \"income\": 37599, \"health\": 81.9, \"population\": 64395345, \"label\": 4}, {\"country\": \"Gabon\", \"income\": 18627, \"health\": 60.53, \"population\": 1725292, \"label\": 2}, {\"country\": \"Gambia\", \"income\": 1644, \"health\": 65.1, \"population\": 1990924, \"label\": 0}, {\"country\": \"Georgia\", \"income\": 7474, \"health\": 73.3, \"population\": 3999812, \"label\": 0}, {\"country\": \"Germany\", \"income\": 44053, \"health\": 81.1, \"population\": 80688545, \"label\": 4}, {\"country\": \"Ghana\", \"income\": 4099, \"health\": 65.5, \"population\": 27409893, \"label\": 0}, {\"country\": \"Greece\", \"income\": 25430, \"health\": 79.8, \"population\": 10954617, \"label\": 2}, {\"country\": \"Grenada\", \"income\": 11593, \"health\": 71.7, \"population\": 106825, \"label\": 0}, {\"country\": \"Guatemala\", \"income\": 7279, \"health\": 73.1, \"population\": 16342897, \"label\": 0}, {\"country\": \"Guinea\", \"income\": 1225, \"health\": 60.8, \"population\": 12608590, \"label\": 0}, {\"country\": \"Guinea-Bissau\", \"income\": 1386, \"health\": 53.4, \"population\": 1844325, \"label\": 0}, {\"country\": \"Guyana\", \"income\": 6816, \"health\": 64.4, \"population\": 767085, \"label\": 0}, {\"country\": \"Haiti\", \"income\": 1710, \"health\": 65.3, \"population\": 10711067, \"label\": 0}, {\"country\": \"Honduras\", \"income\": 4270, \"health\": 72.4, \"population\": 8075060, \"label\": 0}, {\"country\": \"Hungary\", \"income\": 24200, \"health\": 76.2, \"population\": 9855023, \"label\": 2}, {\"country\": \"Iceland\", \"income\": 42182, \"health\": 82.8, \"population\": 329425, \"label\": 4}, {\"country\": \"India\", \"income\": 5903, \"health\": 66.8, \"population\": 1311050527, \"label\": 0}, {\"country\": \"Indonesia\", \"income\": 10504, \"health\": 70.9, \"population\": 257563815, \"label\": 0}, {\"country\": \"Iran\", \"income\": 15573, \"health\": 78.5, \"population\": 79109272, \"label\": 2}, {\"country\": \"Iraq\", \"income\": 14646, \"health\": 72.1, \"population\": 36423395, \"label\": 2}, {\"country\": \"Ireland\", \"income\": 47758, \"health\": 80.4, \"population\": 4688465, \"label\": 4}, {\"country\": \"Israel\", \"income\": 31590, \"health\": 82.4, \"population\": 8064036, \"label\": 2}, {\"country\": \"Italy\", \"income\": 33297, \"health\": 82.1, \"population\": 59797685, \"label\": 4}, {\"country\": \"Jamaica\", \"income\": 8606, \"health\": 75.5, \"population\": 2793335, \"label\": 0}, {\"country\": \"Japan\", \"income\": 36162, \"health\": 83.5, \"population\": 126573481, \"label\": 4}, {\"country\": \"Jordan\", \"income\": 11752, \"health\": 78.3, \"population\": 7594547, \"label\": 0}, {\"country\": \"Kazakhstan\", \"income\": 23468, \"health\": 68.2, \"population\": 17625226, \"label\": 2}, {\"country\": \"Kenya\", \"income\": 2898, \"health\": 66.63, \"population\": 46050302, \"label\": 0}, {\"country\": \"Kiribati\", \"income\": 1824, \"health\": 62.4, \"population\": 112423, \"label\": 0}, {\"country\": \"Kuwait\", \"income\": 82633, \"health\": 80.7, \"population\": 3892115, \"label\": 1}, {\"country\": \"Kyrgyz Republic\", \"income\": 3245, \"health\": 69.0, \"population\": 5939962, \"label\": 0}, {\"country\": \"Lao\", \"income\": 5212, \"health\": 66.4, \"population\": 6802023, \"label\": 0}, {\"country\": \"Latvia\", \"income\": 23282, \"health\": 75.7, \"population\": 1970503, \"label\": 2}, {\"country\": \"Lebanon\", \"income\": 17050, \"health\": 78.5, \"population\": 5850743, \"label\": 2}, {\"country\": \"Lesotho\", \"income\": 2598, \"health\": 48.5, \"population\": 2135022, \"label\": 0}, {\"country\": \"Liberia\", \"income\": 958, \"health\": 63.9, \"population\": 4503438, \"label\": 0}, {\"country\": \"Libya\", \"income\": 17261, \"health\": 76.2, \"population\": 6278438, \"label\": 2}, {\"country\": \"Lithuania\", \"income\": 26665, \"health\": 75.4, \"population\": 2878405, \"label\": 2}, {\"country\": \"Luxembourg\", \"income\": 88314, \"health\": 81.1, \"population\": 567110, \"label\": 1}, {\"country\": \"Macedonia, FYR\", \"income\": 12547, \"health\": 77.0, \"population\": 2078453, \"label\": 0}, {\"country\": \"Madagascar\", \"income\": 1400, \"health\": 64.7, \"population\": 24235390, \"label\": 0}, {\"country\": \"Malawi\", \"income\": 799, \"health\": 60.22, \"population\": 17215232, \"label\": 0}, {\"country\": \"Malaysia\", \"income\": 24320, \"health\": 75.1, \"population\": 30331007, \"label\": 2}, {\"country\": \"Maldives\", \"income\": 14408, \"health\": 79.5, \"population\": 363657, \"label\": 2}, {\"country\": \"Mali\", \"income\": 1684, \"health\": 57.6, \"population\": 17599694, \"label\": 0}, {\"country\": \"Malta\", \"income\": 30265, \"health\": 82.1, \"population\": 418670, \"label\": 2}, {\"country\": \"Marshall Islands\", \"income\": 3661, \"health\": 65.1, \"population\": 52993, \"label\": 0}, {\"country\": \"Mauritania\", \"income\": 3877, \"health\": 65.7, \"population\": 4067564, \"label\": 0}, {\"country\": \"Mauritius\", \"income\": 18350, \"health\": 73.9, \"population\": 1273212, \"label\": 2}, {\"country\": \"Mexico\", \"income\": 16850, \"health\": 74.5, \"population\": 127017224, \"label\": 2}, {\"country\": \"Micronesia, Fed. Sts.\", \"income\": 3510, \"health\": 67.0, \"population\": 104460, \"label\": 0}, {\"country\": \"Moldova\", \"income\": 4896, \"health\": 72.7, \"population\": 4068897, \"label\": 0}, {\"country\": \"Mongolia\", \"income\": 11819, \"health\": 65.3, \"population\": 2959134, \"label\": 0}, {\"country\": \"Montenegro\", \"income\": 14833, \"health\": 75.8, \"population\": 625781, \"label\": 2}, {\"country\": \"Morocco\", \"income\": 7319, \"health\": 74.7, \"population\": 34377511, \"label\": 0}, {\"country\": \"Mozambique\", \"income\": 1176, \"health\": 56.4, \"population\": 27977863, \"label\": 0}, {\"country\": \"Myanmar\", \"income\": 4012, \"health\": 67.9, \"population\": 53897154, \"label\": 0}, {\"country\": \"Namibia\", \"income\": 10040, \"health\": 61.0, \"population\": 2458830, \"label\": 0}, {\"country\": \"Nepal\", \"income\": 2352, \"health\": 71.2, \"population\": 28513700, \"label\": 0}, {\"country\": \"Netherlands\", \"income\": 45784, \"health\": 80.6, \"population\": 16924929, \"label\": 4}, {\"country\": \"New Zealand\", \"income\": 34186, \"health\": 80.6, \"population\": 4528526, \"label\": 4}, {\"country\": \"Nicaragua\", \"income\": 4712, \"health\": 76.8, \"population\": 6082032, \"label\": 0}, {\"country\": \"Niger\", \"income\": 943, \"health\": 62.2, \"population\": 19899120, \"label\": 0}, {\"country\": \"Nigeria\", \"income\": 5727, \"health\": 61.33, \"population\": 182201962, \"label\": 0}, {\"country\": \"North Korea\", \"income\": 1390, \"health\": 71.4, \"population\": 25155317, \"label\": 0}, {\"country\": \"Norway\", \"income\": 64304, \"health\": 81.6, \"population\": 5210967, \"label\": 1}, {\"country\": \"Oman\", \"income\": 48226, \"health\": 75.7, \"population\": 4490541, \"label\": 4}, {\"country\": \"Pakistan\", \"income\": 4743, \"health\": 66.5, \"population\": 188924874, \"label\": 0}, {\"country\": \"Panama\", \"income\": 20485, \"health\": 78.2, \"population\": 3929141, \"label\": 2}, {\"country\": \"Papua New Guinea\", \"income\": 2529, \"health\": 60.6, \"population\": 7619321, \"label\": 0}, {\"country\": \"Paraguay\", \"income\": 8219, \"health\": 73.9, \"population\": 6639123, \"label\": 0}, {\"country\": \"Peru\", \"income\": 11903, \"health\": 77.5, \"population\": 31376670, \"label\": 0}, {\"country\": \"Philippines\", \"income\": 6876, \"health\": 70.2, \"population\": 100699395, \"label\": 0}, {\"country\": \"Poland\", \"income\": 24787, \"health\": 77.3, \"population\": 38611794, \"label\": 2}, {\"country\": \"Portugal\", \"income\": 26437, \"health\": 79.8, \"population\": 10349803, \"label\": 2}, {\"country\": \"Qatar\", \"income\": 132877, \"health\": 82.0, \"population\": 2235355, \"label\": 3}, {\"country\": \"Romania\", \"income\": 19203, \"health\": 76.8, \"population\": 19511324, \"label\": 2}, {\"country\": \"Russia\", \"income\": 23038, \"health\": 73.13, \"population\": 143456918, \"label\": 2}, {\"country\": \"Rwanda\", \"income\": 1549, \"health\": 66.53, \"population\": 11609666, \"label\": 0}, {\"country\": \"Samoa\", \"income\": 5558, \"health\": 72.2, \"population\": 193228, \"label\": 0}, {\"country\": \"Sao Tome and Principe\", \"income\": 3003, \"health\": 68.8, \"population\": 190344, \"label\": 0}, {\"country\": \"Saudi Arabia\", \"income\": 52469, \"health\": 78.1, \"population\": 31540372, \"label\": 4}, {\"country\": \"Senegal\", \"income\": 2251, \"health\": 66.1, \"population\": 15129273, \"label\": 0}, {\"country\": \"Serbia\", \"income\": 12908, \"health\": 78.1, \"population\": 8850975, \"label\": 0}, {\"country\": \"Seychelles\", \"income\": 25684, \"health\": 73.7, \"population\": 96471, \"label\": 2}, {\"country\": \"Sierra Leone\", \"income\": 2085, \"health\": 58.5, \"population\": 6453184, \"label\": 0}, {\"country\": \"Singapore\", \"income\": 80794, \"health\": 82.1, \"population\": 5603740, \"label\": 1}, {\"country\": \"Slovak Republic\", \"income\": 27204, \"health\": 76.4, \"population\": 5426258, \"label\": 2}, {\"country\": \"Slovenia\", \"income\": 28550, \"health\": 80.2, \"population\": 2067526, \"label\": 2}, {\"country\": \"Solomon Islands\", \"income\": 2047, \"health\": 64.1, \"population\": 583591, \"label\": 0}, {\"country\": \"Somalia\", \"income\": 624, \"health\": 58.7, \"population\": 10787104, \"label\": 0}, {\"country\": \"South Africa\", \"income\": 12509, \"health\": 63.72, \"population\": 54490406, \"label\": 0}, {\"country\": \"South Korea\", \"income\": 34644, \"health\": 80.7, \"population\": 50293439, \"label\": 4}, {\"country\": \"South Sudan\", \"income\": 3047, \"health\": 58.0, \"population\": 12339812, \"label\": 0}, {\"country\": \"Spain\", \"income\": 32979, \"health\": 81.7, \"population\": 46121699, \"label\": 4}, {\"country\": \"Sri Lanka\", \"income\": 10624, \"health\": 76.5, \"population\": 20715010, \"label\": 0}, {\"country\": \"St. Lucia\", \"income\": 9997, \"health\": 74.5, \"population\": 184999, \"label\": 0}, {\"country\": \"St. Vincent and the Grenadines\", \"income\": 10435, \"health\": 72.9, \"population\": 109462, \"label\": 0}, {\"country\": \"Sudan\", \"income\": 3975, \"health\": 69.5, \"population\": 40234882, \"label\": 0}, {\"country\": \"Suriname\", \"income\": 17125, \"health\": 70.5, \"population\": 542975, \"label\": 2}, {\"country\": \"Swaziland\", \"income\": 6095, \"health\": 51.5, \"population\": 1286970, \"label\": 0}, {\"country\": \"Sweden\", \"income\": 44892, \"health\": 82.0, \"population\": 9779426, \"label\": 4}, {\"country\": \"Switzerland\", \"income\": 56118, \"health\": 82.9, \"population\": 8298663, \"label\": 4}, {\"country\": \"Syria\", \"income\": 4637, \"health\": 70.26, \"population\": 18502413, \"label\": 0}, {\"country\": \"Tajikistan\", \"income\": 2582, \"health\": 71.0, \"population\": 8481855, \"label\": 0}, {\"country\": \"Tanzania\", \"income\": 2571, \"health\": 63.43, \"population\": 53470420, \"label\": 0}, {\"country\": \"Thailand\", \"income\": 14512, \"health\": 75.1, \"population\": 67959359, \"label\": 2}, {\"country\": \"Timor-Leste\", \"income\": 2086, \"health\": 72.4, \"population\": 1184765, \"label\": 0}, {\"country\": \"Togo\", \"income\": 1433, \"health\": 64.23, \"population\": 7304578, \"label\": 0}, {\"country\": \"Tonga\", \"income\": 5069, \"health\": 70.5, \"population\": 106170, \"label\": 0}, {\"country\": \"Trinidad and Tobago\", \"income\": 30113, \"health\": 71.4, \"population\": 1360088, \"label\": 2}, {\"country\": \"Tunisia\", \"income\": 11126, \"health\": 77.3, \"population\": 11253554, \"label\": 0}, {\"country\": \"Turkey\", \"income\": 19360, \"health\": 76.5, \"population\": 78665830, \"label\": 2}, {\"country\": \"Turkmenistan\", \"income\": 15865, \"health\": 67.9, \"population\": 5373502, \"label\": 2}, {\"country\": \"Uganda\", \"income\": 1680, \"health\": 60.8, \"population\": 39032383, \"label\": 0}, {\"country\": \"Ukraine\", \"income\": 8449, \"health\": 72.1, \"population\": 44823765, \"label\": 0}, {\"country\": \"United Arab Emirates\", \"income\": 60749, \"health\": 76.6, \"population\": 9156963, \"label\": 1}, {\"country\": \"United Kingdom\", \"income\": 38225, \"health\": 81.4, \"population\": 64715810, \"label\": 4}, {\"country\": \"United States\", \"income\": 53354, \"health\": 79.1, \"population\": 321773631, \"label\": 4}, {\"country\": \"Uruguay\", \"income\": 20438, \"health\": 77.3, \"population\": 3431555, \"label\": 2}, {\"country\": \"Uzbekistan\", \"income\": 5598, \"health\": 70.1, \"population\": 29893488, \"label\": 0}, {\"country\": \"Vanuatu\", \"income\": 2912, \"health\": 65.0, \"population\": 264652, \"label\": 0}, {\"country\": \"Venezuela\", \"income\": 15753, \"health\": 75.8, \"population\": 31108083, \"label\": 2}, {\"country\": \"Vietnam\", \"income\": 5623, \"health\": 76.5, \"population\": 93447601, \"label\": 0}, {\"country\": \"West Bank and Gaza\", \"income\": 4319, \"health\": 75.2, \"population\": 4668466, \"label\": 0}, {\"country\": \"Yemen\", \"income\": 3887, \"health\": 67.6, \"population\": 26832215, \"label\": 0}, {\"country\": \"Zambia\", \"income\": 4034, \"health\": 58.96, \"population\": 16211767, \"label\": 0}, {\"country\": \"Zimbabwe\", \"income\": 1801, \"health\": 60.01, \"population\": 15602751, \"label\": 0}]}}, {\"mode\": \"vega-lite\"});\n",
       "</script>"
      ],
      "text/plain": [
       "alt.Chart(...)"
      ]
     },
     "execution_count": 17,
     "metadata": {},
     "output_type": "execute_result"
    }
   ],
   "source": [
    "(\n",
    "    alt.Chart(gapminder)\n",
    "    .mark_circle()\n",
    "    .encode(\n",
    "        alt.X(\"income:Q\", scale=alt.Scale(type=\"log\")),\n",
    "        alt.Y(\"health:Q\", scale=alt.Scale(zero=False)),\n",
    "        size=\"population:Q\",\n",
    "        color=alt.Color(\"label:N\", scale=alt.Scale(scheme=\"dark2\")),\n",
    "        tooltip=list(gapminder.columns),\n",
    "    )\n",
    "    .properties(width=800, height=600)\n",
    "    .interactive()\n",
    ")"
   ]
  },
  {
   "cell_type": "markdown",
   "metadata": {
    "slideshow": {
     "slide_type": "slide"
    }
   },
   "source": [
    "#### Calculate average income by group"
   ]
  },
  {
   "cell_type": "code",
   "execution_count": 12,
   "metadata": {
    "slideshow": {
     "slide_type": "subslide"
    }
   },
   "outputs": [
    {
     "data": {
      "text/plain": [
       "label\n",
       "0      5279.830189\n",
       "2     21040.820000\n",
       "4     42835.500000\n",
       "1     74966.166667\n",
       "3    132877.000000\n",
       "Name: income, dtype: float64"
      ]
     },
     "execution_count": 12,
     "metadata": {},
     "output_type": "execute_result"
    }
   ],
   "source": [
    "gapminder.groupby(\"label\")['income'].mean().sort_values()"
   ]
  },
  {
   "cell_type": "markdown",
   "metadata": {
    "slideshow": {
     "slide_type": "subslide"
    }
   },
   "source": [
    "Data is nicely partitioned into income levels"
   ]
  },
  {
   "cell_type": "markdown",
   "metadata": {
    "slideshow": {
     "slide_type": "slide"
    }
   },
   "source": [
    "#### How about health, income, and population?"
   ]
  },
  {
   "cell_type": "code",
   "execution_count": 18,
   "metadata": {
    "slideshow": {
     "slide_type": "fragment"
    },
    "tags": []
   },
   "outputs": [
    {
     "name": "stderr",
     "output_type": "stream",
     "text": [
      "C:\\ProgramData\\mambaforge\\envs\\musa-550-fall-2023\\lib\\site-packages\\sklearn\\cluster\\_kmeans.py:1436: UserWarning: KMeans is known to have a memory leak on Windows with MKL, when there are less chunks than available threads. You can avoid it by setting the environment variable OMP_NUM_THREADS=1.\n",
      "  warnings.warn(\n"
     ]
    }
   ],
   "source": [
    "# Fit all three columns\n",
    "kmeans.fit(gapminder[['income', 'health', 'population']])\n",
    "\n",
    "# Extract the labels\n",
    "gapminder['label'] = kmeans.labels_"
   ]
  },
  {
   "cell_type": "code",
   "execution_count": 19,
   "metadata": {
    "tags": []
   },
   "outputs": [
    {
     "data": {
      "text/html": [
       "<div>\n",
       "<style scoped>\n",
       "    .dataframe tbody tr th:only-of-type {\n",
       "        vertical-align: middle;\n",
       "    }\n",
       "\n",
       "    .dataframe tbody tr th {\n",
       "        vertical-align: top;\n",
       "    }\n",
       "\n",
       "    .dataframe thead th {\n",
       "        text-align: right;\n",
       "    }\n",
       "</style>\n",
       "<table border=\"1\" class=\"dataframe\">\n",
       "  <thead>\n",
       "    <tr style=\"text-align: right;\">\n",
       "      <th></th>\n",
       "      <th>country</th>\n",
       "      <th>income</th>\n",
       "      <th>health</th>\n",
       "      <th>population</th>\n",
       "      <th>label</th>\n",
       "    </tr>\n",
       "  </thead>\n",
       "  <tbody>\n",
       "    <tr>\n",
       "      <th>0</th>\n",
       "      <td>Afghanistan</td>\n",
       "      <td>1925</td>\n",
       "      <td>57.63</td>\n",
       "      <td>32526562</td>\n",
       "      <td>0</td>\n",
       "    </tr>\n",
       "    <tr>\n",
       "      <th>1</th>\n",
       "      <td>Albania</td>\n",
       "      <td>10620</td>\n",
       "      <td>76.00</td>\n",
       "      <td>2896679</td>\n",
       "      <td>0</td>\n",
       "    </tr>\n",
       "    <tr>\n",
       "      <th>2</th>\n",
       "      <td>Algeria</td>\n",
       "      <td>13434</td>\n",
       "      <td>76.50</td>\n",
       "      <td>39666519</td>\n",
       "      <td>3</td>\n",
       "    </tr>\n",
       "    <tr>\n",
       "      <th>3</th>\n",
       "      <td>Andorra</td>\n",
       "      <td>46577</td>\n",
       "      <td>84.10</td>\n",
       "      <td>70473</td>\n",
       "      <td>0</td>\n",
       "    </tr>\n",
       "    <tr>\n",
       "      <th>4</th>\n",
       "      <td>Angola</td>\n",
       "      <td>7615</td>\n",
       "      <td>61.00</td>\n",
       "      <td>25021974</td>\n",
       "      <td>0</td>\n",
       "    </tr>\n",
       "    <tr>\n",
       "      <th>...</th>\n",
       "      <td>...</td>\n",
       "      <td>...</td>\n",
       "      <td>...</td>\n",
       "      <td>...</td>\n",
       "      <td>...</td>\n",
       "    </tr>\n",
       "    <tr>\n",
       "      <th>182</th>\n",
       "      <td>Vietnam</td>\n",
       "      <td>5623</td>\n",
       "      <td>76.50</td>\n",
       "      <td>93447601</td>\n",
       "      <td>3</td>\n",
       "    </tr>\n",
       "    <tr>\n",
       "      <th>183</th>\n",
       "      <td>West Bank and Gaza</td>\n",
       "      <td>4319</td>\n",
       "      <td>75.20</td>\n",
       "      <td>4668466</td>\n",
       "      <td>0</td>\n",
       "    </tr>\n",
       "    <tr>\n",
       "      <th>184</th>\n",
       "      <td>Yemen</td>\n",
       "      <td>3887</td>\n",
       "      <td>67.60</td>\n",
       "      <td>26832215</td>\n",
       "      <td>0</td>\n",
       "    </tr>\n",
       "    <tr>\n",
       "      <th>185</th>\n",
       "      <td>Zambia</td>\n",
       "      <td>4034</td>\n",
       "      <td>58.96</td>\n",
       "      <td>16211767</td>\n",
       "      <td>0</td>\n",
       "    </tr>\n",
       "    <tr>\n",
       "      <th>186</th>\n",
       "      <td>Zimbabwe</td>\n",
       "      <td>1801</td>\n",
       "      <td>60.01</td>\n",
       "      <td>15602751</td>\n",
       "      <td>0</td>\n",
       "    </tr>\n",
       "  </tbody>\n",
       "</table>\n",
       "<p>187 rows × 5 columns</p>\n",
       "</div>"
      ],
      "text/plain": [
       "                country  income  health  population  label\n",
       "0           Afghanistan    1925   57.63    32526562      0\n",
       "1               Albania   10620   76.00     2896679      0\n",
       "2               Algeria   13434   76.50    39666519      3\n",
       "3               Andorra   46577   84.10       70473      0\n",
       "4                Angola    7615   61.00    25021974      0\n",
       "..                  ...     ...     ...         ...    ...\n",
       "182             Vietnam    5623   76.50    93447601      3\n",
       "183  West Bank and Gaza    4319   75.20     4668466      0\n",
       "184               Yemen    3887   67.60    26832215      0\n",
       "185              Zambia    4034   58.96    16211767      0\n",
       "186            Zimbabwe    1801   60.01    15602751      0\n",
       "\n",
       "[187 rows x 5 columns]"
      ]
     },
     "execution_count": 19,
     "metadata": {},
     "output_type": "execute_result"
    }
   ],
   "source": [
    "gapminder"
   ]
  },
  {
   "cell_type": "code",
   "execution_count": 20,
   "metadata": {
    "slideshow": {
     "slide_type": "subslide"
    },
    "tags": []
   },
   "outputs": [
    {
     "data": {
      "text/html": [
       "\n",
       "<style>\n",
       "  #altair-viz-c327b866dfb446b7a9c9cd963e142db4.vega-embed {\n",
       "    width: 100%;\n",
       "    display: flex;\n",
       "  }\n",
       "\n",
       "  #altair-viz-c327b866dfb446b7a9c9cd963e142db4.vega-embed details,\n",
       "  #altair-viz-c327b866dfb446b7a9c9cd963e142db4.vega-embed details summary {\n",
       "    position: relative;\n",
       "  }\n",
       "</style>\n",
       "<div id=\"altair-viz-c327b866dfb446b7a9c9cd963e142db4\"></div>\n",
       "<script type=\"text/javascript\">\n",
       "  var VEGA_DEBUG = (typeof VEGA_DEBUG == \"undefined\") ? {} : VEGA_DEBUG;\n",
       "  (function(spec, embedOpt){\n",
       "    let outputDiv = document.currentScript.previousElementSibling;\n",
       "    if (outputDiv.id !== \"altair-viz-c327b866dfb446b7a9c9cd963e142db4\") {\n",
       "      outputDiv = document.getElementById(\"altair-viz-c327b866dfb446b7a9c9cd963e142db4\");\n",
       "    }\n",
       "    const paths = {\n",
       "      \"vega\": \"https://cdn.jsdelivr.net/npm/vega@5?noext\",\n",
       "      \"vega-lib\": \"https://cdn.jsdelivr.net/npm/vega-lib?noext\",\n",
       "      \"vega-lite\": \"https://cdn.jsdelivr.net/npm/vega-lite@5.14.1?noext\",\n",
       "      \"vega-embed\": \"https://cdn.jsdelivr.net/npm/vega-embed@6?noext\",\n",
       "    };\n",
       "\n",
       "    function maybeLoadScript(lib, version) {\n",
       "      var key = `${lib.replace(\"-\", \"\")}_version`;\n",
       "      return (VEGA_DEBUG[key] == version) ?\n",
       "        Promise.resolve(paths[lib]) :\n",
       "        new Promise(function(resolve, reject) {\n",
       "          var s = document.createElement('script');\n",
       "          document.getElementsByTagName(\"head\")[0].appendChild(s);\n",
       "          s.async = true;\n",
       "          s.onload = () => {\n",
       "            VEGA_DEBUG[key] = version;\n",
       "            return resolve(paths[lib]);\n",
       "          };\n",
       "          s.onerror = () => reject(`Error loading script: ${paths[lib]}`);\n",
       "          s.src = paths[lib];\n",
       "        });\n",
       "    }\n",
       "\n",
       "    function showError(err) {\n",
       "      outputDiv.innerHTML = `<div class=\"error\" style=\"color:red;\">${err}</div>`;\n",
       "      throw err;\n",
       "    }\n",
       "\n",
       "    function displayChart(vegaEmbed) {\n",
       "      vegaEmbed(outputDiv, spec, embedOpt)\n",
       "        .catch(err => showError(`Javascript Error: ${err.message}<br>This usually means there's a typo in your chart specification. See the javascript console for the full traceback.`));\n",
       "    }\n",
       "\n",
       "    if(typeof define === \"function\" && define.amd) {\n",
       "      requirejs.config({paths});\n",
       "      require([\"vega-embed\"], displayChart, err => showError(`Error loading script: ${err.message}`));\n",
       "    } else {\n",
       "      maybeLoadScript(\"vega\", \"5\")\n",
       "        .then(() => maybeLoadScript(\"vega-lite\", \"5.14.1\"))\n",
       "        .then(() => maybeLoadScript(\"vega-embed\", \"6\"))\n",
       "        .catch(showError)\n",
       "        .then(() => displayChart(vegaEmbed));\n",
       "    }\n",
       "  })({\"config\": {\"view\": {\"continuousWidth\": 300, \"continuousHeight\": 300}}, \"data\": {\"name\": \"data-429590b2f965c8ec665b150b9c3b4793\"}, \"mark\": {\"type\": \"circle\"}, \"encoding\": {\"color\": {\"field\": \"label\", \"scale\": {\"scheme\": \"dark2\"}, \"type\": \"nominal\"}, \"size\": {\"field\": \"population\", \"type\": \"quantitative\"}, \"tooltip\": [{\"field\": \"country\", \"type\": \"nominal\"}, {\"field\": \"income\", \"type\": \"quantitative\"}, {\"field\": \"health\", \"type\": \"quantitative\"}, {\"field\": \"population\", \"type\": \"quantitative\"}, {\"field\": \"label\", \"type\": \"quantitative\"}], \"x\": {\"field\": \"income\", \"scale\": {\"type\": \"log\"}, \"type\": \"quantitative\"}, \"y\": {\"field\": \"health\", \"scale\": {\"zero\": false}, \"type\": \"quantitative\"}}, \"height\": 600, \"params\": [{\"name\": \"param_4\", \"select\": {\"type\": \"interval\", \"encodings\": [\"x\", \"y\"]}, \"bind\": \"scales\"}], \"width\": 800, \"$schema\": \"https://vega.github.io/schema/vega-lite/v5.14.1.json\", \"datasets\": {\"data-429590b2f965c8ec665b150b9c3b4793\": [{\"country\": \"Afghanistan\", \"income\": 1925, \"health\": 57.63, \"population\": 32526562, \"label\": 0}, {\"country\": \"Albania\", \"income\": 10620, \"health\": 76.0, \"population\": 2896679, \"label\": 0}, {\"country\": \"Algeria\", \"income\": 13434, \"health\": 76.5, \"population\": 39666519, \"label\": 3}, {\"country\": \"Andorra\", \"income\": 46577, \"health\": 84.1, \"population\": 70473, \"label\": 0}, {\"country\": \"Angola\", \"income\": 7615, \"health\": 61.0, \"population\": 25021974, \"label\": 0}, {\"country\": \"Antigua and Barbuda\", \"income\": 21049, \"health\": 75.2, \"population\": 91818, \"label\": 0}, {\"country\": \"Argentina\", \"income\": 17344, \"health\": 76.2, \"population\": 43416755, \"label\": 3}, {\"country\": \"Armenia\", \"income\": 7763, \"health\": 74.4, \"population\": 3017712, \"label\": 0}, {\"country\": \"Australia\", \"income\": 44056, \"health\": 81.8, \"population\": 23968973, \"label\": 0}, {\"country\": \"Austria\", \"income\": 44401, \"health\": 81.0, \"population\": 8544586, \"label\": 0}, {\"country\": \"Azerbaijan\", \"income\": 16986, \"health\": 72.9, \"population\": 9753968, \"label\": 0}, {\"country\": \"Bahamas\", \"income\": 22818, \"health\": 72.3, \"population\": 388019, \"label\": 0}, {\"country\": \"Bahrain\", \"income\": 44138, \"health\": 79.2, \"population\": 1377237, \"label\": 0}, {\"country\": \"Bangladesh\", \"income\": 3161, \"health\": 70.1, \"population\": 160995642, \"label\": 2}, {\"country\": \"Barbados\", \"income\": 12984, \"health\": 75.8, \"population\": 284215, \"label\": 0}, {\"country\": \"Belarus\", \"income\": 17415, \"health\": 70.4, \"population\": 9495826, \"label\": 0}, {\"country\": \"Belgium\", \"income\": 41240, \"health\": 80.4, \"population\": 11299192, \"label\": 0}, {\"country\": \"Belize\", \"income\": 8501, \"health\": 70.0, \"population\": 359287, \"label\": 0}, {\"country\": \"Benin\", \"income\": 1830, \"health\": 65.5, \"population\": 10879829, \"label\": 0}, {\"country\": \"Bhutan\", \"income\": 7983, \"health\": 70.2, \"population\": 774830, \"label\": 0}, {\"country\": \"Bolivia\", \"income\": 6295, \"health\": 72.3, \"population\": 10724705, \"label\": 0}, {\"country\": \"Bosnia and Herzegovina\", \"income\": 9833, \"health\": 77.9, \"population\": 3810416, \"label\": 0}, {\"country\": \"Botswana\", \"income\": 17196, \"health\": 66.4, \"population\": 2262485, \"label\": 0}, {\"country\": \"Brazil\", \"income\": 15441, \"health\": 75.6, \"population\": 207847528, \"label\": 2}, {\"country\": \"Brunei\", \"income\": 73003, \"health\": 78.7, \"population\": 423188, \"label\": 0}, {\"country\": \"Bulgaria\", \"income\": 16371, \"health\": 74.9, \"population\": 7149787, \"label\": 0}, {\"country\": \"Burkina Faso\", \"income\": 1654, \"health\": 62.8, \"population\": 18105570, \"label\": 0}, {\"country\": \"Burundi\", \"income\": 777, \"health\": 60.4, \"population\": 11178921, \"label\": 0}, {\"country\": \"Cambodia\", \"income\": 3267, \"health\": 68.4, \"population\": 15577899, \"label\": 0}, {\"country\": \"Cameroon\", \"income\": 2897, \"health\": 59.5, \"population\": 23344179, \"label\": 0}, {\"country\": \"Canada\", \"income\": 43294, \"health\": 81.7, \"population\": 35939927, \"label\": 3}, {\"country\": \"Cape Verde\", \"income\": 6514, \"health\": 74.6, \"population\": 520502, \"label\": 0}, {\"country\": \"Central African Republic\", \"income\": 599, \"health\": 53.8, \"population\": 4900274, \"label\": 0}, {\"country\": \"Chad\", \"income\": 2191, \"health\": 57.7, \"population\": 14037472, \"label\": 0}, {\"country\": \"Chile\", \"income\": 22465, \"health\": 79.3, \"population\": 17948141, \"label\": 0}, {\"country\": \"China\", \"income\": 13334, \"health\": 76.9, \"population\": 1376048943, \"label\": 1}, {\"country\": \"Colombia\", \"income\": 12761, \"health\": 75.8, \"population\": 48228704, \"label\": 3}, {\"country\": \"Comoros\", \"income\": 1472, \"health\": 64.1, \"population\": 788474, \"label\": 0}, {\"country\": \"Congo, Dem. Rep.\", \"income\": 809, \"health\": 58.3, \"population\": 77266814, \"label\": 3}, {\"country\": \"Congo, Rep.\", \"income\": 6220, \"health\": 61.9, \"population\": 4620330, \"label\": 0}, {\"country\": \"Costa Rica\", \"income\": 14132, \"health\": 80.0, \"population\": 4807850, \"label\": 0}, {\"country\": \"Cote d'Ivoire\", \"income\": 3491, \"health\": 60.33, \"population\": 22701556, \"label\": 0}, {\"country\": \"Croatia\", \"income\": 20260, \"health\": 78.0, \"population\": 4240317, \"label\": 0}, {\"country\": \"Cuba\", \"income\": 21291, \"health\": 78.5, \"population\": 11389562, \"label\": 0}, {\"country\": \"Cyprus\", \"income\": 29797, \"health\": 82.6, \"population\": 1165300, \"label\": 0}, {\"country\": \"Czech Republic\", \"income\": 29437, \"health\": 78.6, \"population\": 10543186, \"label\": 0}, {\"country\": \"Denmark\", \"income\": 43495, \"health\": 80.1, \"population\": 5669081, \"label\": 0}, {\"country\": \"Djibouti\", \"income\": 3139, \"health\": 64.63, \"population\": 887861, \"label\": 0}, {\"country\": \"Dominica\", \"income\": 10503, \"health\": 74.6, \"population\": 72680, \"label\": 0}, {\"country\": \"Dominican Republic\", \"income\": 12837, \"health\": 73.8, \"population\": 10528391, \"label\": 0}, {\"country\": \"Ecuador\", \"income\": 10996, \"health\": 75.2, \"population\": 16144363, \"label\": 0}, {\"country\": \"Egypt\", \"income\": 11031, \"health\": 71.3, \"population\": 91508084, \"label\": 3}, {\"country\": \"El Salvador\", \"income\": 7776, \"health\": 74.1, \"population\": 6126583, \"label\": 0}, {\"country\": \"Equatorial Guinea\", \"income\": 31087, \"health\": 60.63, \"population\": 845060, \"label\": 0}, {\"country\": \"Eritrea\", \"income\": 1129, \"health\": 62.9, \"population\": 5227791, \"label\": 0}, {\"country\": \"Estonia\", \"income\": 26812, \"health\": 76.8, \"population\": 1312558, \"label\": 0}, {\"country\": \"Ethiopia\", \"income\": 1520, \"health\": 63.6, \"population\": 99390750, \"label\": 3}, {\"country\": \"Fiji\", \"income\": 7925, \"health\": 66.3, \"population\": 892145, \"label\": 0}, {\"country\": \"Finland\", \"income\": 38923, \"health\": 80.8, \"population\": 5503457, \"label\": 0}, {\"country\": \"France\", \"income\": 37599, \"health\": 81.9, \"population\": 64395345, \"label\": 3}, {\"country\": \"Gabon\", \"income\": 18627, \"health\": 60.53, \"population\": 1725292, \"label\": 0}, {\"country\": \"Gambia\", \"income\": 1644, \"health\": 65.1, \"population\": 1990924, \"label\": 0}, {\"country\": \"Georgia\", \"income\": 7474, \"health\": 73.3, \"population\": 3999812, \"label\": 0}, {\"country\": \"Germany\", \"income\": 44053, \"health\": 81.1, \"population\": 80688545, \"label\": 3}, {\"country\": \"Ghana\", \"income\": 4099, \"health\": 65.5, \"population\": 27409893, \"label\": 0}, {\"country\": \"Greece\", \"income\": 25430, \"health\": 79.8, \"population\": 10954617, \"label\": 0}, {\"country\": \"Grenada\", \"income\": 11593, \"health\": 71.7, \"population\": 106825, \"label\": 0}, {\"country\": \"Guatemala\", \"income\": 7279, \"health\": 73.1, \"population\": 16342897, \"label\": 0}, {\"country\": \"Guinea\", \"income\": 1225, \"health\": 60.8, \"population\": 12608590, \"label\": 0}, {\"country\": \"Guinea-Bissau\", \"income\": 1386, \"health\": 53.4, \"population\": 1844325, \"label\": 0}, {\"country\": \"Guyana\", \"income\": 6816, \"health\": 64.4, \"population\": 767085, \"label\": 0}, {\"country\": \"Haiti\", \"income\": 1710, \"health\": 65.3, \"population\": 10711067, \"label\": 0}, {\"country\": \"Honduras\", \"income\": 4270, \"health\": 72.4, \"population\": 8075060, \"label\": 0}, {\"country\": \"Hungary\", \"income\": 24200, \"health\": 76.2, \"population\": 9855023, \"label\": 0}, {\"country\": \"Iceland\", \"income\": 42182, \"health\": 82.8, \"population\": 329425, \"label\": 0}, {\"country\": \"India\", \"income\": 5903, \"health\": 66.8, \"population\": 1311050527, \"label\": 1}, {\"country\": \"Indonesia\", \"income\": 10504, \"health\": 70.9, \"population\": 257563815, \"label\": 4}, {\"country\": \"Iran\", \"income\": 15573, \"health\": 78.5, \"population\": 79109272, \"label\": 3}, {\"country\": \"Iraq\", \"income\": 14646, \"health\": 72.1, \"population\": 36423395, \"label\": 3}, {\"country\": \"Ireland\", \"income\": 47758, \"health\": 80.4, \"population\": 4688465, \"label\": 0}, {\"country\": \"Israel\", \"income\": 31590, \"health\": 82.4, \"population\": 8064036, \"label\": 0}, {\"country\": \"Italy\", \"income\": 33297, \"health\": 82.1, \"population\": 59797685, \"label\": 3}, {\"country\": \"Jamaica\", \"income\": 8606, \"health\": 75.5, \"population\": 2793335, \"label\": 0}, {\"country\": \"Japan\", \"income\": 36162, \"health\": 83.5, \"population\": 126573481, \"label\": 2}, {\"country\": \"Jordan\", \"income\": 11752, \"health\": 78.3, \"population\": 7594547, \"label\": 0}, {\"country\": \"Kazakhstan\", \"income\": 23468, \"health\": 68.2, \"population\": 17625226, \"label\": 0}, {\"country\": \"Kenya\", \"income\": 2898, \"health\": 66.63, \"population\": 46050302, \"label\": 3}, {\"country\": \"Kiribati\", \"income\": 1824, \"health\": 62.4, \"population\": 112423, \"label\": 0}, {\"country\": \"Kuwait\", \"income\": 82633, \"health\": 80.7, \"population\": 3892115, \"label\": 0}, {\"country\": \"Kyrgyz Republic\", \"income\": 3245, \"health\": 69.0, \"population\": 5939962, \"label\": 0}, {\"country\": \"Lao\", \"income\": 5212, \"health\": 66.4, \"population\": 6802023, \"label\": 0}, {\"country\": \"Latvia\", \"income\": 23282, \"health\": 75.7, \"population\": 1970503, \"label\": 0}, {\"country\": \"Lebanon\", \"income\": 17050, \"health\": 78.5, \"population\": 5850743, \"label\": 0}, {\"country\": \"Lesotho\", \"income\": 2598, \"health\": 48.5, \"population\": 2135022, \"label\": 0}, {\"country\": \"Liberia\", \"income\": 958, \"health\": 63.9, \"population\": 4503438, \"label\": 0}, {\"country\": \"Libya\", \"income\": 17261, \"health\": 76.2, \"population\": 6278438, \"label\": 0}, {\"country\": \"Lithuania\", \"income\": 26665, \"health\": 75.4, \"population\": 2878405, \"label\": 0}, {\"country\": \"Luxembourg\", \"income\": 88314, \"health\": 81.1, \"population\": 567110, \"label\": 0}, {\"country\": \"Macedonia, FYR\", \"income\": 12547, \"health\": 77.0, \"population\": 2078453, \"label\": 0}, {\"country\": \"Madagascar\", \"income\": 1400, \"health\": 64.7, \"population\": 24235390, \"label\": 0}, {\"country\": \"Malawi\", \"income\": 799, \"health\": 60.22, \"population\": 17215232, \"label\": 0}, {\"country\": \"Malaysia\", \"income\": 24320, \"health\": 75.1, \"population\": 30331007, \"label\": 0}, {\"country\": \"Maldives\", \"income\": 14408, \"health\": 79.5, \"population\": 363657, \"label\": 0}, {\"country\": \"Mali\", \"income\": 1684, \"health\": 57.6, \"population\": 17599694, \"label\": 0}, {\"country\": \"Malta\", \"income\": 30265, \"health\": 82.1, \"population\": 418670, \"label\": 0}, {\"country\": \"Marshall Islands\", \"income\": 3661, \"health\": 65.1, \"population\": 52993, \"label\": 0}, {\"country\": \"Mauritania\", \"income\": 3877, \"health\": 65.7, \"population\": 4067564, \"label\": 0}, {\"country\": \"Mauritius\", \"income\": 18350, \"health\": 73.9, \"population\": 1273212, \"label\": 0}, {\"country\": \"Mexico\", \"income\": 16850, \"health\": 74.5, \"population\": 127017224, \"label\": 2}, {\"country\": \"Micronesia, Fed. Sts.\", \"income\": 3510, \"health\": 67.0, \"population\": 104460, \"label\": 0}, {\"country\": \"Moldova\", \"income\": 4896, \"health\": 72.7, \"population\": 4068897, \"label\": 0}, {\"country\": \"Mongolia\", \"income\": 11819, \"health\": 65.3, \"population\": 2959134, \"label\": 0}, {\"country\": \"Montenegro\", \"income\": 14833, \"health\": 75.8, \"population\": 625781, \"label\": 0}, {\"country\": \"Morocco\", \"income\": 7319, \"health\": 74.7, \"population\": 34377511, \"label\": 3}, {\"country\": \"Mozambique\", \"income\": 1176, \"health\": 56.4, \"population\": 27977863, \"label\": 0}, {\"country\": \"Myanmar\", \"income\": 4012, \"health\": 67.9, \"population\": 53897154, \"label\": 3}, {\"country\": \"Namibia\", \"income\": 10040, \"health\": 61.0, \"population\": 2458830, \"label\": 0}, {\"country\": \"Nepal\", \"income\": 2352, \"health\": 71.2, \"population\": 28513700, \"label\": 0}, {\"country\": \"Netherlands\", \"income\": 45784, \"health\": 80.6, \"population\": 16924929, \"label\": 0}, {\"country\": \"New Zealand\", \"income\": 34186, \"health\": 80.6, \"population\": 4528526, \"label\": 0}, {\"country\": \"Nicaragua\", \"income\": 4712, \"health\": 76.8, \"population\": 6082032, \"label\": 0}, {\"country\": \"Niger\", \"income\": 943, \"health\": 62.2, \"population\": 19899120, \"label\": 0}, {\"country\": \"Nigeria\", \"income\": 5727, \"health\": 61.33, \"population\": 182201962, \"label\": 2}, {\"country\": \"North Korea\", \"income\": 1390, \"health\": 71.4, \"population\": 25155317, \"label\": 0}, {\"country\": \"Norway\", \"income\": 64304, \"health\": 81.6, \"population\": 5210967, \"label\": 0}, {\"country\": \"Oman\", \"income\": 48226, \"health\": 75.7, \"population\": 4490541, \"label\": 0}, {\"country\": \"Pakistan\", \"income\": 4743, \"health\": 66.5, \"population\": 188924874, \"label\": 2}, {\"country\": \"Panama\", \"income\": 20485, \"health\": 78.2, \"population\": 3929141, \"label\": 0}, {\"country\": \"Papua New Guinea\", \"income\": 2529, \"health\": 60.6, \"population\": 7619321, \"label\": 0}, {\"country\": \"Paraguay\", \"income\": 8219, \"health\": 73.9, \"population\": 6639123, \"label\": 0}, {\"country\": \"Peru\", \"income\": 11903, \"health\": 77.5, \"population\": 31376670, \"label\": 0}, {\"country\": \"Philippines\", \"income\": 6876, \"health\": 70.2, \"population\": 100699395, \"label\": 3}, {\"country\": \"Poland\", \"income\": 24787, \"health\": 77.3, \"population\": 38611794, \"label\": 3}, {\"country\": \"Portugal\", \"income\": 26437, \"health\": 79.8, \"population\": 10349803, \"label\": 0}, {\"country\": \"Qatar\", \"income\": 132877, \"health\": 82.0, \"population\": 2235355, \"label\": 0}, {\"country\": \"Romania\", \"income\": 19203, \"health\": 76.8, \"population\": 19511324, \"label\": 0}, {\"country\": \"Russia\", \"income\": 23038, \"health\": 73.13, \"population\": 143456918, \"label\": 2}, {\"country\": \"Rwanda\", \"income\": 1549, \"health\": 66.53, \"population\": 11609666, \"label\": 0}, {\"country\": \"Samoa\", \"income\": 5558, \"health\": 72.2, \"population\": 193228, \"label\": 0}, {\"country\": \"Sao Tome and Principe\", \"income\": 3003, \"health\": 68.8, \"population\": 190344, \"label\": 0}, {\"country\": \"Saudi Arabia\", \"income\": 52469, \"health\": 78.1, \"population\": 31540372, \"label\": 0}, {\"country\": \"Senegal\", \"income\": 2251, \"health\": 66.1, \"population\": 15129273, \"label\": 0}, {\"country\": \"Serbia\", \"income\": 12908, \"health\": 78.1, \"population\": 8850975, \"label\": 0}, {\"country\": \"Seychelles\", \"income\": 25684, \"health\": 73.7, \"population\": 96471, \"label\": 0}, {\"country\": \"Sierra Leone\", \"income\": 2085, \"health\": 58.5, \"population\": 6453184, \"label\": 0}, {\"country\": \"Singapore\", \"income\": 80794, \"health\": 82.1, \"population\": 5603740, \"label\": 0}, {\"country\": \"Slovak Republic\", \"income\": 27204, \"health\": 76.4, \"population\": 5426258, \"label\": 0}, {\"country\": \"Slovenia\", \"income\": 28550, \"health\": 80.2, \"population\": 2067526, \"label\": 0}, {\"country\": \"Solomon Islands\", \"income\": 2047, \"health\": 64.1, \"population\": 583591, \"label\": 0}, {\"country\": \"Somalia\", \"income\": 624, \"health\": 58.7, \"population\": 10787104, \"label\": 0}, {\"country\": \"South Africa\", \"income\": 12509, \"health\": 63.72, \"population\": 54490406, \"label\": 3}, {\"country\": \"South Korea\", \"income\": 34644, \"health\": 80.7, \"population\": 50293439, \"label\": 3}, {\"country\": \"South Sudan\", \"income\": 3047, \"health\": 58.0, \"population\": 12339812, \"label\": 0}, {\"country\": \"Spain\", \"income\": 32979, \"health\": 81.7, \"population\": 46121699, \"label\": 3}, {\"country\": \"Sri Lanka\", \"income\": 10624, \"health\": 76.5, \"population\": 20715010, \"label\": 0}, {\"country\": \"St. Lucia\", \"income\": 9997, \"health\": 74.5, \"population\": 184999, \"label\": 0}, {\"country\": \"St. Vincent and the Grenadines\", \"income\": 10435, \"health\": 72.9, \"population\": 109462, \"label\": 0}, {\"country\": \"Sudan\", \"income\": 3975, \"health\": 69.5, \"population\": 40234882, \"label\": 3}, {\"country\": \"Suriname\", \"income\": 17125, \"health\": 70.5, \"population\": 542975, \"label\": 0}, {\"country\": \"Swaziland\", \"income\": 6095, \"health\": 51.5, \"population\": 1286970, \"label\": 0}, {\"country\": \"Sweden\", \"income\": 44892, \"health\": 82.0, \"population\": 9779426, \"label\": 0}, {\"country\": \"Switzerland\", \"income\": 56118, \"health\": 82.9, \"population\": 8298663, \"label\": 0}, {\"country\": \"Syria\", \"income\": 4637, \"health\": 70.26, \"population\": 18502413, \"label\": 0}, {\"country\": \"Tajikistan\", \"income\": 2582, \"health\": 71.0, \"population\": 8481855, \"label\": 0}, {\"country\": \"Tanzania\", \"income\": 2571, \"health\": 63.43, \"population\": 53470420, \"label\": 3}, {\"country\": \"Thailand\", \"income\": 14512, \"health\": 75.1, \"population\": 67959359, \"label\": 3}, {\"country\": \"Timor-Leste\", \"income\": 2086, \"health\": 72.4, \"population\": 1184765, \"label\": 0}, {\"country\": \"Togo\", \"income\": 1433, \"health\": 64.23, \"population\": 7304578, \"label\": 0}, {\"country\": \"Tonga\", \"income\": 5069, \"health\": 70.5, \"population\": 106170, \"label\": 0}, {\"country\": \"Trinidad and Tobago\", \"income\": 30113, \"health\": 71.4, \"population\": 1360088, \"label\": 0}, {\"country\": \"Tunisia\", \"income\": 11126, \"health\": 77.3, \"population\": 11253554, \"label\": 0}, {\"country\": \"Turkey\", \"income\": 19360, \"health\": 76.5, \"population\": 78665830, \"label\": 3}, {\"country\": \"Turkmenistan\", \"income\": 15865, \"health\": 67.9, \"population\": 5373502, \"label\": 0}, {\"country\": \"Uganda\", \"income\": 1680, \"health\": 60.8, \"population\": 39032383, \"label\": 3}, {\"country\": \"Ukraine\", \"income\": 8449, \"health\": 72.1, \"population\": 44823765, \"label\": 3}, {\"country\": \"United Arab Emirates\", \"income\": 60749, \"health\": 76.6, \"population\": 9156963, \"label\": 0}, {\"country\": \"United Kingdom\", \"income\": 38225, \"health\": 81.4, \"population\": 64715810, \"label\": 3}, {\"country\": \"United States\", \"income\": 53354, \"health\": 79.1, \"population\": 321773631, \"label\": 4}, {\"country\": \"Uruguay\", \"income\": 20438, \"health\": 77.3, \"population\": 3431555, \"label\": 0}, {\"country\": \"Uzbekistan\", \"income\": 5598, \"health\": 70.1, \"population\": 29893488, \"label\": 0}, {\"country\": \"Vanuatu\", \"income\": 2912, \"health\": 65.0, \"population\": 264652, \"label\": 0}, {\"country\": \"Venezuela\", \"income\": 15753, \"health\": 75.8, \"population\": 31108083, \"label\": 0}, {\"country\": \"Vietnam\", \"income\": 5623, \"health\": 76.5, \"population\": 93447601, \"label\": 3}, {\"country\": \"West Bank and Gaza\", \"income\": 4319, \"health\": 75.2, \"population\": 4668466, \"label\": 0}, {\"country\": \"Yemen\", \"income\": 3887, \"health\": 67.6, \"population\": 26832215, \"label\": 0}, {\"country\": \"Zambia\", \"income\": 4034, \"health\": 58.96, \"population\": 16211767, \"label\": 0}, {\"country\": \"Zimbabwe\", \"income\": 1801, \"health\": 60.01, \"population\": 15602751, \"label\": 0}]}}, {\"mode\": \"vega-lite\"});\n",
       "</script>"
      ],
      "text/plain": [
       "alt.Chart(...)"
      ]
     },
     "execution_count": 20,
     "metadata": {},
     "output_type": "execute_result"
    }
   ],
   "source": [
    "(\n",
    "    alt.Chart(gapminder)\n",
    "    .mark_circle()\n",
    "    .encode(\n",
    "        alt.X(\"income:Q\", scale=alt.Scale(type=\"log\")),\n",
    "        alt.Y(\"health:Q\", scale=alt.Scale(zero=False)),\n",
    "        size=\"population:Q\",\n",
    "        color=alt.Color(\"label:N\", scale=alt.Scale(scheme=\"dark2\")),\n",
    "        tooltip=list(gapminder.columns),\n",
    "    )\n",
    "    .properties(width=800, height=600)\n",
    "    .interactive()\n",
    ")"
   ]
  },
  {
   "cell_type": "markdown",
   "metadata": {
    "slideshow": {
     "slide_type": "slide"
    }
   },
   "source": [
    "#### It....didn't work that well\n",
    "\n",
    "What's wrong?"
   ]
  },
  {
   "cell_type": "markdown",
   "metadata": {
    "slideshow": {
     "slide_type": "subslide"
    }
   },
   "source": [
    "**K-means is distance-based, but our features have wildly different distance scales**"
   ]
  },
  {
   "cell_type": "markdown",
   "metadata": {
    "slideshow": {
     "slide_type": "slide"
    }
   },
   "source": [
    "#### scikit-learn to the rescue: pre-processing\n",
    "\n",
    "* Scikit-learn has a utility to normalize features with an average of zero and a variance of 1\n",
    "* Use the [`StandardScaler`](https://scikit-learn.org/stable/modules/generated/sklearn.preprocessing.StandardScaler.html) class"
   ]
  },
  {
   "cell_type": "code",
   "execution_count": 21,
   "metadata": {
    "tags": []
   },
   "outputs": [],
   "source": [
    "from sklearn.preprocessing import MinMaxScaler, RobustScaler"
   ]
  },
  {
   "cell_type": "code",
   "execution_count": 22,
   "metadata": {
    "slideshow": {
     "slide_type": "fragment"
    },
    "tags": []
   },
   "outputs": [],
   "source": [
    "from sklearn.preprocessing import StandardScaler"
   ]
  },
  {
   "cell_type": "code",
   "execution_count": 23,
   "metadata": {
    "slideshow": {
     "slide_type": "fragment"
    },
    "tags": []
   },
   "outputs": [],
   "source": [
    "scaler = StandardScaler()"
   ]
  },
  {
   "cell_type": "markdown",
   "metadata": {
    "slideshow": {
     "slide_type": "slide"
    }
   },
   "source": [
    "#### Use the `fit_transform()` function to scale your features"
   ]
  },
  {
   "cell_type": "code",
   "execution_count": 24,
   "metadata": {
    "slideshow": {
     "slide_type": "fragment"
    },
    "tags": []
   },
   "outputs": [],
   "source": [
    "gapminder_scaled = scaler.fit_transform(gapminder[['income', 'health', 'population']])"
   ]
  },
  {
   "cell_type": "markdown",
   "metadata": {
    "slideshow": {
     "slide_type": "slide"
    }
   },
   "source": [
    "**Important**: The `fit_transform()` function converts the DataFrame to a numpy array:"
   ]
  },
  {
   "cell_type": "code",
   "execution_count": 25,
   "metadata": {
    "slideshow": {
     "slide_type": "fragment"
    },
    "tags": []
   },
   "outputs": [
    {
     "data": {
      "text/plain": [
       "array([[-0.79481258, -1.8171424 , -0.04592039],\n",
       "       [-0.34333373,  0.55986273, -0.25325837],\n",
       "       [-0.1972197 ,  0.62456075,  0.00404216],\n",
       "       [ 1.52369617,  1.6079706 , -0.27303503],\n",
       "       [-0.49936524, -1.38107777, -0.09843447]])"
      ]
     },
     "execution_count": 25,
     "metadata": {},
     "output_type": "execute_result"
    }
   ],
   "source": [
    "# fit_transform() converts the data into a numpy array\n",
    "gapminder_scaled[:5]"
   ]
  },
  {
   "cell_type": "code",
   "execution_count": 26,
   "metadata": {
    "slideshow": {
     "slide_type": "subslide"
    },
    "tags": []
   },
   "outputs": [
    {
     "data": {
      "text/plain": [
       "array([ 8.07434927e-17, -1.70511258e-15, -1.89984689e-17])"
      ]
     },
     "execution_count": 26,
     "metadata": {},
     "output_type": "execute_result"
    }
   ],
   "source": [
    "# mean of zero\n",
    "gapminder_scaled.mean(axis=0)"
   ]
  },
  {
   "cell_type": "code",
   "execution_count": 27,
   "metadata": {
    "slideshow": {
     "slide_type": "subslide"
    },
    "tags": []
   },
   "outputs": [
    {
     "data": {
      "text/plain": [
       "array([1., 1., 1.])"
      ]
     },
     "execution_count": 27,
     "metadata": {},
     "output_type": "execute_result"
    }
   ],
   "source": [
    "# variance of one\n",
    "gapminder_scaled.std(axis=0)"
   ]
  },
  {
   "cell_type": "markdown",
   "metadata": {
    "slideshow": {
     "slide_type": "slide"
    }
   },
   "source": [
    "#### Now fit the scaled features"
   ]
  },
  {
   "cell_type": "code",
   "execution_count": 28,
   "metadata": {
    "slideshow": {
     "slide_type": "fragment"
    },
    "tags": []
   },
   "outputs": [
    {
     "name": "stderr",
     "output_type": "stream",
     "text": [
      "C:\\ProgramData\\mambaforge\\envs\\musa-550-fall-2023\\lib\\site-packages\\sklearn\\cluster\\_kmeans.py:1436: UserWarning: KMeans is known to have a memory leak on Windows with MKL, when there are less chunks than available threads. You can avoid it by setting the environment variable OMP_NUM_THREADS=1.\n",
      "  warnings.warn(\n"
     ]
    }
   ],
   "source": [
    "# Perform the fit\n",
    "kmeans.fit(gapminder_scaled)\n",
    "\n",
    "# Extract the labels\n",
    "gapminder['label'] = kmeans.labels_"
   ]
  },
  {
   "cell_type": "code",
   "execution_count": 29,
   "metadata": {
    "slideshow": {
     "slide_type": "subslide"
    },
    "tags": []
   },
   "outputs": [
    {
     "data": {
      "text/html": [
       "\n",
       "<style>\n",
       "  #altair-viz-b11d798418e8483586cba89473f4687f.vega-embed {\n",
       "    width: 100%;\n",
       "    display: flex;\n",
       "  }\n",
       "\n",
       "  #altair-viz-b11d798418e8483586cba89473f4687f.vega-embed details,\n",
       "  #altair-viz-b11d798418e8483586cba89473f4687f.vega-embed details summary {\n",
       "    position: relative;\n",
       "  }\n",
       "</style>\n",
       "<div id=\"altair-viz-b11d798418e8483586cba89473f4687f\"></div>\n",
       "<script type=\"text/javascript\">\n",
       "  var VEGA_DEBUG = (typeof VEGA_DEBUG == \"undefined\") ? {} : VEGA_DEBUG;\n",
       "  (function(spec, embedOpt){\n",
       "    let outputDiv = document.currentScript.previousElementSibling;\n",
       "    if (outputDiv.id !== \"altair-viz-b11d798418e8483586cba89473f4687f\") {\n",
       "      outputDiv = document.getElementById(\"altair-viz-b11d798418e8483586cba89473f4687f\");\n",
       "    }\n",
       "    const paths = {\n",
       "      \"vega\": \"https://cdn.jsdelivr.net/npm/vega@5?noext\",\n",
       "      \"vega-lib\": \"https://cdn.jsdelivr.net/npm/vega-lib?noext\",\n",
       "      \"vega-lite\": \"https://cdn.jsdelivr.net/npm/vega-lite@5.14.1?noext\",\n",
       "      \"vega-embed\": \"https://cdn.jsdelivr.net/npm/vega-embed@6?noext\",\n",
       "    };\n",
       "\n",
       "    function maybeLoadScript(lib, version) {\n",
       "      var key = `${lib.replace(\"-\", \"\")}_version`;\n",
       "      return (VEGA_DEBUG[key] == version) ?\n",
       "        Promise.resolve(paths[lib]) :\n",
       "        new Promise(function(resolve, reject) {\n",
       "          var s = document.createElement('script');\n",
       "          document.getElementsByTagName(\"head\")[0].appendChild(s);\n",
       "          s.async = true;\n",
       "          s.onload = () => {\n",
       "            VEGA_DEBUG[key] = version;\n",
       "            return resolve(paths[lib]);\n",
       "          };\n",
       "          s.onerror = () => reject(`Error loading script: ${paths[lib]}`);\n",
       "          s.src = paths[lib];\n",
       "        });\n",
       "    }\n",
       "\n",
       "    function showError(err) {\n",
       "      outputDiv.innerHTML = `<div class=\"error\" style=\"color:red;\">${err}</div>`;\n",
       "      throw err;\n",
       "    }\n",
       "\n",
       "    function displayChart(vegaEmbed) {\n",
       "      vegaEmbed(outputDiv, spec, embedOpt)\n",
       "        .catch(err => showError(`Javascript Error: ${err.message}<br>This usually means there's a typo in your chart specification. See the javascript console for the full traceback.`));\n",
       "    }\n",
       "\n",
       "    if(typeof define === \"function\" && define.amd) {\n",
       "      requirejs.config({paths});\n",
       "      require([\"vega-embed\"], displayChart, err => showError(`Error loading script: ${err.message}`));\n",
       "    } else {\n",
       "      maybeLoadScript(\"vega\", \"5\")\n",
       "        .then(() => maybeLoadScript(\"vega-lite\", \"5.14.1\"))\n",
       "        .then(() => maybeLoadScript(\"vega-embed\", \"6\"))\n",
       "        .catch(showError)\n",
       "        .then(() => displayChart(vegaEmbed));\n",
       "    }\n",
       "  })({\"config\": {\"view\": {\"continuousWidth\": 300, \"continuousHeight\": 300}}, \"data\": {\"name\": \"data-59f96afc0f48b6fe37710fdd4e8917b1\"}, \"mark\": {\"type\": \"circle\"}, \"encoding\": {\"color\": {\"field\": \"label\", \"scale\": {\"scheme\": \"dark2\"}, \"type\": \"nominal\"}, \"size\": {\"field\": \"population\", \"type\": \"quantitative\"}, \"tooltip\": [{\"field\": \"country\", \"type\": \"nominal\"}, {\"field\": \"income\", \"type\": \"quantitative\"}, {\"field\": \"health\", \"type\": \"quantitative\"}, {\"field\": \"population\", \"type\": \"quantitative\"}, {\"field\": \"label\", \"type\": \"quantitative\"}], \"x\": {\"field\": \"income\", \"scale\": {\"type\": \"log\"}, \"type\": \"quantitative\"}, \"y\": {\"field\": \"health\", \"scale\": {\"zero\": false}, \"type\": \"quantitative\"}}, \"height\": 600, \"params\": [{\"name\": \"param_5\", \"select\": {\"type\": \"interval\", \"encodings\": [\"x\", \"y\"]}, \"bind\": \"scales\"}], \"width\": 800, \"$schema\": \"https://vega.github.io/schema/vega-lite/v5.14.1.json\", \"datasets\": {\"data-59f96afc0f48b6fe37710fdd4e8917b1\": [{\"country\": \"Afghanistan\", \"income\": 1925, \"health\": 57.63, \"population\": 32526562, \"label\": 1}, {\"country\": \"Albania\", \"income\": 10620, \"health\": 76.0, \"population\": 2896679, \"label\": 0}, {\"country\": \"Algeria\", \"income\": 13434, \"health\": 76.5, \"population\": 39666519, \"label\": 0}, {\"country\": \"Andorra\", \"income\": 46577, \"health\": 84.1, \"population\": 70473, \"label\": 3}, {\"country\": \"Angola\", \"income\": 7615, \"health\": 61.0, \"population\": 25021974, \"label\": 1}, {\"country\": \"Antigua and Barbuda\", \"income\": 21049, \"health\": 75.2, \"population\": 91818, \"label\": 0}, {\"country\": \"Argentina\", \"income\": 17344, \"health\": 76.2, \"population\": 43416755, \"label\": 0}, {\"country\": \"Armenia\", \"income\": 7763, \"health\": 74.4, \"population\": 3017712, \"label\": 0}, {\"country\": \"Australia\", \"income\": 44056, \"health\": 81.8, \"population\": 23968973, \"label\": 3}, {\"country\": \"Austria\", \"income\": 44401, \"health\": 81.0, \"population\": 8544586, \"label\": 3}, {\"country\": \"Azerbaijan\", \"income\": 16986, \"health\": 72.9, \"population\": 9753968, \"label\": 0}, {\"country\": \"Bahamas\", \"income\": 22818, \"health\": 72.3, \"population\": 388019, \"label\": 0}, {\"country\": \"Bahrain\", \"income\": 44138, \"health\": 79.2, \"population\": 1377237, \"label\": 3}, {\"country\": \"Bangladesh\", \"income\": 3161, \"health\": 70.1, \"population\": 160995642, \"label\": 0}, {\"country\": \"Barbados\", \"income\": 12984, \"health\": 75.8, \"population\": 284215, \"label\": 0}, {\"country\": \"Belarus\", \"income\": 17415, \"health\": 70.4, \"population\": 9495826, \"label\": 0}, {\"country\": \"Belgium\", \"income\": 41240, \"health\": 80.4, \"population\": 11299192, \"label\": 3}, {\"country\": \"Belize\", \"income\": 8501, \"health\": 70.0, \"population\": 359287, \"label\": 0}, {\"country\": \"Benin\", \"income\": 1830, \"health\": 65.5, \"population\": 10879829, \"label\": 1}, {\"country\": \"Bhutan\", \"income\": 7983, \"health\": 70.2, \"population\": 774830, \"label\": 0}, {\"country\": \"Bolivia\", \"income\": 6295, \"health\": 72.3, \"population\": 10724705, \"label\": 0}, {\"country\": \"Bosnia and Herzegovina\", \"income\": 9833, \"health\": 77.9, \"population\": 3810416, \"label\": 0}, {\"country\": \"Botswana\", \"income\": 17196, \"health\": 66.4, \"population\": 2262485, \"label\": 1}, {\"country\": \"Brazil\", \"income\": 15441, \"health\": 75.6, \"population\": 207847528, \"label\": 0}, {\"country\": \"Brunei\", \"income\": 73003, \"health\": 78.7, \"population\": 423188, \"label\": 4}, {\"country\": \"Bulgaria\", \"income\": 16371, \"health\": 74.9, \"population\": 7149787, \"label\": 0}, {\"country\": \"Burkina Faso\", \"income\": 1654, \"health\": 62.8, \"population\": 18105570, \"label\": 1}, {\"country\": \"Burundi\", \"income\": 777, \"health\": 60.4, \"population\": 11178921, \"label\": 1}, {\"country\": \"Cambodia\", \"income\": 3267, \"health\": 68.4, \"population\": 15577899, \"label\": 1}, {\"country\": \"Cameroon\", \"income\": 2897, \"health\": 59.5, \"population\": 23344179, \"label\": 1}, {\"country\": \"Canada\", \"income\": 43294, \"health\": 81.7, \"population\": 35939927, \"label\": 3}, {\"country\": \"Cape Verde\", \"income\": 6514, \"health\": 74.6, \"population\": 520502, \"label\": 0}, {\"country\": \"Central African Republic\", \"income\": 599, \"health\": 53.8, \"population\": 4900274, \"label\": 1}, {\"country\": \"Chad\", \"income\": 2191, \"health\": 57.7, \"population\": 14037472, \"label\": 1}, {\"country\": \"Chile\", \"income\": 22465, \"health\": 79.3, \"population\": 17948141, \"label\": 0}, {\"country\": \"China\", \"income\": 13334, \"health\": 76.9, \"population\": 1376048943, \"label\": 2}, {\"country\": \"Colombia\", \"income\": 12761, \"health\": 75.8, \"population\": 48228704, \"label\": 0}, {\"country\": \"Comoros\", \"income\": 1472, \"health\": 64.1, \"population\": 788474, \"label\": 1}, {\"country\": \"Congo, Dem. Rep.\", \"income\": 809, \"health\": 58.3, \"population\": 77266814, \"label\": 1}, {\"country\": \"Congo, Rep.\", \"income\": 6220, \"health\": 61.9, \"population\": 4620330, \"label\": 1}, {\"country\": \"Costa Rica\", \"income\": 14132, \"health\": 80.0, \"population\": 4807850, \"label\": 0}, {\"country\": \"Cote d'Ivoire\", \"income\": 3491, \"health\": 60.33, \"population\": 22701556, \"label\": 1}, {\"country\": \"Croatia\", \"income\": 20260, \"health\": 78.0, \"population\": 4240317, \"label\": 0}, {\"country\": \"Cuba\", \"income\": 21291, \"health\": 78.5, \"population\": 11389562, \"label\": 0}, {\"country\": \"Cyprus\", \"income\": 29797, \"health\": 82.6, \"population\": 1165300, \"label\": 3}, {\"country\": \"Czech Republic\", \"income\": 29437, \"health\": 78.6, \"population\": 10543186, \"label\": 3}, {\"country\": \"Denmark\", \"income\": 43495, \"health\": 80.1, \"population\": 5669081, \"label\": 3}, {\"country\": \"Djibouti\", \"income\": 3139, \"health\": 64.63, \"population\": 887861, \"label\": 1}, {\"country\": \"Dominica\", \"income\": 10503, \"health\": 74.6, \"population\": 72680, \"label\": 0}, {\"country\": \"Dominican Republic\", \"income\": 12837, \"health\": 73.8, \"population\": 10528391, \"label\": 0}, {\"country\": \"Ecuador\", \"income\": 10996, \"health\": 75.2, \"population\": 16144363, \"label\": 0}, {\"country\": \"Egypt\", \"income\": 11031, \"health\": 71.3, \"population\": 91508084, \"label\": 0}, {\"country\": \"El Salvador\", \"income\": 7776, \"health\": 74.1, \"population\": 6126583, \"label\": 0}, {\"country\": \"Equatorial Guinea\", \"income\": 31087, \"health\": 60.63, \"population\": 845060, \"label\": 1}, {\"country\": \"Eritrea\", \"income\": 1129, \"health\": 62.9, \"population\": 5227791, \"label\": 1}, {\"country\": \"Estonia\", \"income\": 26812, \"health\": 76.8, \"population\": 1312558, \"label\": 0}, {\"country\": \"Ethiopia\", \"income\": 1520, \"health\": 63.6, \"population\": 99390750, \"label\": 1}, {\"country\": \"Fiji\", \"income\": 7925, \"health\": 66.3, \"population\": 892145, \"label\": 1}, {\"country\": \"Finland\", \"income\": 38923, \"health\": 80.8, \"population\": 5503457, \"label\": 3}, {\"country\": \"France\", \"income\": 37599, \"health\": 81.9, \"population\": 64395345, \"label\": 3}, {\"country\": \"Gabon\", \"income\": 18627, \"health\": 60.53, \"population\": 1725292, \"label\": 1}, {\"country\": \"Gambia\", \"income\": 1644, \"health\": 65.1, \"population\": 1990924, \"label\": 1}, {\"country\": \"Georgia\", \"income\": 7474, \"health\": 73.3, \"population\": 3999812, \"label\": 0}, {\"country\": \"Germany\", \"income\": 44053, \"health\": 81.1, \"population\": 80688545, \"label\": 3}, {\"country\": \"Ghana\", \"income\": 4099, \"health\": 65.5, \"population\": 27409893, \"label\": 1}, {\"country\": \"Greece\", \"income\": 25430, \"health\": 79.8, \"population\": 10954617, \"label\": 3}, {\"country\": \"Grenada\", \"income\": 11593, \"health\": 71.7, \"population\": 106825, \"label\": 0}, {\"country\": \"Guatemala\", \"income\": 7279, \"health\": 73.1, \"population\": 16342897, \"label\": 0}, {\"country\": \"Guinea\", \"income\": 1225, \"health\": 60.8, \"population\": 12608590, \"label\": 1}, {\"country\": \"Guinea-Bissau\", \"income\": 1386, \"health\": 53.4, \"population\": 1844325, \"label\": 1}, {\"country\": \"Guyana\", \"income\": 6816, \"health\": 64.4, \"population\": 767085, \"label\": 1}, {\"country\": \"Haiti\", \"income\": 1710, \"health\": 65.3, \"population\": 10711067, \"label\": 1}, {\"country\": \"Honduras\", \"income\": 4270, \"health\": 72.4, \"population\": 8075060, \"label\": 0}, {\"country\": \"Hungary\", \"income\": 24200, \"health\": 76.2, \"population\": 9855023, \"label\": 0}, {\"country\": \"Iceland\", \"income\": 42182, \"health\": 82.8, \"population\": 329425, \"label\": 3}, {\"country\": \"India\", \"income\": 5903, \"health\": 66.8, \"population\": 1311050527, \"label\": 2}, {\"country\": \"Indonesia\", \"income\": 10504, \"health\": 70.9, \"population\": 257563815, \"label\": 0}, {\"country\": \"Iran\", \"income\": 15573, \"health\": 78.5, \"population\": 79109272, \"label\": 0}, {\"country\": \"Iraq\", \"income\": 14646, \"health\": 72.1, \"population\": 36423395, \"label\": 0}, {\"country\": \"Ireland\", \"income\": 47758, \"health\": 80.4, \"population\": 4688465, \"label\": 3}, {\"country\": \"Israel\", \"income\": 31590, \"health\": 82.4, \"population\": 8064036, \"label\": 3}, {\"country\": \"Italy\", \"income\": 33297, \"health\": 82.1, \"population\": 59797685, \"label\": 3}, {\"country\": \"Jamaica\", \"income\": 8606, \"health\": 75.5, \"population\": 2793335, \"label\": 0}, {\"country\": \"Japan\", \"income\": 36162, \"health\": 83.5, \"population\": 126573481, \"label\": 3}, {\"country\": \"Jordan\", \"income\": 11752, \"health\": 78.3, \"population\": 7594547, \"label\": 0}, {\"country\": \"Kazakhstan\", \"income\": 23468, \"health\": 68.2, \"population\": 17625226, \"label\": 0}, {\"country\": \"Kenya\", \"income\": 2898, \"health\": 66.63, \"population\": 46050302, \"label\": 1}, {\"country\": \"Kiribati\", \"income\": 1824, \"health\": 62.4, \"population\": 112423, \"label\": 1}, {\"country\": \"Kuwait\", \"income\": 82633, \"health\": 80.7, \"population\": 3892115, \"label\": 4}, {\"country\": \"Kyrgyz Republic\", \"income\": 3245, \"health\": 69.0, \"population\": 5939962, \"label\": 1}, {\"country\": \"Lao\", \"income\": 5212, \"health\": 66.4, \"population\": 6802023, \"label\": 1}, {\"country\": \"Latvia\", \"income\": 23282, \"health\": 75.7, \"population\": 1970503, \"label\": 0}, {\"country\": \"Lebanon\", \"income\": 17050, \"health\": 78.5, \"population\": 5850743, \"label\": 0}, {\"country\": \"Lesotho\", \"income\": 2598, \"health\": 48.5, \"population\": 2135022, \"label\": 1}, {\"country\": \"Liberia\", \"income\": 958, \"health\": 63.9, \"population\": 4503438, \"label\": 1}, {\"country\": \"Libya\", \"income\": 17261, \"health\": 76.2, \"population\": 6278438, \"label\": 0}, {\"country\": \"Lithuania\", \"income\": 26665, \"health\": 75.4, \"population\": 2878405, \"label\": 0}, {\"country\": \"Luxembourg\", \"income\": 88314, \"health\": 81.1, \"population\": 567110, \"label\": 4}, {\"country\": \"Macedonia, FYR\", \"income\": 12547, \"health\": 77.0, \"population\": 2078453, \"label\": 0}, {\"country\": \"Madagascar\", \"income\": 1400, \"health\": 64.7, \"population\": 24235390, \"label\": 1}, {\"country\": \"Malawi\", \"income\": 799, \"health\": 60.22, \"population\": 17215232, \"label\": 1}, {\"country\": \"Malaysia\", \"income\": 24320, \"health\": 75.1, \"population\": 30331007, \"label\": 0}, {\"country\": \"Maldives\", \"income\": 14408, \"health\": 79.5, \"population\": 363657, \"label\": 0}, {\"country\": \"Mali\", \"income\": 1684, \"health\": 57.6, \"population\": 17599694, \"label\": 1}, {\"country\": \"Malta\", \"income\": 30265, \"health\": 82.1, \"population\": 418670, \"label\": 3}, {\"country\": \"Marshall Islands\", \"income\": 3661, \"health\": 65.1, \"population\": 52993, \"label\": 1}, {\"country\": \"Mauritania\", \"income\": 3877, \"health\": 65.7, \"population\": 4067564, \"label\": 1}, {\"country\": \"Mauritius\", \"income\": 18350, \"health\": 73.9, \"population\": 1273212, \"label\": 0}, {\"country\": \"Mexico\", \"income\": 16850, \"health\": 74.5, \"population\": 127017224, \"label\": 0}, {\"country\": \"Micronesia, Fed. Sts.\", \"income\": 3510, \"health\": 67.0, \"population\": 104460, \"label\": 1}, {\"country\": \"Moldova\", \"income\": 4896, \"health\": 72.7, \"population\": 4068897, \"label\": 0}, {\"country\": \"Mongolia\", \"income\": 11819, \"health\": 65.3, \"population\": 2959134, \"label\": 1}, {\"country\": \"Montenegro\", \"income\": 14833, \"health\": 75.8, \"population\": 625781, \"label\": 0}, {\"country\": \"Morocco\", \"income\": 7319, \"health\": 74.7, \"population\": 34377511, \"label\": 0}, {\"country\": \"Mozambique\", \"income\": 1176, \"health\": 56.4, \"population\": 27977863, \"label\": 1}, {\"country\": \"Myanmar\", \"income\": 4012, \"health\": 67.9, \"population\": 53897154, \"label\": 1}, {\"country\": \"Namibia\", \"income\": 10040, \"health\": 61.0, \"population\": 2458830, \"label\": 1}, {\"country\": \"Nepal\", \"income\": 2352, \"health\": 71.2, \"population\": 28513700, \"label\": 0}, {\"country\": \"Netherlands\", \"income\": 45784, \"health\": 80.6, \"population\": 16924929, \"label\": 3}, {\"country\": \"New Zealand\", \"income\": 34186, \"health\": 80.6, \"population\": 4528526, \"label\": 3}, {\"country\": \"Nicaragua\", \"income\": 4712, \"health\": 76.8, \"population\": 6082032, \"label\": 0}, {\"country\": \"Niger\", \"income\": 943, \"health\": 62.2, \"population\": 19899120, \"label\": 1}, {\"country\": \"Nigeria\", \"income\": 5727, \"health\": 61.33, \"population\": 182201962, \"label\": 1}, {\"country\": \"North Korea\", \"income\": 1390, \"health\": 71.4, \"population\": 25155317, \"label\": 0}, {\"country\": \"Norway\", \"income\": 64304, \"health\": 81.6, \"population\": 5210967, \"label\": 3}, {\"country\": \"Oman\", \"income\": 48226, \"health\": 75.7, \"population\": 4490541, \"label\": 3}, {\"country\": \"Pakistan\", \"income\": 4743, \"health\": 66.5, \"population\": 188924874, \"label\": 1}, {\"country\": \"Panama\", \"income\": 20485, \"health\": 78.2, \"population\": 3929141, \"label\": 0}, {\"country\": \"Papua New Guinea\", \"income\": 2529, \"health\": 60.6, \"population\": 7619321, \"label\": 1}, {\"country\": \"Paraguay\", \"income\": 8219, \"health\": 73.9, \"population\": 6639123, \"label\": 0}, {\"country\": \"Peru\", \"income\": 11903, \"health\": 77.5, \"population\": 31376670, \"label\": 0}, {\"country\": \"Philippines\", \"income\": 6876, \"health\": 70.2, \"population\": 100699395, \"label\": 0}, {\"country\": \"Poland\", \"income\": 24787, \"health\": 77.3, \"population\": 38611794, \"label\": 0}, {\"country\": \"Portugal\", \"income\": 26437, \"health\": 79.8, \"population\": 10349803, \"label\": 3}, {\"country\": \"Qatar\", \"income\": 132877, \"health\": 82.0, \"population\": 2235355, \"label\": 4}, {\"country\": \"Romania\", \"income\": 19203, \"health\": 76.8, \"population\": 19511324, \"label\": 0}, {\"country\": \"Russia\", \"income\": 23038, \"health\": 73.13, \"population\": 143456918, \"label\": 0}, {\"country\": \"Rwanda\", \"income\": 1549, \"health\": 66.53, \"population\": 11609666, \"label\": 1}, {\"country\": \"Samoa\", \"income\": 5558, \"health\": 72.2, \"population\": 193228, \"label\": 0}, {\"country\": \"Sao Tome and Principe\", \"income\": 3003, \"health\": 68.8, \"population\": 190344, \"label\": 1}, {\"country\": \"Saudi Arabia\", \"income\": 52469, \"health\": 78.1, \"population\": 31540372, \"label\": 3}, {\"country\": \"Senegal\", \"income\": 2251, \"health\": 66.1, \"population\": 15129273, \"label\": 1}, {\"country\": \"Serbia\", \"income\": 12908, \"health\": 78.1, \"population\": 8850975, \"label\": 0}, {\"country\": \"Seychelles\", \"income\": 25684, \"health\": 73.7, \"population\": 96471, \"label\": 0}, {\"country\": \"Sierra Leone\", \"income\": 2085, \"health\": 58.5, \"population\": 6453184, \"label\": 1}, {\"country\": \"Singapore\", \"income\": 80794, \"health\": 82.1, \"population\": 5603740, \"label\": 4}, {\"country\": \"Slovak Republic\", \"income\": 27204, \"health\": 76.4, \"population\": 5426258, \"label\": 0}, {\"country\": \"Slovenia\", \"income\": 28550, \"health\": 80.2, \"population\": 2067526, \"label\": 3}, {\"country\": \"Solomon Islands\", \"income\": 2047, \"health\": 64.1, \"population\": 583591, \"label\": 1}, {\"country\": \"Somalia\", \"income\": 624, \"health\": 58.7, \"population\": 10787104, \"label\": 1}, {\"country\": \"South Africa\", \"income\": 12509, \"health\": 63.72, \"population\": 54490406, \"label\": 1}, {\"country\": \"South Korea\", \"income\": 34644, \"health\": 80.7, \"population\": 50293439, \"label\": 3}, {\"country\": \"South Sudan\", \"income\": 3047, \"health\": 58.0, \"population\": 12339812, \"label\": 1}, {\"country\": \"Spain\", \"income\": 32979, \"health\": 81.7, \"population\": 46121699, \"label\": 3}, {\"country\": \"Sri Lanka\", \"income\": 10624, \"health\": 76.5, \"population\": 20715010, \"label\": 0}, {\"country\": \"St. Lucia\", \"income\": 9997, \"health\": 74.5, \"population\": 184999, \"label\": 0}, {\"country\": \"St. Vincent and the Grenadines\", \"income\": 10435, \"health\": 72.9, \"population\": 109462, \"label\": 0}, {\"country\": \"Sudan\", \"income\": 3975, \"health\": 69.5, \"population\": 40234882, \"label\": 0}, {\"country\": \"Suriname\", \"income\": 17125, \"health\": 70.5, \"population\": 542975, \"label\": 0}, {\"country\": \"Swaziland\", \"income\": 6095, \"health\": 51.5, \"population\": 1286970, \"label\": 1}, {\"country\": \"Sweden\", \"income\": 44892, \"health\": 82.0, \"population\": 9779426, \"label\": 3}, {\"country\": \"Switzerland\", \"income\": 56118, \"health\": 82.9, \"population\": 8298663, \"label\": 3}, {\"country\": \"Syria\", \"income\": 4637, \"health\": 70.26, \"population\": 18502413, \"label\": 0}, {\"country\": \"Tajikistan\", \"income\": 2582, \"health\": 71.0, \"population\": 8481855, \"label\": 0}, {\"country\": \"Tanzania\", \"income\": 2571, \"health\": 63.43, \"population\": 53470420, \"label\": 1}, {\"country\": \"Thailand\", \"income\": 14512, \"health\": 75.1, \"population\": 67959359, \"label\": 0}, {\"country\": \"Timor-Leste\", \"income\": 2086, \"health\": 72.4, \"population\": 1184765, \"label\": 0}, {\"country\": \"Togo\", \"income\": 1433, \"health\": 64.23, \"population\": 7304578, \"label\": 1}, {\"country\": \"Tonga\", \"income\": 5069, \"health\": 70.5, \"population\": 106170, \"label\": 0}, {\"country\": \"Trinidad and Tobago\", \"income\": 30113, \"health\": 71.4, \"population\": 1360088, \"label\": 0}, {\"country\": \"Tunisia\", \"income\": 11126, \"health\": 77.3, \"population\": 11253554, \"label\": 0}, {\"country\": \"Turkey\", \"income\": 19360, \"health\": 76.5, \"population\": 78665830, \"label\": 0}, {\"country\": \"Turkmenistan\", \"income\": 15865, \"health\": 67.9, \"population\": 5373502, \"label\": 0}, {\"country\": \"Uganda\", \"income\": 1680, \"health\": 60.8, \"population\": 39032383, \"label\": 1}, {\"country\": \"Ukraine\", \"income\": 8449, \"health\": 72.1, \"population\": 44823765, \"label\": 0}, {\"country\": \"United Arab Emirates\", \"income\": 60749, \"health\": 76.6, \"population\": 9156963, \"label\": 3}, {\"country\": \"United Kingdom\", \"income\": 38225, \"health\": 81.4, \"population\": 64715810, \"label\": 3}, {\"country\": \"United States\", \"income\": 53354, \"health\": 79.1, \"population\": 321773631, \"label\": 3}, {\"country\": \"Uruguay\", \"income\": 20438, \"health\": 77.3, \"population\": 3431555, \"label\": 0}, {\"country\": \"Uzbekistan\", \"income\": 5598, \"health\": 70.1, \"population\": 29893488, \"label\": 0}, {\"country\": \"Vanuatu\", \"income\": 2912, \"health\": 65.0, \"population\": 264652, \"label\": 1}, {\"country\": \"Venezuela\", \"income\": 15753, \"health\": 75.8, \"population\": 31108083, \"label\": 0}, {\"country\": \"Vietnam\", \"income\": 5623, \"health\": 76.5, \"population\": 93447601, \"label\": 0}, {\"country\": \"West Bank and Gaza\", \"income\": 4319, \"health\": 75.2, \"population\": 4668466, \"label\": 0}, {\"country\": \"Yemen\", \"income\": 3887, \"health\": 67.6, \"population\": 26832215, \"label\": 1}, {\"country\": \"Zambia\", \"income\": 4034, \"health\": 58.96, \"population\": 16211767, \"label\": 1}, {\"country\": \"Zimbabwe\", \"income\": 1801, \"health\": 60.01, \"population\": 15602751, \"label\": 1}]}}, {\"mode\": \"vega-lite\"});\n",
       "</script>"
      ],
      "text/plain": [
       "alt.Chart(...)"
      ]
     },
     "execution_count": 29,
     "metadata": {},
     "output_type": "execute_result"
    }
   ],
   "source": [
    "(\n",
    "    alt.Chart(gapminder)\n",
    "    .mark_circle()\n",
    "    .encode(\n",
    "        alt.X(\"income:Q\", scale=alt.Scale(type=\"log\")),\n",
    "        alt.Y(\"health:Q\", scale=alt.Scale(zero=False)),\n",
    "        size=\"population:Q\",\n",
    "        color=alt.Color(\"label:N\", scale=alt.Scale(scheme=\"dark2\")),\n",
    "        tooltip=list(gapminder.columns),\n",
    "    )\n",
    "    .properties(width=800, height=600)\n",
    "    .interactive()\n",
    ")"
   ]
  },
  {
   "cell_type": "code",
   "execution_count": 25,
   "metadata": {
    "slideshow": {
     "slide_type": "subslide"
    }
   },
   "outputs": [
    {
     "data": {
      "text/plain": [
       "label\n",
       "0    62\n",
       "1    85\n",
       "2     5\n",
       "3     2\n",
       "4    33\n",
       "dtype: int64"
      ]
     },
     "execution_count": 25,
     "metadata": {},
     "output_type": "execute_result"
    }
   ],
   "source": [
    "# Number of countries per cluster\n",
    "gapminder.groupby(\"label\").size()"
   ]
  },
  {
   "cell_type": "code",
   "execution_count": 26,
   "metadata": {
    "slideshow": {
     "slide_type": "subslide"
    }
   },
   "outputs": [
    {
     "data": {
      "text/plain": [
       "label\n",
       "2       2.544302\n",
       "0      21.191274\n",
       "1      26.478761\n",
       "4      31.674060\n",
       "3    1343.549735\n",
       "Name: population, dtype: float64"
      ]
     },
     "execution_count": 26,
     "metadata": {},
     "output_type": "execute_result"
    }
   ],
   "source": [
    "# Average population per cluster\n",
    "gapminder.groupby(\"label\")['population'].mean().sort_values() / 1e6"
   ]
  },
  {
   "cell_type": "code",
   "execution_count": 27,
   "metadata": {
    "slideshow": {
     "slide_type": "subslide"
    }
   },
   "outputs": [
    {
     "data": {
      "text/plain": [
       "label\n",
       "0    62.342097\n",
       "3    71.850000\n",
       "1    74.376353\n",
       "4    80.830303\n",
       "2    80.920000\n",
       "Name: health, dtype: float64"
      ]
     },
     "execution_count": 27,
     "metadata": {},
     "output_type": "execute_result"
    }
   ],
   "source": [
    "# Average life expectancy per cluster\n",
    "gapminder.groupby(\"label\")['health'].mean().sort_values()"
   ]
  },
  {
   "cell_type": "code",
   "execution_count": 28,
   "metadata": {
    "slideshow": {
     "slide_type": "subslide"
    }
   },
   "outputs": [
    {
     "data": {
      "text/plain": [
       "label\n",
       "0     4.136016\n",
       "3     9.618500\n",
       "1    13.347376\n",
       "4    41.048818\n",
       "2    91.524200\n",
       "Name: income, dtype: float64"
      ]
     },
     "execution_count": 28,
     "metadata": {},
     "output_type": "execute_result"
    }
   ],
   "source": [
    "# Average income per cluster\n",
    "gapminder.groupby(\"label\")['income'].mean().sort_values() / 1e3"
   ]
  },
  {
   "cell_type": "code",
   "execution_count": 29,
   "metadata": {
    "slideshow": {
     "slide_type": "subslide"
    }
   },
   "outputs": [
    {
     "data": {
      "text/html": [
       "<div>\n",
       "<style scoped>\n",
       "    .dataframe tbody tr th:only-of-type {\n",
       "        vertical-align: middle;\n",
       "    }\n",
       "\n",
       "    .dataframe tbody tr th {\n",
       "        vertical-align: top;\n",
       "    }\n",
       "\n",
       "    .dataframe thead th {\n",
       "        text-align: right;\n",
       "    }\n",
       "</style>\n",
       "<table border=\"1\" class=\"dataframe\">\n",
       "  <thead>\n",
       "    <tr style=\"text-align: right;\">\n",
       "      <th></th>\n",
       "      <th>country</th>\n",
       "      <th>income</th>\n",
       "      <th>health</th>\n",
       "      <th>population</th>\n",
       "      <th>label</th>\n",
       "    </tr>\n",
       "  </thead>\n",
       "  <tbody>\n",
       "    <tr>\n",
       "      <th>3</th>\n",
       "      <td>Andorra</td>\n",
       "      <td>46577</td>\n",
       "      <td>84.1</td>\n",
       "      <td>70473</td>\n",
       "      <td>4</td>\n",
       "    </tr>\n",
       "    <tr>\n",
       "      <th>8</th>\n",
       "      <td>Australia</td>\n",
       "      <td>44056</td>\n",
       "      <td>81.8</td>\n",
       "      <td>23968973</td>\n",
       "      <td>4</td>\n",
       "    </tr>\n",
       "    <tr>\n",
       "      <th>9</th>\n",
       "      <td>Austria</td>\n",
       "      <td>44401</td>\n",
       "      <td>81.0</td>\n",
       "      <td>8544586</td>\n",
       "      <td>4</td>\n",
       "    </tr>\n",
       "    <tr>\n",
       "      <th>12</th>\n",
       "      <td>Bahrain</td>\n",
       "      <td>44138</td>\n",
       "      <td>79.2</td>\n",
       "      <td>1377237</td>\n",
       "      <td>4</td>\n",
       "    </tr>\n",
       "    <tr>\n",
       "      <th>16</th>\n",
       "      <td>Belgium</td>\n",
       "      <td>41240</td>\n",
       "      <td>80.4</td>\n",
       "      <td>11299192</td>\n",
       "      <td>4</td>\n",
       "    </tr>\n",
       "    <tr>\n",
       "      <th>30</th>\n",
       "      <td>Canada</td>\n",
       "      <td>43294</td>\n",
       "      <td>81.7</td>\n",
       "      <td>35939927</td>\n",
       "      <td>4</td>\n",
       "    </tr>\n",
       "    <tr>\n",
       "      <th>44</th>\n",
       "      <td>Cyprus</td>\n",
       "      <td>29797</td>\n",
       "      <td>82.6</td>\n",
       "      <td>1165300</td>\n",
       "      <td>4</td>\n",
       "    </tr>\n",
       "    <tr>\n",
       "      <th>45</th>\n",
       "      <td>Czech Republic</td>\n",
       "      <td>29437</td>\n",
       "      <td>78.6</td>\n",
       "      <td>10543186</td>\n",
       "      <td>4</td>\n",
       "    </tr>\n",
       "    <tr>\n",
       "      <th>46</th>\n",
       "      <td>Denmark</td>\n",
       "      <td>43495</td>\n",
       "      <td>80.1</td>\n",
       "      <td>5669081</td>\n",
       "      <td>4</td>\n",
       "    </tr>\n",
       "    <tr>\n",
       "      <th>58</th>\n",
       "      <td>Finland</td>\n",
       "      <td>38923</td>\n",
       "      <td>80.8</td>\n",
       "      <td>5503457</td>\n",
       "      <td>4</td>\n",
       "    </tr>\n",
       "    <tr>\n",
       "      <th>59</th>\n",
       "      <td>France</td>\n",
       "      <td>37599</td>\n",
       "      <td>81.9</td>\n",
       "      <td>64395345</td>\n",
       "      <td>4</td>\n",
       "    </tr>\n",
       "    <tr>\n",
       "      <th>63</th>\n",
       "      <td>Germany</td>\n",
       "      <td>44053</td>\n",
       "      <td>81.1</td>\n",
       "      <td>80688545</td>\n",
       "      <td>4</td>\n",
       "    </tr>\n",
       "    <tr>\n",
       "      <th>65</th>\n",
       "      <td>Greece</td>\n",
       "      <td>25430</td>\n",
       "      <td>79.8</td>\n",
       "      <td>10954617</td>\n",
       "      <td>4</td>\n",
       "    </tr>\n",
       "    <tr>\n",
       "      <th>74</th>\n",
       "      <td>Iceland</td>\n",
       "      <td>42182</td>\n",
       "      <td>82.8</td>\n",
       "      <td>329425</td>\n",
       "      <td>4</td>\n",
       "    </tr>\n",
       "    <tr>\n",
       "      <th>79</th>\n",
       "      <td>Ireland</td>\n",
       "      <td>47758</td>\n",
       "      <td>80.4</td>\n",
       "      <td>4688465</td>\n",
       "      <td>4</td>\n",
       "    </tr>\n",
       "    <tr>\n",
       "      <th>80</th>\n",
       "      <td>Israel</td>\n",
       "      <td>31590</td>\n",
       "      <td>82.4</td>\n",
       "      <td>8064036</td>\n",
       "      <td>4</td>\n",
       "    </tr>\n",
       "    <tr>\n",
       "      <th>81</th>\n",
       "      <td>Italy</td>\n",
       "      <td>33297</td>\n",
       "      <td>82.1</td>\n",
       "      <td>59797685</td>\n",
       "      <td>4</td>\n",
       "    </tr>\n",
       "    <tr>\n",
       "      <th>83</th>\n",
       "      <td>Japan</td>\n",
       "      <td>36162</td>\n",
       "      <td>83.5</td>\n",
       "      <td>126573481</td>\n",
       "      <td>4</td>\n",
       "    </tr>\n",
       "    <tr>\n",
       "      <th>104</th>\n",
       "      <td>Malta</td>\n",
       "      <td>30265</td>\n",
       "      <td>82.1</td>\n",
       "      <td>418670</td>\n",
       "      <td>4</td>\n",
       "    </tr>\n",
       "    <tr>\n",
       "      <th>118</th>\n",
       "      <td>Netherlands</td>\n",
       "      <td>45784</td>\n",
       "      <td>80.6</td>\n",
       "      <td>16924929</td>\n",
       "      <td>4</td>\n",
       "    </tr>\n",
       "    <tr>\n",
       "      <th>119</th>\n",
       "      <td>New Zealand</td>\n",
       "      <td>34186</td>\n",
       "      <td>80.6</td>\n",
       "      <td>4528526</td>\n",
       "      <td>4</td>\n",
       "    </tr>\n",
       "    <tr>\n",
       "      <th>124</th>\n",
       "      <td>Norway</td>\n",
       "      <td>64304</td>\n",
       "      <td>81.6</td>\n",
       "      <td>5210967</td>\n",
       "      <td>4</td>\n",
       "    </tr>\n",
       "    <tr>\n",
       "      <th>125</th>\n",
       "      <td>Oman</td>\n",
       "      <td>48226</td>\n",
       "      <td>75.7</td>\n",
       "      <td>4490541</td>\n",
       "      <td>4</td>\n",
       "    </tr>\n",
       "    <tr>\n",
       "      <th>133</th>\n",
       "      <td>Portugal</td>\n",
       "      <td>26437</td>\n",
       "      <td>79.8</td>\n",
       "      <td>10349803</td>\n",
       "      <td>4</td>\n",
       "    </tr>\n",
       "    <tr>\n",
       "      <th>140</th>\n",
       "      <td>Saudi Arabia</td>\n",
       "      <td>52469</td>\n",
       "      <td>78.1</td>\n",
       "      <td>31540372</td>\n",
       "      <td>4</td>\n",
       "    </tr>\n",
       "    <tr>\n",
       "      <th>147</th>\n",
       "      <td>Slovenia</td>\n",
       "      <td>28550</td>\n",
       "      <td>80.2</td>\n",
       "      <td>2067526</td>\n",
       "      <td>4</td>\n",
       "    </tr>\n",
       "    <tr>\n",
       "      <th>151</th>\n",
       "      <td>South Korea</td>\n",
       "      <td>34644</td>\n",
       "      <td>80.7</td>\n",
       "      <td>50293439</td>\n",
       "      <td>4</td>\n",
       "    </tr>\n",
       "    <tr>\n",
       "      <th>153</th>\n",
       "      <td>Spain</td>\n",
       "      <td>32979</td>\n",
       "      <td>81.7</td>\n",
       "      <td>46121699</td>\n",
       "      <td>4</td>\n",
       "    </tr>\n",
       "    <tr>\n",
       "      <th>160</th>\n",
       "      <td>Sweden</td>\n",
       "      <td>44892</td>\n",
       "      <td>82.0</td>\n",
       "      <td>9779426</td>\n",
       "      <td>4</td>\n",
       "    </tr>\n",
       "    <tr>\n",
       "      <th>161</th>\n",
       "      <td>Switzerland</td>\n",
       "      <td>56118</td>\n",
       "      <td>82.9</td>\n",
       "      <td>8298663</td>\n",
       "      <td>4</td>\n",
       "    </tr>\n",
       "    <tr>\n",
       "      <th>175</th>\n",
       "      <td>United Arab Emirates</td>\n",
       "      <td>60749</td>\n",
       "      <td>76.6</td>\n",
       "      <td>9156963</td>\n",
       "      <td>4</td>\n",
       "    </tr>\n",
       "    <tr>\n",
       "      <th>176</th>\n",
       "      <td>United Kingdom</td>\n",
       "      <td>38225</td>\n",
       "      <td>81.4</td>\n",
       "      <td>64715810</td>\n",
       "      <td>4</td>\n",
       "    </tr>\n",
       "    <tr>\n",
       "      <th>177</th>\n",
       "      <td>United States</td>\n",
       "      <td>53354</td>\n",
       "      <td>79.1</td>\n",
       "      <td>321773631</td>\n",
       "      <td>4</td>\n",
       "    </tr>\n",
       "  </tbody>\n",
       "</table>\n",
       "</div>"
      ],
      "text/plain": [
       "                  country  income  health  population  label\n",
       "3                 Andorra   46577    84.1       70473      4\n",
       "8               Australia   44056    81.8    23968973      4\n",
       "9                 Austria   44401    81.0     8544586      4\n",
       "12                Bahrain   44138    79.2     1377237      4\n",
       "16                Belgium   41240    80.4    11299192      4\n",
       "30                 Canada   43294    81.7    35939927      4\n",
       "44                 Cyprus   29797    82.6     1165300      4\n",
       "45         Czech Republic   29437    78.6    10543186      4\n",
       "46                Denmark   43495    80.1     5669081      4\n",
       "58                Finland   38923    80.8     5503457      4\n",
       "59                 France   37599    81.9    64395345      4\n",
       "63                Germany   44053    81.1    80688545      4\n",
       "65                 Greece   25430    79.8    10954617      4\n",
       "74                Iceland   42182    82.8      329425      4\n",
       "79                Ireland   47758    80.4     4688465      4\n",
       "80                 Israel   31590    82.4     8064036      4\n",
       "81                  Italy   33297    82.1    59797685      4\n",
       "83                  Japan   36162    83.5   126573481      4\n",
       "104                 Malta   30265    82.1      418670      4\n",
       "118           Netherlands   45784    80.6    16924929      4\n",
       "119           New Zealand   34186    80.6     4528526      4\n",
       "124                Norway   64304    81.6     5210967      4\n",
       "125                  Oman   48226    75.7     4490541      4\n",
       "133              Portugal   26437    79.8    10349803      4\n",
       "140          Saudi Arabia   52469    78.1    31540372      4\n",
       "147              Slovenia   28550    80.2     2067526      4\n",
       "151           South Korea   34644    80.7    50293439      4\n",
       "153                 Spain   32979    81.7    46121699      4\n",
       "160                Sweden   44892    82.0     9779426      4\n",
       "161           Switzerland   56118    82.9     8298663      4\n",
       "175  United Arab Emirates   60749    76.6     9156963      4\n",
       "176        United Kingdom   38225    81.4    64715810      4\n",
       "177         United States   53354    79.1   321773631      4"
      ]
     },
     "execution_count": 29,
     "metadata": {},
     "output_type": "execute_result"
    }
   ],
   "source": [
    "gapminder.loc[gapminder['label']==4]"
   ]
  },
  {
   "cell_type": "code",
   "execution_count": 30,
   "metadata": {},
   "outputs": [
    {
     "data": {
      "text/plain": [
       "80.72009578392847"
      ]
     },
     "execution_count": 30,
     "metadata": {},
     "output_type": "execute_result"
    }
   ],
   "source": [
    "kmeans.inertia_"
   ]
  },
  {
   "cell_type": "code",
   "execution_count": 31,
   "metadata": {
    "slideshow": {
     "slide_type": "subslide"
    }
   },
   "outputs": [
    {
     "data": {
      "text/html": [
       "<div>\n",
       "<style scoped>\n",
       "    .dataframe tbody tr th:only-of-type {\n",
       "        vertical-align: middle;\n",
       "    }\n",
       "\n",
       "    .dataframe tbody tr th {\n",
       "        vertical-align: top;\n",
       "    }\n",
       "\n",
       "    .dataframe thead th {\n",
       "        text-align: right;\n",
       "    }\n",
       "</style>\n",
       "<table border=\"1\" class=\"dataframe\">\n",
       "  <thead>\n",
       "    <tr style=\"text-align: right;\">\n",
       "      <th></th>\n",
       "      <th>country</th>\n",
       "      <th>income</th>\n",
       "      <th>health</th>\n",
       "      <th>population</th>\n",
       "      <th>label</th>\n",
       "    </tr>\n",
       "  </thead>\n",
       "  <tbody>\n",
       "    <tr>\n",
       "      <th>3</th>\n",
       "      <td>Andorra</td>\n",
       "      <td>46577</td>\n",
       "      <td>84.1</td>\n",
       "      <td>70473</td>\n",
       "      <td>4</td>\n",
       "    </tr>\n",
       "    <tr>\n",
       "      <th>8</th>\n",
       "      <td>Australia</td>\n",
       "      <td>44056</td>\n",
       "      <td>81.8</td>\n",
       "      <td>23968973</td>\n",
       "      <td>4</td>\n",
       "    </tr>\n",
       "    <tr>\n",
       "      <th>9</th>\n",
       "      <td>Austria</td>\n",
       "      <td>44401</td>\n",
       "      <td>81.0</td>\n",
       "      <td>8544586</td>\n",
       "      <td>4</td>\n",
       "    </tr>\n",
       "    <tr>\n",
       "      <th>12</th>\n",
       "      <td>Bahrain</td>\n",
       "      <td>44138</td>\n",
       "      <td>79.2</td>\n",
       "      <td>1377237</td>\n",
       "      <td>4</td>\n",
       "    </tr>\n",
       "    <tr>\n",
       "      <th>16</th>\n",
       "      <td>Belgium</td>\n",
       "      <td>41240</td>\n",
       "      <td>80.4</td>\n",
       "      <td>11299192</td>\n",
       "      <td>4</td>\n",
       "    </tr>\n",
       "    <tr>\n",
       "      <th>30</th>\n",
       "      <td>Canada</td>\n",
       "      <td>43294</td>\n",
       "      <td>81.7</td>\n",
       "      <td>35939927</td>\n",
       "      <td>4</td>\n",
       "    </tr>\n",
       "    <tr>\n",
       "      <th>44</th>\n",
       "      <td>Cyprus</td>\n",
       "      <td>29797</td>\n",
       "      <td>82.6</td>\n",
       "      <td>1165300</td>\n",
       "      <td>4</td>\n",
       "    </tr>\n",
       "    <tr>\n",
       "      <th>45</th>\n",
       "      <td>Czech Republic</td>\n",
       "      <td>29437</td>\n",
       "      <td>78.6</td>\n",
       "      <td>10543186</td>\n",
       "      <td>4</td>\n",
       "    </tr>\n",
       "    <tr>\n",
       "      <th>46</th>\n",
       "      <td>Denmark</td>\n",
       "      <td>43495</td>\n",
       "      <td>80.1</td>\n",
       "      <td>5669081</td>\n",
       "      <td>4</td>\n",
       "    </tr>\n",
       "    <tr>\n",
       "      <th>58</th>\n",
       "      <td>Finland</td>\n",
       "      <td>38923</td>\n",
       "      <td>80.8</td>\n",
       "      <td>5503457</td>\n",
       "      <td>4</td>\n",
       "    </tr>\n",
       "    <tr>\n",
       "      <th>59</th>\n",
       "      <td>France</td>\n",
       "      <td>37599</td>\n",
       "      <td>81.9</td>\n",
       "      <td>64395345</td>\n",
       "      <td>4</td>\n",
       "    </tr>\n",
       "    <tr>\n",
       "      <th>63</th>\n",
       "      <td>Germany</td>\n",
       "      <td>44053</td>\n",
       "      <td>81.1</td>\n",
       "      <td>80688545</td>\n",
       "      <td>4</td>\n",
       "    </tr>\n",
       "    <tr>\n",
       "      <th>65</th>\n",
       "      <td>Greece</td>\n",
       "      <td>25430</td>\n",
       "      <td>79.8</td>\n",
       "      <td>10954617</td>\n",
       "      <td>4</td>\n",
       "    </tr>\n",
       "    <tr>\n",
       "      <th>74</th>\n",
       "      <td>Iceland</td>\n",
       "      <td>42182</td>\n",
       "      <td>82.8</td>\n",
       "      <td>329425</td>\n",
       "      <td>4</td>\n",
       "    </tr>\n",
       "    <tr>\n",
       "      <th>79</th>\n",
       "      <td>Ireland</td>\n",
       "      <td>47758</td>\n",
       "      <td>80.4</td>\n",
       "      <td>4688465</td>\n",
       "      <td>4</td>\n",
       "    </tr>\n",
       "    <tr>\n",
       "      <th>80</th>\n",
       "      <td>Israel</td>\n",
       "      <td>31590</td>\n",
       "      <td>82.4</td>\n",
       "      <td>8064036</td>\n",
       "      <td>4</td>\n",
       "    </tr>\n",
       "    <tr>\n",
       "      <th>81</th>\n",
       "      <td>Italy</td>\n",
       "      <td>33297</td>\n",
       "      <td>82.1</td>\n",
       "      <td>59797685</td>\n",
       "      <td>4</td>\n",
       "    </tr>\n",
       "    <tr>\n",
       "      <th>83</th>\n",
       "      <td>Japan</td>\n",
       "      <td>36162</td>\n",
       "      <td>83.5</td>\n",
       "      <td>126573481</td>\n",
       "      <td>4</td>\n",
       "    </tr>\n",
       "    <tr>\n",
       "      <th>104</th>\n",
       "      <td>Malta</td>\n",
       "      <td>30265</td>\n",
       "      <td>82.1</td>\n",
       "      <td>418670</td>\n",
       "      <td>4</td>\n",
       "    </tr>\n",
       "    <tr>\n",
       "      <th>118</th>\n",
       "      <td>Netherlands</td>\n",
       "      <td>45784</td>\n",
       "      <td>80.6</td>\n",
       "      <td>16924929</td>\n",
       "      <td>4</td>\n",
       "    </tr>\n",
       "    <tr>\n",
       "      <th>119</th>\n",
       "      <td>New Zealand</td>\n",
       "      <td>34186</td>\n",
       "      <td>80.6</td>\n",
       "      <td>4528526</td>\n",
       "      <td>4</td>\n",
       "    </tr>\n",
       "    <tr>\n",
       "      <th>124</th>\n",
       "      <td>Norway</td>\n",
       "      <td>64304</td>\n",
       "      <td>81.6</td>\n",
       "      <td>5210967</td>\n",
       "      <td>4</td>\n",
       "    </tr>\n",
       "    <tr>\n",
       "      <th>125</th>\n",
       "      <td>Oman</td>\n",
       "      <td>48226</td>\n",
       "      <td>75.7</td>\n",
       "      <td>4490541</td>\n",
       "      <td>4</td>\n",
       "    </tr>\n",
       "    <tr>\n",
       "      <th>133</th>\n",
       "      <td>Portugal</td>\n",
       "      <td>26437</td>\n",
       "      <td>79.8</td>\n",
       "      <td>10349803</td>\n",
       "      <td>4</td>\n",
       "    </tr>\n",
       "    <tr>\n",
       "      <th>140</th>\n",
       "      <td>Saudi Arabia</td>\n",
       "      <td>52469</td>\n",
       "      <td>78.1</td>\n",
       "      <td>31540372</td>\n",
       "      <td>4</td>\n",
       "    </tr>\n",
       "    <tr>\n",
       "      <th>147</th>\n",
       "      <td>Slovenia</td>\n",
       "      <td>28550</td>\n",
       "      <td>80.2</td>\n",
       "      <td>2067526</td>\n",
       "      <td>4</td>\n",
       "    </tr>\n",
       "    <tr>\n",
       "      <th>151</th>\n",
       "      <td>South Korea</td>\n",
       "      <td>34644</td>\n",
       "      <td>80.7</td>\n",
       "      <td>50293439</td>\n",
       "      <td>4</td>\n",
       "    </tr>\n",
       "    <tr>\n",
       "      <th>153</th>\n",
       "      <td>Spain</td>\n",
       "      <td>32979</td>\n",
       "      <td>81.7</td>\n",
       "      <td>46121699</td>\n",
       "      <td>4</td>\n",
       "    </tr>\n",
       "    <tr>\n",
       "      <th>160</th>\n",
       "      <td>Sweden</td>\n",
       "      <td>44892</td>\n",
       "      <td>82.0</td>\n",
       "      <td>9779426</td>\n",
       "      <td>4</td>\n",
       "    </tr>\n",
       "    <tr>\n",
       "      <th>161</th>\n",
       "      <td>Switzerland</td>\n",
       "      <td>56118</td>\n",
       "      <td>82.9</td>\n",
       "      <td>8298663</td>\n",
       "      <td>4</td>\n",
       "    </tr>\n",
       "    <tr>\n",
       "      <th>175</th>\n",
       "      <td>United Arab Emirates</td>\n",
       "      <td>60749</td>\n",
       "      <td>76.6</td>\n",
       "      <td>9156963</td>\n",
       "      <td>4</td>\n",
       "    </tr>\n",
       "    <tr>\n",
       "      <th>176</th>\n",
       "      <td>United Kingdom</td>\n",
       "      <td>38225</td>\n",
       "      <td>81.4</td>\n",
       "      <td>64715810</td>\n",
       "      <td>4</td>\n",
       "    </tr>\n",
       "    <tr>\n",
       "      <th>177</th>\n",
       "      <td>United States</td>\n",
       "      <td>53354</td>\n",
       "      <td>79.1</td>\n",
       "      <td>321773631</td>\n",
       "      <td>4</td>\n",
       "    </tr>\n",
       "  </tbody>\n",
       "</table>\n",
       "</div>"
      ],
      "text/plain": [
       "                  country  income  health  population  label\n",
       "3                 Andorra   46577    84.1       70473      4\n",
       "8               Australia   44056    81.8    23968973      4\n",
       "9                 Austria   44401    81.0     8544586      4\n",
       "12                Bahrain   44138    79.2     1377237      4\n",
       "16                Belgium   41240    80.4    11299192      4\n",
       "30                 Canada   43294    81.7    35939927      4\n",
       "44                 Cyprus   29797    82.6     1165300      4\n",
       "45         Czech Republic   29437    78.6    10543186      4\n",
       "46                Denmark   43495    80.1     5669081      4\n",
       "58                Finland   38923    80.8     5503457      4\n",
       "59                 France   37599    81.9    64395345      4\n",
       "63                Germany   44053    81.1    80688545      4\n",
       "65                 Greece   25430    79.8    10954617      4\n",
       "74                Iceland   42182    82.8      329425      4\n",
       "79                Ireland   47758    80.4     4688465      4\n",
       "80                 Israel   31590    82.4     8064036      4\n",
       "81                  Italy   33297    82.1    59797685      4\n",
       "83                  Japan   36162    83.5   126573481      4\n",
       "104                 Malta   30265    82.1      418670      4\n",
       "118           Netherlands   45784    80.6    16924929      4\n",
       "119           New Zealand   34186    80.6     4528526      4\n",
       "124                Norway   64304    81.6     5210967      4\n",
       "125                  Oman   48226    75.7     4490541      4\n",
       "133              Portugal   26437    79.8    10349803      4\n",
       "140          Saudi Arabia   52469    78.1    31540372      4\n",
       "147              Slovenia   28550    80.2     2067526      4\n",
       "151           South Korea   34644    80.7    50293439      4\n",
       "153                 Spain   32979    81.7    46121699      4\n",
       "160                Sweden   44892    82.0     9779426      4\n",
       "161           Switzerland   56118    82.9     8298663      4\n",
       "175  United Arab Emirates   60749    76.6     9156963      4\n",
       "176        United Kingdom   38225    81.4    64715810      4\n",
       "177         United States   53354    79.1   321773631      4"
      ]
     },
     "execution_count": 31,
     "metadata": {},
     "output_type": "execute_result"
    }
   ],
   "source": [
    "gapminder.loc[gapminder['label']==4]"
   ]
  },
  {
   "cell_type": "markdown",
   "metadata": {
    "slideshow": {
     "slide_type": "slide"
    }
   },
   "source": [
    "### Exercise: Clustering neighborhoods by Airbnb stats\n",
    "\n",
    "I've extracted neighborhood Airbnb statistics for Philadelphia neighborhoods from [Tom Slee's website](http://tomslee.net/airbnb-data).\n",
    "\n",
    "The data includes average price per person, overall satisfaction, and number of listings."
   ]
  },
  {
   "cell_type": "markdown",
   "metadata": {},
   "source": [
    "::: {.callout-note}\n",
    "### Two good references for Airbnb data\n",
    "\n",
    "- [Tom Slee's website](http://tomslee.net/airbnb-data)\n",
    "- [Inside Airbnb](http://insideairbnb.com/get-the-data.html)\n",
    "\n",
    "Original research study: [How Airbnb's Data Hid the Facts in New York City](http://insideairbnb.com/reports/how-airbnbs-data-hid-the-facts-in-new-york-city.pdf)\n",
    "\n",
    ":::"
   ]
  },
  {
   "cell_type": "markdown",
   "metadata": {
    "slideshow": {
     "slide_type": "slide"
    }
   },
   "source": [
    "#### Step 1: Load the data with pandas\n",
    "\n",
    "The data is available in CSV format (\"philly_airbnb_by_neighborhoods.csv\") in the \"data/\" folder of the repository."
   ]
  },
  {
   "cell_type": "code",
   "execution_count": 36,
   "metadata": {
    "tags": []
   },
   "outputs": [
    {
     "data": {
      "text/html": [
       "<div>\n",
       "<style scoped>\n",
       "    .dataframe tbody tr th:only-of-type {\n",
       "        vertical-align: middle;\n",
       "    }\n",
       "\n",
       "    .dataframe tbody tr th {\n",
       "        vertical-align: top;\n",
       "    }\n",
       "\n",
       "    .dataframe thead th {\n",
       "        text-align: right;\n",
       "    }\n",
       "</style>\n",
       "<table border=\"1\" class=\"dataframe\">\n",
       "  <thead>\n",
       "    <tr style=\"text-align: right;\">\n",
       "      <th></th>\n",
       "      <th>neighborhood</th>\n",
       "      <th>price_per_person</th>\n",
       "      <th>overall_satisfaction</th>\n",
       "      <th>N</th>\n",
       "    </tr>\n",
       "  </thead>\n",
       "  <tbody>\n",
       "    <tr>\n",
       "      <th>0</th>\n",
       "      <td>ALLEGHENY_WEST</td>\n",
       "      <td>120.791667</td>\n",
       "      <td>4.666667</td>\n",
       "      <td>23</td>\n",
       "    </tr>\n",
       "    <tr>\n",
       "      <th>1</th>\n",
       "      <td>BELLA_VISTA</td>\n",
       "      <td>87.407920</td>\n",
       "      <td>3.158333</td>\n",
       "      <td>204</td>\n",
       "    </tr>\n",
       "    <tr>\n",
       "      <th>2</th>\n",
       "      <td>BELMONT</td>\n",
       "      <td>69.425000</td>\n",
       "      <td>3.250000</td>\n",
       "      <td>11</td>\n",
       "    </tr>\n",
       "    <tr>\n",
       "      <th>3</th>\n",
       "      <td>BREWERYTOWN</td>\n",
       "      <td>71.788188</td>\n",
       "      <td>1.943182</td>\n",
       "      <td>142</td>\n",
       "    </tr>\n",
       "    <tr>\n",
       "      <th>4</th>\n",
       "      <td>BUSTLETON</td>\n",
       "      <td>55.833333</td>\n",
       "      <td>1.250000</td>\n",
       "      <td>19</td>\n",
       "    </tr>\n",
       "  </tbody>\n",
       "</table>\n",
       "</div>"
      ],
      "text/plain": [
       "     neighborhood  price_per_person  overall_satisfaction    N\n",
       "0  ALLEGHENY_WEST        120.791667              4.666667   23\n",
       "1     BELLA_VISTA         87.407920              3.158333  204\n",
       "2         BELMONT         69.425000              3.250000   11\n",
       "3     BREWERYTOWN         71.788188              1.943182  142\n",
       "4       BUSTLETON         55.833333              1.250000   19"
      ]
     },
     "execution_count": 36,
     "metadata": {},
     "output_type": "execute_result"
    }
   ],
   "source": [
    "airbnb = pd.read_csv('./data/philly_airbnb_by_neighborhoods.csv')\n",
    "airbnb.head()"
   ]
  },
  {
   "cell_type": "markdown",
   "metadata": {
    "hide_input": true,
    "slideshow": {
     "slide_type": "slide"
    }
   },
   "source": [
    "#### Step 2: Perform the K-Means fit\n",
    "\n",
    "- Use our three features: `price_per_person`, `overall_satisfaction`, `N`\n",
    "- I used 5 clusters, but you are welcome to experiment with different values! We will discuss what the *optimal* number is after we go through the solutions!\n",
    "- Scaling the features is recommended, but if the scales aren't too different, so probably isn't necessary in this case"
   ]
  },
  {
   "cell_type": "code",
   "execution_count": 44,
   "metadata": {
    "tags": []
   },
   "outputs": [
    {
     "data": {
      "text/plain": [
       "array([[ 0.79001045,  1.74917003, -0.52348653],\n",
       "       [ 0.0714296 ,  0.41880366,  0.40700931],\n",
       "       [-0.31565045,  0.49965466, -0.58517687],\n",
       "       [-0.26478314, -0.65297315,  0.08827593],\n",
       "       [-0.60820933, -1.26436704, -0.54404998]])"
      ]
     },
     "execution_count": 44,
     "metadata": {},
     "output_type": "execute_result"
    }
   ],
   "source": [
    "airbnb_scaled = scaler.fit_transform(airbnb[['price_per_person','overall_satisfaction','N']])\n",
    "airbnb_scaled[:5]\n"
   ]
  },
  {
   "cell_type": "code",
   "execution_count": 46,
   "metadata": {
    "tags": []
   },
   "outputs": [
    {
     "name": "stderr",
     "output_type": "stream",
     "text": [
      "C:\\ProgramData\\mambaforge\\envs\\musa-550-fall-2023\\lib\\site-packages\\sklearn\\cluster\\_kmeans.py:1436: UserWarning: KMeans is known to have a memory leak on Windows with MKL, when there are less chunks than available threads. You can avoid it by setting the environment variable OMP_NUM_THREADS=1.\n",
      "  warnings.warn(\n"
     ]
    },
    {
     "data": {
      "text/html": [
       "<div>\n",
       "<style scoped>\n",
       "    .dataframe tbody tr th:only-of-type {\n",
       "        vertical-align: middle;\n",
       "    }\n",
       "\n",
       "    .dataframe tbody tr th {\n",
       "        vertical-align: top;\n",
       "    }\n",
       "\n",
       "    .dataframe thead th {\n",
       "        text-align: right;\n",
       "    }\n",
       "</style>\n",
       "<table border=\"1\" class=\"dataframe\">\n",
       "  <thead>\n",
       "    <tr style=\"text-align: right;\">\n",
       "      <th></th>\n",
       "      <th>neighborhood</th>\n",
       "      <th>price_per_person</th>\n",
       "      <th>overall_satisfaction</th>\n",
       "      <th>N</th>\n",
       "      <th>label</th>\n",
       "    </tr>\n",
       "  </thead>\n",
       "  <tbody>\n",
       "    <tr>\n",
       "      <th>0</th>\n",
       "      <td>ALLEGHENY_WEST</td>\n",
       "      <td>120.791667</td>\n",
       "      <td>4.666667</td>\n",
       "      <td>23</td>\n",
       "      <td>0</td>\n",
       "    </tr>\n",
       "    <tr>\n",
       "      <th>1</th>\n",
       "      <td>BELLA_VISTA</td>\n",
       "      <td>87.407920</td>\n",
       "      <td>3.158333</td>\n",
       "      <td>204</td>\n",
       "      <td>0</td>\n",
       "    </tr>\n",
       "    <tr>\n",
       "      <th>2</th>\n",
       "      <td>BELMONT</td>\n",
       "      <td>69.425000</td>\n",
       "      <td>3.250000</td>\n",
       "      <td>11</td>\n",
       "      <td>0</td>\n",
       "    </tr>\n",
       "    <tr>\n",
       "      <th>3</th>\n",
       "      <td>BREWERYTOWN</td>\n",
       "      <td>71.788188</td>\n",
       "      <td>1.943182</td>\n",
       "      <td>142</td>\n",
       "      <td>0</td>\n",
       "    </tr>\n",
       "    <tr>\n",
       "      <th>4</th>\n",
       "      <td>BUSTLETON</td>\n",
       "      <td>55.833333</td>\n",
       "      <td>1.250000</td>\n",
       "      <td>19</td>\n",
       "      <td>1</td>\n",
       "    </tr>\n",
       "  </tbody>\n",
       "</table>\n",
       "</div>"
      ],
      "text/plain": [
       "     neighborhood  price_per_person  overall_satisfaction    N  label\n",
       "0  ALLEGHENY_WEST        120.791667              4.666667   23      0\n",
       "1     BELLA_VISTA         87.407920              3.158333  204      0\n",
       "2         BELMONT         69.425000              3.250000   11      0\n",
       "3     BREWERYTOWN         71.788188              1.943182  142      0\n",
       "4       BUSTLETON         55.833333              1.250000   19      1"
      ]
     },
     "execution_count": 46,
     "metadata": {},
     "output_type": "execute_result"
    }
   ],
   "source": [
    "kmeans = KMeans(n_clusters=5, n_init=10, random_state=42)\n",
    "kmeans.fit(airbnb_scaled)\n",
    "\n",
    "# Extract the labels\n",
    "airbnb['label'] = kmeans.labels_\n",
    "\n",
    "airbnb.head()"
   ]
  },
  {
   "cell_type": "markdown",
   "metadata": {
    "slideshow": {
     "slide_type": "slide"
    }
   },
   "source": [
    "#### Step 3: Calculate average features per cluster\n",
    "\n",
    "To gain some insight into our clusters, after calculating the K-Means labels:\n",
    "- group by the `label` column\n",
    "- calculate the `mean()` of each of our features\n",
    "- calculate the number of neighborhoods per cluster"
   ]
  },
  {
   "cell_type": "code",
   "execution_count": 48,
   "metadata": {
    "tags": []
   },
   "outputs": [
    {
     "data": {
      "text/html": [
       "<div>\n",
       "<style scoped>\n",
       "    .dataframe tbody tr th:only-of-type {\n",
       "        vertical-align: middle;\n",
       "    }\n",
       "\n",
       "    .dataframe tbody tr th {\n",
       "        vertical-align: top;\n",
       "    }\n",
       "\n",
       "    .dataframe thead th {\n",
       "        text-align: right;\n",
       "    }\n",
       "</style>\n",
       "<table border=\"1\" class=\"dataframe\">\n",
       "  <thead>\n",
       "    <tr style=\"text-align: right;\">\n",
       "      <th></th>\n",
       "      <th>price_per_person</th>\n",
       "      <th>overall_satisfaction</th>\n",
       "      <th>N</th>\n",
       "    </tr>\n",
       "    <tr>\n",
       "      <th>label</th>\n",
       "      <th></th>\n",
       "      <th></th>\n",
       "      <th></th>\n",
       "    </tr>\n",
       "  </thead>\n",
       "  <tbody>\n",
       "    <tr>\n",
       "      <th>0</th>\n",
       "      <td>73.199020</td>\n",
       "      <td>3.137213</td>\n",
       "      <td>76.550725</td>\n",
       "    </tr>\n",
       "    <tr>\n",
       "      <th>1</th>\n",
       "      <td>79.250011</td>\n",
       "      <td>0.697461</td>\n",
       "      <td>23.473684</td>\n",
       "    </tr>\n",
       "    <tr>\n",
       "      <th>2</th>\n",
       "      <td>387.626984</td>\n",
       "      <td>5.000000</td>\n",
       "      <td>31.000000</td>\n",
       "    </tr>\n",
       "    <tr>\n",
       "      <th>3</th>\n",
       "      <td>136.263996</td>\n",
       "      <td>3.000924</td>\n",
       "      <td>1499.000000</td>\n",
       "    </tr>\n",
       "    <tr>\n",
       "      <th>4</th>\n",
       "      <td>116.601261</td>\n",
       "      <td>2.936508</td>\n",
       "      <td>389.933333</td>\n",
       "    </tr>\n",
       "  </tbody>\n",
       "</table>\n",
       "</div>"
      ],
      "text/plain": [
       "       price_per_person  overall_satisfaction            N\n",
       "label                                                     \n",
       "0             73.199020              3.137213    76.550725\n",
       "1             79.250011              0.697461    23.473684\n",
       "2            387.626984              5.000000    31.000000\n",
       "3            136.263996              3.000924  1499.000000\n",
       "4            116.601261              2.936508   389.933333"
      ]
     },
     "execution_count": 48,
     "metadata": {},
     "output_type": "execute_result"
    }
   ],
   "source": [
    "means = airbnb.groupby('label')[['price_per_person','overall_satisfaction','N']].mean()\n",
    "means"
   ]
  },
  {
   "cell_type": "code",
   "execution_count": 56,
   "metadata": {
    "tags": []
   },
   "outputs": [
    {
     "data": {
      "text/html": [
       "<div>\n",
       "<style scoped>\n",
       "    .dataframe tbody tr th:only-of-type {\n",
       "        vertical-align: middle;\n",
       "    }\n",
       "\n",
       "    .dataframe tbody tr th {\n",
       "        vertical-align: top;\n",
       "    }\n",
       "\n",
       "    .dataframe thead th {\n",
       "        text-align: right;\n",
       "    }\n",
       "</style>\n",
       "<table border=\"1\" class=\"dataframe\">\n",
       "  <thead>\n",
       "    <tr style=\"text-align: right;\">\n",
       "      <th></th>\n",
       "      <th>N</th>\n",
       "    </tr>\n",
       "    <tr>\n",
       "      <th>label</th>\n",
       "      <th></th>\n",
       "    </tr>\n",
       "  </thead>\n",
       "  <tbody>\n",
       "    <tr>\n",
       "      <th>0</th>\n",
       "      <td>69</td>\n",
       "    </tr>\n",
       "    <tr>\n",
       "      <th>1</th>\n",
       "      <td>19</td>\n",
       "    </tr>\n",
       "    <tr>\n",
       "      <th>2</th>\n",
       "      <td>1</td>\n",
       "    </tr>\n",
       "    <tr>\n",
       "      <th>3</th>\n",
       "      <td>1</td>\n",
       "    </tr>\n",
       "    <tr>\n",
       "      <th>4</th>\n",
       "      <td>15</td>\n",
       "    </tr>\n",
       "  </tbody>\n",
       "</table>\n",
       "</div>"
      ],
      "text/plain": [
       "        N\n",
       "label    \n",
       "0      69\n",
       "1      19\n",
       "2       1\n",
       "3       1\n",
       "4      15"
      ]
     },
     "execution_count": 56,
     "metadata": {},
     "output_type": "execute_result"
    }
   ],
   "source": [
    "count = airbnb.groupby('label')[['N']].count()\n",
    "count"
   ]
  },
  {
   "cell_type": "markdown",
   "metadata": {
    "slideshow": {
     "slide_type": "slide"
    }
   },
   "source": [
    "#### Step 4: Plot a choropleth, coloring neighborhoods by their cluster label\n",
    "\n",
    "- Part 1: Load the Philadelphia neighborhoods available in the data directory:  \n",
    "    - `./data/philly_neighborhoods.geojson`\n",
    "- Part 2: Merge the Airbnb data (with labels) and the neighborhood polygons\n",
    "- Part 3: Use geopandas to plot the neighborhoods\n",
    "    - The `categorical=True` and `legend=True` keywords will be useful here"
   ]
  },
  {
   "cell_type": "code",
   "execution_count": 58,
   "metadata": {
    "tags": []
   },
   "outputs": [
    {
     "data": {
      "text/html": [
       "<div>\n",
       "<style scoped>\n",
       "    .dataframe tbody tr th:only-of-type {\n",
       "        vertical-align: middle;\n",
       "    }\n",
       "\n",
       "    .dataframe tbody tr th {\n",
       "        vertical-align: top;\n",
       "    }\n",
       "\n",
       "    .dataframe thead th {\n",
       "        text-align: right;\n",
       "    }\n",
       "</style>\n",
       "<table border=\"1\" class=\"dataframe\">\n",
       "  <thead>\n",
       "    <tr style=\"text-align: right;\">\n",
       "      <th></th>\n",
       "      <th>Name</th>\n",
       "      <th>geometry</th>\n",
       "    </tr>\n",
       "  </thead>\n",
       "  <tbody>\n",
       "    <tr>\n",
       "      <th>0</th>\n",
       "      <td>LAWNDALE</td>\n",
       "      <td>POLYGON ((-75.08616 40.05013, -75.08893 40.044...</td>\n",
       "    </tr>\n",
       "    <tr>\n",
       "      <th>1</th>\n",
       "      <td>ASTON_WOODBRIDGE</td>\n",
       "      <td>POLYGON ((-75.00860 40.05369, -75.00861 40.053...</td>\n",
       "    </tr>\n",
       "    <tr>\n",
       "      <th>2</th>\n",
       "      <td>CARROLL_PARK</td>\n",
       "      <td>POLYGON ((-75.22673 39.97720, -75.22022 39.974...</td>\n",
       "    </tr>\n",
       "    <tr>\n",
       "      <th>3</th>\n",
       "      <td>CHESTNUT_HILL</td>\n",
       "      <td>POLYGON ((-75.21278 40.08637, -75.21272 40.086...</td>\n",
       "    </tr>\n",
       "    <tr>\n",
       "      <th>4</th>\n",
       "      <td>BURNHOLME</td>\n",
       "      <td>POLYGON ((-75.08768 40.06861, -75.08758 40.068...</td>\n",
       "    </tr>\n",
       "  </tbody>\n",
       "</table>\n",
       "</div>"
      ],
      "text/plain": [
       "               Name                                           geometry\n",
       "0          LAWNDALE  POLYGON ((-75.08616 40.05013, -75.08893 40.044...\n",
       "1  ASTON_WOODBRIDGE  POLYGON ((-75.00860 40.05369, -75.00861 40.053...\n",
       "2      CARROLL_PARK  POLYGON ((-75.22673 39.97720, -75.22022 39.974...\n",
       "3     CHESTNUT_HILL  POLYGON ((-75.21278 40.08637, -75.21272 40.086...\n",
       "4         BURNHOLME  POLYGON ((-75.08768 40.06861, -75.08758 40.068..."
      ]
     },
     "execution_count": 58,
     "metadata": {},
     "output_type": "execute_result"
    }
   ],
   "source": [
    "neighboorhoods = gpd.read_file('./data/philly_neighborhoods.geojson')\n",
    "neighboorhoods.head()"
   ]
  },
  {
   "cell_type": "code",
   "execution_count": null,
   "metadata": {},
   "outputs": [],
   "source": [
    "merged = neighboorhoods.merge(airbnb,left_on='Name',right_on='neighborhood',how='left')\n",
    "merged"
   ]
  },
  {
   "cell_type": "markdown",
   "metadata": {
    "slideshow": {
     "slide_type": "slide"
    }
   },
   "source": [
    "#### Step 5: Plot an interactive map\n",
    "\n",
    "Use hvplot / geopandas to plot the clustering results with a tooltip for neighborhood name and tooltip."
   ]
  },
  {
   "cell_type": "code",
   "execution_count": 67,
   "metadata": {
    "tags": []
   },
   "outputs": [
    {
     "name": "stderr",
     "output_type": "stream",
     "text": [
      "WARNING:param.main: categorical option not found for polygons plot with bokeh; similar options include: []\n"
     ]
    },
    {
     "data": {},
     "metadata": {},
     "output_type": "display_data"
    },
    {
     "data": {
      "application/vnd.holoviews_exec.v0+json": "",
      "text/html": [
       "<div id='p2187'>\n",
       "  <div id=\"e88ba0fb-3e22-4310-8503-5d10eb60864a\" data-root-id=\"p2187\" style=\"display: contents;\"></div>\n",
       "</div>\n",
       "<script type=\"application/javascript\">(function(root) {\n",
       "  var docs_json = {\"b21b32fe-e4ba-4a2c-bb9b-8ad547dccb3e\":{\"version\":\"3.2.1\",\"title\":\"Bokeh Application\",\"roots\":[{\"type\":\"object\",\"name\":\"Row\",\"id\":\"p2187\",\"attributes\":{\"name\":\"Row02057\",\"tags\":[\"embedded\"],\"stylesheets\":[\"\\n:host(.pn-loading.pn-arc):before, .pn-loading.pn-arc:before {\\n  background-image: url(\\\"data:image/svg+xml;base64,PHN2ZyB4bWxucz0iaHR0cDovL3d3dy53My5vcmcvMjAwMC9zdmciIHN0eWxlPSJtYXJnaW46IGF1dG87IGJhY2tncm91bmQ6IG5vbmU7IGRpc3BsYXk6IGJsb2NrOyBzaGFwZS1yZW5kZXJpbmc6IGF1dG87IiB2aWV3Qm94PSIwIDAgMTAwIDEwMCIgcHJlc2VydmVBc3BlY3RSYXRpbz0ieE1pZFlNaWQiPiAgPGNpcmNsZSBjeD0iNTAiIGN5PSI1MCIgZmlsbD0ibm9uZSIgc3Ryb2tlPSIjYzNjM2MzIiBzdHJva2Utd2lkdGg9IjEwIiByPSIzNSIgc3Ryb2tlLWRhc2hhcnJheT0iMTY0LjkzMzYxNDMxMzQ2NDE1IDU2Ljk3Nzg3MTQzNzgyMTM4Ij4gICAgPGFuaW1hdGVUcmFuc2Zvcm0gYXR0cmlidXRlTmFtZT0idHJhbnNmb3JtIiB0eXBlPSJyb3RhdGUiIHJlcGVhdENvdW50PSJpbmRlZmluaXRlIiBkdXI9IjFzIiB2YWx1ZXM9IjAgNTAgNTA7MzYwIDUwIDUwIiBrZXlUaW1lcz0iMDsxIj48L2FuaW1hdGVUcmFuc2Zvcm0+ICA8L2NpcmNsZT48L3N2Zz4=\\\");\\n  background-size: auto calc(min(50%, 400px));\\n}\",{\"type\":\"object\",\"name\":\"ImportedStyleSheet\",\"id\":\"p2190\",\"attributes\":{\"url\":\"https://cdn.holoviz.org/panel/1.2.1/dist/css/loading.css\"}},{\"type\":\"object\",\"name\":\"ImportedStyleSheet\",\"id\":\"p2265\",\"attributes\":{\"url\":\"https://cdn.holoviz.org/panel/1.2.1/dist/css/listpanel.css\"}},{\"type\":\"object\",\"name\":\"ImportedStyleSheet\",\"id\":\"p2188\",\"attributes\":{\"url\":\"https://cdn.holoviz.org/panel/1.2.1/dist/bundled/theme/default.css\"}},{\"type\":\"object\",\"name\":\"ImportedStyleSheet\",\"id\":\"p2189\",\"attributes\":{\"url\":\"https://cdn.holoviz.org/panel/1.2.1/dist/bundled/theme/native.css\"}}],\"margin\":0,\"sizing_mode\":\"stretch_width\",\"align\":\"start\",\"children\":[{\"type\":\"object\",\"name\":\"Spacer\",\"id\":\"p2191\",\"attributes\":{\"name\":\"HSpacer02068\",\"stylesheets\":[\"\\n:host(.pn-loading.pn-arc):before, .pn-loading.pn-arc:before {\\n  background-image: url(\\\"data:image/svg+xml;base64,PHN2ZyB4bWxucz0iaHR0cDovL3d3dy53My5vcmcvMjAwMC9zdmciIHN0eWxlPSJtYXJnaW46IGF1dG87IGJhY2tncm91bmQ6IG5vbmU7IGRpc3BsYXk6IGJsb2NrOyBzaGFwZS1yZW5kZXJpbmc6IGF1dG87IiB2aWV3Qm94PSIwIDAgMTAwIDEwMCIgcHJlc2VydmVBc3BlY3RSYXRpbz0ieE1pZFlNaWQiPiAgPGNpcmNsZSBjeD0iNTAiIGN5PSI1MCIgZmlsbD0ibm9uZSIgc3Ryb2tlPSIjYzNjM2MzIiBzdHJva2Utd2lkdGg9IjEwIiByPSIzNSIgc3Ryb2tlLWRhc2hhcnJheT0iMTY0LjkzMzYxNDMxMzQ2NDE1IDU2Ljk3Nzg3MTQzNzgyMTM4Ij4gICAgPGFuaW1hdGVUcmFuc2Zvcm0gYXR0cmlidXRlTmFtZT0idHJhbnNmb3JtIiB0eXBlPSJyb3RhdGUiIHJlcGVhdENvdW50PSJpbmRlZmluaXRlIiBkdXI9IjFzIiB2YWx1ZXM9IjAgNTAgNTA7MzYwIDUwIDUwIiBrZXlUaW1lcz0iMDsxIj48L2FuaW1hdGVUcmFuc2Zvcm0+ICA8L2NpcmNsZT48L3N2Zz4=\\\");\\n  background-size: auto calc(min(50%, 400px));\\n}\",{\"id\":\"p2190\"},{\"id\":\"p2188\"},{\"id\":\"p2189\"}],\"margin\":0,\"sizing_mode\":\"stretch_width\",\"align\":\"start\"}},{\"type\":\"object\",\"name\":\"Figure\",\"id\":\"p2203\",\"attributes\":{\"width\":null,\"height\":null,\"margin\":[5,10],\"sizing_mode\":\"fixed\",\"align\":\"start\",\"x_range\":{\"type\":\"object\",\"name\":\"Range1d\",\"id\":\"p2195\",\"attributes\":{\"tags\":[[[\"Longitude\",\"Longitude\",null]],[]],\"start\":-8385727.36506746,\"end\":-8338470.61205033,\"reset_start\":-8385727.36506746,\"reset_end\":-8338470.61205033}},\"y_range\":{\"type\":\"object\",\"name\":\"Range1d\",\"id\":\"p2196\",\"attributes\":{\"tags\":[[[\"Latitude\",\"Latitude\",null]],{\"type\":\"map\",\"entries\":[[\"invert_yaxis\",false],[\"autorange\",false]]}],\"start\":4842696.635265138,\"end\":4889953.388282268,\"reset_start\":4842696.635265138,\"reset_end\":4889953.388282268}},\"x_scale\":{\"type\":\"object\",\"name\":\"LinearScale\",\"id\":\"p2213\"},\"y_scale\":{\"type\":\"object\",\"name\":\"LinearScale\",\"id\":\"p2214\"},\"title\":{\"type\":\"object\",\"name\":\"Title\",\"id\":\"p2206\",\"attributes\":{\"text_color\":\"black\",\"text_font_size\":\"12pt\"}},\"outline_line_alpha\":0,\"renderers\":[{\"type\":\"object\",\"name\":\"GlyphRenderer\",\"id\":\"p2240\",\"attributes\":{\"data_source\":{\"type\":\"object\",\"name\":\"ColumnDataSource\",\"id\":\"p2229\",\"attributes\":{\"selected\":{\"type\":\"object\",\"name\":\"Selection\",\"id\":\"p2230\",\"attributes\":{\"indices\":[],\"line_indices\":[]}},\"selection_policy\":{\"type\":\"object\",\"name\":\"UnionRenderers\",\"id\":\"p2231\"},\"data\":{\"type\":\"map\",\"entries\":[[\"xs\",[[[{\"type\":\"ndarray\",\"array\":{\"type\":\"bytes\",\"data\":\"kTCMQ6biX8EGVoU+8+JfwdtaT3ll41/BZ9NkWanjX8Hs1HiQ0+NfwfwVnKz041/B3i+GKQ/kX8ERvGQTZuRfwaYgqkuo5F/BBjHcckfkX8F2Cdd9cuRfwTQNEsaS5F/Bds2FBKDkX8Go6+W0nORfwWC4r76v5F/BW6Hi1R3lX8ENFbCTdeVfwRNIXE2H5V/BzRt6nYjlX8EOpaBYiOVfwb7w302F5V/BuZXBeGzlX8G1LcsWW+VfwYSrSPNW5V/BsFRYOl/lX8EQASibWOVfwdDXvqNT5V/Bkt20vlzlX8Gsf1y3eeVfwZu6UtKC5V/BLckIsJblX8FocGnCpOVfwerhlZe95V/BiFGNULXlX8GCBa8ao+VfwSiDp9Oa5V/BIN5j7YvlX8HWqb3Qg+VfwcmRGC5/5V/Bak/ea1vlX8HcE+VfYuVfwWgI7UVZ5V/Ba1yyHFnlX8G7a6HGV+VfwZ+pkuhV5V/B+kVGClLlX8EUuH3cLeVfwfUlYSot5V/BOUnk9yrlX8HO3fYLKeVfwUG3TSYp5V/B1xOSEyrlX8HdgJx6IuVfwQGRrVwf5V/ByVwEMBvlX8G53bvfFuVfwTxclF0S5V/BcrOtsA3lX8ExK+mYCOVfwbtRx/kC5V/BJ0sH/vzkX8FHrwi79uRfwYnsKX/w5F/BR5AmIOvkX8EPKUtD6uRfwY8azePj5F/BVtywJ93kX8GaQjfk1eRfwSfE3zXO5F/BTI8nq8bkX8GuOI8nv+Rfwd+BKLS35F/B7Gg3BrTkX8FvZH4nsORfwXf7bgKt5F/BIgnmo6jkX8Ebx+0speRfwdrEMA+h5F/BaSj2cZnkX8Fpf77KkeRfwZqvpiqK5F/B7QNvg4LkX8Ey1DLKgeRfwUxWN9x65F/BYvC/JnPkX8EaTvl0a+Rfwf48TY1q5F/B57gw0WPkX8Hrnlg/XORfwdf1/8lU5F/Bq70mcU3kX8EjO40mRuRfwfwyZmtB5F/BViaUxj7kX8Fy3rmwPeRfwcVWW1g35F/BDfDC1C/kX8G1sipbLuRfwZw6iy0o5F/BDjvoqiLkX8Gy8fNwIORfwVaKPLwZ5F/BgmLwtBjkX8GBgQr7EORfwapXmz4J5F/BHIvukQHkX8Htl1zj+eNfwbmX5yHy41/BhXQdeOrjX8GBiyTN4uNfweyMEKni41/B6LwZheLjX8FmiiAl2+NfwZvP6H3T41/BSO/Q3cvjX8EPoRhTxONfwX5UYMi841/BrQyjUrjjX8EswedLteNfweblrt2t41/B53f1i6bjX8Hqs8m0ouNfwV4KPDqf41/BSJ2C6JfjX8FfqxpYk+NfwaUwyZaQ41/BGcIPRYnjX8EmEWH8heNfwQgudvqB41/BKv7Qa4HjX8GF0Cygd+NfwQZwrkBx41/B54InozTjX8FyI6TutOJfwbGYvrat4l/B+B0bybviX8FRm+dwveJfwcwVqW+l4l/B\"},\"shape\":[138],\"dtype\":\"float64\",\"order\":\"little\"}]],[[{\"type\":\"ndarray\",\"array\":{\"type\":\"bytes\",\"data\":\"XE+dpzfaX8H6fZ7qN9pfwRxjPgJm2l/BvKgYzLbaX8E+wc1SkdtfwdgSUSGv21/BHRrkyK/bX8Eq8yJ1fdtfwV8pnsBR21/B4OUS07LaX8HPx6shKtpfwaOUPQEq2l/BJY6euRHaX8FCkDQWKdpfwTZCzk062l/Boqd8K07aX8GR5YB+T9pfwXAPHuZE2l/BEkqw+jjaX8FcT52nN9pfwQ==\"},\"shape\":[20],\"dtype\":\"float64\",\"order\":\"little\"}]],[[{\"type\":\"ndarray\",\"array\":{\"type\":\"bytes\",\"data\":\"3QRdVe7xX8GUTfAlOfFfweri5mQI8V/Bx+bLl9XxX8Edmc6YR/NfwTwMUnCQ81/BNpaA3uTzX8HnYTbU9fNfwcGwcjwl81/Byj657CryX8GSdQ8/+/Ffwa4ALDX78V/B\"},\"shape\":[12],\"dtype\":\"float64\",\"order\":\"little\"}]],[[{\"type\":\"ndarray\",\"array\":{\"type\":\"bytes\",\"data\":\"TLApBmrwX8G161B+aPBfwbv6hEpk8F/B9iR9XV/wX8G82Rs+WfBfwTd0aaBW8F/BI/5pXVDwX8FMVL5xP/BfwSykx24q8F/BoI37cybwX8HJwJDZG/BfwcaDq4EW8F/BG1/fhhLwX8FutbQ9DvBfwQQVELsI8F/BUrUhKwXwX8HZa9bRAfBfwW9ag1L+71/BB0b9X/nvX8F0FWQa8e9fwaHM2Cnj71/Bckz3PODvX8HT9fu12u9fwRSNp1q271/BxfmrdrXvX8HLsYTTie9fwcaYlL1571/BHylgxlDvX8E3bO0LIe9fwUd08/YS71/BVG4g5NzuX8Fbcgwvx+5fwSwIG6HD7l/BuNTfJKPuX8HTiVL1mO5fwXyA4fOV7l/Bm0ymSnvuX8H57lYte+5fwd/TiDYH7l/Bso2VsOztX8GI7i2G7O1fwSoE6Rjn7V/BJP6Yt9vtX8EslKiM2+1fwXQ+XjxM7l/BjxBH3IPuX8HeuKejpO5fwZY1yJCv7l/BiYtUgbjuX8GKNJVbzu5fwegmsUjZ7l/BOmgaNOXuX8FMme4K/e5fwWLJn/QJ71/BDuNU6g/vX8FvJZ3EJe9fwZTe9X9N71/BN54ZnTzvX8FuAoKgOu9fwTUOpJk+71/BZk5Ug0vvX8Fyx+F/Te9fwTH5baA671/Bx42TsTDvX8FA4EW/KO9fwevfo54771/BAnC7c1TvX8FmSqofhe9fwdvvmfuZ71/BMwDFRQPwX8HNQuNW+e9fwQmEQR4a8F/Bw3Y6EiHwX8GrzX4QIvBfwRhIxiYV8F/BWhVlYSvwX8EvDawjT/BfwQHxNORz8F/B2UqC1nvwX8HF+VnFhfBfweOjYqGa8F/BlJBkcbbwX8GgZPQl4vBfwW4BsBvo8F/BdEt0BfXwX8FSJsMb6PBfwRdqgkHS8F/BfWbRY77wX8ER/o6VofBfwZIgSpeg8F/BgHlsbLnwX8EibWZUx/Bfwb2pHT7U8F/BYTDfP9PwX8Fp8k4T7fBfwcenRPv68F/BFgqXpSzxX8H2FsG2IvFfwdWnPVpY8V/B88CJ7wHxX8EeXi1A0/BfwQVYCl/B8F/BadT2laHwX8E+fxhTyPBfwTZVeRrp8F/BeEe79P7wX8GRjLLEGvFfwZXowH0i8V/BzHg7QkXxX8FGhZubMvFfwUl4wHxE8V/BevtzckrxX8Ec6+NdVvFfwaRJBEth8V/BmLvhIXnxX8ET/GJVW/FfweWDOWu68F/BR+NkfLDwX8EDevwk4/BfwY/2hoip8F/BDEPwZ7zwX8EXdjVOy/BfwV12MjbZ8F/Bz3ieIeXwX8E3M2jgCvFfwQ19RveR8V/BYdHd26HxX8F7qk7rmPFfwTv5eMCx8V/BNalcBx3yX8EW9WQyV/Jfwdu+63s+8l/BQHIQnz3yX8EU1pPXL/JfweNAXyYv8l/B79bj0iryX8H7OPLEKfJfwTt8N9Mk8l/B2hLWVBnyX8H/pBcDFfJfwTbMOhoT8l/BOqsmmAzyX8EkRGp/DPJfwfAwJ2oK8l/BaXUTKQjyX8H8RX9Y9PFfwZn+vIDR8V/BJopOi87xX8Fz4hrcyfFfwX+mdIS78V/BdDTOCqvxX8G03AeKmvFfwbpJ7x6Z8V/BEFPx7JjxX8GCifG6mPFfwdL+uFaX8V/Bs5j2WpHxX8F3dbqxdvFfwT1Fw+l08V/Bhbn2VmXxX8H0ViUZYfFfwfnSpq9b8V/BSVMUNFXxX8FewXiAVPFfwYOe22FU8V/BQt5VcTvxX8GPSwl/OfFfwS/P4Yo08V/BMrBZPinxX8FppsMXKfFfwamZfv368F/B47Lj9fnwX8G4ScO72fBfwSXEL3fY8F/B2Xbx3dbwX8GhIKhvrfBfwdVhXaWs8F/BYd4niavwX8G54fZAmvBfwZnuD3+W8F/B5KodX4DwX8FPISPGePBfwUf8Gtlz8F/BLB9xOm/wX8E=\"},\"shape\":[184],\"dtype\":\"float64\",\"order\":\"little\"}]],[[{\"type\":\"ndarray\",\"array\":{\"type\":\"bytes\",\"data\":\"LYD5edDiX8Hx6kvizeJfwWpKon5r4l/Baby6SFniX8FF/xRAXuJfwRcG01Sc4l/BdHBmpJ/iX8GlqnzQnuJfwfI8PAGt4l/BsZi+tq3iX8FyI6TutOJfweeCJ6M041/BBnCuQHHjX8Eni0hTceNfwbsM9nxz41/BCoGYtHXjX8EsN7U+XuNfwXovZhBe41/BxycX4l3jX8EEwffGUeNfwaK4/NhK41/BfNDTezrjX8EmPYAiMuNfwVcW+Awx41/BbOAizzDjX8Gd3Q2TL+NfwZSHMdsi41/Bx/p1BSLjX8HvMzN6CuNfwXo1VM714l/BMs7RpOziX8F4OnQ04eJfwWckrd3b4l/BU8j869riX8FgnIko1+JfwdkYR4bK4l/BUNnmi8viX8G1T3Sb1eJfwS0RKpPW4l/BI5n+u9viX8Frz0K37uJfwW1PQvny4l/B16QIA/3iX8FqqOQ4BONfwXKWpBAK41/BJWs+aBvjX8GFsLjQQuNfwSVUJcht41/BpJSH35/jX8GVJi48yeNfwcftB9/J41/BM5FtnszjX8GVjQXEy+NfwVhvwEPK41/BWtdNf7PjX8G1nDDYoeNfwZIJ7VOT41/BSC5RYHfjX8HlNKNKd+Nfwfgbxmht41/B\"},\"shape\":[60],\"dtype\":\"float64\",\"order\":\"little\"}]],[[{\"type\":\"ndarray\",\"array\":{\"type\":\"bytes\",\"data\":\"UbznzC7XX8HKO2I1Xtdfwa8Vizpb11/BzHhFSFPXX8GJ4t5cR9dfwWTGt4M711/Bn0EwczrXX8GNEdi3EtdfwfaTePDx1l/BvxUXKdHWX8HuHJZorNZfwQ8vNSON1l/BxoFpzI3WX8ELcvjWjdZfwUOcryOO1l/B+KMA5ZDWX8HnHMJMk9ZfwTkUM2aT1l/B6MaHfJXWX8HeIX5El9ZfwTHEGROY1l/BN4EH95vWX8HCGBkdntZfwRACzFys1l/B+tQVdLDWX8Gax4wfstZfwcQa4Jyy1l/Bmcc/hLTWX8HpLklDt9ZfwQJTm2S31l/BWHSvhbfWX8Hl3ISBuNZfwd6aQuO51l/Bl42fErrWX8E7U/5ButZfwTLXqXO+1l/Bc8ajkL/WX8Gmeamaw9Zfwe1SKJrE1l/BEXefyMTWX8FrW8b2xNZfwa+/E2PI1l/B8YMKfMjWX8H7sPKUyNZfwSMYvY/M1l/BF4cZIdPWX8FTX4He2tZfwf+qYkLd1l/B9+uq7/LWX8E9GPX289ZfwXo534b11l/BrGCOcQTXX8GPeBUJCddfwQvdYvsP11/BzO7YKhTXX8Eo7LuCGddfwfN66CIh11/BgcHiDiTXX8EGvpVzJtdfwWnsX24q11/ByOhmiirXX8GfwgemKtdfwU5w2zUr11/BDxg2LyzXX8GGwiQNLddfwVG858wu11/B\"},\"shape\":[66],\"dtype\":\"float64\",\"order\":\"little\"}]],[[{\"type\":\"ndarray\",\"array\":{\"type\":\"bytes\",\"data\":\"3yNxJ+7nX8Ha5wD47+dfwYj5pY7751/BB3fuuxLoX8HareFLBelfwR5hgl7Q6F/BtNcRgifoX8GTIKYoEehfwbEtoOHq51/B3yNxJ+7nX8E=\"},\"shape\":[10],\"dtype\":\"float64\",\"order\":\"little\"}]],[[{\"type\":\"ndarray\",\"array\":{\"type\":\"bytes\",\"data\":\"OdmJ8BruX8EQtSHaJ+5fwfq6I3pf7l/ByEl/pdruX8FD4EW8Ye9fwXqTQox971/Bela4j3vvX8EgsUDzQe9fwWKwlty67l/B3XIBd2HuX8GLsVSZTe5fwfFt6aFI7l/Bp6xjEvPuX8GeSAOhce9fwYuh3s158F/B/qVaSXzwX8GNwCTFo/FfwTIBPtSk8V/B8tvIoMLxX8FF/Lpk5fFfwVxQIYzO8V/BohkhpMDxX8E3uxiDP/FfwTYuZZky8V/BIbQd1w7xX8E1l4naDPFfwfpiagX08F/BXrdsNdjwX8HtIgZ6sPBfwcojGv5j8F/BXiKaeRzwX8E2GZVtI/BfwU75h+zZ71/BeokGUKDvX8FdWp+UeO9fwfbNQigj71/Btfj+9tPvX8FNE5eicO9fwTi+cYWB71/BbktibuTvX8GthSar3e9fwbmkVvTY71/BbkIORNbvX8G8DjoR1O9fwYl3kOTP71/B3m35FdDvX8GJKO9r0O9fwaBfcMHQ71/BrV5vM9HvX8FgMxBX0e9fwW86bRjH71/BkX6r8cbvX8G8b0fKxu9fwYhDkJjF71/BjJBbsGjvX8EsS+SX4u5fwcIpuaFI7l/BJ24ovTjuX8E=\"},\"shape\":[58],\"dtype\":\"float64\",\"order\":\"little\"}]],[[{\"type\":\"ndarray\",\"array\":{\"type\":\"bytes\",\"data\":\"XgWY0P3rX8GGDSg9+utfwdpmKK3061/BUJoCJOvrX8F2mAas1+tfwbT1VD6+61/BnctNjTfrX8GHwjq05epfwRFBmE6M6l/B28d2xYLqX8E6Dg0yf+pfwXNKXzRg6l/BnIAbAkLqX8E/uNRHN+pfwXKg0ycs6l/BA4kawivqX8HiXxNSMepfwSvQeq036l/BLSHieDjqX8HmLJZOM+pfwcdOli4o6l/BAxJN5BfqX8FvFdjoMupfwT9B0vBL6l/BzQKpb1vqX8FTwu0pZupfwZxqCpt96l/BGZACo5bqX8GoI2AmwepfwUTm2Knl6l/BFMe8VBHrX8G3KSG/Y+tfwQd2fHzV61/BoxvKoSzsX8ET6yrqR+xfwV4FmND961/B\"},\"shape\":[36],\"dtype\":\"float64\",\"order\":\"little\"}]],[[{\"type\":\"ndarray\",\"array\":{\"type\":\"bytes\",\"data\":\"Y/cRyevXX8G8MYac6ddfwQFfHpvo11/Bxx0iyefXX8F7ASGb5tdfwXLDTZbl11/B/jQ2AOTXX8EyDopF4NdfwVRdGYje11/Bw3U9oNzXX8EG5UxF2tdfwXKVxAHW11/Bc7125svXX8GDGNEVqddfwRswUVmn11/BEIDHsabXX8F4nOCLptdfweDjwB+g11/BiHUs8ZfXX8EYF0GylddfwcuDofqN11/BaSPaJobXX8FGKLELhddfwUBnl91911/Ba4cx9HvXX8F8Cpsod9dfwcmYpFZv11/B0/RKJG7XX8H8LnRZZtdfwYp/3i5l11/BqJWylmDXX8EKHt5jXtdfwSkXE2la11/BpE2YaFnXX8EYakyUW9dfwdnP1PJf11/BfyFFzGHXX8H74WaJYtdfwey98ptj11/Blu0Z7mTXX8Hw1ep8ZddfwaAe7iBn11/BFbcnTGjXX8FXw8xSZ9dfwW0wmptm11/BtwdSUmbXX8Els349XtdfwYNATFtb11/BRhN+AVLXX8G3RrnrS9dfwVZAbII+11/BVH4o9zfXX8Et9+ZVMtdfweU+wdEn11/Bnyj/zSHXX8EVYy7wHtdfwWC1s+8d11/BZV12bx3XX8EvBTnvHNdfwS/FxyYa11/B9hO2cxfXX8G4M+NCE9dfwYjPhK8O11/B4donHgjXX8Epz1nE/tZfwWIWj8n61l/BV+09GeDWX8G6h8nx19ZfwQu8ISLX1l/BtmwG/NPWX8FqTAgv0tZfwRBwoIvR1l/BTXeLlsvWX8EAAlrcyNZfwU9MLT7F1l/BgP83PcPWX8Fqo241t9ZfwWtV4YS11l/B87z2grHWX8FMg3avqdZfwTfKrGGn1l/BE1rbNJjWX8H5Dpd0k9ZfwYHUeCCH1l/BVHQ3ZnXWX8HVhsVyZtZfwRcNzTdl1l/BeWOOG1/WX8FhSw67WtZfwfeodO1X1l/BKmBfTlLWX8FfEinNT9Zfwd1cQylP1l/B5l1boT7WX8G62hWmOdZfwUyP+Bgt1l/BaIbdIybWX8GtlDNlJdZfwb6XkaUk1l/B6TIqvyPWX8HHTz72H9ZfwfLS8Xwc1l/BZ8RpdhnWX8Hvc+IrGdZfwUWKIrAV1l/BcQsAmxPWX8HpD8TXDNZfwVdrNZYJ1l/Bz2zZ1QjWX8HH5EPgANZfwRZkrur41V/B43pRWfLVX8H2HZ/W3dVfwUidu3jT1V/BjfInIdHVX8Hqz5JhzNVfwbkh8Wsu1l/BGNgB7AHWX8EthcjU3tZfwaBiYcIk11/B24Zuy1rXX8HgloSUetdfwQLQ3AZW11/B4YdblNPXX8FN/c1K69hfwXo2uIHL2F/B9X6uSkTZX8GC69TzWNlfwS0JGiZ32V/BDdWqKpLZX8FGBwPU9NhfwV/ttniV2F/BojBNtDfYX8Fj9xHJ69dfwQ==\"},\"shape\":[134],\"dtype\":\"float64\",\"order\":\"little\"}]],[[{\"type\":\"ndarray\",\"array\":{\"type\":\"bytes\",\"data\":\"qOvltJzkX8F2zYUEoORfwTQNEsaS5F/BdgnXfXLkX8EGMdxyR+RfwaYgqkuo5F/BEbxkE2bkX8HeL4YpD+RfwfwVnKz041/B7NR4kNPjX8Fn02RZqeNfwdtaT3ll41/BBlaFPvPiX8FcLLiQ8uJfwUUmwqzw4l/BNI8fdd/iX8GxWRp13+JfwTjFfmDr4l/Bme2Is+ziX8Gwaf2gi+NfwbKHz4Rq41/B1IEVvazjX8Fgedtj4ONfwUymZhgM5F/BA+GJ1GTkX8FkoQY2j+RfwQ==\"},\"shape\":[26],\"dtype\":\"float64\",\"order\":\"little\"}]],[[{\"type\":\"ndarray\",\"array\":{\"type\":\"bytes\",\"data\":\"49Gw8fPaX8G1psYltNtfwcK+AeVt3F/Bkn0awxXdX8ElhDzpk91fwU9FD8Cr3V/BU8wLnMDdX8H2cAuEzt1fwfaPenvT3V/BliDtlsPdX8GdL/fSoN1fwaTn+NKg3V/B/s3TK8rdX8FyTf9vy91fwWrD9EL03V/BwzdfIgfeX8FRYGAiB95fwQLof2dz3l/Bhs2uvdXeX8G3RWSn4t5fwdE1EXn93l/BuUN2BEHfX8HWG1qfe99fwR3fO75p31/BnZf2v2jfX8G5Ha2dfN9fwcFw82uZ31/BKbaNWTjgX8EebbE6SuBfwZbUZeh54F/B/x5m9HLgX8EEWBh+t+BfwU5P013V4F/Bw4XDv9HgX8F0lqJ+t+BfwSLtTbqn4F/B/dezlKTgX8GKOOHbleBfwYz0/oCM4F/BrkCd+WvgX8Hf686lZ+BfwXB5srJk4F/BRs0IflfgX8FfM5UZVeBfwQZWzj5K4F/B06T9NEHgX8EsUjZuNuBfwWQMi3oy4F/BAq6r3i/gX8GLDUpEGuBfwbKjOLoA4F/BhxKKpPXfX8HsxWr51t9fwROsn6fA31/B5VoJsrjfX8HJfP5Rot9fwbJuWLCg31/B6pCRpZ7fX8EJOlyWnN9fwShoRJib31/BMTdrsZnfX8HkBfXMl99fwTesv72V31/BBXMHPZTfX8EXUS+1kt9fwVhwfhyJ31/B/VBW1n7fX8HA8kGVfN9fwbXcgDR931/BjWISrH/fX8GalRRuY99fwYD7O35M31/BaydWxS7fX8EpeNGlCt9fwbZj2E8J31/B7FW/OMreX8FBgeK3qt5fwYjQNf2m3l/B2KGCSJPeX8GgS3BVj95fwT4lVDaA3V/BPUgSjE7dX8ETzdsoJd1fwebM/zkb3V/BaH/NHU3cX8H1+TWoFdxfwUfHpwyq21/BcxAVcT7bX8E=\"},\"shape\":[88],\"dtype\":\"float64\",\"order\":\"little\"}]],[[{\"type\":\"ndarray\",\"array\":{\"type\":\"bytes\",\"data\":\"mLV1EXTtX8HCe2hbPu1fwUZShvvL7F/BkjTYa4PsX8HZsBAuguxfwVH8E34M7F/BlyWt+1fsX8GODOjvq+xfwbAFjFVM7V/B/3Udo7PtX8EFSZDJ1e1fwYaPsQgN7l/BF/8O0C3uX8Enbii9OO5fwcIpuaFI7l/BLEvkl+LuX8GMkFuwaO9fwYhDkJjF71/BDh4NpMLvX8GzoZF9uu9fwWgNyVC171/BKG2YoLjvX8FbBTHb2e9fwerdAym371/B7RAENbDvX8FzAMJCqO9fwdyxDmWU71/BEdtM7kTvX8HnuE/uRO9fwXZsPCUl71/BYBe9TA7vX8GNdbGb4O5fwZdLkCGT7l/ByBqkdWLuX8Eb8/ajR+5fwSc/GpFS7l/B0hyPoEnuX8GVwHZW4O1fwWmpPaC17V/BFvXPtKntX8E=\"},\"shape\":[40],\"dtype\":\"float64\",\"order\":\"little\"}]],[[{\"type\":\"ndarray\",\"array\":{\"type\":\"bytes\",\"data\":\"lZkLCHXVX8H3IUK5gtVfweuieh2E1V/Bj6lionDVX8FTLI6KXNVfwQs6oT9Z1V/BF6fEVljVX8EFZ7vGVtVfwX3g2I1U1V/BcHUkYlLVX8HcIS9hUNVfwQg0kstP1V/B64Rzi0/VX8EEN7VcT9VfwXJMFgRP1V/BF25biE7VX8FqqTlgTtVfwYJZ+hKC1V/BCkTFB6fVX8FKL5cbwNVfwS64GpHJ1V/BPzutENrVX8ESoF+mq9VfwadARJKd1V/BZpwR74TVX8G7zjxBe9VfwWrZ7pVW1V/BUySEi17VX8F+iopJadVfwaqkr3Br1V/BQMJGmm7VX8GR+9ULcdVfweIb6bJx1V/BlZkLCHXVX8E=\"},\"shape\":[34],\"dtype\":\"float64\",\"order\":\"little\"}]],[[{\"type\":\"ndarray\",\"array\":{\"type\":\"bytes\",\"data\":\"TlFGgs/dX8GPZJBcGt5fwcpMy1ex3l/BIVvYzc/eX8HhP/jG095fwTkvJbjY3l/Bh2NApePeX8HgkyN8MN9fwaKcc2ZA4V/BaTTN/yHgX8G+SJicpeBfwb6DE0jv4F/BaDS908/gX8GccRKf1eBfwYF1gzTJ4F/BGxOpCGfgX8HAPj382d9fwVSoBV6h31/BMTMLvmnfX8EnezPPX99fwZKMYPux3l/BQotBJpneX8FTUdhSf95fway/S4Zh3l/B3uMqBRjeX8Enu08WDt5fwYfLAgwU3l/ByrT42y/eX8FF6M6+QN5fwQ9LpXFt3l/BO5fDUn/eX8H/weZvbt5fwSvJ5G9u3l/BGPe+anHeX8EkJN5Lg95fwY0rfvAj3l/BufmGOPrdX8EeKftr3N1fwQ==\"},\"shape\":[38],\"dtype\":\"float64\",\"order\":\"little\"}]],[[{\"type\":\"ndarray\",\"array\":{\"type\":\"bytes\",\"data\":\"UtQ062LXX8GQKSTCYtdfwQ7MiSxf11/Bre8oC1rXX8F+VPgZWddfwYpkkxdU11/BxaxwcVLXX8Hp4J0MTtdfwUXaVlgv11/BdPFgjCzXX8GRYB7rItdfwVvtf5kc11/BpUvnhhvXX8F+BQxyFNdfwcP4juMT11/Bg2FX0RPXX8FEyh+/E9dfwRLsEVUT11/B1sznRA/XX8HpPJT1DNdfwdQSTJsC11/BSWbSHPfWX8E7lpyw89ZfwQ0W0rXv1l/BPYRUVunWX8GiOeKq5dZfwaoMnATi1l/BT+DC6dHWX8GrjlJStNZfweHwSMew1l/BDNJ01azWX8ESU/NwndZfwfGUc4+Q1l/Bc+IlJn/WX8E2HixQdNZfwV0kAuDf1l/BdVqBJQnXX8GbeuV/Mddfwb2SwfZa11/BXOiW6GjXX8Hczzd1dNdfwS3ytL7S11/BjYeSd/DXX8E2nR97JdhfwSrpTYs32F/B+KOVh03YX8HABjwGpNhfwRLmfQDS2F/BoAOvJiPZX8EojKoLx9lfweDbx9Tm2V/BQeR5Q8/aX8FZw+DWM9pfwZmHFmcm2l/BAoTap2zZX8GW/cDqRdlfwXNIGy+K2F/B7PnDf1vYX8GU1dCvP9hfwcg/izzu11/Bgub1sqnXX8E9b9uCh9dfwco7YjVe11/BUbznzC7XX8E9GWfpLtdfwfrxpfAu11/BCsim9y7XX8H1jmRbL9dfwaHr43cv11/BEwJizS/XX8Gs7/8pMNdfwXbe01wy11/BmW+vcjLXX8Gp04yIMtdfwd4/eHE011/BZHilATXXX8GQ3ZZPN9dfweB0M0M411/BVPQHdzjXX8HIc9yqONdfwV27wYQ711/BL0rhizvXX8FdIAY4OtdfwcRPpAE111/Bix2kATXXX8FOEKQBNddfwcs8ThU211/BgE9zjjfXX8GWaonnOddfwaZKiec511/BL96tCjnXX8FbWZiSN9dfwYSQ+qU211/B+nH6pTbXX8FRRvqlNtdfwaEE8LY011/BOcJrZDPXX8F+pGtkM9dfwXFYa2Qz11/BhoyFfi7XX8HOYzMzLddfwXtoEVcm11/BfWIRVybXX8H8OBFXJtdfwZk0EVcm11/BrixukSbXX8HFJMvLJtdfwY+utJgn11/Bbz0r2i/XX8GjgI7GNddfwaXG//tG11/BPVFzI0/XX8FyjFgXVNdfwetovAFY11/BD8J49FjXX8EyayPVXddfwfOX04Zs11/BVlsRM27XX8EE+WHIb9dfweRJBdh011/B1qarfnfXX8FsqtXvd9dfwfEyte+C11/BvTQlG4PXX8HUq+7ihtdfwZIUgYWH11/BSk4WTJXXX8EVrdOKoddfwfZGjwij11/BZ03G/aPXX8FdGcb9o9dfwcH5xf2j11/BZ93F/aPXX8Eb1MX9o9dfwSj+QFye11/Ba9ZoQZrXX8FdCcOUmNdfwU34O8OU11/BkNk9i5PXX8HKcU5tkNdfwb9s7MmQ11/Bdj+nu5DXX8GmA22tkNdfwS5WTm2Q11/BXDZObZDXX8FZnb8rjddfwXkCSw6L11/BwoVLNorXX8FTwTQ/iddfwe7zuHeI11/BcUBIQojXX8HIMtsMiNdfwSPRgqGG11/Bbtj5eYXXX8ERTQX5gtdfwVC/Kj6B11/BmHQ1IIHXX8ErGE3Bftdfwf9A19x811/BZ9Pw43rXX8EbMmO1dNdfwQzRy/Rn11/BPIayA2bXX8Ggm7YPZNdfwWnoSuNj11/BUtQ062LXX8E=\"},\"shape\":[166],\"dtype\":\"float64\",\"order\":\"little\"}]],[[{\"type\":\"ndarray\",\"array\":{\"type\":\"bytes\",\"data\":\"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\"},\"shape\":[204],\"dtype\":\"float64\",\"order\":\"little\"}]],[[{\"type\":\"ndarray\",\"array\":{\"type\":\"bytes\",\"data\":\"gXWDNMngX8GccRKf1eBfwWg0vdPP4F/BvoMTSO/gX8G+SJicpeBfwWk0zf8h4F/BopxzZkDhX8FF/xRAXuJfwWm8ukhZ4l/BakqifmviX8Hx6kvizeJfwS2A+XnQ4l/B+BvGaG3jX8HlNKNKd+NfwVo8Ywl041/BCx6TdnPjX8FpqDcycONfwbaeD7Br41/BUyx8UmnjX8Hw/XPDWONfwdOwPW4841/BV90qSzzjX8EO3YxEOeNfwQyLLgw541/B5FZbAhvjX8HscEGvGeNfwXbGmG4P41/B83UzTvjiX8GndWCw1+JfwSiIruq84l/BE88SHLziX8EDPItHu+JfwduXXCm64l/BQwvhunbiX8G1pLnXWeJfwWuUZic/4l/Bb0bq+jPiX8GlDfqHM+JfwSlNENwn4l/BLSPWsRziX8Fzs8DkG+Jfwbw0ua/Z4V/BLfkCe77hX8HaQyubveFfwTse+muW4V/BbY+aVpbhX8GfADtBluFfwQ01XdaV4V/BfeZfaZXhX8FPH2pjk+FfwSlHu0iS4V/BxEqwi1zhX8GyKwf1UOFfwc6qx7db4V/Bu6QjXS3hX8G1hQ9tC+Ffwf2OoKa44F/B9wVcXpjgX8E4AMd7JOBfwT2ose0T4F/B10ITnhDgX8FLoI2muOBfwXJWsVWd4F/BKgemDpXgX8F3y829eeBfwfNvlA6b4F/B1n5y+JzgX8GBdYM0yeBfwQ==\"},\"shape\":[68],\"dtype\":\"float64\",\"order\":\"little\"}]],[[{\"type\":\"ndarray\",\"array\":{\"type\":\"bytes\",\"data\":\"LaH+nLDiX8GJGs7gsOJfweHWYjjK4l/B/9dlOMriX8FJIIwxzuJfwUEa43bX4l/BcMsuceHiX8Fc73TL4eJfwVgZ1Qvk4l/BYgnGu+viX8GBIKVJ7eJfwenQml8W41/BKGsg2BjjX8GFZRfBQONfwZKpUUhV41/B7XMg5F3jX8EH3kTdYeNfwVK29JdY41/BN3AGA0zjX8HxQBNWTeNfwU6H3sFx41/BKt1eO47jX8H//2h2neNfwUxFd8me41/B17lqGHHjX8FCAoa+c+Nfwb5rdMWL41/BtI7zkY3jX8Ev3OI7jONfwYxuWk9R41/BJYGcetXiX8F1jFZlsOJfwZTg/cF64l/Bo+S9xEfiX8E2YY6jI+JfwUFC9Pqh4V/B8QvVVW3hX8FIApCfQuFfwXHft8gq4V/BnVcA6xbhX8Fekh8s8eBfwagj0HXG4F/B2Pi15RnhX8E5V1qHUOFfwV2shw2X4V/B234GtsnhX8FrFH46EeJfwW3nfH994l/B\"},\"shape\":[48],\"dtype\":\"float64\",\"order\":\"little\"}]],[[{\"type\":\"ndarray\",\"array\":{\"type\":\"bytes\",\"data\":\"AcAwHXrlX8FaeWMvjeVfwQhq3Bav5V/Bu6q5RS7nX8GwTl1UoedfwV5UWw2Z51/BPMFC4ZnnX8ErDX8Su+lfwUJwECOZ6V/BQ6bEYI7pX8HMsQptfelfwZLbvGA+6V/BgqUKeP/oX8H26AEmzOhfwZMTsKaB6F/B4EZX1QPoX8G3B7tyxudfwes1sgrb51/BR9FxStvnX8EE4U3m+edfwWVpt7DE5l/BAcAwHXrlX8E=\"},\"shape\":[22],\"dtype\":\"float64\",\"order\":\"little\"}]],[[{\"type\":\"ndarray\",\"array\":{\"type\":\"bytes\",\"data\":\"8kplc8bdX8EWq36owd1fwac3cLew3V/B+Orf6pLdX8EK3QYsbd1fwcQAAyxt3V/B7g77E3vdX8G/XmQLgN1fwU21DdGh3V/BOtov1p7dX8GhVNeDzt1fwUpV+YjL3V/Br6rPa9zdX8GzxO9hdt5fwWJONDyM3l/B/b5O1cfeX8Emn0vJzt5fwTkvJbjY3l/B4T/4xtPeX8EhW9jNz95fwcpMy1ex3l/Bj2SQXBreX8FOUUaCz91fwfJKZXPG3V/B\"},\"shape\":[24],\"dtype\":\"float64\",\"order\":\"little\"}]],[[{\"type\":\"ndarray\",\"array\":{\"type\":\"bytes\",\"data\":\"g2KBLGXyX8EqkccM/PFfwVoDJRC18V/BZfWWZMHxX8FJkZp1ZvFfwUhSfoFV8V/BfjPKcxvxX8HzAqf0QPFfwa/wtZQN8V/Buh8eluzwX8G8cMOf8PBfwYKbs4QN8V/BIrEtwBnxX8E+k5D4IfFfwS3UWJ4m8V/Bjb9owynxX8FaZNnELPFfwWO9iZ1C8V/BPPeCZVPxX8HUDyb8VfFfwXUeHdBw8V/BUNwLNYPxX8E+A6u+h/FfwaAgVByZ8V/BydqNw6DxX8G4MJ9ww/FfwZgYo4bi8V/B31omO+jxX8GA23IZ7PFfwSqlPEcQ8l/BQBL1xxHyX8FyQ8NQFfJfwVvwXJEW8l/BR54XoBfyX8FT/DKLGPJfwZCSClBA8l/Ba93UAV7yX8EBSjivY/JfwfBkqz5m8l/BgUKOCGzyX8GAFGJ0bvJfwWDEXNJz8l/BxdLuo3jyX8HN9haQfPJfwWSYfneJ8l/BZc9xUIvyX8GsGa1CjPJfwW3OiB+N8l/BavHjGI7yX8E58H/njvJfwQ1s1DaR8l/B+vDHJZryX8H85VxztvJfwQGYQT/P8l/BwFul7NTyX8FVkbQoyvJfwW+JJxWk8l/B9dQAW5TyX8E=\"},\"shape\":[58],\"dtype\":\"float64\",\"order\":\"little\"}]],[[{\"type\":\"ndarray\",\"array\":{\"type\":\"bytes\",\"data\":\"Ph93VujrX8HEO2WGzOtfwcyB7Bl361/BxgdMj2TrX8GPtqpWmepfwYIlSSO36l/BYzbTLbjqX8E+H3dW6OtfwQ==\"},\"shape\":[8],\"dtype\":\"float64\",\"order\":\"little\"}]],[[{\"type\":\"ndarray\",\"array\":{\"type\":\"bytes\",\"data\":\"HaC5r2DlX8ELVq01seVfwdAg6n5L5V/BWopav2flX8EBwDAdeuVfwWVpt7DE5l/BBOFN5vnnX8FH0XFK2+dfwes1sgrb51/Btwe7csbnX8GwRcu8xedfwXtoI76V51/BLYoWuB3nX8E21c0UieVfwd1VwC+N5V/BCYA4LoTlX8GHj+87fOVfwaYC2nVu5V/BfX89zmLlX8Gtc6YpaeVfwQ==\"},\"shape\":[20],\"dtype\":\"float64\",\"order\":\"little\"}]],[[{\"type\":\"ndarray\",\"array\":{\"type\":\"bytes\",\"data\":\"x+bLl9XxX8FRdCSSsvFfwSGhArmp8V/BItsv2brxX8HXrn28GfRfwR4Fe5oa9F/BLwaaohL0X8FlwpFyLvRfwcqPZZ0V9F/BOrddbTH0X8E/0OqNHvRfwUYZJnQt9F/B52E21PXzX8E2loDe5PNfwTwMUnCQ81/BHZnOmEfzX8E=\"},\"shape\":[16],\"dtype\":\"float64\",\"order\":\"little\"}]],[[{\"type\":\"ndarray\",\"array\":{\"type\":\"bytes\",\"data\":\"4EZX1QPoX8GTE7CmgehfwaA/8FVm6F/B/+B/+zfoX8GgwGraY+hfwRQtC4x46F/BMZgI417oX8HrXrNuP+hfwYdwRs4g6F/BB3fuuxLoX8GI+aWO++dfwdrnAPjv51/B3yNxJ+7nX8GxLaDh6udfwVFpgTJ351/BAOqO0LjmX8EbYms0QeZfwUtq45jV5V/BfL0cOarlX8GnlevspOVfwSiV0Eai5V/BQXjSUpvlX8HWqb3Qg+VfwSDeY+2L5V/BKIOn05rlX8GCBa8ao+VfwYhRjVC15V/B6uGVl73lX8FocGnCpOVfwS3JCLCW5V/Bm7pS0oLlX8Gsf1y3eeVfwZLdtL5c5V/B0Ne+o1PlX8EQASibWOVfwbBUWDpf5V/BhKtI81blX8G1LcsWW+VfwbmVwXhs5V/BvvDfTYXlX8EOpaBYiOVfwTbVzRSJ5V/BLYoWuB3nX8F7aCO+ledfwbBFy7zF51/Btwe7csbnX8E=\"},\"shape\":[46],\"dtype\":\"float64\",\"order\":\"little\"}]],[[{\"type\":\"ndarray\",\"array\":{\"type\":\"bytes\",\"data\":\"XCy4kPLiX8EGVoU+8+JfwZEwjEOm4l/BzBWpb6XiX8FRm+dwveJfwfgdG8m74l/BsZi+tq3iX8HyPDwBreJfwaWqfNCe4l/BdHBmpJ/iX8EXBtNUnOJfwUX/FEBe4l/BopxzZkDhX8HgkyN8MN9fwdrEgrYF4F/B/nRWjR3gX8HWsYr8P+BfwRW927iG4l/BYU8RBYziX8HoJ37wl+JfwZ0Unrm34l/BomRIRMriX8EtKvPO3OJfwZntiLPs4l/BOMV+YOviX8GxWRp13+JfwTSPH3Xf4l/BRSbCrPDiX8E=\"},\"shape\":[28],\"dtype\":\"float64\",\"order\":\"little\"}]],[[{\"type\":\"ndarray\",\"array\":{\"type\":\"bytes\",\"data\":\"vKgYzLbaX8EcYz4CZtpfwfp9nuo32l/BXE+dpzfaX8FZw+DWM9pfwUHkeUPP2l/BRiIOR+faX8FOFM2qJ9tfwV3EWlVG21/BuO9UsGPbX8EhuITxPdtfwd968NBQ21/BLu7WEyrbX8EXiLcmH9tfwQS8Jh4k21/BI6Mj7j/bX8EAdz+TdNtfwbRGv+fX21/BgogQW+/bX8HzVldN99tfwbzZAu5f3F/BB8Nsbl7cX8HrvAHLQtxfwY9bWR0T3F/BQXFYB73bX8HYElEhr9tfwT7BzVKR21/BvKgYzLbaX8E=\"},\"shape\":[28],\"dtype\":\"float64\",\"order\":\"little\"}]],[[{\"type\":\"ndarray\",\"array\":{\"type\":\"bytes\",\"data\":\"K+Fd+bTlX8EdT/g2IeZfwSluWRme5V/BYcL2dWjlX8FLA7zjKOVfwZmBFmbd5F/B/o1L45TkX8EAAe1vQ+RfwU0nIyTb41/BNiR+JIHjX8Fqb1J0geNfwYTqMm7C41/B3ZM8C2fkX8FcvT99z+RfwYYvQ/Lz5F/B0GMFtfnkX8Fj0DiDCOVfwRaBDtNz5V/BFLIAf3blX8HFvdrXfeVfwQ==\"},\"shape\":[20],\"dtype\":\"float64\",\"order\":\"little\"}]],[[{\"type\":\"ndarray\",\"array\":{\"type\":\"bytes\",\"data\":\"Q6bEYI7pX8FjfkDCuOlfwW66GfTh6l/BiRD65ODqX8HKSKps4epfwRJH4Jjb6l/BLi8MwsPqX8EtFxxCl+pfwSXGOUVQ6l/BxL1gSxvqX8GbYTg8welfwcyxCm196V/B\"},\"shape\":[12],\"dtype\":\"float64\",\"order\":\"little\"}]],[[{\"type\":\"ndarray\",\"array\":{\"type\":\"bytes\",\"data\":\"NcnipzbfX8FMBzNdct9fwb/GFAWZ31/Bl7KIg6TfX8H4kVUhtt9fwYxYL8jL31/BY99quszfX8E9ouekB+BfweoApGRC4F/BoYjk+E7gX8GaE9cFXOBfwV6pxI5i4F/Bv6eNO2TgX8GZM5/tZOBfwaMivmRl4F/BUs6yg2XgX8HZ+1DgZeBfwY1WXuNm4F/ByQjptWfgX8ETM1UMaeBfwQ6WnoVp4F/B1+FVP2vgX8GLm6Nka+BfwQUQ/n5r4F/B4FBn6mzgX8FrImcrbuBfwUiVze6S4F/B0/70x5vgX8HTO1RozuBfwauB94pO4V/B8PWVodXhX8E9iKBGCuJfwc1fXtVL4l/B3sYIs1/iX8GZThZYlOJfwcpRAgTF4l/BiRrO4LDiX8Etof6csOJfwW3nfH994l/BaxR+OhHiX8Hbfga2yeFfwV2shw2X4V/BOVdah1DhX8HY+LXlGeFfwagj0HXG4F/BdM/NsaPgX8HhNb0YaOBfwWhgiJ4a4F/BEyJL0P3fX8G4m/KAl99fwQ==\"},\"shape\":[50],\"dtype\":\"float64\",\"order\":\"little\"}]],[[{\"type\":\"ndarray\",\"array\":{\"type\":\"bytes\",\"data\":\"Y4Ld4R7ZX8GTtyf/G9lfwQDyd+UT2l/BH+HOQwfaX8FM7S7o9dlfwSfNIA7t2V/BLdwKp8HZX8HibVO6wNlfwWIktp6o2V/BlhQcZ5fZX8Fq15cUh9lfwaw9qCiK2V/Bp+9cICzZX8EGcKMSNNlfwfDrLkiy2F/Bhmu0T9/YX8F3h5vvFtlfwc08GYEl2V/BIC+Z7xbZX8Fjgt3hHtlfwQ==\"},\"shape\":[20],\"dtype\":\"float64\",\"order\":\"little\"}]],[[{\"type\":\"ndarray\",\"array\":{\"type\":\"bytes\",\"data\":\"jZTBBY/mX8EA6o7QuOZfwVFpgTJ351/BsS2g4ernX8GTIKYoEehfwbTXEYIn6F/BLGGCXtDoX8EQK+hIcOhfwXGVzvBt6F/BMMXqnynoX8EXSxRf++dfwa6uBxHe51/BDxuKgMrnX8HRHMKfsudfwZEBGsaa51/BsurmhYvnX8FLwN1LeudfwQVTkjR251/B6bY2+G7nX8HxB0OFbOdfwYny4ixm51/B0gp2BFznX8F9/FOwT+dfwR7uvQVB51/BeB7CHRrnX8E6d66hBOdfwbOFD6fp5l/BDpLfkOHmX8E0IH4u1eZfwYEm2eK85l/Bp8uG3rPmX8FTEZKkseZfwdMxAJCV5l/BmlqnJJTmX8E=\"},\"shape\":[34],\"dtype\":\"float64\",\"order\":\"little\"}]],[[{\"type\":\"ndarray\",\"array\":{\"type\":\"bytes\",\"data\":\"+KMJkvHwX8HDSL/E/PFfwWz9XDJS8l/BzfO6CVTyX8G8tDeOsPJfwYvEaBT38l/Bm+R80R3zX8FFkW5xVfNfwXcDS42881/BNKv0+tXzX8Eo9Ql75fNfwbDWiUrn81/BYPdF6aTzX8H7zOx1U/Nfwdgcx3BW81/BvpS5JcXxX8Ff8EKBj/FfwSoUma908V/Bqvnw9UvxX8Hpuz48I/FfwQ==\"},\"shape\":[20],\"dtype\":\"float64\",\"order\":\"little\"}]],[[{\"type\":\"ndarray\",\"array\":{\"type\":\"bytes\",\"data\":\"7hyWaKzWX8G/FRcp0dZfwfaTePDx1l/BjRHYtxLXX8GR16MB6NZfwUhNHSnR1l/BxUMOeKPWX8G36CjYa9ZfwY7NA/pA1l/Bf8w05jDWX8GNqOkFJtZfweRy1t4N1l/BlK0DKavVX8FzHBZ4ldVfwYfQ/Utv1V/BkVlUHnfVX8H6QAyfeNVfwZeOxq151V/BesLBkXrVX8HugxaofNVfwQrt7gCE1V/BEcO0upTVX8HKuQcUndVfwf3IZauj1V/B7r8N0qfVX8GhmoTtsNVfwVy8clC21V/BxNOohbrVX8HIPaKswdVfwcTEETXE1V/BRu5A2sfVX8Fkeu1l0dVfwUSCm27y1V/B995waPTVX8HpE9cx+dVfwcYCmPT+1V/BwVM99QHWX8HfuOYnAtZfwT7NBk0C1l/BMFOoZQjWX8HM+76ACdZfwcXOw3cU1l/BihFm+hnWX8HEwc0WGtZfwW00cjsb1l/Buk8OYB7WX8Gmh2r0H9ZfwakT+wUi1l/B23vVGiLWX8FpPGKAJtZfweg/V4Eo1l/B+JxQFyjWX8Hl3mCxJ9ZfwWt+hngn1l/BnY9AsibWX8G7BikcJdZfwTaXxbEl1l/B/D5uFCbWX8FIM5sLKNZfwfWhtM8o1l/BE9nQgSnWX8G5K+t2MNZfwbJrGd811l/Be7fQVjnWX8Hljxp0OdZfwZupazU81l/BDWrhGT7WX8EebXmTP9ZfwSSxfoBE1l/BeQqQU0XWX8GbytmURdZfwdhgJFhJ1l/BTuOzYEzWX8H8gWoaTtZfwSI86uBS1l/BQwz1DlbWX8FHuRamV9ZfwVfHxfVa1l/Bchg9YVzWX8EZaJXMXdZfwQt/af9f1l/BI2+0MWHWX8HRxLB2YdZfwTOcz8hk1l/B175uBWXWX8GZDgxCZdZfwUhMv7dt1l/Ba+/sHHHWX8Han6m5cdZfwZKF0Odx1l/BK/HSFXLWX8E4bTqJdNZfwVQBxK541l/BgyAbU3rWX8H7HTcse9ZfwWndB+N91l/Bg/xeh3/WX8GrK1prgNZfwZLh2JGG1l/BDy81I43WX8E=\"},\"shape\":[100],\"dtype\":\"float64\",\"order\":\"little\"}]],[[{\"type\":\"ndarray\",\"array\":{\"type\":\"bytes\",\"data\":\"Ib3SFKzYX8E4MxH8rNhfwcrsPrw92F/Bxqc9dgPYX8F0G7GR89dfwcKnDsGm11/BZMa3gzvXX8GJ4t5cR9dfwcx4RUhT11/BrxWLOlvXX8HKO2I1XtdfwT1v24KH11/Bgub1sqnXX8HIP4s87tdfwZTV0K8/2F/BOlyd7j3YX8F+8jMyXNhfwZqNGfWw2F/BY4Ld4R7ZX8EgL5nvFtlfwc08GYEl2V/Bd4eb7xbZX8GGa7RP39hfwfDrLkiy2F/BBnCjEjTZX8Gn71wgLNlfwaw9qCiK2V/B/p2EL4bZX8GvL9NRctlfwUJBInRe2V/BVyFbzSrZX8ExacHb/NhfwQ==\"},\"shape\":[32],\"dtype\":\"float64\",\"order\":\"little\"}]],[[{\"type\":\"ndarray\",\"array\":{\"type\":\"bytes\",\"data\":\"jUarTRntX8FjArdyQe5fwWvxBmbX7V/BUTqGGgPuX8E5Q2HlIe5fweIEWKlE7l/Byr8j8K/uX8GSMP/SwO5fwcSBFpfj7l/BxgsuYAPvX8GEquPRVe9fwRJ5rcBf71/BObDPWZvvX8EhwkBRoO9fwSkXIUCq71/BchCVT6HvX8GuPA1rke9fwUYiOHCO71/Br900QKrvX8EOMgw7re9fwWBxAxfC71/B2BHW7dnvX8EPk0HZ5e9fwbpM1snu71/BByC5xPHvX8ERmynU6O9fwR4kuXwb8F/BgLTqdR/wX8ExpqqnAvBfwWLgz4gU8F/Be56pdx7wX8FaFWVhK/BfwRhIxiYV8F/Bq81+ECLwX8HDdjoSIfBfwQmEQR4a8F/BzULjVvnvX8EzAMVFA/BfwdvvmfuZ71/BZkqqH4XvX8ECcLtzVO9fwevfo54771/BQOBFvyjvX8HHjZOxMO9fwTH5baA671/Bcsfhf03vX8FmTlSDS+9fwTUOpJk+71/BbgKCoDrvX8E3nhmdPO9fwZTe9X9N71/BbyWdxCXvX8EO41TqD+9fwWLJn/QJ71/BTJnuCv3uX8E6aBo05e5fwegmsUjZ7l/BijSVW87uX8GJi1SBuO5fwZY1yJCv7l/B3rino6TuX8HkacW0mu5fwfqaNxhh7l/BxTDrGWDuX8GZJCbA/+1fwcpsRyXF7V/BbeM/VantX8GNRqtNGe1fwQ==\"},\"shape\":[68],\"dtype\":\"float64\",\"order\":\"little\"}]],[[{\"type\":\"ndarray\",\"array\":{\"type\":\"bytes\",\"data\":\"5jnUlqHtX8GwDFRzne1fwcMIDe+f7V/BdP/l3antX8G7i5gSpO1fwUWK7N2p7V/B8170OgjuX8FXP9QpEu5fwZGJxSqR7l/BaRwokZHuX8Em9hXg4u5fwQIIoJfj7l/B\"},\"shape\":[12],\"dtype\":\"float64\",\"order\":\"little\"}]],[[{\"type\":\"ndarray\",\"array\":{\"type\":\"bytes\",\"data\":\"8PWVodXhX8GrgfeKTuFfwdM7VGjO4F/B0/70x5vgX8GK/3VYveBfwa4qKCnD4F/BruPbrQfhX8HD2URpDuFfwUxWEX2A4V/BQxDZXQDiX8HcxewmT+JfwUOljhOd4l/BvuRogcHiX8GOZrGUB+NfwQTGcg8p41/BRX+Y6lLjX8E2JH4kgeNfwU0nIyTb41/BAAHtb0PkX8H+jUvjlORfwZmBFmbd5F/BSwO84yjlX8FhwvZ1aOVfwSluWRme5V/BuTxqVw7mX8ExcvnUWeZfwV1QcHGT5l/BPxKTapfmX8HnJpna7OZfwZ8fR9Xt5l/BKma0u9vmX8Es8+292eZfwV21M2vk5V/BJhKrGp3lX8GkH2k0juVfwRC3MXDX5F/BooiYuk7jX8FW5FyXTeNfwcpRAgTF4l/BmU4WWJTiX8HexgizX+Jfwc1fXtVL4l/BPYigRgriX8Hw9ZWh1eFfwQ==\"},\"shape\":[44],\"dtype\":\"float64\",\"order\":\"little\"}]],[[{\"type\":\"ndarray\",\"array\":{\"type\":\"bytes\",\"data\":\"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\"},\"shape\":[212],\"dtype\":\"float64\",\"order\":\"little\"}]],[[{\"type\":\"ndarray\",\"array\":{\"type\":\"bytes\",\"data\":\"D2un8NrxX8F30dEB0fFfwUPIFbLF8V/BPuEqroHxX8H3veOyRPFfwRsRoMw18V/B8oidtY7wX8FqGhBtJPBfwZ3tULP771/BYxup5t3vX8HHk/Lw1+9fwUMr4Uuj71/BPgQjtmXvX8G0zFVUnu9fwWy1mL5g71/BiV8d6NzvX8F6iB4j7O9fwenoC7j471/BqgKWnAjwX8FPkcEjHfBfwRYKVFsu8F/BW8nv5UDwX8GZ8l38cfBfweT5F8h68F/BM1h95KLwX8EZAHAx2fBfwXXwAYbj8F/Buh8eluzwX8Gv8LWUDfFfwfMCp/RA8V/BfjPKcxvxX8FIUn6BVfFfwUmRmnVm8V/BZfWWZMHxX8FaAyUQtfFfwSqRxwz88V/B\"},\"shape\":[36],\"dtype\":\"float64\",\"order\":\"little\"}]],[[{\"type\":\"ndarray\",\"array\":{\"type\":\"bytes\",\"data\":\"r3IR3abvX8EtQr/F5e9fweJW5+EG8F/ByLUUrPTvX8FrEw+3H/BfwWNXZNxC8F/BqTHVIkTwX8Gj7yRLqPBfwZoiAlCf8F/BxQUtMJ/wX8FRXF04kPBfwSFR4EmQ8F/BtD1bqXHwX8EfQ1eCeO9fwalaTp2B71/BI1A/uIrvX8G6miQJpu9fwa9yEd2m71/B\"},\"shape\":[18],\"dtype\":\"float64\",\"order\":\"little\"}]],[[{\"type\":\"ndarray\",\"array\":{\"type\":\"bytes\",\"data\":\"9s1CKCPvX8FdWp+UeO9fwXqJBlCg71/BTvmH7NnvX8E2GZVtI/BfwV4imnkc8F/ByiMa/mPwX8HtIgZ6sPBfwV63bDXY8F/B+mJqBfTwX8H5WtX8+PBfweuzmFdG8V/Bmc2D8SXxX8FbYWE1JfFfwQq5l0sk8V/BcidagyLxX8G0yVRZHfFfwV08gEsP8V/Ba1nU/MPwX8Hk1y0vuPBfwdyZX6e38F/BEMyic7fwX8HNmmvbm/BfwdyVGFeF8F/BqesELYXwX8Fjlq5qcfBfwaIvNZ9J8F/BP0ry+UbwX8E4/C2tQfBfwcTLHEU48F/BlmEXFjjwX8HE2SL+MfBfwfIUAgEq8F/BFuJuyCnwX8EEJ+oNJPBfwX7rN1oY8F/B9XOZ6RXwX8EBgFaX/u9fwX0YE0/t71/BWbinaenvX8HmDS1p6O9fwY6bXh7o71/Bc5be0+fvX8F23XMh5+9fwV3BWDbm71/BbktibuTvX8E4vnGFge9fwU0Tl6Jw71/Btfj+9tPvX8H2zUIoI+9fwQ==\"},\"shape\":[50],\"dtype\":\"float64\",\"order\":\"little\"}]],[[{\"type\":\"ndarray\",\"array\":{\"type\":\"bytes\",\"data\":\"PPtKBgXqX8FZ0w7++OlfwSM5En7v6V/BJJ7ZVerpX8FOqOSMvelfwaskFCm16V/BEtpU5sLoX8H3tiFYw+hfwejarLLh6F/BVe85meLoX8EQ4Anl8ehfwWWtpR5+6V/Bh12ctH/pX8GkhAi11ulfwQ==\"},\"shape\":[14],\"dtype\":\"float64\",\"order\":\"little\"}]],[[{\"type\":\"ndarray\",\"array\":{\"type\":\"bytes\",\"data\":\"0Hst+WTuX8E4vBLEg+5fwU9rI/fR7V/BB6/3Z/3tX8HUCf2nE+5fwYyN4n4r7l/B4CMgK1LuX8HcSciSR+5fwe0ynCMl7l/B+P7Gb/PtX8FkC6Do+O1fwQrDRbYz7l/Bmk46NmDuX8E1gYJFtu5fwU1tvIi57l/BWToBzbruX8He9mZT7u9fwczcN5Nd8F/BU0wiJajxX8FU4OCb9/FfwRFwvbtb8l/B8NVaF2TyX8GcLMNbOvJfwTGBstLX8V/ByHeLCbjxX8GYuebE3/FfwbJ+pdsN8l/Bl7pjEkfyX8Fs/VwyUvJfwcNIv8T88V/B+KMJkvHwX8GkoKyFZPBfwWqYFq1N8F/B9iPbudjvX8HkIryB0u9fwY7NiVzS71/BGBx7p7zvX8H4ylJ/q+5fwQ==\"},\"shape\":[38],\"dtype\":\"float64\",\"order\":\"little\"}]],[[{\"type\":\"ndarray\",\"array\":{\"type\":\"bytes\",\"data\":\"hViog4fqX8Gh+GagaepfwbqGfck76l/BzVsnxDDqX8GbTEsGBepfwU+GCLXW6V/BXjSK1tbpX8F16noOAupfwWNFF3gr6l/B1E9qDqTqX8G1s51kqepfwejSGJSr6l/BkjOxWdXqX8FNyRB61epfwbHYnBe06l/BhViog4fqX8E=\"},\"shape\":[16],\"dtype\":\"float64\",\"order\":\"little\"}]],[[{\"type\":\"ndarray\",\"array\":{\"type\":\"bytes\",\"data\":\"Z9hiLbXeX8GzUvvbYt9fwf6BrUeQ3l/BBmSOi5HfX8HhTObdYd9fwWEPqhs+31/Bsa/aXBjfX8HN6UMbqt5fwdVhCHF43l/BTXvMuk3eX8GF+tsaFt5fwdg1pHzd3V/BRk6xSrDdX8EkKyz2TN1fwehk7Yf43F/BY2qEwNfcX8Gn7mczldxfwRKxZEgV3F/BYoLxu0XcX8E3bSK+hdxfwW9UkIib3F/Bspi8aaXcX8G/g512sdxfwSb5nqMA3V/BtbQs73HdX8EybMTCdN1fwSL230L03V/BU0DUfPbdX8FfDRp4+91fwQ+nSFwp3l/BN7mD62beX8Fn2GIttd5fwQ==\"},\"shape\":[32],\"dtype\":\"float64\",\"order\":\"little\"}]],[[{\"type\":\"ndarray\",\"array\":{\"type\":\"bytes\",\"data\":\"n0EwczrXX8FkxreDO9dfwcKnDsGm11/BdBuxkfPXX8HGpz12A9hfwcrsPrw92F/BODMR/KzYX8HlKf0PcNhfwRYvGSr+11/ByAenyNPXX8H5Mx7BptdfwS8cMH6V11/B7K9CURvXX8F/zDTmMNZfwY7NA/pA1l/Bt+go2GvWX8HFQw54o9ZfwUhNHSnR1l/BkdejAejWX8GNEdi3EtdfwQ==\"},\"shape\":[20],\"dtype\":\"float64\",\"order\":\"little\"}]],[[{\"type\":\"ndarray\",\"array\":{\"type\":\"bytes\",\"data\":\"As9ZHE3qX8HvXr+GQOtfwZZqhD9Y7F/BmWZda0fsX8EGs1VIKuxfwY2mVFXx61/B+luoj8/rX8G2zBBwsOtfwYQjG9B461/BdxN6ghHrX8EOZgNEBOtfwdDd2jSq6l/BVkQZ+nHqX8GRFoXxPOpfwSGOLTYV6l/Bac2D4kzqX8E=\"},\"shape\":[16],\"dtype\":\"float64\",\"order\":\"little\"}]],[[{\"type\":\"ndarray\",\"array\":{\"type\":\"bytes\",\"data\":\"erGMbzzsX8H/jzVFP+xfwa6kwUNC7F/BcBdBDGrsX8HP+D53aexfwQ6W65aI7F/BkSGzGp/sX8EgFjBxnuxfwZOaibOk7V/BQscWg7ztX8Fl5tKz0e1fwTaAFI7n7V/BEym6MOztX8FPS6KK6e1fwY6hEabZ7V/BGCcfBqLtX8EZCQ+ode1fweiMw6pC7V/BmtkjaAbtX8EBY3zquuxfwcxH48qb7F/B6Ywfd2nsX8GWaoQ/WOxfwXqxjG887F/B\"},\"shape\":[24],\"dtype\":\"float64\",\"order\":\"little\"}]],[[{\"type\":\"ndarray\",\"array\":{\"type\":\"bytes\",\"data\":\"28d2xYLqX8ERQZhOjOpfwYfCOrTl6l/BnctNjTfrX8G09VQ+vutfwXaYBqzX61/BUJoCJOvrX8HaZiit9OtfwYYNKD3661/BXgWY0P3rX8EasJ0I++tfwXoTgu/r61/BYRlD3djrX8GtHm8mzOtfwaxrnTfC61/B0gUWG7XrX8FqKY0es+tfwZcLl+a161/B87hTbMHrX8GS6l102utfwUILYyTr61/BAA0rQADsX8HbbxyMiutfwV3jDzZy61/BQHcsmDHrX8GGfdZTyepfwcTrDt3D6l/BDgiJ0rfqX8GAlPuet+pfwVORnxJv6l/BEjgX+mjqX8Hr35vEbepfwVtQRHt66l/Bsa29P3/qX8HJHglXf+pfwUR+tgyA6l/BZ7xfbYLqX8HUbtAfg+pfwToODTJ/6l/B28d2xYLqX8E=\"},\"shape\":[40],\"dtype\":\"float64\",\"order\":\"little\"}]],[[{\"type\":\"ndarray\",\"array\":{\"type\":\"bytes\",\"data\":\"uTxqVw7mX8EpblkZnuVfwR1P+DYh5l/BK+Fd+bTlX8F76ioRIuZfwc4m53Y15l/BFjW//jbmX8HTNRLUReZfwcSeIvCv5l/BI++3HrfmX8G4TedUvuZfwaWF+s7A5l/Bpo8B3OrmX8HkWdmm8uZfwT8XMPsT51/BwZdDtRTnX8HVEkEac+dfwTHGWlGd51/BPMC7qrPnX8EDVd4o5udfwSA1dOUl6F/BCXU1AhnoX8H2gOQRGOhfwbDmAK3j51/B9ZsbG+PnX8EUWJC13udfwZTbp2TD51/BrHVwEXjnX8FTEM/yJudfwQGQuvfZ5l/B9I3NAVvmX8ExcvnUWeZfwQ==\"},\"shape\":[32],\"dtype\":\"float64\",\"order\":\"little\"}]],[[{\"type\":\"ndarray\",\"array\":{\"type\":\"bytes\",\"data\":\"62VxUJntX8FgZtl+c+xfwehJ7VF07F/ByRLmzHzsX8GvjL7DyetfwatecEXK61/BLPJp3ObrX8G7g7ocAuxfwfvbf9QC7V/BB6/3Z/3tX8FPayP30e1fwetlcVCZ7V/B\"},\"shape\":[12],\"dtype\":\"float64\",\"order\":\"little\"}]],[[{\"type\":\"ndarray\",\"array\":{\"type\":\"bytes\",\"data\":\"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\"},\"shape\":[238],\"dtype\":\"float64\",\"order\":\"little\"}]],[[{\"type\":\"ndarray\",\"array\":{\"type\":\"bytes\",\"data\":\"4OUS07LaX8FfKZ7AUdtfwSrzInV921/BHRrkyK/bX8HYElEhr9tfwUFxWAe921/Bj1tZHRPcX8HrvAHLQtxfwQfDbG5e3F/BMpTlCrLcX8H9APHmAN1fwWh00Pn13F/B1UXz5gDdX8E2SYbjAt1fwTenYN4F3V/B8aYkEOncX8EeGir49txfwU+Uu+j/3F/BqpcBwxXdX8FCZdiNNN1fwU9FD8Cr3V/BJYQ86ZPdX8GSfRrDFd1fwcK+AeVt3F/B\"},\"shape\":[24],\"dtype\":\"float64\",\"order\":\"little\"}]],[[{\"type\":\"ndarray\",\"array\":{\"type\":\"bytes\",\"data\":\"3mahYgHoX8FQ/WKYBOhfwUlhSEwu6F/BoPY7li7oX8H9Y5KGtelfwZ92w4B16V/BFMy97GbpX8Hr+YpTZulfwfEWj7dV6V/BP6YtBWTpX8HxvZjhXelfwX6LscYU6V/BwmkCTBTpX8GhM07XB+lfwXv9gdPr6F/B3P/cO+voX8Gi9w7K4uhfwRYBOpni6F/BNtOssuHoX8HFtSFYw+hfwfTqVObC6F/BiDYHjrvoX8E9PYzynuhfwfyl9Iqk6F/BqKUJDoroX8FhT49SYuhfwX8NPXwx6F/BKFoAIJHnX8ELL/i+m+dfwWPVDDXR51/B0ZDE7tLnX8HG4peT1edfwSZ9QCDh51/BRY7bJ+LnX8HDJLPo4+dfwfkBsVrk51/Bvx4rlOXnX8GE22qi5edfwdWgz0/r51/BCBTfF/znX8F0k2iTAehfwX4elU4G6F/BOw29JgzoX8Ez5OUAEOhfwZ7sNA4Q6F/BFtP5VxHoX8GkJw9kEehfwdiAaZAT6F/BBBFynBPoX8H8Q3jbE+hfwSvUgOcT6F/Bb00rtBjoX8GIBm64GOhfwYqFsGwY6F/BrV/7bBjoX8HlkqWlGOhfwbhvRWwX6F/BHGAt8xboX8Ea+z70FuhfwbSsg/UW6F/B7pDDqhfoX8GQAbWqF+hfwQPzF7MW6F/Bi8zbMhboX8E3khU0FuhfwXbm+HEW6F/BC9CW/xLoX8H6ldAAE+hfwXjzWT8T6F/BsNCmRxPoX8EFaVK9E+hfwbcPaccT6F/BRVYHdBXoX8Hs20dzFehfwbdvvz8T6F/BRNwLTRHoX8Gjh51xBOhfwdOrHxwE6F/B+RBL6PTnX8HGLaWM8udfwQAv+EPv51/BGHxnFefnX8FrQKT94edfwZtEV/e251/BJOtJAa7nX8GW3zJrrOdfwZPnN4er51/BqyyIr5fnX8ETHk5Ui+dfwTH7MQl051/BZomVom3nX8FQkM37V+dfwUSIGNlK51/BYE8AfEnnX8ESDKRcQ+dfwbhWW60551/BhHL3sTnnX8GOAOo7PedfwXs5a34/51/BPluDgz/nX8EvWhKTQedfwb+dtF1F51/By59/R0vnX8GlLDm9S+dfwT/YVW9M51/BvjcrV1XnX8GnuInMXOdfwUnaJZtd51/BHrkjDV7nX8FwxSC4XudfwUeiWhxg51/BRmfQ5GLnX8FNOdnRZ+dfwY4JydNr51/BfugPcn7nX8GdDZk6kOdfwTWJy7Of51/BmNtA0aHnX8GHVHyrw+dfwVNOZfzs51/Bl24FlADoX8HeZqFiAehfwQ==\"},\"shape\":[122],\"dtype\":\"float64\",\"order\":\"little\"}]],[[{\"type\":\"ndarray\",\"array\":{\"type\":\"bytes\",\"data\":\"/QDx5gDdX8EylOUKstxfwQfDbG5e3F/BvNkC7l/cX8HzVldN99tfwYKIEFvv21/BtEa/59fbX8Hkp/up+9tfwaucvQvD21/Bcyr7zebbX8E5wBaXBtxfwTRCVkE43F/BuB9nqo/cX8ExhDpptdxfwU3DE0DN3F/B3dwKBPDcX8H5SUnGE91fwdlH+5cu3V/BMtuMiDfdX8HeBEiWL91fwUiqR3493V/B0SZvgzrdX8HFMjjZCN1fwf0A8eYA3V/B\"},\"shape\":[24],\"dtype\":\"float64\",\"order\":\"little\"}]],[[{\"type\":\"ndarray\",\"array\":{\"type\":\"bytes\",\"data\":\"67OYV0bxX8H5WtX8+PBfwfpiagX08F/BNZeJ2gzxX8EhtB3XDvFfwTYuZZky8V/BN7sYgz/xX8GiGSGkwPFfwVxQIYzO8V/BRfy6ZOXxX8Hy28igwvFfwTIBPtSk8V/Byr0WS9bxX8Fk14Ny3fFfwahPzGTl8V/B3QRdVe7xX8GuACw1+/FfwZJ1Dz/78V/BrroiGQnyX8GLGXh3R/JfwaoNaEhP8l/BKOL+O5HyX8G8EkE11PJfwdisVABI81/BIZqGmoXzX8EyF2DG/fNfweamyaP+81/BA+HFMwX0X8HMnJuUGvRfwV2CA9wZ9F/BTORgbBL0X8FPN/8AefNfwWi0WuFZ81/BlUZTP0/zX8Fhdc4UPPNfwdaxBaUr81/BpqWLRh/zX8HneJeO9fJfwV7ccmL18l/BKsr9l/PyX8E4TI0jsPJfwXkOeFhZ8l/BaLw3ti/yX8GIewec3fFfwc1WgiTa8V/BfTH9f9XxX8Hnlk4B2fFfwbtIkSPZ8V/Bndm7j93xX8E23sVc4/FfwREmGGHn8V/B/lQQ+PLxX8HMpWxK9PFfwbAZLiz08V/Bq67dRPLxX8HX6AfR8fFfwffjDtb28V/B5uVSovjxX8H18DFC+fFfwSQkmi0F8l/B+b4DJhvyX8GHQ/wLHPJfwWUEhNME8l/BB+dkowLyX8HNIIo4/PFfwTmVrL348V/BXFGdlPfxX8G+zHnO9fFfwdi1AXnl8V/Bp5D+gN3xX8FqBSqt3PFfwcAS87Tb8V/BL0OC95fxX8Hrs5hXRvFfwQ==\"},\"shape\":[74],\"dtype\":\"float64\",\"order\":\"little\"}]],[[{\"type\":\"ndarray\",\"array\":{\"type\":\"bytes\",\"data\":\"Z/E6GrLxX8Fmq/SyMfFfwbzMbEgl8V/BVDq6zCLxX8F6h0qOFfFfwUNp2l668V/BItsv2brxX8EhoQK5qfFfwVF0JJKy8V/BZ/E6GrLxX8E=\"},\"shape\":[10],\"dtype\":\"float64\",\"order\":\"little\"}]],[[{\"type\":\"ndarray\",\"array\":{\"type\":\"bytes\",\"data\":\"sE5dVKHnX8El6W7hx+dfwYEkUwjg51/B0BACAefnX8Hwhan/e+hfweUtm0GD6F/BBhOfWgPqX8F2H/M66elfwQqcsnTo6V/BKw1/ErvpX8E8wULhmedfwV5UWw2Z51/B\"},\"shape\":[12],\"dtype\":\"float64\",\"order\":\"little\"}]],[[{\"type\":\"ndarray\",\"array\":{\"type\":\"bytes\",\"data\":\"FoFP1H/pX8FKa2O5selfwfU+U0fI6V/BpIs97N/pX8GPtqpWmepfwcdW3FSP6l/BB8xbmWfqX8EWgU/Uf+lfwQ==\"},\"shape\":[8],\"dtype\":\"float64\",\"order\":\"little\"}]],[[{\"type\":\"ndarray\",\"array\":{\"type\":\"bytes\",\"data\":\"FWwnehfoX8Hm2Ysd/eZfwZ8fR9Xt5l/B5yaZ2uzmX8H0oN44n+dfwZTbp2TD51/BFFiQtd7nX8H1mxsb4+dfwVg2I8Uu6F/Bpb0jNxXpX8F+2eGXDulfwYX7PfAM6V/BP1WzLvHoX8EWPbE0vOhfwQ==\"},\"shape\":[14],\"dtype\":\"float64\",\"order\":\"little\"}]],[[{\"type\":\"ndarray\",\"array\":{\"type\":\"bytes\",\"data\":\"qRNe+lHrX8Efyfn0UutfwdgmBeCA61/BxMywBeXsX8Gvo0FRsO1fwWPvrVSu7V/B3YCiGZ/tX8HyQAXVxu1fwV0OIrbY7V/BZely4+/tX8FmNg0bAe5fwRC1Idon7l/BOdmJ8BruX8Enbii9OO5fwRf/DtAt7l/Bho+xCA3uX8EFSZDJ1e1fwf91HaOz7V/BsAWMVUztX8GODOjvq+xfwfyCGF3c61/BwKlay4PrX8FjjhPaSetfwakTXvpR61/B\"},\"shape\":[24],\"dtype\":\"float64\",\"order\":\"little\"}]],[[{\"type\":\"ndarray\",\"array\":{\"type\":\"bytes\",\"data\":\"z1Y9zevvX8H0SR4i9+9fwWgT394c8F/BJ+12kzHwX8Gmb9ftSvBfwSziknJy8F/Bto0raHrwX8ETZwnLh/BfwSOx/eqd8F/BIBlbcp7wX8FmexOgs/BfwScIsni68F/BboaCwMrwX8HdiQwP6fBfwRj1beUI8V/Bt5DD+wrxX8EisS3AGfFfwYKbs4QN8V/BvHDDn/DwX8G6Hx6W7PBfwXXwAYbj8F/BGQBwMdnwX8EzWH3kovBfweT5F8h68F/BmfJd/HHwX8Fbye/lQPBfwRYKVFsu8F/BT5HBIx3wX8GqApacCPBfwenoC7j471/BeogeI+zvX8GJXx3o3O9fwWy1mL5g71/BIecI5knvX8FPmmnFXO9fwUYeatFV71/Byn4/zFjvX8EFe/G1Ze9fwazAbo5871/BOt1IlXjvX8FVyPh+he9fwbnV865p71/BqxkStGbvX8FP0n23ZO9fwf3hUJp171/BusSapG/vX8EGCdyKfu9fwQiajmiS71/BFtieAc7vX8GuKkwDze9fwQ==\"},\"shape\":[50],\"dtype\":\"float64\",\"order\":\"little\"}]],[[{\"type\":\"ndarray\",\"array\":{\"type\":\"bytes\",\"data\":\"tD1bqXHwX8EhUeBJkPBfwRRFVYHZ8V/BItsv2brxX8FDadpeuvFfwXqHSo4V8V/BBAp4forwX8G0PVupcfBfwQ==\"},\"shape\":[8],\"dtype\":\"float64\",\"order\":\"little\"}]],[[{\"type\":\"ndarray\",\"array\":{\"type\":\"bytes\",\"data\":\"sdicF7TqX8FNyRB61epfwV3D/lDW6l/BjxOnT2vrX8HUhgiLSetfwatewUdI61/B\"},\"shape\":[6],\"dtype\":\"float64\",\"order\":\"little\"}]],[[{\"type\":\"ndarray\",\"array\":{\"type\":\"bytes\",\"data\":\"0WuXFq/wX8HCkpJhuvBfweeFWAm58V/Bz9S9cALyX8EjalplAPJfwUvGUETo8V/BxQUtMJ/wX8GaIgJQn/BfwaPvJEuo8F/BqTHVIkTwX8E=\"},\"shape\":[10],\"dtype\":\"float64\",\"order\":\"little\"}]],[[{\"type\":\"ndarray\",\"array\":{\"type\":\"bytes\",\"data\":\"22JMUMbtX8G3BmKeVuxfwZvfJiB361/B1xaYX1LrX8FAdyyYMetfwV3jDzZy61/B228cjIrrX8EADStAAOxfwe5NgT0B7F/BfFMZR/XsX8FCJFaL9exfwSx0n3397F/BjUarTRntX8Ft4z9Vqe1fwcpsRyXF7V/BmSQmwP/tX8HFMOsZYO5fwfqaNxhh7l/B5GnFtJruX8HeuKejpO5fwY8QR9yD7l/BdD5ePEzuX8EslKiM2+1fwTgxSv3Z7V/BEPvWhs7tX8EW/+eaze1fwQ==\"},\"shape\":[26],\"dtype\":\"float64\",\"order\":\"little\"}]],[[{\"type\":\"ndarray\",\"array\":{\"type\":\"bytes\",\"data\":\"Fj2xNLzoX8EATYwpkehfweUtm0GD6F/B8IWp/3voX8HQEAIB5+dfwYEkUwjg51/BU+I7U97nX8H2EsnM0+dfwQsZZVfm51/B4I8S+urnX8G2CIHl9udfwQhHnRv/51/BFWwnehfoX8EWPbE0vOhfwQ==\"},\"shape\":[14],\"dtype\":\"float64\",\"order\":\"little\"}]],[[{\"type\":\"ndarray\",\"array\":{\"type\":\"bytes\",\"data\":\"kSYLLObsX8EQQ+WO5uxfwfKlJd787F/BLgJgQSbtX8F0fkX0QO1fwWXp6M1m7V/BKxtE5HTtX8E1jfxire1fwb9OVUHT7V/BuRsMKhLuX8GyjV3VJe5fwb2zP4077l/BLaHJWVnuX8G1Y1bPkO5fwdtDFzu17l/BLQObEv7uX8EGMgB3P+9fwSnB9jpi71/BoZYJX3TvX8GKecnKmO9fwW2QVOnp71/BMdszp5TvX8Fs2yO3cu9fwWrX8qd071/BF20Kj3XvX8EZnKTadu9fwa9yEd2m71/BupokCabvX8EjUD+4iu9fwalaTp2B71/BH0NXgnjvX8FtSnZBO+9fwS4+7x0371/BVbdvmCHvX8FCnMxIHu9fwRXqM5qa7l/BaRwokZHuX8GRicUqke5fwVc/1CkS7l/B8170OgjuX8FFiuzdqe1fwbuLmBKk7V/BdP/l3antX8HDCA3vn+1fwbAMVHOd7V/B5jnUlqHtX8GE3tN1IO1fwehG/DTj7F/B8tpMEMfsX8GvZkYr0OxfwQ==\"},\"shape\":[50],\"dtype\":\"float64\",\"order\":\"little\"}]],[[{\"type\":\"ndarray\",\"array\":{\"type\":\"bytes\",\"data\":\"8RaPt1XpX8Hr+YpTZulfwWrl6dJ56l/BTSxOB33qX8G2+wuRTupfwXUgcPz16V/BB4YCe/LpX8HxvZjhXelfwT+mLQVk6V/B8RaPt1XpX8E=\"},\"shape\":[10],\"dtype\":\"float64\",\"order\":\"little\"}]],[[{\"type\":\"ndarray\",\"array\":{\"type\":\"bytes\",\"data\":\"D5CRI7LiX8E2YY6jI+JfwaPkvcRH4l/BlOD9wXriX8F1jFZlsOJfwSWBnHrV4l/BjG5aT1HjX8Ev3OI7jONfwWQZl5Sz41/BBDpNJerjX8GM7HixBeRfwTUlf7QX5F/Bgc1rMTLkX8GTMJzAX+RfwditASLj5F/BWEkW6PDkX8Hixf5h+eRfwRLASzT25F/BvDjwm+vkX8HM0BLizORfwXtLLmjE5F/BTsrndbzkX8E1vM6MkeRfwanXjJqJ5F/B67kxAn/kX8GYRt5shuRfwRdO+RKJ5F/BiRNkjprkX8G5vVnLnuRfwZ1ASyiu5F/BU+Yh37rkX8HETTmFveRfwVfhZ9HC5F/BhmoZH9HkX8GgFiMi4+RfwVvTCZzr5F/BfsJPjvPkX8FQdJSA++RfwdfUOAsO5V/BXyskiCjlX8EBvt/YSOVfwXhAJetb5V/BHaC5r2DlX8Gtc6YpaeVfwX1/Pc5i5V/BpgLadW7lX8GHj+87fOVfwQmAOC6E5V/B3VXAL43lX8E21c0UieVfwQ6loFiI5V/BzRt6nYjlX8ETSFxNh+VfwQ0VsJN15V/BW6Hi1R3lX8FguK++r+Rfwajr5bSc5F/BZKEGNo/kX8ED4YnUZORfwUymZhgM5F/BYHnbY+DjX8EHkZmhvONfwbtlfdic41/BcY35I3HjX8GmgemKNeNfwelN4iHe4l/B\"},\"shape\":[66],\"dtype\":\"float64\",\"order\":\"little\"}]],[[{\"type\":\"ndarray\",\"array\":{\"type\":\"bytes\",\"data\":\"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\"},\"shape\":[244],\"dtype\":\"float64\",\"order\":\"little\"}]],[[{\"type\":\"ndarray\",\"array\":{\"type\":\"bytes\",\"data\":\"T2sj99HtX8E4vBLEg+5fwdB7Lflk7l/B+MpSf6vuX8EYHHunvO9fwY7NiVzS71/Bli3vR9LvX8GkXujCrO9fwR9Ww+Ga71/BHwEp8ZHvX8Ea4+32l+9fweMHvTyI71/BoZYJX3TvX8EpwfY6Yu9fwQYyAHc/71/BLQObEv7uX8HbQxc7te5fwbVjVs+Q7l/BLaHJWVnuX8G9sz+NO+5fwe+t1ooL7l/BU+VObLrtX8EapiGyqu1fwZyVaYJj7V/Bzr+8R57tX8FdQ4SdbO1fwTmlZIx27V/Bg4JmjHbtX8HrZXFQme1fwU9rI/fR7V/B\"},\"shape\":[30],\"dtype\":\"float64\",\"order\":\"little\"}]],[[{\"type\":\"ndarray\",\"array\":{\"type\":\"bytes\",\"data\":\"JhKrGp3lX8G52QHD1eVfwQhq3Bav5V/B+UtpEjvlX8HVDxtAPuVfwR7Mv36Z5F/BdaqCTHvkX8HKCHpA2uNfwfJf1HKf41/BMcAEfHzjX8EwMYk6XeNfwShrINgY41/B6dCaXxbjX8GBIKVJ7eJfwWIJxrvr4l/BWBnVC+TiX8Fc73TL4eJfwXDLLnHh4l/BQRrjdtfiX8FJIIwxzuJfwf/XZTjK4l/B4dZiOMriX8GJGs7gsOJfwcpRAgTF4l/BVuRcl03jX8GiiJi6TuNfwRC3MXDX5F/BpB9pNI7lX8E=\"},\"shape\":[28],\"dtype\":\"float64\",\"order\":\"little\"}]],[[{\"type\":\"ndarray\",\"array\":{\"type\":\"bytes\",\"data\":\"Fj2xNLzoX8E/VbMu8ehfwYX7PfAM6V/Bftnhlw7pX8EWgU/Uf+lfwQfMW5ln6l/BmYXn8WLqX8ECz1kcTepfwWnNg+JM6l/BIY4tNhXqX8GRFoXxPOpfwYlfQJMI6l/BBhOfWgPqX8HlLZtBg+hfwQBNjCmR6F/BFj2xNLzoX8E=\"},\"shape\":[16],\"dtype\":\"float64\",\"order\":\"little\"}]],[[{\"type\":\"ndarray\",\"array\":{\"type\":\"bytes\",\"data\":\"716/hkDrX8ECz1kcTepfwZmF5/Fi6l/BB8xbmWfqX8HHVtxUj+pfwY+2qlaZ6l/BxgdMj2TrX8HMgewZd+tfwVf7Lmqr61/BwOfG3MvrX8HP+D53aexfwXAXQQxq7F/BrqTBQ0LsX8H/jzVFP+xfwXqxjG887F/BCsX1wDXsX8E=\"},\"shape\":[16],\"dtype\":\"float64\",\"order\":\"little\"}]],[[{\"type\":\"ndarray\",\"array\":{\"type\":\"bytes\",\"data\":\"2q3hSwXpX8FAxw29hOlfwcCMceXo6V/BCJkqbBbqX8HJHglXf+pfwbGtvT9/6l/BW1BEe3rqX8Hr35vEbepfwRI4F/po6l/BEiUOFfLpX8GKoRaNrOlfwci0AZ2K6V/BHmGCXtDoX8HareFLBelfwQ==\"},\"shape\":[14],\"dtype\":\"float64\",\"order\":\"little\"}]],[[{\"type\":\"ndarray\",\"array\":{\"type\":\"bytes\",\"data\":\"nJVpgmPtX8F77lx0cOxfwY8Tp09r61/BfGKLJoPrX8EP1qfMhetfwQYfQLGV61/BEaVwfEjsX8GL5qK4V+xfwV1DhJ1s7V/Bzr+8R57tX8E=\"},\"shape\":[10],\"dtype\":\"float64\",\"order\":\"little\"}]],[[{\"type\":\"ndarray\",\"array\":{\"type\":\"bytes\",\"data\":\"pb0jNxXpX8HdyHDCNulfwedAjOE36V/BwGdg7zfpX8FKa2O5selfwRaBT9R/6V/Bftnhlw7pX8GlvSM3FelfwQ==\"},\"shape\":[8],\"dtype\":\"float64\",\"order\":\"little\"}]],[[{\"type\":\"ndarray\",\"array\":{\"type\":\"bytes\",\"data\":\"yLUUrPTvX8FtkFTp6e9fwYp5ycqY71/BoZYJX3TvX8HjB708iO9fwRrj7faX71/BMRCWQejvX8G25mfZuPBfwXyjcHen8F/Bu/SzUovwX8Htz4rbkPBfwS45/Wer8F/BxH6VTMDwX8HXwtdTUPFfwZSZFqh58V/BD5slwv7xX8HRa5cWr/Bfwakx1SJE8F/BY1dk3ELwX8FrEw+3H/BfwQ==\"},\"shape\":[20],\"dtype\":\"float64\",\"order\":\"little\"}]],[[{\"type\":\"ndarray\",\"array\":{\"type\":\"bytes\",\"data\":\"Q6bEYI7pX8FCcBAjmelfwSsNfxK76V/BCpyydOjpX8F2H/M66elfwR/J+fRS61/BqRNe+lHrX8FjjhPaSetfwcCpWsuD61/B/IIYXdzrX8GODOjvq+xfwZclrftX7F/BUfwTfgzsX8ExwfBqiutfwQlx/MdA61/BEkfgmNvqX8HKSKps4epfwYkQ+uTg6l/BbroZ9OHqX8FjfkDCuOlfwQ==\"},\"shape\":[20],\"dtype\":\"float64\",\"order\":\"little\"}]],[[{\"type\":\"ndarray\",\"array\":{\"type\":\"bytes\",\"data\":\"6vfzjwvrX8G3BmKeVuxfwdtiTFDG7V/Bi+xERJ7tX8EsLBA1nO1fwRcgjsWP7V/B5Wlh9oLtX8G7/hB1fu1fwQwuQjV97V/BtF+cV3ztX8EhpbWqd+1fwdyOt4xl7V/BWjRENmPtX8Gjum7aN+1fwd7Uud0v7V/B+FT7qCntX8HKCMePIe1fwZwJjloa7V/Bc31YehLtX8HFxRvwC+1fwbg237MC7V/BgTCwOQLtX8EftOLf+OxfwfqjIury7F/BkaW88u/sX8HCwrY37+xfwX+EnQno7F/BJDRjDeHsX8Fgcan02exfwWuhMLHS7F/BCcn5CcvsX8HGnSJ4w+xfwdjRiGa87F/Bp+wPI7XsX8ExU/RmruxfwWzBuKOn7F/B2Cffg6DsX8E6BGSymexfwWqFGtt37F/Bk/rAqHbsX8HxSEYsb+xfwXOXL+Fm7F/BfuVYKFjsX8HgNL3dUOxfwfoWBqhI7F/BbAD9NDfsX8GQQQ7mJuxfwRVMBjoV7F/B5sjiqQPsX8GAWXAb8+tfwaF0bhHt61/BqDAHmcHrX8Gjmo40k+tfwemyUPWF61/Bk51CXoLrX8E+b7hAXetfwZ2CGh9F61/BMOD83SDrX8FJlvAfH+tfwW0MdO4e61/BQo+Wbx7rX8Hq9/OPC+tfwQ==\"},\"shape\":[62],\"dtype\":\"float64\",\"order\":\"little\"}]],[[{\"type\":\"ndarray\",\"array\":{\"type\":\"bytes\",\"data\":\"AyS63p3bX8Ggub8ae9tfwRalnTlp21/BvBPWonbbX8GElv70kNtfwVczaOCc21/BhQE4YZ/bX8E0JPfQpdtfwXdetNF721/B0hjgN2rbX8GCYr9WWNtfwbKhPjhQ21/BXcRaVUbbX8FOFM2qJ9tfwUYiDkfn2l/BQeR5Q8/aX8Hg28fU5tlfwSiMqgvH2V/BoAOvJiPZX8ES5n0A0thfwcNM+5Pe2F/B53IPGfjYX8FiD89YFdlfwQ/53JVZ2V/B/Orn22fZX8EOZ++kpdlfwQw0hqSz2V/B4ipP+2jaX8FQ/qIWotpfwXFywYOm2l/B9pErzLjaX8HsNj3Mx9pfwQ8iCwPw2l/BBEp4XRjbX8H+Mocha9tfwdEYdbt021/BX5CREZTbX8HExGO2lttfwfQxE62+21/BaTRkVebbX8ESsWRIFdxfwafuZzOV3F/BY2qEwNfcX8HoZO2H+NxfwSQrLPZM3V/BRk6xSrDdX8EhS+ia7dxfwYOLJglC3V/BFMxsxQfdX8F1h3+DBd1fwXHC9tUC3V/BsIOufLbcX8GLWwT7tdxfweV/vPC73F/Bgjjj9bjcX8ExuVfnsdxfwYd1DAev3F/BGvzFeJ7cX8FMHYHol9xfwZMQ8T2P3F/BovTZMYPcX8EVHlWIfNxfwecYjIJn3F/BTzhS/CDcX8Fmz3c8FNxfwXBtp07x21/BhyhFn8LbX8GQjGR6qNtfwQ==\"},\"shape\":[68],\"dtype\":\"float64\",\"order\":\"little\"}]],[[{\"type\":\"ndarray\",\"array\":{\"type\":\"bytes\",\"data\":\"YzbTLbjqX8GCJUkjt+pfwXURMSbR6l/BAMOAc9PqX8F2JHSq0+pfwfdxV8XT6l/B324hj9vqX8FpJFPMdOxfwfWXij9y7F/B4pkja9PsX8E+H3dW6OtfwWM20y246l/B\"},\"shape\":[12],\"dtype\":\"float64\",\"order\":\"little\"}]],[[{\"type\":\"ndarray\",\"array\":{\"type\":\"bytes\",\"data\":\"Fx8v6TzvX8FAieHSQPBfwWBIvU9b8F/BU+z2e63vX8E2Xi9nb+9fwRcfL+k871/B\"},\"shape\":[6],\"dtype\":\"float64\",\"order\":\"little\"}]],[[{\"type\":\"ndarray\",\"array\":{\"type\":\"bytes\",\"data\":\"2q3hSwXpX8EHd+67EuhfwYdwRs4g6F/B616zbj/oX8ExmAjjXuhfwRQtC4x46F/BoMBq2mPoX8H/4H/7N+hfwaA/8FVm6F/BkxOwpoHoX8H26AEmzOhfwYKlCnj/6F/Bktu8YD7pX8HMsQptfelfwZthODzB6V/BxL1gSxvqX8ElxjlFUOpfwS0XHEKX6l/BLi8MwsPqX8Hug+hlw+pfwfYJAPy16l/BYa7MzKnqX8Fi2NeMk+pfwR2n5o+l6l/B9eP2cqzqX8EWxdcJrupfwdRstcC66l/BWk6pPdXqX8FE5tip5epfwagjYCbB6l/BGZACo5bqX8GcagqbfepfwVPC7Slm6l/BzQKpb1vqX8E/QdLwS+pfwW8V2Ogy6l/BAxJN5BfqX8HHTpYuKOpfweYslk4z6l/BLSHieDjqX8Er0HqtN+pfweJfE1Ix6l/BA4kawivqX8FyoNMnLOpfwT+41Ec36l/BnIAbAkLqX8FzSl80YOpfwToODTJ/6l/B1G7QH4PqX8FnvF9tgupfwUR+tgyA6l/ByR4JV3/qX8EImSpsFupfwcCMceXo6V/BQMcNvYTpX8HareFLBelfwQ==\"},\"shape\":[56],\"dtype\":\"float64\",\"order\":\"little\"}]],[[{\"type\":\"ndarray\",\"array\":{\"type\":\"bytes\",\"data\":\"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\"},\"shape\":[194],\"dtype\":\"float64\",\"order\":\"little\"}]],[[{\"type\":\"ndarray\",\"array\":{\"type\":\"bytes\",\"data\":\"Y4Ld4R7ZX8GajRn1sNhfwX7yMzJc2F/BOlyd7j3YX8GU1dCvP9hfwez5w39b2F/Bc0gbL4rYX8GW/cDqRdlfwQKE2qds2V/BmYcWZybaX8FZw+DWM9pfwVxPnac32l/BEkqw+jjaX8FwDx7mRNpfwZHlgH5P2l/Boqd8K07aX8E2Qs5NOtpfwUKQNBYp2l/BJY6euRHaX8EA8nflE9pfwZO3J/8b2V/BY4Ld4R7ZX8E=\"},\"shape\":[22],\"dtype\":\"float64\",\"order\":\"little\"}]],[[{\"type\":\"ndarray\",\"array\":{\"type\":\"bytes\",\"data\":\"nZf2v2jfX8Ed3zu+ad9fwdYbWp9731/BuUN2BEHfX8HRNRF5/d5fwbdFZKfi3l/Bhs2uvdXeX8EC6H9nc95fwVFgYCIH3l/BwzdfIgfeX8Fqw/RC9N1fwXJN/2/L3V/B/s3TK8rdX8Gk5/jSoN1fwZ0v99Kg3V/BliDtlsPdX8H2j3p7091fwfZwC4TO3V/BU8wLnMDdX8FPRQ/Aq91fwUJl2I003V/BqpcBwxXdX8FPlLvo/9xfwR4aKvj23F/B8aYkEOncX8E3p2DeBd1fwTZJhuMC3V/B1UXz5gDdX8FodND59dxfwf0A8eYA3V/BxTI42QjdX8HRJm+DOt1fwUiqR3493V/B3gRIli/dX8Ey24yIN91fwdlH+5cu3V/B+UlJxhPdX8Hd3AoE8NxfwU3DE0DN3F/BMYQ6abXcX8G4H2eqj9xfwTRCVkE43F/BOcAWlwbcX8FzKvvN5ttfwaucvQvD21/B5Kf7qfvbX8G0Rr/n19tfwQB3P5N021/BI6Mj7j/bX8EEvCYeJNtfwReItyYf21/BLu7WEyrbX8HfevDQUNtfwSG4hPE921/BuO9UsGPbX8FdxFpVRttfwbKhPjhQ21/BnwzvbWbbX8F3XrTRe9tfwTQk99Cl21/BhQE4YZ/bX8FXM2jgnNtfwYSW/vSQ21/BvBPWonbbX8EWpZ05adtfwaC5vxp721/BAyS63p3bX8GQjGR6qNtfwYcoRZ/C21/BcG2nTvHbX8Fmz3c8FNxfwU84Uvwg3F/B5xiMgmfcX8EVHlWIfNxfwUMfJKeA3F/BovTZMYPcX8GTEPE9j9xfwUwdgeiX3F/B+DWJkpvcX8Ea/MV4ntxfwYd1DAev3F/BMblX57HcX8GCOOP1uNxfweV/vPC73F/Bi1sE+7XcX8Gwg658ttxfwXHC9tUC3V/BlcfQ/gXdX8F1h3+DBd1fwRTMbMUH3V/B5w7ply7dX8HAkL5iTd1fwTJa4U9Y3V/Bij0iBoPdX8HWM/ncmt1fwV8SHtae3V/Bs9McvqzdX8FD1e1k4N1fwQIALjP93V/B+2hyGQzeX8F5wRFzbN5fwbt5xVx53l/BKl5xCqneX8GHY0Cl495fwTkvJbjY3l/BJp9Lyc7eX8H9vk7Vx95fwWJONDyM3l/Bs8TvYXbeX8Gvqs9r3N1fwUpV+YjL3V/BoVTXg87dX8E62i/Wnt1fwU21DdGh3V/Bv15kC4DdX8HuDvsTe91fwcQAAyxt3V/BCt0GLG3dX8H46t/qkt1fwac3cLew3V/BFqt+qMHdX8HySmVzxt1fwU5RRoLP3V/BHin7a9zdX8G5+YY4+t1fwY0rfvAj3l/BJCTeS4PeX8EY975qcd5fwSvJ5G9u3l/B/8Hmb27eX8E7l8NSf95fwQ9LpXFt3l/BRejOvkDeX8HKtPjbL95fwYfLAgwU3l/BJ7tPFg7eX8He4yoFGN5fway/S4Zh3l/BU1HYUn/eX8FCi0Emmd5fwZKMYPux3l/BJ3szz1/fX8ExMwu+ad9fwVSoBV6h31/BwD49/NnfX8EbE6kIZ+BfwYF1gzTJ4F/B1n5y+JzgX8Hzb5QOm+BfwXfLzb154F/BKgemDpXgX8FyVrFVneBfwUugjaa44F/B10ITnhDgX8E9qLHtE+BfwTgAx3sk4F/B9wVcXpjgX8H9jqCmuOBfwbWFD20L4V/Bu6QjXS3hX8HOqse3W+FfwbIrB/VQ4V/BxEqwi1zhX8EpR7tIkuFfwa/9NFSR4V/BKXLVl2ThX8Eo+qMFZOFfwUoOB3Bj4V/BFAvk/EPhX8Ee2+aBPOFfwZUe25oK4V/BbgLoJwjhX8HebM7XB+FfwX7uIdcF4V/BhiE4GAXhX8Hm3A+WAOFfwZj1mzX44F/BTk/TXdXgX8EEWBh+t+Bfwf8eZvRy4F/BltRl6HngX8EebbE6SuBfwSm2jVk44F/BwXDza5nfX8G5Ha2dfN9fwZ2X9r9o31/B\"},\"shape\":[186],\"dtype\":\"float64\",\"order\":\"little\"}]],[[{\"type\":\"ndarray\",\"array\":{\"type\":\"bytes\",\"data\":\"tswQcLDrX8H6W6iPz+tfwY2mVFXx61/BBrNVSCrsX8GZZl1rR+xfwZZqhD9Y7F/B6Ywfd2nsX8HMR+PKm+xfwQFjfOq67F/BmtkjaAbtX8HojMOqQu1fwRkJD6h17V/BGCcfBqLtX8GOoRGm2e1fwQIJzRPU7V/Bvp2Yx87tX8E9Dziat+1fwX7xlOWL7V/BibvxuKXtX8HZoN1Nsu1fwaL65aCz7V/Be/F+4+/tX8E6EYQe/+1fwaYJTroH7l/BZjYNGwHuX8Fl6XLj7+1fwV0OIrbY7V/B8kAF1cbtX8HdgKIZn+1fwWPvrVSu7V/Br6NBUbDtX8HEzLAF5exfwdgmBeCA61/BThLJGIDrX8EBq9J/cetfwQwE/M6n6l/BafVBiafqX8HQ3do0qupfwQ5mA0QE61/BdxN6ghHrX8GEIxvQeOtfwbbMEHCw61/B\"},\"shape\":[42],\"dtype\":\"float64\",\"order\":\"little\"}]],[[{\"type\":\"ndarray\",\"array\":{\"type\":\"bytes\",\"data\":\"bJLZZQTqX8E0ZbONFepfwaC1HANv6l/B1+PMEGfqX8HJyg7rfOpfwVcqqVJy6l/B\"},\"shape\":[6],\"dtype\":\"float64\",\"order\":\"little\"}]],[[{\"type\":\"ndarray\",\"array\":{\"type\":\"bytes\",\"data\":\"ub1Zy57kX8GJE2SOmuRfwRdO+RKJ5F/BmEbebIbkX8HruTECf+RfwanXjJqJ5F/BNbzOjJHkX8FOyud1vORfwXtLLmjE5F/BzNAS4szkX8G8OPCb6+RfwRLASzT25F/B4sX+YfnkX8FYSRbo8ORfwditASLj5F/BkzCcwF/kX8GBzWsxMuRfwTUlf7QX5F/BjOx4sQXkX8EEOk0l6uNfwWQZl5Sz41/BL9ziO4zjX8G0jvORjeNfwb5rdMWL41/BQgKGvnPjX8HXuWoYceNfwUxFd8me41/B//9odp3jX8Eq3V47juNfwU6H3sFx41/B8UATVk3jX8E3cAYDTONfwVK29JdY41/BB95E3WHjX8HtcyDkXeNfwZKpUUhV41/BhWUXwUDjX8EoayDYGONfwTAxiTpd41/BMcAEfHzjX8HyX9Ryn+NfwcoIekDa41/BdaqCTHvkX8EezL9+meRfwdUPG0A+5V/B+UtpEjvlX8EIatwWr+VfwVp5Yy+N5V/BAcAwHXrlX8Failq/Z+VfwdAg6n5L5V/BC1atNbHlX8EdoLmvYOVfwXhAJetb5V/BAb7f2EjlX8FfKySIKOVfwdfUOAsO5V/BUHSUgPvkX8F+wk+O8+RfwVvTCZzr5F/BoBYjIuPkX8GGahkf0eRfwVfhZ9HC5F/BxE05hb3kX8FT5iHfuuRfwZ1ASyiu5F/B\"},\"shape\":[66],\"dtype\":\"float64\",\"order\":\"little\"}]],[[{\"type\":\"ndarray\",\"array\":{\"type\":\"bytes\",\"data\":\"VyqpUnLqX8HJyg7rfOpfwdfjzBBn6l/BoLUcA2/qX8E0ZbONFepfwbUV4OoV6l/BQ1fCSSDqX8H4cLAg8upfwYBU42z36l/BE6yOMhnrX8EfusChO+tfwb6rZkRA61/BJpso2T7rX8Geu5a/PutfwVmjlKg361/Bn+Epmg7rX8F7mIrN8OpfwVcqqVJy6l/B\"},\"shape\":[18],\"dtype\":\"float64\",\"order\":\"little\"}]],[[{\"type\":\"ndarray\",\"array\":{\"type\":\"bytes\",\"data\":\"IBYwcZ7sX8F0Na/HnexfwaJw3wh47F/BxDtlhszrX8E+H3dW6OtfweKZI2vT7F/BILzIUxLtX8GhQCZVdO1fwUD3Ca9x7V/BF2QYJZDtX8HjWfdHpO1fwZOaibOk7V/B\"},\"shape\":[12],\"dtype\":\"float64\",\"order\":\"little\"}]],[[{\"type\":\"ndarray\",\"array\":{\"type\":\"bytes\",\"data\":\"D5CRI7LiX8HpTeIh3uJfwRW927iG4l/B1rGK/D/gX8H+dFaNHeBfwdrEgrYF4F/B4JMjfDDfX8GHY0Cl495fwSpecQqp3l/Bu3nFXHneX8F5wRFzbN5fwftochkM3l/BAgAuM/3dX8FD1e1k4N1fwbPTHL6s3V/BXxIe1p7dX8HWM/ncmt1fwYo9IgaD3V/BMlrhT1jdX8HAkL5iTd1fwecO6Zcu3V/BFMxsxQfdX8GDiyYJQt1fwSFL6Jrt3F/BRk6xSrDdX8HYNaR83d1fwYX62xoW3l/BTXvMuk3eX8HVYQhxeN5fwc3pQxuq3l/Bsa/aXBjfX8FhD6obPt9fweFM5t1h31/BBmSOi5HfX8GuVahUsd9fwd9yarMO4F/B65lWL1vgX8Hvl2WwpOBfwSDm751D4V/BCJjQW5LhX8E1l6BUoeFfwUFC9Pqh4V/BNmGOoyPiX8EPkJEjsuJfwQ==\"},\"shape\":[44],\"dtype\":\"float64\",\"order\":\"little\"}]],[[{\"type\":\"ndarray\",\"array\":{\"type\":\"bytes\",\"data\":\"FG3QSQfrX8H6ZdIC/+pfwX1AP6fj6l/BWDr+GOPqX8EIbxE/2OpfwR49uezQ6l/BI3S6esrqX8GdFWZUyupfwd+PUCG56l/Bvs2b26rqX8ER+h93nOpfwc6cf9KR6l/B5Kdiz4rqX8HdvfepiupfwR1PfoSD6l/BeFmzBYHqX8E2EY4pgOpfwTqN3w1q6l/BC9lJX2nqX8EcUXFAOepfwRkH238a6l/BOFOQhhnqX8H/iqZTCOpfwUN6eTMF6l/BetBc5v7pX8HyznbO/elfwfyWdkr76V/BIJXPqfnpX8EvOC6m8+lfwUu+Xpfj6V/BzFv3WtTpX8G3c06z0+lfwWpz1Y/T6V/BtJoSfszpX8F3ywEWw+lfwVhvegqr6V/BNvVZAZjpX8HNDQHXielfwUWAhRVp6V/B5w5zo1npX8HH92NFVulfwR0Cu6pG6V/BlNq30zjpX8G9pGSPLulfwR962acY6V/BOrxb1hHpX8GBtqtKCOlfwdO+mFT/6F/BdjaOU+7oX8ERUCqk1ehfwa+GkjC06F/B++/3qpnoX8GNqrnPeOhfwQ8oIa1x6F/BY7KXIHHoX8GXM6ascOhfwWhcxXpw6F/BECvoSHDoX8EeYYJe0Ohfwci0AZ2K6V/BiqEWjazpX8ESJQ4V8ulfwRI4F/po6l/BU5GfEm/qX8GAlPuet+pfwQ4IidK36l/BxOsO3cPqX8GGfdZTyepfwUB3LJgx61/B1xaYX1LrX8Gb3yYgd+tfwbcGYp5W7F/B6vfzjwvrX8G2gqIkCOtfwZ5dgn0H61/BFG3QSQfrX8E=\"},\"shape\":[76],\"dtype\":\"float64\",\"order\":\"little\"}]],[[{\"type\":\"ndarray\",\"array\":{\"type\":\"bytes\",\"data\":\"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\"},\"shape\":[680],\"dtype\":\"float64\",\"order\":\"little\"}]],[[{\"type\":\"ndarray\",\"array\":{\"type\":\"bytes\",\"data\":\"QInh0kDwX8FD99yOOfBfwQiGIUY58F/BdPyqpSnwX8HPWcHcU/BfwXV5x4Vt8F/BBAp4forwX8F6h0qOFfFfwVQ6uswi8V/BvMxsSCXxX8Fmq/SyMfFfwWfxOhqy8V/BUXQkkrLxX8HH5suX1fFfweri5mQI8V/BIqpUIvHwX8FgSL1PW/BfwUCJ4dJA8F/B\"},\"shape\":[18],\"dtype\":\"float64\",\"order\":\"little\"}]],[[{\"type\":\"ndarray\",\"array\":{\"type\":\"bytes\",\"data\":\"bJfUOqHzX8GaC0xdn/Nfwb3P6bSf81/BfCLLiKHzX8E/qtie4PNfwbKbpohT9F/B4Y9+W1b0X8HSdyXmgfRfwQ5O97uR9F/B7U9Lt5n0X8GBur6NyPRfwZjLVf/W9F/B57Ck0tT0X8G9svT5vPRfwbmM/7+69F/B3+zKd7j0X8FMb6y7sfRfwZ+2okCt9F/BQ01Dr6b0X8G4k5Qto/RfwSV+Roif9F/BHAQhIpr0X8FG2GJCk/RfwfF2HA6O9F/BZN2xton0X8HepzY6gvRfwUQCaLF+9F/BFkWOYn30X8ELerQTfPRfwV7GVox79F/ByO9ODXv0X8EXOrn2evRfwdFWgTR79F/Bpm6WYXv0X8GCmFZTe/RfwZq/1jZ79F/BWPyZfXr0X8HubWAZefRfwfrnaRh39F/BlmAP5nX0X8GpJ3n6c/RfwdDJXtZy9F/BcDIkKXP0X8EajbqWc/RfwRKTz5519F/BnnAp0Xb0X8GyfVn9efRfwYEUx6l99F/B29hM7IL0X8HpndP1h/RfwQtck2OO9F/Bvi1UmJT0X8HliSCFlvRfwfwIg/2X9F/BhzYZ6Zn0X8FJl32mmfRfwaB7vCiZ9F/BClziS5j0X8GY6q8flfRfwdBvgLqR9F/BQ/pRHI70X8HrlDjGjfRfwUuFhuiJ9F/Btbt0/Ib0X8F8Lr/QhPRfwQO/3h6E9F/Bbo3RB4H0X8EK7Nmxf/RfwUXFDUV79F/BNzyzz3P0X8FuUz4xcvRfwR33jttu9F/BipXudGj0X8ElqslHY/RfwauugIVe9F/B+r78e1n0X8FF6076VfRfwVEF3GpT9F/ByYpxPFP0X8G1A4A4UvRfwdl8REZR9F/B4Z5w2k70X8H6/3e9TfRfwTGsfmdM9F/BWcDJO0r0X8FltO+zSPRfwYpSvWtG9F/B9k1pHET0X8EhWsdEQfRfwS/v/8Q/9F/B46ivJTr0X8FGmACCOfRfwYAxQhQz9F/BL/1mhS30X8FiUnzyJ/Rfwdj3bNIn9F/BVZ1dsif0X8GR88RUJvRfwedWCJwl9F/BEREPRiT0X8GrYm8iJPRfwWIEJ6Ml9F/BLzU3jyj0X8Go+8deK/RfwbWiutEt9F/BiUAP6C/0X8GtjCW3MfRfwVQkf+ky9F/B1qAZ8TP0X8GtVm4HNvRfwc+ljEc29F/B4zn1lDT0X8FYFY6PM/RfwUBeo9Mx9F/Bgzbt4C/0X8HR4MAJLPRfwSCf15Un9F/B1s1+Kib0X8GmJorwI/RfwQoH9AQi9F/BGcV9ICD0X8Gfz+j7HfRfwQKEUUkc9F/BsY61ehv0X8EoDJCXG/RfwSKhE8kb9F/BzLgPdBz0X8GndujCHfRfwa3l4Bgf9F/BdmogciD0X8Ev5Re2IPRfwTuvUqgh9F/B3Y/ZzCH0X8EpuDwcIvRfwffGjmEi9F/BggCHfiP0X8FyFSiiI/Rfwf2bPzgl9F/BO7fXsSb0X8Ez6tKVJ/RfwdbfcPIn9F/BRkGvOSj0X8HczXG5J/Rfweeo9Con9F/BHEpKCCn0X8HBTvVIKfRfwXA1QNAq9F/B4jO5CSz0X8HLEPdQLPRfwTqjHwws9F/BtiC3CSz0X8HDpvfeK/RfwUyH2J4r9F/B6s+Znyv0X8Ey1BetIPRfwTwKXm8g9F/BTY5VgRb0X8G8IY/IEPRfweLzIsbz81/Br0jqOuzzX8GFjUbG5/NfwTlvxgTm81/BKPUJe+XzX8E0q/T61fNfwXcDS42881/BbJfUOqHzX8E=\"},\"shape\":[166],\"dtype\":\"float64\",\"order\":\"little\"}]],[[{\"type\":\"ndarray\",\"array\":{\"type\":\"bytes\",\"data\":\"tRXg6hXqX8E0ZbONFepfwWyS2WUE6l/Bw8WqDtTpX8HJ1EZTrOlfwWrEX5536V/BjRzxTnbpX8H/eSve7+hfwWI2HEW06F/B/KX0iqToX8E9PYzynuhfwYg2B4676F/B9OpU5sLoX8HeF1BoDepfwTVBoiD76V/BQ1fCSSDqX8E=\"},\"shape\":[16],\"dtype\":\"float64\",\"order\":\"little\"}]],[[{\"type\":\"ndarray\",\"array\":{\"type\":\"bytes\",\"data\":\"wmkCTBTpX8F+i7HGFOlfwfG9mOFd6V/BB4YCe/LpX8F1IHD89elfwUveRsro6V/BUhJyrtrpX8Fej9jJyulfwUAoxo676V/BTZn3C6/pX8Eutsz5rulfwcJpAkwU6V/B\"},\"shape\":[12],\"dtype\":\"float64\",\"order\":\"little\"}]],[[{\"type\":\"ndarray\",\"array\":{\"type\":\"bytes\",\"data\":\"fFMZR/XsX8ET6yrqR+xfwUmbPO6x7F/Br64xF7zsX8HOOxHX/uxfwcJ7aFs+7V/BmLV1EXTtX8Fr8QZm1+1fwWMCt3JB7l/BjUarTRntX8EsdJ99/exfwUIkVov17F/B\"},\"shape\":[12],\"dtype\":\"float64\",\"order\":\"little\"}]],[[{\"type\":\"ndarray\",\"array\":{\"type\":\"bytes\",\"data\":\"bGQtiyzsX8GSNNhrg+xfwUZShvvL7F/BwntoWz7tX8HOOxHX/uxfwa+uMRe87F/BgBeIqUnsX8EaMYQH4OtfwXC4pHYr7F/BbGQtiyzsX8E=\"},\"shape\":[10],\"dtype\":\"float64\",\"order\":\"little\"}]],[[{\"type\":\"ndarray\",\"array\":{\"type\":\"bytes\",\"data\":\"ZmJWJNLsX8EHWJ2c1OxfwUrc7Mnr7F/B1cu92XbtX8E1jfxire1fwSsbROR07V/BZenozWbtX8F0fkX0QO1fwW9yJ0O+7F/BZmJWJNLsX8E=\"},\"shape\":[10],\"dtype\":\"float64\",\"order\":\"little\"}]],[[{\"type\":\"ndarray\",\"array\":{\"type\":\"bytes\",\"data\":\"XUOEnWztX8GL5qK4V+xfwcXCpv1X7F/BYGbZfnPsX8HrZXFQme1fwYOCZox27V/BOaVkjHbtX8FdQ4SdbO1fwQ==\"},\"shape\":[8],\"dtype\":\"float64\",\"order\":\"little\"}]],[[{\"type\":\"ndarray\",\"array\":{\"type\":\"bytes\",\"data\":\"c7AqcLvrX8GvjL7DyetfwckS5sx87F/B6EntUXTsX8FgZtl+c+xfwcXCpv1X7F/Bi+aiuFfsX8ERpXB8SOxfwQYfQLGV61/Bc7AqcLvrX8E=\"},\"shape\":[10],\"dtype\":\"float64\",\"order\":\"little\"}]],[[{\"type\":\"ndarray\",\"array\":{\"type\":\"bytes\",\"data\":\"c7AqcLvrX8EGH0CxletfwdZ+HVwB61/BAWhnSFTqX8GgYEUMVepfwfAMTkRq6l/BeKMHHcPqX8H/woxH0epfwd90kZvR6l/Bc7AqcLvrX8E=\"},\"shape\":[10],\"dtype\":\"float64\",\"order\":\"little\"}]],[[{\"type\":\"ndarray\",\"array\":{\"type\":\"bytes\",\"data\":\"F20Kj3XvX8Fq1/KndO9fwWzbI7dy71/BMdszp5TvX8FtkFTp6e9fwci1FKz071/B4lbn4QbwX8EtQr/F5e9fwa9yEd2m71/BGZyk2nbvX8E=\"},\"shape\":[10],\"dtype\":\"float64\",\"order\":\"little\"}]],[[{\"type\":\"ndarray\",\"array\":{\"type\":\"bytes\",\"data\":\"YEi9T1vwX8EiqlQi8fBfweri5mQI8V/BlE3wJTnxX8HdBF1V7vFfwahPzGTl8V/BZNeDct3xX8HKvRZL1vFfwTIBPtSk8V/BjcAkxaPxX8H+pVpJfPBfwWBIvU9b8F/B\"},\"shape\":[12],\"dtype\":\"float64\",\"order\":\"little\"}]],[[{\"type\":\"ndarray\",\"array\":{\"type\":\"bytes\",\"data\":\"s3MXkOHxX8GuNBXI0PJfwfc0etre8l/B2X0yRgPzX8GRBGbwNPNfwfRY73BA81/BURoNSVrzX8GBJXAnbfNfwYfBnS9+81/B4+gYMH/zX8FFI4fcgvNfwVS7dA+U81/BvjN7xZvzX8FsU4tqnfNfwarge3h681/BuIc3S2PzX8E2NsljPPNfwQBlnxsc81/BOVCgcgLzX8EfJpHZxvJfwXJjkiWC8l/BHTZxUGnyX8E9yVO3LfJfwbNzF5Dh8V/B\"},\"shape\":[24],\"dtype\":\"float64\",\"order\":\"little\"}]],[[{\"type\":\"ndarray\",\"array\":{\"type\":\"bytes\",\"data\":\"lJkWqHnxX8HD4cR5lPFfwb6UuSXF8V/B2BzHcFbzX8H7zOx1U/NfwWD3Remk81/BsNaJSufzX8Eo9Ql75fNfwTlvxgTm81/BhY1GxufzX8GvSOo67PNfweLzIsbz81/BvCGPyBD0X8FNjlWBFvRfwTwKXm8g9F/BMtQXrSD0X8Hqz5mfK/RfwdX196Ur9F/BnBXvNC30X8EJ7Er1LfRfwSuqhecu9F/BCBm5zi/0X8Fct6bcL/RfwS5eJjgw9F/Blc3dUjD0X8FTXxGbMvRfwedE67Az9F/BI6MKuDP0X8G0/o3wMvRfwSWnCswy9F/B5crPjDL0X8EwVBcMMfRfwfv1E6gw9F/BQ94c7y/0X8EhF76gL/RfwbJMX1Iv9F/B5Zu/Li/0X8GzAr5nL/RfwaYxvWcv9F/BQA3EYi/0X8FlUp0nL/Rfwdwmudkv9F/BhWuVfTD0X8Fn9LO9MPRfwVlRVKgw9F/BxOvNgjD0X8EnmPVZMPRfwdGrAYYv9F/BBvz5dS/0X8Gt40RKLfRfwWTDU2Uq9F/BVtfkLyr0X8FM63X6KfRfwX7hpeMm9F/BCYbTPiT0X8GRp0aLIPRfwYfmsFwY9F/BzvnhDBX0X8F0xBigEPRfwSmDD9sO9F/BGnom9A30X8FDolHBC/RfwY+HYzcL9F/BqW618gr0X8FosFdrCvRfwcYyGCQK9F/BU9rcMQn0X8G1/t+GCPRfwR7XY78H9F/BFYDlaQf0X8H/AIcbB/RfwYMfy0UG9F/BwLrx9gT0X8Gq1xOMBPRfwce8PMsC9F/BzcZm0QD0X8GtP62J//NfwVd90OX+81/B/iu9a/zzX8EUJ8Xc+vNfwXElSRX681/B6qD54fbzX8HxVVIK8vNfwbiUGzTw81/B7ntlQe7zX8HsbtAc7PNfwa70AXTr81/Bo9h4eOrzX8EItioM5/NfweYQ+hjk81/B0cbKAOLzX8EGAO5I4PNfwZ9bvVXd81/BwZLuBdrzX8HVlPc92PNfweFgnETX81/BrFHYw9fzX8HP3hcM2PNfwV1ia1va81/BgGU+x9zzX8FkzL3j3PNfwUozPQDd81/BEb3S697zX8Fmd0963/NfwaJ8MQHf81/Ba+swAd/zX8Fc2pQy3vNfwS0NHMDc81/BfmrGSNzzX8EjNya/2vNfwVxCkmHY81/BRlycYNbzX8GCpmwI1vNfwSxT5m3U81/Bm4MRO9LzX8GKlvpr0PNfwbPNQevO81/BkchDec7zX8HeKcbqzfNfwd5YBfnN81/B5LBjDs7zX8HxdOPxzfNfwe4tA/nN81/B/BMD+c3zX8HlHePxzfNfwRi8AvnN81/BPdgkI87zX8FeLCE5zvNfwWlTwFzO81/BjPU7JM/zX8Ecjm6l0fNfwTxq1IXS81/BdDehJtTzX8F19rOg1vNfwTNsSMXY81/Bq/coStnzX8E+tIAp2vNfwYAQPcba81/Bo5P3atrzX8FWcYN+2fNfwZBh90fY81/BUNgyhNbzX8GCHl7Ps/NfwYgUp4hI81/BuVOsoDrzX8EOZPA15PJfwQ+bJcL+8V/BlJkWqHnxX8E=\"},\"shape\":[148],\"dtype\":\"float64\",\"order\":\"little\"}]],[[{\"type\":\"ndarray\",\"array\":{\"type\":\"bytes\",\"data\":\"XDhCCk3VX8HYjfmNTdVfwdCwc6JO1V/BWFkWPU/VX8Eu/M/WUNVfwfMIB0RU1V/BatnulVbVX8G7zjxBe9VfwWacEe+E1V/Bp0BEkp3VX8ESoF+mq9VfwT87rRDa1V/BLrgakcnVX8FKL5cbwNVfwQpExQen1V/Bgln6EoLVX8FqqTlgTtVfwQ1pmWtI1V/BwmZEX0DVX8HALWYPOtVfwdTng3401V/B/0QqTDPVX8FsED7eMtVfwc4rIgIy1V/BGfdHuy3VX8Em19byKtVfweHhxTYg1V/Bt0f9yB3VX8FcS+fWGdVfwZDQk8cQ1V/BSC6qZQ/VX8EOTDswD9VfwdlpzPoO1V/BYxxkrgvVX8HdQmEVC9VfwfXZvZYJ1V/Bd1oS4gfVX8ECDs9+CNVfwVSVPHML1V/B/Z5X3QzVX8FEozgZDNVfwa6INNQK1V/Bg3nmFArVX8EDClM0CdVfwYNcdUwH1V/BEEhUfgfVX8EVr9OaB9VfwRgWU7cH1V/BxPNzVwjVX8E+uEpGCdVfwZ7NmecM1V/B4JVXFA3VX8ErXhVBDdVfwVN0ADoN1V/B15EUFg3VX8FoYXirDNVfwYIPYtwK1V/BULsc4QXVX8E8BpK/BdVfwfO/Pa8F1V/BJ7TCuArVX8FK1/iODNVfwamYfNER1V/BvsVQBBTVX8GKWyldG9VfwYk+uiwe1V/BdRFXwh7VX8E/UrvzHdVfwcApeVce1V/BV28A7yLVX8EBgUKLItVfwfuV0okf1V/BINTF8hvVX8EOnMKTFtVfwYzC5AcW1V/BgQBpYRXVX8HCb2iOFdVfwYqkBDAW1V/Bmq91+BjVX8Hu3nuzHtVfwaKDZCAi1V/BmKMn+yLVX8FWkvsLI9VfwRiBzxwj1V/Bqwu+UiPVX8HUKW8fINVfwfEqQPMc1V/BWLyXjRjVX8FB2vr3F9VfwdxZM1wZ1V/BbDBbAhrVX8GDWrU8HNVfwaPn3Igd1V/BSmu/Dx3VX8GvtYXJHNVfwVHvoZYc1V/BJRWCjxzVX8H7OmKIHNVfwZrShb4U1V/BjGyoqBTVX8Ft2cySFNVfwXc7I2YQ1V/BQpRYawzVX8GoRnHj+9RfwVrMKInx1F/BP7YMoe7UX8HzJV6O7dRfwb7Vl9Tc1F/BV3GTrtfUX8G1taqW09RfwU2ovQnQ1F/B1ZzsBc3UX8Fq5S9pzNRfwWuWexzp1F/BzxVhsCfVX8E1l3z6kNVfwUT4IikK1l/Bf8w05jDWX8Hsr0JRG9dfwS8cMH6V11/BAPXiLVjYX8Hhh1uU09dfwQLQ3AZW11/B4JaElHrXX8Hbhm7LWtdfwaBiYcIk11/BLYXI1N7WX8EY2AHsAdZfwbkh8Wsu1l/B6s+SYczVX8FmAaC4y9VfwTIIT+3C1V/BMVE9oKvVX8EyObyMnNVfwSwYjkKH1V/BcHV0FIDVX8HIRNQfetVfwftUyLl31V/B203sLXPVX8GUh6yTb9VfwWVF+S5t1V/Btn0/KmjVX8E5UnyWZtVfwX6k/L1g1V/BJ5tiaF/VX8EI33cmXtVfweSPVApc1V/BKHI5H1vVX8HzZ7yQWtVfwUckAe9Z1V/BYMzLq1fVX8HKkk1WV9VfwcXKbiNW1V/Br0+nflLVX8HB0xdSTNVfwWL7doFJ1V/BED25bEjVX8EkuCaHRtVfwTgTGHxG1V/BnA5rakbVX8EzxSdORtVfwV72HE9I1V/B2JUs7ErVX8HQJkF8TdVfwS9p1NlP1V/BIDQH9k/VX8FNaLF0UNVfwST+7vdR1V/BRT9E21LVX8FntHw/VNVfwR9wOqNU1V/Bu7fln1LVX8G1t3BvUNVfwTaELtNQ1V/BR3vcHVLVX8FhqiPUUtVfwdHu9HJT1V/B7vnX/1TVX8Es8/jNVNVfwbhQwGlT1V/BqWSPUVHVX8FcOEIKTdVfwQ==\"},\"shape\":[182],\"dtype\":\"float64\",\"order\":\"little\"}]],[[{\"type\":\"ndarray\",\"array\":{\"type\":\"bytes\",\"data\":\"kffmeNzrX8EHIFvJ1+tfwSynjVTR61/BcjMR18/rX8FjM3Koo+tfwf1jkoa16V/BUP1imAToX8GDnv1XNehfwRGqLZpX6F/BOk+Q63voX8EWR+iZg+hfwS8x4n+X6F/BmWLe86roX8G4+5/Y6OhfweNsjSod6V/BoN4Pl03pX8Fh0w8WeOlfwdSUDRGp6V/BnXt/WU/qX8HgNWke/epfwaGnVvQq61/BA1JVJJ7rX8HQ9u8/q+tfwS/pqScN7F/BhWQTz0HsX8Fs96rlf+xfwRVinqiy7F/Biuh+59zsX8HxfgNcAO1fwWT35+8p7V/Bc8zJ4UftX8H0/l1nYu1fwcftNe9j7V/Bz88kZHntX8HWAQFfjO1fwddGLI2i7V/BWYQpVrXtX8FRxcjaze1fwTJjdlzR7V/B8wAiWtvtX8HW/P4H4u1fwX7mJtfy7V/BTJN/mQbuX8EsS45OHO5fwXzz2Xks7l/B32uHSDzuX8HXhe3jj+5fwaM/uMWb7l/BWToBzbruX8FNbbyIue5fwTWBgkW27l/Bmk46NmDuX8EKw0W2M+5fwWQLoOj47V/B+P7Gb/PtX8G5pS5J8u1fwUowfiSQ7F/BDtvcVlXsX8HboVeZVexfwa6XdBta7F/BBvBtkFnsX8G+RmJtKOxfwQ==\"},\"shape\":[62],\"dtype\":\"float64\",\"order\":\"little\"}]],[[{\"type\":\"ndarray\",\"array\":{\"type\":\"bytes\",\"data\":\"oTNO1wfpX8HCaQJMFOlfwS62zPmu6V/Bdep6DgLqX8FeNIrW1ulfwU+GCLXW6V/BAG2ctH/pX8HNoqUefulfwd/xCeXx6F/BFgE6meLoX8Gi9w7K4uhfwdz/3Dvr6F/Be/2B0+voX8GhM07XB+lfwQ==\"},\"shape\":[14],\"dtype\":\"float64\",\"order\":\"little\"}]],[[{\"type\":\"ndarray\",\"array\":{\"type\":\"bytes\",\"data\":\"m+R80R3zX8GLxGgU9/Jfwby0N46w8l/BzfO6CVTyX8FoAgQgmPJfwaTX+L/P8l/B6MynTfTyX8Fik56tFfNfwTWt0F9g81/Bvc/ptJ/zX8GaC0xdn/NfwWyX1Dqh81/BdwNLjbzzX8FFkW5xVfNfwQ==\"},\"shape\":[14],\"dtype\":\"float64\",\"order\":\"little\"}]],[[{\"type\":\"ndarray\",\"array\":{\"type\":\"bytes\",\"data\":\"YHnbY+DjX8HUgRW9rONfwbKHz4Rq41/BsGn9oIvjX8GZ7Yiz7OJfwS0q887c4l/BomRIRMriX8GdFJ65t+JfwegnfvCX4l/BYU8RBYziX8EVvdu4huJfwelN4iHe4l/BpoHpijXjX8FxjfkjceNfwbtlfdic41/BB5GZobzjX8E=\"},\"shape\":[16],\"dtype\":\"float64\",\"order\":\"little\"}]],[[{\"type\":\"ndarray\",\"array\":{\"type\":\"bytes\",\"data\":\"Z9hiLbXeX8GfrmvT9d5fweFEPaoW31/BcQlvNR/fX8E1yeKnNt9fwbib8oCX31/BEyJL0P3fX8FoYIieGuBfweE1vRho4F/BdM/NsaPgX8GoI9B1xuBfwV6SHyzx4F/BnVcA6xbhX8Fx37fIKuFfwUgCkJ9C4V/B8QvVVW3hX8FBQvT6oeFfwTWXoFSh4V/BCJjQW5LhX8Eg5u+dQ+Ffwe+XZbCk4F/B65lWL1vgX8HfcmqzDuBfwa5VqFSx31/BBmSOi5HfX8H+ga1HkN5fwbNS+9ti31/BZ9hiLbXeX8E=\"},\"shape\":[28],\"dtype\":\"float64\",\"order\":\"little\"}]],[[{\"type\":\"ndarray\",\"array\":{\"type\":\"bytes\",\"data\":\"eiKxh5nqX8Fp9UGJp+pfwQwE/M6n6l/BAavSf3HrX8FOEskYgOtfwdgmBeCA61/BH8n59FLrX8F2H/M66elfwQYTn1oD6l/BiV9AkwjqX8GRFoXxPOpfwVZEGfpx6l/B\"},\"shape\":[12],\"dtype\":\"float64\",\"order\":\"little\"}]],[[{\"type\":\"ndarray\",\"array\":{\"type\":\"bytes\",\"data\":\"nx9H1e3mX8Hm2Ysd/eZfwRVsJ3oX6F/BCEedG//nX8G2CIHl9udfwcxKYL6q51/BUOjlIXHnX8EOS0N0QedfwdI87dAL51/BKma0u9vmX8E=\"},\"shape\":[10],\"dtype\":\"float64\",\"order\":\"little\"}]],[[{\"type\":\"ndarray\",\"array\":{\"type\":\"bytes\",\"data\":\"u6q5RS7nX8EIatwWr+VfwbnZAcPV5V/BJhKrGp3lX8FdtTNr5OVfwSzz7b3Z5l/BKma0u9vmX8HSPO3QC+dfwQ5LQ3RB51/BUOjlIXHnX8HMSmC+qudfwbYIgeX251/B4I8S+urnX8ELGWVX5udfwfYSyczT51/BU+I7U97nX8GBJFMI4OdfwSXpbuHH51/BsE5dVKHnX8G7qrlFLudfwQ==\"},\"shape\":[20],\"dtype\":\"float64\",\"order\":\"little\"}]],[[{\"type\":\"ndarray\",\"array\":{\"type\":\"bytes\",\"data\":\"ZjYNGwHuX8GmCU66B+5fwToRhB7/7V/Be/F+4+/tX8Gi+uWgs+1fwdmg3U2y7V/BibvxuKXtX8F+8ZTli+1fwT0POJq37V/Bvp2Yx87tX8ECCc0T1O1fwY6hEabZ7V/BT0uiiuntX8ETKbow7O1fwTaAFI7n7V/BZebSs9HtX8FCxxaDvO1fwZOaibOk7V/B41n3R6TtX8EXZBglkO1fwUD3Ca9x7V/BoUAmVXTtX8EgvMhTEu1fweKZI2vT7F/B9ZeKP3LsX8FpJFPMdOxfwXeCLd6b7F/BeE4NCLXsX8EZjlw1zOxfwYPWfBbe7F/BH605R/PsX8H1dY2vGe1fwbdYleoo7V/BDmcS6zftX8FEIv40T+1fwfaMqrt87V/BXLjwSqXtX8HTMkpo3u1fwYu1j/cG7l/BQ7fcaybuX8HxbemhSO5fwYuxVJlN7l/B3XIBd2HuX8FisJbcuu5fwSCxQPNB71/Bela4j3vvX8F6k0KMfe9fwUPgRbxh71/ByEl/pdruX8H6uiN6X+5fwRC1Idon7l/BZjYNGwHuX8E=\"},\"shape\":[52],\"dtype\":\"float64\",\"order\":\"little\"}]],[[{\"type\":\"ndarray\",\"array\":{\"type\":\"bytes\",\"data\":\"MXL51FnmX8H0jc0BW+ZfwQGQuvfZ5l/BUxDP8ibnX8GsdXAReOdfwZTbp2TD51/B9KDeOJ/nX8HnJpna7OZfwT8Sk2qX5l/BXVBwcZPmX8E=\"},\"shape\":[10],\"dtype\":\"float64\",\"order\":\"little\"}]],[[{\"type\":\"ndarray\",\"array\":{\"type\":\"bytes\",\"data\":\"XgWY0P3rX8ET6yrqR+xfwXxTGUf17F/B7k2BPQHsX8EADStAAOxfwUILYyTr61/BkupddNrrX8HzuFNswetfwZcLl+a161/BaimNHrPrX8HSBRYbtetfwaxrnTfC61/BrR5vJszrX8FhGUPd2OtfwXoTgu/r61/BGrCdCPvrX8E=\"},\"shape\":[16],\"dtype\":\"float64\",\"order\":\"little\"}]],[[{\"type\":\"ndarray\",\"array\":{\"type\":\"bytes\",\"data\":\"li3vR9LvX8GOzYlc0u9fweQivIHS71/B9iPbudjvX8FqmBatTfBfwaSgrIVk8F/B+KMJkvHwX8Hpuz48I/Ffwar58PVL8V/BKhSZr3TxX8Ff8EKBj/Ffwb6UuSXF8V/Bw+HEeZTxX8GUmRaoefFfwdfC11NQ8V/BxH6VTMDwX8EuOf1nq/Bfwe3PituQ8F/Bu/SzUovwX8F8o3B3p/BfwbbmZ9m48F/BMRCWQejvX8Ea4+32l+9fwR8BKfGR71/BH1bD4ZrvX8GkXujCrO9fwQ==\"},\"shape\":[26],\"dtype\":\"float64\",\"order\":\"little\"}]],[[{\"type\":\"ndarray\",\"array\":{\"type\":\"bytes\",\"data\":\"ScBGcUvsX8EO29xWVexfwUowfiSQ7F/BuaUuSfLtX8H4/sZv8+1fwe0ynCMl7l/B3EnIkkfuX8HgIyArUu5fwYyN4n4r7l/B1An9pxPuX8EHr/dn/e1fwfvbf9QC7V/Bu4O6HALsX8HFqk4tAuxfwQ==\"},\"shape\":[14],\"dtype\":\"float64\",\"order\":\"little\"}]],[[{\"type\":\"ndarray\",\"array\":{\"type\":\"bytes\",\"data\":\"raljNNvpX8Gxl/3Ll+lfwU2JuxBl6V/Bz4pTPGbpX8FqxF+ed+lfwcnURlOs6V/Bw8WqDtTpX8FsktllBOpfwVcqqVJy6l/Be5iKzfDqX8F/b0a18OpfwUVFCI/j6l/BxuY689rqX8H3cVfF0+pfwXYkdKrT6l/BAMOAc9PqX8HejB7j0upfwafv9wJv6l/BLEWw1/PpX8HXkOA53OlfwQ==\"},\"shape\":[20],\"dtype\":\"float64\",\"order\":\"little\"}]],[[{\"type\":\"ndarray\",\"array\":{\"type\":\"bytes\",\"data\":\"yxB+yTvqX8FRaaiDh+pfwThuwUdI61/BmnIIi0nrX8HErI4yGetfwelJ42z36l/BA3CwIPLqX8HEY8JJIOpfwX8uoiD76V/ByENJpgrqX8GsJVBoDepfwaskFCm16V/BTqjkjL3pX8EkntlV6ulfwSM5En7v6V/BWdMO/vjpX8E8+0oGBepfwYpoJ8Qw6l/B\"},\"shape\":[18],\"dtype\":\"float64\",\"order\":\"little\"}]],[[{\"type\":\"ndarray\",\"array\":{\"type\":\"bytes\",\"data\":\"APXiLVjYX8EvHDB+lddfwfkzHsGm11/ByAenyNPXX8EWLxkq/tdfweUp/Q9w2F/BODMR/KzYX8EhvdIUrNhfwTFpwdv82F/BVyFbzSrZX8FCQSJ0Xtlfwa8v01Fy2V/B/p2EL4bZX8GsPagoitlfwWrXlxSH2V/BlhQcZ5fZX8FiJLaeqNlfweJtU7rA2V/BLdwKp8HZX8EnzSAO7dlfwUztLuj12V/BH+HOQwfaX8EA8nflE9pfwSWOnrkR2l/Bo5Q9ASraX8HPx6shKtpfweDlEtOy2l/Bwr4B5W3cX8G1psYltNtfwePRsPHz2l/BG8VImN3aX8GCFsJprtpfwTP9psVH2l/Bxf8RReXZX8Fen80/dtlfwcf4Sbsu2V/B6vIt5hXZX8EA9eItWNhfwQ==\"},\"shape\":[38],\"dtype\":\"float64\",\"order\":\"little\"}]],[[{\"type\":\"ndarray\",\"array\":{\"type\":\"bytes\",\"data\":\"AOqO0LjmX8GNlMEFj+ZfwZb2p9F95l/BMaYabWrmX8GZLYqcVOZfwfmobbBT5l/BDKi0/UbmX8HOcDcbReZfwSyXebUx5l/B+h/Bpi7mX8Fs4H1bLuZfwaDKfw4s5l/Bo9ThZgPmX8EOL+osAuZfwZCgAVMB5l/B2AgmGcrlX8GT1ruKu+VfwZ79ERm75V/BOt0H5rrlX8E/vKH5muVfwRJ0mJiN5V/BqxNgdX/lX8Hn0l2OfOVfwSkonV185V/B0mf/4XblX8F7A9xxXeVfwWgI7UVZ5V/B3BPlX2LlX8FqT95rW+VfwcmRGC5/5V/B1qm90IPlX8FBeNJSm+VfwSiV0Eai5V/Bp5Xr7KTlX8F8vRw5quVfwUtq45jV5V/BG2JrNEHmX8EA6o7QuOZfwQ==\"},\"shape\":[38],\"dtype\":\"float64\",\"order\":\"little\"}]],[[{\"type\":\"ndarray\",\"array\":{\"type\":\"bytes\",\"data\":\"louKvLPxX8HRJnqA1vFfwdGR4V/p8V/Btk1Tn8TxX8Edpy6yufFfwRw0TLe28V/BTE1lsLrxX8H3U+x82PFfwSmCCI3y8V/Bim0GRRzyX8EHX9yjefJfwW3NzGzy8l/BMVsaJ1bzX8G4tsMXX/Nfwcl6GApn81/B8Xq64n3zX8E/V36on/NfwTbS4Y2481/B7bEFxbbzX8HORCAeg/NfwXYZc8t581/BWDZew3fzX8E6WR7kcfNfwdSTyDVq81/BFklQ8mLzX8HhB0UiX/NfwdFUelZV81/BFVdFdk3zX8FKuvRmLfNfwW1OZV4q81/BfyBPsCLzX8GT2eFKH/NfwdsmdDUQ81/B8SD+rgLzX8HbDaMT9vJfwaVPK/Xy8l/BvCQ3Z/LyX8GGQiHH8fJfwcrK81fh8l/BQv2h9+HyX8EkdGsD4/JfwaYYJpud8l/B0IgsK53yX8FsbKZKivJfwZ/98JBh8l/Bw3BK2VXyX8EXfUIfD/JfwQ4AN3/X8V/BmCx4nlnyX8G8i9jdNPJfwZQV+tY48l/B/wr3Bh3yX8GtUl7BHfJfwYRrygEg8l/BhqhW5i/yX8GSkm+XXfJfweufZFuA8l/B1sFWK5zyX8E7wVRDjvJfwYNOp1mB8l/BBsP+w0PyX8Fjv9z6I/JfwQ==\"},\"shape\":[62],\"dtype\":\"float64\",\"order\":\"little\"}]],[[{\"type\":\"ndarray\",\"array\":{\"type\":\"bytes\",\"data\":\"DmcS6zftX8HwzOOWN+1fwYTe03Ug7V/B5jnUlqHtX8ECCKCX4+5fwRcfL+k871/BNl4vZ2/vX8GV+qDb4e5fwaesYxLz7l/B8W3poUjuX8FDt9xrJu5fwYu1j/cG7l/B0zJKaN7tX8FcuPBKpe1fwfaMqrt87V/BRCL+NE/tX8E=\"},\"shape\":[16],\"dtype\":\"float64\",\"order\":\"little\"}]],[[{\"type\":\"ndarray\",\"array\":{\"type\":\"bytes\",\"data\":\"zIHsGXfrX8HEO2WGzOtfwaJw3wh47F/BdDWvx53sX8EgFjBxnuxfwZEhsxqf7F/BDpbrlojsX8HP+D53aexfwcDnxtzL61/BV/suaqvrX8E=\"},\"shape\":[10],\"dtype\":\"float64\",\"order\":\"little\"}]],[[{\"type\":\"ndarray\",\"array\":{\"type\":\"bytes\",\"data\":\"SmtjubHpX8HP/0hMtelfwcHVwh/C6V/BUuvXk8TpX8G6z7ZhzelfwdeQ4Dnc6V/BLEWw1/PpX8Gn7/cCb+pfwd6MHuPS6l/BAMOAc9PqX8F1ETEm0epfwYIlSSO36l/Bj7aqVpnqX8Gkiz3s3+lfwfU+U0fI6V/BSmtjubHpX8E=\"},\"shape\":[16],\"dtype\":\"float64\",\"order\":\"little\"}]],[[{\"type\":\"ndarray\",\"array\":{\"type\":\"bytes\",\"data\":\"TYm7EGXpX8Gxl/3Ll+lfwa2pYzTb6V/B15DgOdzpX8G6z7ZhzelfwVLr15PE6V/BwdXCH8LpX8HP/0hMtelfwUprY7mx6V/BwGdg7zfpX8FTTtH9WOlfwU2JuxBl6V/B\"},\"shape\":[12],\"dtype\":\"float64\",\"order\":\"little\"}]],[[{\"type\":\"ndarray\",\"array\":{\"type\":\"bytes\",\"data\":\"aSRTzHTsX8HfbiGP2+pfwfdxV8XT6l/BxuY689rqX8FFRQiP4+pfwX9vRrXw6l/Be5iKzfDqX8Gf4SmaDutfwVmjlKg361/BnruWvz7rX8GRJgss5uxfwa9mRivQ7F/B8tpMEMfsX8HoRvw04+xfwYTe03Ug7V/B8MzjljftX8EOZxLrN+1fwbdYleoo7V/B9XWNrxntX8EfrTlH8+xfwYPWfBbe7F/BGY5cNczsX8F4Tg0ItexfwXeCLd6b7F/B\"},\"shape\":[24],\"dtype\":\"float64\",\"order\":\"little\"}]],[[{\"type\":\"ndarray\",\"array\":{\"type\":\"bytes\",\"data\":\"tvsLkU7qX8FNLE4HfepfwSzyadzm61/Bq15wRcrrX8GvjL7DyetfwXOwKnC761/B33SRm9HqX8H/woxH0epfwQ==\"},\"shape\":[8],\"dtype\":\"float64\",\"order\":\"little\"}]],[[{\"type\":\"ndarray\",\"array\":{\"type\":\"bytes\",\"data\":\"n3bDgHXpX8H9Y5KGtelfwWMzcqij61/BcjMR18/rX8Esp41U0etfwQcgW8nX61/BkffmeNzrX8G+RmJtKOxfwQbwbZBZ7F/Brpd0G1rsX8HboVeZVexfwQ7b3FZV7F/BScBGcUvsX8HFqk4tAuxfwbuDuhwC7F/BLPJp3ObrX8FNLE4HfepfwWrl6dJ56l/B6/mKU2bpX8EUzL3sZulfwQ==\"},\"shape\":[20],\"dtype\":\"float64\",\"order\":\"little\"}]],[[{\"type\":\"ndarray\",\"array\":{\"type\":\"bytes\",\"data\":\"Q/fcjjnwX8FAieHSQPBfwRcfL+k871/BAhVK6gHwX8F0/KqlKfBfwQiGIUY58F/B\"},\"shape\":[6],\"dtype\":\"float64\",\"order\":\"little\"}]],[[{\"type\":\"ndarray\",\"array\":{\"type\":\"bytes\",\"data\":\"i6HezXnwX8GeSAOhce9fwaesYxLz7l/Blfqg2+HuX8E2Xi9nb+9fwVPs9nut71/BYEi9T1vwX8H+pVpJfPBfwQ==\"},\"shape\":[8],\"dtype\":\"float64\",\"order\":\"little\"}]],[[{\"type\":\"ndarray\",\"array\":{\"type\":\"bytes\",\"data\":\"Agigl+PuX8Em9hXg4u5fwWkcKJGR7l/BFeozmpruX8FCnMxIHu9fwVW3b5gh71/BLj7vHTfvX8FtSnZBO+9fwR9DV4J471/BtD1bqXHwX8EECnh+ivBfwXV5x4Vt8F/Bz1nB3FPwX8F0/KqlKfBfwQIVSuoB8F/BFx8v6TzvX8E=\"},\"shape\":[16],\"dtype\":\"float64\",\"order\":\"little\"}]],[[{\"type\":\"ndarray\",\"array\":{\"type\":\"bytes\",\"data\":\"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\"},\"shape\":[206],\"dtype\":\"float64\",\"order\":\"little\"}]],[[{\"type\":\"ndarray\",\"array\":{\"type\":\"bytes\",\"data\":\"IDV05SXoX8EDVd4o5udfwTzAu6qz51/BMcZaUZ3nX8HVEkEac+dfwcGXQ7UU51/BquTN4V7nX8F0UqCGYedfwXy+GYl151/B5A9fvXrnX8H9R4edj+dfwShaACCR51/Bfw09fDHoX8FhT49SYuhfwailCQ6K6F/B/KX0iqToX8FiNhxFtOhfwf95K97v6F/BjRzxTnbpX8FqxF+ed+lfwc+KUzxm6V/BTYm7EGXpX8FTTtH9WOlfwcBnYO836V/B50CM4TfpX8HdyHDCNulfweNY1fDN6F/Blnmwf3noX8HwB0tMJ+hfwfaA5BEY6F/BCXU1AhnoX8EgNXTlJehfwQ==\"},\"shape\":[32],\"dtype\":\"float64\",\"order\":\"little\"}]],[[{\"type\":\"ndarray\",\"array\":{\"type\":\"bytes\",\"data\":\"27fss6PUX8HKI2nvndRfwVyoSgOc1F/BlXtO+pbUX8EJT0ubkdRfwX/O4XKH1F/BSDuoaoXUX8FPyZF4hNRfwdw/WRSD1F/B/3iySILUX8G5WUj+gdRfwRfbAKmB1F/BcMB2AYDUX8HOllt/f9RfwS3iolB71F/BXIlrs3nUX8F2fEhTedRfwUIj5rN61F/Bqi9XfH3UX8Ff20JFgdRfwTE/HnaE1F/B48LNMYXUX8FgZzxsiNRfwdMY+QiJ1F/BJMfC3ojUX8HGaF06iNRfwRVmXTqI1F/BPGNdOojUX8GbwV4oidRfwY/bdNCJ1F/Bk2se/Y3UX8HOsQJ7kNRfwWpbDv+R1F/Bvb6llJLUX8Ev36jzl9RfwX0kAOqY1F/B+uUZvJrUX8HV5YqEndRfwVGvFEqr1F/B8m1KZbXUX8EqMRYnudRfwZ/f85G51F/B2wwofbnUX8GZbvfmuNRfwVI2eZG41F/B/zN5kbjUX8GhLXmRuNRfwV7eEnm51F/BKIdvWbrUX8Gqai29utRfwSyAb1m61F/BjsayvLnUX8HCXEJXuNRfwV1g3cK31F/BcqbI6bbUX8E7aYswr9Rfwe557pqu1F/B/aLYRa/UX8GXQL27t9RfwUVf8t251F/BFoQYdrrUX8HnuUUavNRfwdpS/Wa91F/BVsKAnr3UX8E+8lvpvdRfwcaigzK/1F/BLEox47/UX8GEsJz6wNRfwf1xBRbC1F/BLEmiq8LUX8EPdybkwdRfwTOur8XB1F/BPrg6p8HUX8H84haiv9RfwSe2qIS71F/Bjnmzg7nUX8G72DiDuNRfwRDpeh+41F/BoID1H7nUX8E/6OvnutRfwRKtOhu+1F/BYEIYzr7UX8Gpwfwgv9RfwSabTsLA1F/B2zDbBMHUX8F8mWlHwdRfwQkG5rLB1F/B4WXlDsLUX8GAf/oowtRfwWYWw3nC1F/BYRc0WcLUX8G3uxoUvtRfwchAA3681F/BLWJm6LvUX8HSMlN4v9RfwYGI6R3B1F/BDx8fFcbUX8HOWehtx9RfweHO/wPJ1F/BHY17tcnUX8GYkm8FzNRfwbbOp2rO1F/BQt+U+dDUX8FwZO4r0tRfwf4aeMrR1F/BksiU+dDUX8FSKyWFz9Rfwblv4M3O1F/B8b1E/83UX8HWe5/4ztRfwUiWUl3R1F/BzekHnNXUX8Hc5vrC1dRfwRwJGEbY1F/BDuxri9jUX8F6DVow2dRfwdRIvhPb1F/Bv4Gha+DUX8HDnMt75NRfwTha1sfm1F/BZVaXPejUX8HfQ7id7NRfwQaFHtXs1F/BanL37uzUX8G1MtII7dRfwcflhWXx1F/BqiIN/fXUX8GzlCST99RfwUTt86n61F/Bbvj86/7UX8Hz4MUUAtVfwfYu9UsG1V/B9IU7DgvVX8FDifrVD9VfwfCiEqAS1V/Be7OjdhjVX8G+xc5GGdVfwV4qvysc1V/Bqc3XiB3VX8GfjLXzHdVfwe4TDyYf1V/BzqiJJiDVX8HZcEfUH9VfwV3Zq7sf1V/BSXhicSjVX8Hnid/eLdVfweYe3VAu1V/BAt7Vpi/VX8F3Ih1EMNVfwTN1cXUw1V/BQMMSPDLVX8GiPX/TM9VfwfLBh5k21V/BInhVqDrVX8E8YVZlO9VfwTQkI6RD1V/BFhRMREbVX8Hz9il9T9VfwaG7+J1Y1V/BfB02+WTVX8GQ6u3iZtVfwUXbqeln1V/BMGpb7WnVX8GG3+kubdVfwXeGhf1t1V/Bh9D9S2/VX8FzHBZ4ldVfwZStAymr1V/B5HLW3g3WX8GNqOkFJtZfwX/MNOYw1l/BRPgiKQrWX8E1l3z6kNVfwc8VYbAn1V/Ba5Z7HOnUX8Fq5S9pzNRfweWLAOjI1F/BWHtzSsfUX8EVuckZxdRfwUQw7CrB1F/Ba/DH/bvUX8FQDrdvuNRfwRCsxW211F/ButclcbDUX8GG9jZJp9Rfwdu37LOj1F/B\"},\"shape\":[186],\"dtype\":\"float64\",\"order\":\"little\"}]],[[{\"type\":\"ndarray\",\"array\":{\"type\":\"bytes\",\"data\":\"APXiLVjYX8Hq8i3mFdlfwcf4Sbsu2V/BXp/NP3bZX8FN/c1K69hfweGHW5TT11/B\"},\"shape\":[6],\"dtype\":\"float64\",\"order\":\"little\"}]],[[{\"type\":\"ndarray\",\"array\":{\"type\":\"bytes\",\"data\":\"MVsaJ1bzX8Ftzcxs8vJfwQdf3KN58l/Bim0GRRzyX8EpggiN8vFfwfdT7HzY8V/Br44G+o/xX8GmfIKWyfFfwTIfgjYB8l/Byg9hDRnyX8FSqS3ARfJfwdXnRiUL8l/B5Ik79SbyX8EXB2QeD/JfwQ1k6d4z8l/BsPxUWDDyX8F9bAv8IvJfwQS9yn5r8l/B7V8WTU7yX8ExF3jPTfJfwfefrvEo8l/B3wSPNALyX8GlB+7iCPFfwZiTDwD48F/BEsIlBfXwX8EfhGAD9vBfwS24xhLt8F/BGqsHdBPxX8G66CuQNPFfweDru+pi8V/BRAsS/XDxX8EBRXNQkPFfwUEDY3GQ8V/BK63AYsrxX8GzcxeQ4fFfwT3JU7ct8l/BHTZxUGnyX8FyY5IlgvJfwSBsbXad8l/BSbZwnNHyX8HX11rt7PJfwdgasdP78l/B+vVM3PbyX8FGMNioFPNfwR0oCLVX81/BHmvcrozzX8EAUX9Qw/NfwWm8C8b681/BYZ9EDhv0X8G1VCWLNfRfwcgASZd49F/BPw3Vv5v0X8HDQbO3v/RfwapOMBTG9F/Ba5n1Cu70X8GTYA7AA/VfwXB2uUcM9V/BRykF4Bn1X8Fril7pSvVfwXGnQsli9V/B4qMgoIH1X8GL2OOzqvVfwd5Hth/G9V/BQ4SarNb1X8Ghukkh6fVfwTQulSUH9l/BqKbWfgf2X8HozBu9//VfwZaqtsH39V/Bnb9Qmvf1X8HhO21y8fVfwauxfhvu9V/BA+Pp9uv1X8G0lqgX5vVfwZIHoqLI9V/BCqwugpv1X8FR4d6HMPVfwdIg4+H+9F/B+ncFDf30X8GRJ+iTAvRfwWxrdNC/81/B2kBOFbvzX8H8cRkGufNfwRSi/cm481/BNtLhjbjzX8E/V36on/NfwfF6uuJ981/ByXoYCmfzX8G4tsMXX/NfwTFbGidW81/B\"},\"shape\":[90],\"dtype\":\"float64\",\"order\":\"little\"}]],[[{\"type\":\"ndarray\",\"array\":{\"type\":\"bytes\",\"data\":\"S95GyujpX8F1IHD89elfwbb7C5FO6l/B/8KMR9HqX8F4owcdw+pfwfAMTkRq6l/BjfG/fmjqX8FL3kbK6OlfwQ==\"},\"shape\":[8],\"dtype\":\"float64\",\"order\":\"little\"}]],[[{\"type\":\"ndarray\",\"array\":{\"type\":\"bytes\",\"data\":\"pb0jNxXpX8FYNiPFLuhfwfWbGxvj51/BsOYArePnX8H2gOQRGOhfwfAHS0wn6F/Blnmwf3noX8HjWNXwzehfwd3IcMI26V/Bpb0jNxXpX8E=\"},\"shape\":[10],\"dtype\":\"float64\",\"order\":\"little\"}]],[[{\"type\":\"ndarray\",\"array\":{\"type\":\"bytes\",\"data\":\"r64xF7zsX8FJmzzusexfwRPrKupH7F/BoxvKoSzsX8EHdnx81etfwbcpIb9j61/BAw4b327rX8ERnyXCdetfwcemOYuV61/BrgQ4q6DrX8H3h8O13+tfwRoxhAfg61/BgBeIqUnsX8GvrjEXvOxfwQ==\"},\"shape\":[14],\"dtype\":\"float64\",\"order\":\"little\"}]],[[{\"type\":\"ndarray\",\"array\":{\"type\":\"bytes\",\"data\":\"FMe8VBHrX8FE5tip5epfwVpOqT3V6l/B1Gy1wLrqX8EWxdcJrupfwfXj9nKs6l/BHafmj6XqX8Fi2NeMk+pfwWGuzMyp6l/B9gkA/LXqX8Hug+hlw+pfwS4vDMLD6l/BEkfgmNvqX8EJcfzHQOtfwTHB8GqK61/BUfwTfgzsX8HZsBAuguxfwZI02GuD7F/BbGQtiyzsX8FwuKR2K+xfwRoxhAfg61/B94fDtd/rX8GuBDiroOtfwcemOYuV61/BEZ8lwnXrX8EDDhvfbutfwbcpIb9j61/BFMe8VBHrX8E=\"},\"shape\":[28],\"dtype\":\"float64\",\"order\":\"little\"}]],[[{\"type\":\"ndarray\",\"array\":{\"type\":\"bytes\",\"data\":\"nruWvz7rX8EmmyjZPutfwb6rZkRA61/BH7rAoTvrX8ETrI4yGetfwdSGCItJ61/BZmJWJNLsX8FvcidDvuxfwXR+RfRA7V/BLgJgQSbtX8HypSXe/OxfwRBD5Y7m7F/BkSYLLObsX8Geu5a/PutfwQ==\"},\"shape\":[14],\"dtype\":\"float64\",\"order\":\"little\"}]],[[{\"type\":\"ndarray\",\"array\":{\"type\":\"bytes\",\"data\":\"ZmJWJNLsX8HUhgiLSetfwY8Tp09r61/Be+5cdHDsX8GclWmCY+1fwRqmIbKq7V/BU+VObLrtX8HvrdaKC+5fwb2zP4077l/Bso1d1SXuX8G5GwwqEu5fwb9OVUHT7V/BNY38Yq3tX8HVy73Zdu1fwUrc7Mnr7F/BB1idnNTsX8E=\"},\"shape\":[16],\"dtype\":\"float64\",\"order\":\"little\"}]],[[{\"type\":\"ndarray\",\"array\":{\"type\":\"bytes\",\"data\":\"BBbcPU3qX8EBaGdIVOpfwdZ+HVwB61/BBh9AsZXrX8EP1qfMhetfwXxiiyaD61/BjxOnT2vrX8Fdw/5Q1upfwejSGJSr6l/BtbOdZKnqX8FjRRd4K+pfwauhyQI+6l/B\"},\"shape\":[12],\"dtype\":\"float64\",\"order\":\"little\"}]],[[{\"type\":\"ndarray\",\"array\":{\"type\":\"bytes\",\"data\":\"UhJyrtrpX8FL3kbK6OlfwY3xv35o6l/B8AxORGrqX8GgYEUMVepfwQFoZ0hU6l/BBBbcPU3qX8GrockCPupfwWNFF3gr6l/Bdep6DgLqX8Eutsz5rulfwU2Z9wuv6V/BQCjGjrvpX8Fej9jJyulfwQ==\"},\"shape\":[14],\"dtype\":\"float64\",\"order\":\"little\"}]],[[{\"type\":\"ndarray\",\"array\":{\"type\":\"bytes\",\"data\":\"UVxdOJDwX8HFBS0wn/BfwUvGUETo8V/BhBQpF+jxX8FFfALY2fFfwRRFVYHZ8V/BIVHgSZDwX8FRXF04kPBfwQ==\"},\"shape\":[8],\"dtype\":\"float64\",\"order\":\"little\"}]],[[{\"type\":\"ndarray\",\"array\":{\"type\":\"bytes\",\"data\":\"GxGgzDXxX8H3veOyRPFfwT7hKq6B8V/BPTwWi4HxX8EBRXNQkPFfwUQLEv1w8V/B4Ou76mLxX8G66CuQNPFfwRqrB3QT8V/BLbjGEu3wX8EEmC861vBfwfKInbWO8F/B\"},\"shape\":[12],\"dtype\":\"float64\",\"order\":\"little\"}]],[[{\"type\":\"ndarray\",\"array\":{\"type\":\"bytes\",\"data\":\"Pw3Vv5v0X8HIAEmXePRfwbVUJYs19F/BYZ9EDhv0X8FpvAvG+vNfwQBRf1DD81/BHmvcrozzX8EdKAi1V/NfwUYw2KgU81/B+vVM3PbyX8HYGrHT+/JfwdfXWu3s8l/BSbZwnNHyX8EgbG12nfJfwXJjkiWC8l/BHyaR2cbyX8E5UKByAvNfwQBlnxsc81/BNjbJYzzzX8G4hzdLY/Nfwarge3h681/BbFOLap3zX8GYIUsBo/NfwYOKfnqy81/BrRFe77jzX8HOQk1GvPNfwZ1ih3G981/Buaryj8HzX8EzLPtF2fNfwWE2q03p81/BkzqhRvjzX8G8YBJI+/NfwUhtB+wB9F/BZiVp2gP0X8GtZKVIC/Rfwfr4ZE8Z9F/BpFb7YSL0X8HPSBBYK/RfwfVGm7Iw9F/BZIBg9Tv0X8EOVskgW/RfwWrYdRRf9F/B1MlewWP0X8Gpx2racfRfwcgh+ip/9F/BA4olUJH0X8GMCIfhl/RfwT8N1b+b9F/B\"},\"shape\":[48],\"dtype\":\"float64\",\"order\":\"little\"}]],[[{\"type\":\"ndarray\",\"array\":{\"type\":\"bytes\",\"data\":\"KpHHDPzxX8GDYoEsZfJfwfXUAFuU8l/Bb4knFaTyX8FVkbQoyvJfwcBbpezU8l/BxbdH2efyX8H+9nA16vJfwcjFf+wP81/BW1ycXR3zX8EUGD+VKfNfwfXyesow81/BdqLD1T/zX8H0WO9wQPNfwZEEZvA081/B2X0yRgPzX8H3NHra3vJfwa40FcjQ8l/Bs3MXkOHxX8ErrcBiyvFfwUEDY3GQ8V/BAUVzUJDxX8E9PBaLgfFfwT7hKq6B8V/Bd9HRAdHxX8EPa6fw2vFfwQ==\"},\"shape\":[26],\"dtype\":\"float64\",\"order\":\"little\"}]]]],[\"ys\",[[[{\"type\":\"ndarray\",\"array\":{\"type\":\"bytes\",\"data\":\"swTRkgOXUkHwvdD2M5ZSQeUZbMJzllJBB7uagCCWUkE3pRX045VSQSeKPzG/lVJB2hxSpqqVUkEwMhAFRZVSQdV/QUnrlFJBAbtzxaGUUkGvBxOjapRSQS/O8XlAlFJBPJJOGS6UUkEMn2rNHJRSQWDPeHoYlFJBiB+hwOaTUkEZ/C18yJNSQZkk5XjGk1JBszy7UsaTUkEdBDtByJNSQbUN3Brek1JBOcWQL9+TUkGecit0/ZNSQcXMpXoYlFJBdJ5vEjuUUkHH95zTh5RSQWx4/gOllFJB1ZI+ScOUUkG4oVyj4pRSQa/Bkf0BlVJB819rcxWVUkFAhWM8LZVSQbPpzmCMlVJBekGNmJyVUkFkupp2tZVSQf837z/NlVJB8hOUjN6VUkHXKtTM8JVSQZb5gOkMllJBq7k0nzuWUkEOr4x/fJZSQe8jIWWJllJB5W3GRYmWUkGE/lVBiJZSQZj/DtiGllJBiaiF74OWUkHS7iW+aJZSQbSQuYFnllJBXrDtCWmWUkF1KvBgapZSQQZFb8RqllJBXM69RG6WUkHM3EyghJZSQaXLB1qLllJBQo2295OWUkHlLsqCnJZSQW0X9PGkllJBBzY0Ra2WUkHvwJ5gtZZSQaFR+R69llJBokqSicSWUkEvXPLOy5ZSQaNBBQvTllJBr/TPS9mWUkHKiRlH2pZSQfD7kXDhllJBvxmrM+iWUkGjZD5P7pZSQR91wA30llJBBqrg3vmWUkHOo+3L/5ZSQTAwQb0Fl1JBBayVmwiXUkGBYwqmC5dSQX8XnhUOl1JBZuB8gBGXUkHB2FYjFJdSQeZJslEXl1JBTe4pEB2XUkGaHbPOIpdSQTeF7oMol1JB68cqOS6XUkEimcbELpdSQXw7GeUzl1JBEdi5hzmXUkGlL7E8P5dSQc67gOQ/l1JBsl048kSXUkFTB2XDSpdSQUdqzblQl1JBKJhx1VaXUkGixhbxXJdSQROeSt5gl1JBk+y8DGOXUkEbKM/iY5dSQVLgdwxpl1JBLNj45m6XUkFGnuP0b5dSQSsD8ZJ0l1JBlFMTnHiXUkF1RZs1epdSQaEdARB/l1JBBCBR0H+XUkF6c7FmhZdSQeAjBROLl1JBrJ6PuZCXUkEOR7ZblpdSQbj5DPObl1JBkEaoqaGXUkEGQOhMp5dSQSntxGenl1JBJVLkgqeXUkEZH1sArZdSQSs1+r6yl1JB2SyafbiXUkHm14lFvpdSQbwEGCDEl1JB9dF+rceXUkGukJMWypdSQWq2rR/Ql1JBca4XMtaXUkE25eBb2ZdSQf110U3cl1JBlBHbcuKXUkGAJn9N5pdSQb+FNKHol1JB3CJAxu6XUkHDAPeS8ZdSQc3BTOv0l1JBDte2bfWXUkG1ehNW/pdSQWdEvxQEmFJBBpD3pPOXUkFy4YJhkZdSQRCvqtOLl1JBLQk8CXSXUkEv8wgkaJdSQdoHmwMkl1JB\"},\"shape\":[138],\"dtype\":\"float64\",\"order\":\"little\"}]],[[{\"type\":\"ndarray\",\"array\":{\"type\":\"bytes\",\"data\":\"EmW8wYSXUkEEAQERgZdSQfxaio2sl1JBqzXvTe6XUkFsM9fhl5hSQfI8c7HgmFJBOz/NSuKYUkEu9PxID5lSQSj3olBPmVJBPUnFcyKaUkHM+FY7yplSQSlCaSbKmVJBP96sgbqZUkFmWPXXpZlSQT+aVmyImVJBarslAj6ZUkHdUpjEi5hSQaqNKXlNmFJB+WTvjxmYUkESZbzBhJdSQQ==\"},\"shape\":[20],\"dtype\":\"float64\",\"order\":\"little\"}]],[[{\"type\":\"ndarray\",\"array\":{\"type\":\"bytes\",\"data\":\"KPaOi6mMUkEU6+hsPIxSQapldDkRjFJBcHuK+deLUkGSqcPPn4tSQW+ZcLzUi1JB1GydBOaLUkHri4y8aIxSQU3M5aiCjFJBOoPy86aMUkE5n5NSsYxSQZo8PcewjFJB\"},\"shape\":[12],\"dtype\":\"float64\",\"order\":\"little\"}]],[[{\"type\":\"ndarray\",\"array\":{\"type\":\"bytes\",\"data\":\"VyGeOSmcUkHs4IWIJpxSQWtLqQUgnFJBO+V3OBucUkG9ykAqGJxSQaluHfcYnFJB3ci1yBqcUkFWdlcEEJxSQbunCyQFnFJB9n4D7AKcUkH8Ycal/ZtSQeIVIcb6m1JB4J7qTPibUkFX+0Vt9ZtSQaEcRnbxm1JBRyqilu6bUkHn9L9i65tSQUq/fgrom1JBtvKl6OKbUkEGje5T2ptSQQxwGx/Om1JBPzFYj8ubUkG10D2dx5tSQc8UHamtm1JBcfaAAa2bUkEjK7FXjJtSQTJLRUSAm1JBUS+8mmGbUkGpzbjZPZtSQfKYx1Yzm1JBsvp/2wqbUkFrwXmZ+ppSQTi2FvD3mlJBIv7CnN+aUkERnXr515pSQRLHNLjVmlJBcAkg78GaUkG5IFTZwZpSQSfQu5drmlJBAi/N21eaUkGrpj+8V5pSQYoia8VTmlJB6YLPbEqaUkGFCItJSppSQYgW7qmxmVJBUFj2qHSZUkHxAUtnWZlSQasLsp1RmVJBWQU7vkCZUkEgwc7eL5lSQbM+D1ETmVJBaIpCOwqZUkFRiDbZ/5hSQeIYaJLxmFJBf6QkFeuYUkHBrbxA/ZhSQbm1pFbJmFJBei/nrbCYUkFb3j8FmJhSQUKpUKONmFJB66D0d3uYUkE5hpJ9bphSQcUrpCw9mFJBdUt5rzaYUkESA/2JF5hSQQkEjDnml1JBBJW0L8OXUkHeD9xWpZdSQXLJybpyl1JBPdRyLlaXUkH47oNAL5dSQX80iYMNl1JBacaDwPiWUkGOl4r945ZSQbqrxYbQllJBKOLMS7WWUkF6PHM/z5ZSQc8V2NfRllJBZfjLmuaWUkE/ahBq4ZZSQdCpwRodl1JBLzGniz2XUkFVV+BIX5dSQQnTVVh1l1JBvSu16MGXUkFMbYwZx5dSQUhkNyndl1JBQsbaDeGXUkE2GmN13pdSQdyVdqDwl1JBojq0mv2XUkEVWpod95dSQVkv1xcEmFJBo6HEgzGYUkHUoVqpUJhSQb++kzcwmFJBJhurRoOYUkE2QBJBkJhSQQZnH3cCmVJB5qAJ6l+ZUkFJucpcgJlSQT0tCmJzmVJB3EcaN56ZUkE5wwh5uZlSQQ8Xu8+gmVJBXxHdo46ZUkE6ZD3ahplSQRaTGWeRmVJBShgy5sCZUkGILBm71JlSQRwa+7XhmVJBZK7VhNyZUkHEwiv975lSQUHUczPomVJB3nvcwQSaUkHJtfT5OZpSQeD6ZpI8mlJBSzXpClCaUkGFL/ylj5pSQTqc7qPZmlJB/jLzo9maUkGwulsm05pSQcb8uo3QmlJB6AJiJtOaUkEk81O3pZpSQYghDe8km1JBtPIOF0SbUkFZDhLGT5tSQfnXS516m1JBIm3sdO+bUkEs/7q2HJxSQdS2lnM9nFJBVsNDlD6cUkE3k39zUJxSQaaPV1lRnFJBGqED/VacUkF5LOVcWJxSQaaf3c5enFJBo2OGy22cUkGA5CRRc5xSQbLLIcJ1nFJB9Q0QFH6cUkHqx5UzfpxSQTRdMduAnFJBP5vJx4OcUkED8xN8nZxSQQkhHJPLnFJBZMF2fM+cUkFpet2t1ZxSQR1P+KPonFJBFyU3Ef6cUkE65+FrE51SQdUSFcMUnVJBWgtW8hSdUkESBJchFZ1SQQ05e4MWnVJB6KzrJRKdUkHy6Jt3/pxSQUQHWCj9nFJBhSQj2vGcUkFXMCC37pxSQUtuFKvqnFJBTIwW0uWcUkHpbe1L5ZxSQWNUZjXlnFJBNUvd3NKcUkFddlBu0ZxSQRISusHNnFJBA6I8NcWcUkG3mmcYxZxSQRncOaainFJBKHKp4qGcUkHpTATziZxSQa24wfeInFJBd570uoecUkEH98rnZ5xSQe8oaExnnFJBCe8YcmacUkFMov3oWJxSQc7snfdVnFJBYwZJ2kWcUkGhPWZXP5xSQTQw9Do5nFJBA/vkdjKcUkE=\"},\"shape\":[184],\"dtype\":\"float64\",\"order\":\"little\"}]],[[{\"type\":\"ndarray\",\"array\":{\"type\":\"bytes\",\"data\":\"Xj2GbKOZUkE1NvWjoZlSQWagvPRdmVJB0jxBnDGZUkEDYgdbnJhSQWT6/cIPmFJBYcoGP7mXUkHTvXd0oZdSQSmUTQyMl1JBEK+q04uXUkFy4YJhkZdSQQaQ96Tzl1JBZ0S/FASYUkFLdfo3BJhSQWpf5FAImFJBEr47hAyYUkGd9+diKZhSQWUwX60pmFJBwWnW9ymYUkE9iBj8OphSQSERabFEmFJBungHHFqYUkEHf40EZZhSQf/C/W9mmFJBFNB3wWaYUkF8zzxmaJhSQW8MhQ15mFJBAWBkN3qYUkGMOg8NmZhSQecxzRW0mFJBmshLEcCYUkETCYMDz5hSQf2TW/3VmFJBEMcmOdeYUkFzOwIk3JhSQV/h9KXsmFJBCh0ebO2YUkHIbuYK9ZhSQRomhsb1mFJBJrrotvmYUkF2Zr4lCJlSQapZWWILmVJBvSLNABOZUkHDMRJ9GJlSQd0Kpu0cmVJB5Zd+HiqZUkH/Q80USJlSQX5xSr5omVJBWirK0o6ZUkEoh65DrplSQWRtdL+umVJBVfIV1rCZUkHV8MfnsZlSQbTXV8mzmVJBtoZnUdCZUkHBNbNw5plSQfoiN7P2mVJB7bYiAhaaUkEtzDsvFppSQV9TxWIPmlJB\"},\"shape\":[60],\"dtype\":\"float64\",\"order\":\"little\"}]],[[{\"type\":\"ndarray\",\"array\":{\"type\":\"bytes\",\"data\":\"mHkQdSKZUkGbxyFlGJlSQSaTDM1SmVJBVSkDon2ZUkE+SD7Uv5lSQXqPG4kbmlJBNt6TxiOaUkFR4pNSippSQQgJ8/llmlJB3YvC8jWaUkF8+pK1DZpSQTNKYK/mmVJBPDWTJOGZUkGRGgzM4JlSQXdBykjemVJB2mZWTdmZUkHYClFF15lSQWyUXTHXmVJBRMUuadWZUkFpSSvi05lSQaweJGnTmVJB46ZlI9GZUkG+Nhbiz5lSQZo+1ITHmVJBuDNYHsOZUkGFC9tMwZlSQcpz0YbAmVJBwtKjhL2ZUkFac1E7uZlSQWX8TQe5mVJB4p6u07iZUkGxecpIt5lSQWrTFh61mVJB8CIU4rSZUkHCchGmtJlSQdUV2FWvmVJBrffawKyZUkG0xa1Go5lSQUwhNu+gmVJB8pjRn6CZUkG3h/JQoJlSQcb+toiamVJBEgkYaJqZUkFPJIxHmplSQeV3cFWVmVJBd+xtwJCZUkGCl55ji5lSQVIlrruJmVJBWLPeoHqZUkEzTGjpeZlSQeH2vtJ4mVJBmPyd0myZUkE5eCxsaJlSQYp7QtNdmVJBjheucFeZUkGqeKJwUZlSQSiH9PFLmVJBsmr71kmZUkH2JDd1RplSQUukWKg5mVJBWO0FHDiZUkFOxmWVNplSQYdhpaMumVJB5AzRXSuZUkFh1PtpKJlSQZh5EHUimVJB\"},\"shape\":[66],\"dtype\":\"float64\",\"order\":\"little\"}]],[[{\"type\":\"ndarray\",\"array\":{\"type\":\"bytes\",\"data\":\"aVTaM26WUkH/hIHqZ5VSQQ3Xgi9elVJB9i1eSiqVUkHCC/pFcpVSQcOuymakllJBknRPXomWUkFXwefSdJZSQe8ZxnpzllJBaVTaM26WUkE=\"},\"shape\":[10],\"dtype\":\"float64\",\"order\":\"little\"}]],[[{\"type\":\"ndarray\",\"array\":{\"type\":\"bytes\",\"data\":\"dAxjh2uQUkHMD3Uw3o9SQUjJBYU5j1JBNk+LkJOOUkE86Y6C8Y1SQbODUp7KjVJBSxmyBYKNUkEq61XfKY1SQSeagD7LjFJBY0+tNZKMUkEEXO7NcYxSQdYxBEBijFJB7Jf9MEuMUkG+zNEROoxSQWdgqMO5jFJBxl/X9rqMUkH02+PMSY1SQQCaSkhKjVJBKHLAZEaNUkE7tc+wao1SQcc8OuL7jVJBjgKTEiSOUkFj7YO2go5SQZEySk6FjlJBfa7o39qOUkGxuXme745SQUurOlQRj1JBfT8qmUKPUkFfhR6bZY9SQTiej9WAj1JBW9V6SJSPUkFv5GNTqo9SQfjg0fOfj1JB1JIsrweQUkFVkNmH9Y9SQcvNK699kFJBfnqPFc6QUkGTpIJUDJFSQUSeS2AikVJBCVTua0uRUkErp5yZT5FSQReEL79SkVJB/f+gilSRUkFQdLH+VZFSQRLn6spYkVJBhovhI1uRUkHoU1E5X5FSQfH+PVdskVJBn6TTMHKRUkHMqioYeZFSQa22+RGEkVJBG6t/O4SRUkEcouxjhJFSQfUCro6FkVJB0Mf8Y0WRUkH9D0UcFJFSQT8o5QzbkFJBSvgPrdCQUkE=\"},\"shape\":[58],\"dtype\":\"float64\",\"order\":\"little\"}]],[[{\"type\":\"ndarray\",\"array\":{\"type\":\"bytes\",\"data\":\"VetJNlmVUkFMI5EpSpVSQddc+jk+lVJBXpOJxTGVUkFgOA/zKJVSQbVsh8IjlVJBOw6bOhWVUkGX5bFUCpVSQfMy8On+lFJBrAzkSgmVUkFd6Zp0G5VSQTvHRn4clVJBcfskYRmVUkEpdowTEZVSQWKWFIIBlVJB/2wswOyUUkEVvI/X05RSQVW+pxyylFJB4AVxDZWUUkFuzD29fpRSQUlcIYprlFJBcwFmalqUUkFUIxJXWJRSQZfDtiZTlFJB+/N/cU2UUkHBQVHZSpRSQf4bQYJBlFJBmOlTbDGUUkEbfN5TE5RSQY19f4Tqk1JBN4tEEAyUUkGUYKNgS5RSQUAupXWalFJBdQEURN6UUkHk9akE/JRSQVXrSTZZlVJB\"},\"shape\":[36],\"dtype\":\"float64\",\"order\":\"little\"}]],[[{\"type\":\"ndarray\",\"array\":{\"type\":\"bytes\",\"data\":\"n5Tc8nOhUkGrNk+Wb6FSQRmK+nNtoVJBftRKtmuhUkG4EeZSaqFSQXk+xiBpoVJB+Cyzi2ihUkEAvVQgZ6FSQR3wWndmoVJB+YpHvmWhUkG8vsZ0ZaFSQVW56vRkoVJBZ1i4vmehUkEOdDLyfaFSQa61tXt+oVJB7JyKr36hUkGFlkW7fqFSQS4xMvJ9oVJB2wPxgXuhUkFQ2dPXeqFSQdgVP494oVJBrEdtZnihUkGAzqhgeKFSQYVzzI52oVJBfBCeJXWhUkH5GambcaFSQcwkjNtroVJBlITv+2qhUkEgWTVkXqFSQbx21uJboVJB13BmBFKhUkFOPQqhSqFSQV1xw9ZAoVJB5AMF0TuhUkHWmzo+MKFSQXhmG28loVJBi2OPSSKhUkHsvcMHIaFSQUSRE/sdoVJB8Q2DORqhUkE3WniDGaFSQUCDHWwXoVJB+0pBPBGhUkENnHehC6FSQfYExn8JoVJB8JV9pQihUkFlCD5AAKFSQa/xV0H9oFJB8fDi3vmgUkFL0J6l+KBSQVJlL/P1oFJBftRKovSgUkG1WXWA86BSQSCxeTryoFJBUdIJgPGgUkFo0hGE7qBSQeevkWztoFJBJUk8suygUkF91JXu66BSQZjPlZDnoFJBxnqJTuOgUkFauZn34aBSQQ6+J4HgoFJBcFMwtN+gUkHvUokf4aBSQShzkYHioFJBBDrmhPKgUkFtMKvw9aBSQeAjiA32oFJBIqCQffagUkHHw6K99qBSQW1ajZD2oFJBo7TM6/SgUkE5ByYo9KBSQf7QRyPzoFJBTSTdUfOgUkHPC19f96BSQZmlFfH3oFJBAOh3j/igUkGep+3F96BSQbxomYr3oFJBib8d6fOgUkFWzBvG8qBSQWVssMXwoFJBdyw0X/CgUkHd9xIa7qBSQTBfQOrtoFJBmwXA/OygUkGPT/cI66BSQXvj4cjpoFJBXDWvVOagUkHKabjK5KBSQZ1FBGbkoFJBqYzzBdagUkEYsjuez6BSQf8afAW9oFJBgH1tobGgUkFxu62Ur6BSQYKWQYWtoFJB/tkmC6ugUkHbUlzbpKBSQRbabd+goFJBpF0hZ52gUkEbDqcRnaBSQdjLpLGXoFJBhcX9epSgUkFjJWvbjaBSQS+KzpmLoFJBcd9gF4ugUkHf6B8SiKBSQbetr96GoFJBMS57ToegUkHIrDDpjKBSQWTL7e2RoFJBhNktEJOgUkFK1qJclaBSQaaP2f4zoFJBH87FHgKgUkFcPMKJHZ9SQUQHpAvbnlJBUieu4LueUkHcsdG1nJ5SQXTSOmN5nlJBLn1bpfqdUkHSf/ncQJ9SQf/7Uxxin1JBnppph6KfUkH5eOKaKaBSQbtAAndAoFJBjSuRz36gUkGHKNP+IqFSQSjFf1DBoFJBb+o6izGhUkGflNzyc6FSQQ==\"},\"shape\":[134],\"dtype\":\"float64\",\"order\":\"little\"}]],[[{\"type\":\"ndarray\",\"array\":{\"type\":\"bytes\",\"data\":\"DJ9qzRyUUkE8kk4ZLpRSQS/O8XlAlFJBrwcTo2qUUkEBu3PFoZRSQdV/QUnrlFJBMDIQBUWVUkHaHFKmqpVSQSeKPzG/lVJBN6UV9OOVUkEHu5qAIJZSQeUZbMJzllJB8L3Q9jOWUkEWqFNUMpZSQWOxSU0JllJBdapEkMeVUkHy/MpQnJVSQXUgdbBmlVJBsXPOvUyVUkFxbUyFdJRSQR6EIFxClFJBLvjs4OuTUkEfrHzNspNSQYVK82TVk1JBrCXhYxWUUkFJGqPEH5RSQQ==\"},\"shape\":[26],\"dtype\":\"float64\",\"order\":\"little\"}]],[[{\"type\":\"ndarray\",\"array\":{\"type\":\"bytes\",\"data\":\"+g/lJFudUkHVgMIAVJxSQTEPH7hnm1JBBXUXP4OaUkHNz/8C1JlSQT1PRrCimVJBdEGpQ7KZUkHaCKKFzZlSQSqqN0rimVJBxDiU2P6ZUkHODxZ9JJpSQfg0J446mlJBPgc3GoeaUkH46FxyiZpSQWfSJQfVmlJBM6azTuOaUkEqSEKW8ZpSQbvrhzqrm1JBdWOWdUybUkGn2E3YVptSQaOKQ+Yvm1JBjdYeIGWbUkEZH+O9OJxSQSL2hRxQnFJB5tiAqHmcUkFc96s0o5xSQVzxrxW0nFJBfDbqeL6cUkFMhjDBzJxSQTg6RXsInVJBHjupxwmdUkHr0mhjVp1SQamwD95NnVJBEQsPwlKdUkFmDdFAdp1SQSoP4pGLnVJBHVIM04+dUkFqOdHCo51SQTR6zmuwnVJBE5pkcdydUkEfc8dM4p1SQSVqzUrmnVJB8Il4KvidUkHuoAxm+51SQeva4BAKnlJBuvL5SxaeUkG14DzhJJ5SQQPXwycqnlJBuy8Cry2eUkH7jGnmSp5SQXN1yXRtnlJBt+tcdHyeUkFIw3DlpZ5SQT+U2wXEnlJBKYxK1M6eUkEvLncH7Z5SQWuVLojunlJBrQi8afCeUkFh6fPw8Z5SQTK7zrPynlJBObkmKfSeUkGGyl6w9Z5SQVggpRv3nlJBtVwWM/ieUkGR0M6++J5SQdEcKLAAn1JBUjEXMQmfUkG2Z2yACp9SQc1UuPQKn1JBjqDywQyfUkE/vW6ZJp9SQZNUQJY7n1JBMlFJu1afUkH6RxjYd59SQa6zLgJ5n1JB119hnLKfUkHAhKJbz59SQTCq+73Sn1JB5yyXv+SfUkGfDnZb6J9SQfiyUhMan1JBt1sOvxWfUkEyebFAD59SQWOnPZgGn1JB/OAVsFyeUkHi00PMQ55SQR6bNCshnlJBtQnHYa2dUkE=\"},\"shape\":[88],\"dtype\":\"float64\",\"order\":\"little\"}]],[[{\"type\":\"ndarray\",\"array\":{\"type\":\"bytes\",\"data\":\"gDWPyAGUUkGVIFwixZNSQdW3i/1Dk1JBtPQREPKSUkGBkEWp8JJSQdSqw8lrklJBSNfesD+SUkE7pcny95FSQX1XPuNukVJBj0KEF0SRUkFAs8LAMpFSQbzg/7MWkVJBi+JySPaQUkFK+A+t0JBSQT8o5QzbkFJB/Q9FHBSRUkHQx/xjRZFSQfUCro6FkVJBjk2ssIiRUkHA85xUkZFSQYQiDtGWkVJBNQ3pr5mRUkHZ8XW9s5FSQVKIxHABklJBMme52P6RUkEyLf5MEpJSQeCv0uwHklJBEzUi3SGSUkEQpFvVLpJSQYG2FHJUklJBliGDz46SUkEfXEUtyZJSQQp/lmAhk1JBmcYcZkSTUkEC+9L2U5NSQTjqNb9bk1JBAy8/gHCTUkHwRQNG2JNSQVtVXVPuk1JB0BpyDuCTUkE=\"},\"shape\":[40],\"dtype\":\"float64\",\"order\":\"little\"}]],[[{\"type\":\"ndarray\",\"array\":{\"type\":\"bytes\",\"data\":\"Ojc3wlCfUkEd9dyCP59SQWH3vRs7n1JB6vDvkCOfUkFeGFMuHp9SQV3dr8gcn1JB2Y7kZRyfUkE+ANu+Gp9SQdRiQGUYn1JBt5cJNhSfUkFzffhsDp9SQXwRITQIn1JBbKHUggWfUkEl67eWA59SQXlcqfH/nlJB7wpEufqeUkG0KdkH+Z5SQWuUPlTrnlJBB6VPO/KeUkFXkizL8J5SQeKm+68hn1JB+LZEjWOfUkGwWgoje59SQRXlidiPn1JB0G0Dso6fUkEn2Qc1cJ9SQZ73TVNxn1JB8Ie0ImWfUkFO8SmHWZ9SQW05oetXn1JBg9saj1WfUkE1ugG8U59SQSDLPz9Tn1JBOjc3wlCfUkE=\"},\"shape\":[34],\"dtype\":\"float64\",\"order\":\"little\"}]],[[{\"type\":\"ndarray\",\"array\":{\"type\":\"bytes\",\"data\":\"6QPtZxqZUkE252ZySZhSQRx/aIp7l1JBr6RKXUmXUkGIiX/zK5dSQaTbq0rjllJBmAsQvJaWUkG7PAgCOJZSQXC85q2/l1JB5ruDREiZUkE+onovsZlSQfMqUsfgmVJBQH5gSg+aUkHYu8TcFppSQTU3D4QfmlJBYe78Zd6ZUkF+tM6kQ5pSQRpQZ/OBmlJBLbgYDEGaUkHyOLWfUJpSQaQL29rCmlJB7IhjPc2aUkERWbmkyppSQbIe1fW+mlJBU9TFC0GaUkGFuxViKJpSQcTqWZ0TmlJBWc1vT9WZUkGoE3U5zJlSQRdAZGDrmVJB1u/Mm9aZUkHR+02VpplSQboyTDiPmVJBRW2IPYKZUkFjZv8WY5lSQZEyRbQbmVJBnbfZriiZUkGtIEDlIJlSQQ==\"},\"shape\":[38],\"dtype\":\"float64\",\"order\":\"little\"}]],[[{\"type\":\"ndarray\",\"array\":{\"type\":\"bytes\",\"data\":\"aS4/c46XUkH8Lz9zjpdSQUfSfHCMl1JBV762j4mXUkFoqmgIiZdSQabSuDuGl1JBIAbTIoaXUkFts3/ghZdSQeUFAxGEl1JB0fnK5oOXUkFbj21Vg5dSQUJjC/aCl1JBfRDah4KXUkGLa1ywf5dSQV9Vmf98l1JB1JWMp3yXUkEQ139PfJdSQT5w1k56l1JBnux4tXSXUkFxbmiCcZdSQYOXYb9ml1JBWGskcFyXUkHD2jpeWZdSQbvOP4hWl1JBKgnS/FGXUkFoZ4EbT5dSQcLYPz5Ml1JBNDh/XjmXUkH6vpewFpdSQTnil4YSl1JBc7rU5A2XUkHvdwTc+5ZSQVjhesXsllJBT6VHW9iWUkFR0NGmy5ZSQcxtSntWllJBg7/X2jSWUkEhQfH9E5ZSQcGHidDjlVJBqFfNnNOVUkHHBTQ8xpVSQZrBQFJtlVJBayZbQlGVUkHrjt1KH5VSQRWyhkQOlVJBGHeMjPmUUkHZVbHEo5RSQZIvqo55lFJB6wuSS9qUUkHZi43tj5VSQbCNjxeilVJBqM3i46aWUkFTcmZSSZdSQflcaF1Xl1JBpQDrjQaYUkG3IZYgFphSQaxf57dVmFJB7Y36lmaYUkFmnhR2d5hSQSkGx/K6mFJBTOubkO2YUkG9VSn2AJlSQZvHIWUYmVJBmHkQdSKZUkETsgEKIZlSQSI3w7QgmVJByQtxYiCZUkGmY4+xG5lSQQK5MT0amVJBDVW38hWZUkF4GiZLEZlSQa/oZukJmVJB6+lRxQmZUkE/6zyhCZlSQSJuRXoGmVJBZxBQjAWZUkEaPu7w+ZhSQVr27yX1mFJBNyzM1/SYUkGXAKaJ9JhSQa77OD3wmFJBsQ/myOSYUkGoZb0e4phSQUg7YajXmFJBYyZh48+YUkEpwvvWzZhSQb0CnWbMmFJB7NKhbsqYUkHrC2RLx5hSQZUds2LCmFJBSvVP6L6YUkG77x/8uJhSQUAjOkK1mFJBaH1pi7CYUkHeFvnNqZhSQYKcpeOmmFJBpBZM5aSYUkGNkWtJoJhSQbkCFn+UmFJBWAvfComYUkERFnt6h5hSQedBPzB/mFJB83s5Pn6YUkHPs6+yd5hSQawA0wF3mFJB9eA+x3aYUkGVI62MdphSQX/eBb91mFJBOlH3dW2YUkF7cSGEZ5hSQbOp4z5WmFJBpMzeJ0mYUkES/zYxRJhSQUr0o0RAmFJBp2hgUT+YUkGXjf5tOphSQTpLk/AumFJBszyT8C6YUkHzLpPwLphSQQU+o+AqmFJBzEbrvyiYUkET1xZlKJhSQZpz8EIimFJBPSK4KiKYUkF6TBMPIJhSQUw2bLQfmFJB351kCBiYUkHQejy+C5hSQam3fEMJmFJBOfa5qweYUkGE75uiAJhSQYTv6Fz8l1JBsCish/iXUkHACMhF95dSQTcRspDtl1JBppQbfeaXUkELsCWa45dSQX29P1bXl1JBII0cbNOXUkFIqXBsyZdSQSmBRkfHl1JBziWzCseXUkHF6kXOxpdSQRARHZvFl1JBOejcNMGXUkFW3JkGuZdSQYOGv+q2l1JBsfp4C7aXUkHkrFsZtZdSQR4rlky0l1JButHEBrSXUkHEPPjAs5dSQWQGWVGxl1JB41wYU6+XUkG3qHIAq5dSQeyX1QOol1JBeHYc0KeXUkGb3z64o5dSQbHRjHKgl1JBRGwBeJ6XUkGwDVFEmJdSQdrlV7+Pl1JBKRA/c46XUkE/Iz9zjpdSQfEkP3OOl1JBaS4/c46XUkE=\"},\"shape\":[166],\"dtype\":\"float64\",\"order\":\"little\"}]],[[{\"type\":\"ndarray\",\"array\":{\"type\":\"bytes\",\"data\":\"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\"},\"shape\":[204],\"dtype\":\"float64\",\"order\":\"little\"}]],[[{\"type\":\"ndarray\",\"array\":{\"type\":\"bytes\",\"data\":\"NTcPhB+aUkHYu8TcFppSQUB+YEoPmlJB8ypSx+CZUkE+onovsZlSQea7g0RImVJBcLzmrb+XUkEDYgdbnJhSQdI8QZwxmVJBZqC89F2ZUkE1NvWjoZlSQV49hmyjmVJBX1PFYg+aUkEtzDsvFppSQSmIXPQcmlJBC4nxvR2aUkEPWFM6IppSQVzqbFYomlJBZgt6ZCuaUkEeDxJzQJpSQSatgfRjmlJB2/F1IGSaUkF1H3ALaJpSQdNnblRomlJBK2lTOY+aUkE+LFUCkZpSQRbVjNOemlJBae9z9b2aUkEYb/pB6ppSQY7l28oPm1JBtmUw4hCbUkFbGtsTEJtSQdqJA/4Om1JBNBpuI2SbUkGJQV+xiJtSQfAgZY6qm1JBNjPCwbibUkHGidRTuZtSQb/cLinIm1JBoz27WdabUkFsA15e15tSQYrfXpkBnFJBEqIs8BKcUkENWtV+E5xSQey7J5FInFJBwHK/sUicUkGmKVfSSJxSQcjaVWdJnFJBVddp90mcUkFFth6kTJxSQRZTlSROnFJBJlNR4VycUkEGk07hXJxSQbTIo7tNnFJBE3flv0CcUkGBTzuaMZxSQR39ef8BnFJBE0kDm++bUkFGo83Z8ptSQSau9nDtm1JBYAAr8+abUkG93MIUSptSQWqli/0Tm1JBht2QmQGbUkFZC2h08ppSQRjX9QOamlJBTgKV75SaUkE1Nw+EH5pSQQ==\"},\"shape\":[68],\"dtype\":\"float64\",\"order\":\"little\"}]],[[{\"type\":\"ndarray\",\"array\":{\"type\":\"bytes\",\"data\":\"QDXf/72PUkGv6JzTvY9SQZhUakvxj1JBMVAXXQqQUkGm99wTLJBSQdZg65pIkFJBaC19HVuQUkEyXPXEW5BSQd+hOPJfkFJBEvzATWSQUkGSPEovZZBSQYm8eXl8kFJBOEo7on2QUkEGQa5bkJBSQd6RJ7OnkFJB6MyFZbaQUkFq3tmvx5BSQSanmqfUkFJBkDbkIeuQUkGoJBBf9pBSQYfc77sgkVJBy6Z2njSRUkHQhAfpRZFSQbg7mGNckVJBx5mnK7eRUkHY2cvry5FSQfUxbWH7kVJBeh4J7/6RUkE1kRpW/5FSQc8ZOxcRklJB0no2S7ySUkGAWxdC6ZJSQZ7/iG8uk1JBwdc/WHWTUkFNmpoqoJNSQY2znk03k1JB2L+62vOSUkHOUy+ErJJSQY8dWUeRklJB38TIUVSSUkGgFqGnxZFSQc/WudckkVJBR+kqbASRUkEnDNyg2ZBSQXTzgGqOkFJBWWqFG2qQUkEIbnt1LpBSQQCXqlzfj1JB\"},\"shape\":[48],\"dtype\":\"float64\",\"order\":\"little\"}]],[[{\"type\":\"ndarray\",\"array\":{\"type\":\"bytes\",\"data\":\"WcwIi5yRUkHvsZwvLZFSQWUUW8RokFJBVrMSa6GQUkHPGI1WoJBSQQBmy17WkFJBl3u7nNmQUkFRGcjqOJFSQSndk3ULklJBJ0nONk6SUkE+UpVdrpJSQYm0SASmklJBqNGeLaiSUkGiY+K2vJJSQSJs+/LnklJB5UQQxjWTUkE+qNHaR5NSQdXCs+nHklJBlTiuXcaSUkGCcBQ3CJJSQRqCLy3UkVJBWcwIi5yRUkE=\"},\"shape\":[22],\"dtype\":\"float64\",\"order\":\"little\"}]],[[{\"type\":\"ndarray\",\"array\":{\"type\":\"bytes\",\"data\":\"dfSXiBOZUkFnLr7lD5lSQZgbOgsDmVJBMVHHNtiYUkGvz5ttk5hSQTHtQdBgmFJB5Qr/BxyYUkHbK9XS5pdSQbMoZ46bl1JB/C8A0XmXUkG/JpfTPJdSQS6eVcoZl1JB/d2H1v+WUkHsATPgtZZSQXyxTam9llJBvhzXluSWUkHH6I6B25ZSQaTbq0rjllJBiIl/8yuXUkGvpEpdSZdSQRx/aIp7l1JBNudmckmYUkHpA+1nGplSQXX0l4gTmVJB\"},\"shape\":[24],\"dtype\":\"float64\",\"order\":\"little\"}]],[[{\"type\":\"ndarray\",\"array\":{\"type\":\"bytes\",\"data\":\"eTHFLJmUUkEvrBsY6JRSQawtwY5tlFJB4lSUgWWUUkHCI+EmxZNSQcul7+LPk1JBJPkYFoaTUkFBTKr1cZNSQSwYIJ47k1JBxcQNxh2TUkE+TJS3GpNSQeLbE9gEk1JBeHqlqfiSUkEeYnax/5JSQSkj74sBk1JBYxDyvgKTUkGV/fTxA5NSQepZQXwMk1JB2An3gxCTUkEi6RkjEZNSQcLzpjgck1JBCzxBpy2TUkHsKR70MZNSQT6aUFhAk1JBFhe+vUaTUkEKpBpdXpNSQT80W151k1JBqZZAL3mTUkHDaIS6e5NSQSGgLPiTk1JBqA9h85STUkEq99NGl5NSQYS5NQqYk1JB2qlJxJiTUkG1cSZZmZNSQXQcQjCzk1JBtFsNDcaTUkGNB63UyZNSQdTwqYDLk1JBRdvlWs+TUkEPI5X90JNSQb8OXZLUk1JBygB0ydeTUkG61P8025NSQTQwVXXmk1JBGGm2EeiTUkEWb7Xn6JNSQWG7GKvpk1JBzu/Jd+qTUkFRQC0765NSQcN6mjHtk1JBnXQCAvWTUkFV7pk1FZRSQWvNXUUrlFJBYh5hSTCUUkH0qJfFQ5RSQTLgOh9jlFJBMpl5/HuUUkE=\"},\"shape\":[58],\"dtype\":\"float64\",\"order\":\"little\"}]],[[{\"type\":\"ndarray\",\"array\":{\"type\":\"bytes\",\"data\":\"PByrEECLUkE6lGzlEoxSQVtKEiEejFJBORpL1vmLUkHP9aaZ2YtSQXQIOMA5i1JBCtS0bDmLUkE8HKsQQItSQQ==\"},\"shape\":[8],\"dtype\":\"float64\",\"order\":\"little\"}]],[[{\"type\":\"ndarray\",\"array\":{\"type\":\"bytes\",\"data\":\"+ayG0i+TUkGDJJy/yJJSQftUFhK2klJBy5pqdAuSUkFZzAiLnJFSQRqCLy3UkVJBgnAUNwiSUkGVOK5dxpJSQdXCs+nHklJBPqjR2keTUkFBGGgQSJNSQSvOeDNWk1JBLR9CjHWTUkEW8TUexpNSQQO+FC+6k1JBy+xW05STUkEpRbSskJNSQSftKzeNk1JB85nOOISTUkEnPRhmZJNSQQ==\"},\"shape\":[20],\"dtype\":\"float64\",\"order\":\"little\"}]],[[{\"type\":\"ndarray\",\"array\":{\"type\":\"bytes\",\"data\":\"cHuK+deLUkFQSEck6YpSQellHs6silJBY+9cVDeKUkEVaxXImYpSQdPyHTWbilJBqbqID9OKUkGiiqY+2IpSQQvjgbqAi1JBGDdUBoKLUkE/PoYx8ItSQWnW0alfjFJB64uMvGiMUkHUbJ0E5otSQW+ZcLzUi1JBkqnDz5+LUkE=\"},\"shape\":[16],\"dtype\":\"float64\",\"order\":\"little\"}]],[[{\"type\":\"ndarray\",\"array\":{\"type\":\"bytes\",\"data\":\"5UQQxjWTUkEibPvy55JSQTsqN39nk1JBBPGG9oWUUkEg4BrGkJRSQSuUnJy2lFJBmpV+/ciUUkFAEUgZ5ZRSQUwkStsJlVJB9i1eSiqVUkEN14IvXpVSQf+EgepnlVJBaVTaM26WUkHvGcZ6c5ZSQaIHtmpvllJBX+K40EyWUkFKz8luNpZSQTqp1RoillJBsejMSheWUkHYH0JYDZZSQbJjZMb9lVJBzSelUPqVUkHXKtTM8JVSQfITlIzelVJB/zfvP82VUkFkupp2tZVSQXpBjZiclVJBs+nOYIyVUkFAhWM8LZVSQfNfa3MVlVJBr8GR/QGVUkG4oVyj4pRSQdWSPknDlFJBbHj+A6WUUkHH95zTh5RSQXSebxI7lFJBxcylehiUUkGecit0/ZNSQTnFkC/fk1JBtQ3cGt6TUkEdBDtByJNSQRbxNR7Gk1JBLR9CjHWTUkErzngzVpNSQUEYaBBIk1JBPqjR2keTUkE=\"},\"shape\":[46],\"dtype\":\"float64\",\"order\":\"little\"}]],[[{\"type\":\"ndarray\",\"array\":{\"type\":\"bytes\",\"data\":\"FqhTVDKWUkHwvdD2M5ZSQbME0ZIDl1JB2gebAySXUkEv8wgkaJdSQS0JPAl0l1JBEK+q04uXUkEplE0MjJdSQdO9d3Shl1JBYcoGP7mXUkFk+v3CD5hSQQNiB1ucmFJBcLzmrb+XUkG7PAgCOJZSQWUC0LU5lVJBGJ3O8ySVUkEw061NHJVSQS3Jna5mlFJBzTTw15iUUkEmTg8kqpRSQcQEwUbJlFJBi4X/me2UUkH7dgtjFZVSQbFzzr1MlVJBdSB1sGaVUkHy/MpQnJVSQXWqRJDHlVJBY7FJTQmWUkE=\"},\"shape\":[28],\"dtype\":\"float64\",\"order\":\"little\"}]],[[{\"type\":\"ndarray\",\"array\":{\"type\":\"bytes\",\"data\":\"qzXvTe6XUkH8WoqNrJdSQQQBARGBl1JBEmW8wYSXUkFTcmZSSZdSQajN4uOmllJBHFdr3Y2WUkGs5NbDSpZSQYuOO/gullJBPat3xUyWUkFotqfHfJZSQY5FntaSllJBoSjKQMCWUkGr4ANf7JZSQUJiXfQrl1JBRCLrxlaXUkE5Cqcce5dSQUQEwhTFl1JBlvlbHemXUkEs/10d6ZdSQR/RZZPsl1JBIu5L6e6XUkFcXmtLG5hSQSkodVFbmFJBFpLHOLyYUkHyPHOx4JhSQWwz1+GXmFJBqzXvTe6XUkE=\"},\"shape\":[28],\"dtype\":\"float64\",\"order\":\"little\"}]],[[{\"type\":\"ndarray\",\"array\":{\"type\":\"bytes\",\"data\":\"k+pbDlKLUkEZWMaKPIxSQb3c6vCijFJBtkXt08mMUkGKPD9r74xSQRMQw+8LjVJBkAMRDCuNUkFnGlGtZo1SQZjF5ALPjFJBQSC8V0CMUkGhe05JQIxSQUoc9Yo0jFJB4oxVS/qLUkHHEBURzItSQR6UCSq6i1JB4BXvVLeLUkEZ2mYIsItSQftPcYh1i1JBTIrmHXSLUkH+Bw0WcItSQQ==\"},\"shape\":[20],\"dtype\":\"float64\",\"order\":\"little\"}]],[[{\"type\":\"ndarray\",\"array\":{\"type\":\"bytes\",\"data\":\"J0nONk6SUkHivJVwVJJSQYJwfKyikVJBBYsdOUWSUkEzJXqbopJSQRzzj9G6klJBOANXC8GSUkGYgkZD0JJSQQ+peFbSklJByA7fL86SUkG8K5yVvZJSQT5SlV2uklJB\"},\"shape\":[12],\"dtype\":\"float64\",\"order\":\"little\"}]],[[{\"type\":\"ndarray\",\"array\":{\"type\":\"bytes\",\"data\":\"dgX/IUmQUkEEwoxNzY9SQZNLaUyHj1JBMHc3vSiPUkHUclVg845SQYaB1uGxjlJBlTaCDK+OUkGOsVJOSY5SQQJITwjqjVJBnXUuptuNUkEpuWGlzI1SQb4AAijFjVJB1lHZM8ONUkFTqjtnwo1SQd4qzNvBjVJBsRI/t8GNUkHnD6tHwY1SQd/YryPAjVJBAtbCNL+NUkFiI56nvY1SQc3sYBq9jVJB3Nf6GruNUkHrxRv1uo1SQerKNtm6jVJBoOTjNrmNUkFx14zDt41SQXvEy6GNjVJByzPAVYWNUkFMgYfcsY1SQXxb6KUijlJBvRRs/6KOUkFWYzea645SQVGDNtYpj1JBR2flu1CPUkHJMd18iI9SQTp0466wj1JBr+ic072PUkFANd//vY9SQQCXqlzfj1JBCG57dS6QUkFZaoUbapBSQXTzgGqOkFJBJwzcoNmQUkFH6SpsBJFSQc/WudckkVJBzJl2IbCQUkHfRw79wJBSQZK4/rC/kFJBqqdshN2QUkEy5YlFn5BSQQ==\"},\"shape\":[50],\"dtype\":\"float64\",\"order\":\"little\"}]],[[{\"type\":\"ndarray\",\"array\":{\"type\":\"bytes\",\"data\":\"pNdjXAiZUkHxfWMZAZlSQbESfFe8mVJBk5OqU8aZUkH951MM1JlSQdG/pQvbmVJB8sQGW/2ZUkHSFCgW/plSQbaH5iQRmlJBSgbQGiuaUkFTQon2Z5pSQX6fhJpumlJBfFmbpCeaUkHt1Vq4IJpSQdoCWBK+mVJB0ZhsWWKZUkG6ayJQT5lSQZzn1tA4mVJB7vJ8NBaZUkGk12NcCJlSQQ==\"},\"shape\":[20],\"dtype\":\"float64\",\"order\":\"little\"}]],[[{\"type\":\"ndarray\",\"array\":{\"type\":\"bytes\",\"data\":\"CnRWmHGXUkFf4rjQTJZSQaIHtmpvllJB7xnGenOWUkFXwefSdJZSQZJ0T16JllJBw67KZqSWUkGozuNq5ZhSQX8r9nHjmFJBCSbj9qmYUkGPgKHWiphSQYGF909zmFJBwwGvmmOYUkHtVmqIT5hSQSlSMHY7mFJBgpyuFDCYUkEltMbhIphSQdEufm0fmFJB6PK1URmYUkEBhiQ/F5hSQZNq1uYRmFJBWOkbUgmYUkHVRqtp/pdSQew17f7yl1JBElpsmdSXUkHrou2nw5dSQTt8nXyvl1JB48f3cKmXUkG92ywioJdSQUtMYryPl1JBPIfEhImXUkEgUdj9h5dSQa0PaVJ0l1JBXDyRKHOXUkE=\"},\"shape\":[34],\"dtype\":\"float64\",\"order\":\"little\"}]],[[{\"type\":\"ndarray\",\"array\":{\"type\":\"bytes\",\"data\":\"UUofKZWFUkHzoVHfloNSQaqOdIhLg1JBM4Kyg0mDUkFMrJY/t4NSQZOQWkyqg1JBN2NkVNaDUkGe5sXSo4NSQS/5nDKYg1JBBeDA/8uDUkFty++J5INSQYYMIojog1JBjex3XR6EUkFKb4WYZYRSQYuaRxJshFJBbAlgntqFUkFujToplYVSQbXioV53hVJBZO8LDmCFUkEpf3LFrYVSQQ==\"},\"shape\":[20],\"dtype\":\"float64\",\"order\":\"little\"}]],[[{\"type\":\"ndarray\",\"array\":{\"type\":\"bytes\",\"data\":\"fPqStQ2aUkHdi8LyNZpSQQgJ8/llmlJBUeKTUoqaUkGTZoAiDJtSQcdaIvBQm1JBpZMjD4qbUkGyohA85ptSQZI1Xg0unFJBqa/X/EicUkEjS32/PZxSQUap0skknFJBaZwwUpqbUkFSOkmNZptSQcTc/wfdmlJBMLr+dt6aUkHTuyu43ppSQTksCfDemlJBGQqXHt+aUkFLxbJ735pSQfj/HeLfmlJBZChKct2aUkGvToTY2ZpSQZV5MazVmlJBf+9kC9OaUkEeitQVzppSQcj+8ybLmlJBmOZf3MiaUkGiKXIPxppSQWR7drvFmlJB/+ubQsWaUkE1Ag4UxZpSQfA4maTKmlJB3nFvccuaUkExgNrXy5pSQdMEmaTKmlJB1lZoOMiaUkFmiIgPyJpSQYkI9eHHmlJBHbMCZsCaUkHmDXgKv5pSQcRVsmK6mlJBXrDPDriaUkHu7rn4t5pSQXMBMRW3mlJBmh+bo7SaUkH7FsJ3sppSQdc3y5+vmlJBnLUig6+aUkHb80EXpJpSQaCLl+OYmlJBLbj6t5KaUkEAvUfJjJpSQRBNVHqJmlJBXCl98H2aUkGvoTqFeJpSQdZM2CJnmlJBEd1ZBWaaUkFAHlRVYJpSQdgB3x1emlJBmZ8cJ1yaUkHYG+j8UppSQUEyqJFOmlJBL0QpvEuaUkEtdDmkS5pSQVeH/GJJmlJB5nbRBUeaUkFkjP4qRZpSQQO0o787mlJBYl8CLTqaUkFBP6ycOZpSQW8CRM0wmlJB34R4rCmaUkHXGAujJZpSQdecp70dmlJBjN6iexiaUkHAfHPaFZpSQQLDGvYRmlJBDTwCShCaUkFx4b6dDppSQXo9uwgMmlJBsj8SRQuaUkFkMIgYC5pSQTuIYPEImlJBrPCgygiaUkFiu+OjCJpSQVegszsDmlJBZbkZDQGaUkHGFQCwAJpSQY69PZgAmlJBymALgACaUkH9eKsf/5lSQQ1b1Mv8mVJBK10U4/uZUkFWqSxp+5lSQe+oB+P5mVJB5bxH+viZUkFvwPB3+JlSQZEGKnPzmVJBM0pgr+aZUkE=\"},\"shape\":[100],\"dtype\":\"float64\",\"order\":\"little\"}]],[[{\"type\":\"ndarray\",\"array\":{\"type\":\"bytes\",\"data\":\"hz/CJYCbUkHVIDJZfptSQWtXJHQDm1JB6wxLOL6aUkFi9CW4p5pSQWTS8/x4mlJBeo8biRuaUkE+SD7Uv5lSQVUpA6J9mVJBJpMMzVKZUkGbxyFlGJlSQb1VKfYAmVJBTOubkO2YUkEpBsfyuphSQWaeFHZ3mFJB49HcLXmYUkH/+E0mlphSQU1UMhuwmFJBpNdjXAiZUkHu8nw0FplSQZzn1tA4mVJBumsiUE+ZUkHRmGxZYplSQdoCWBK+mVJB7dVauCCaUkF8WZukJ5pSQX6fhJpumlJBLV9J6X+aUkHdrT2ulJpSQYfn2JC1mlJB4rtwpQibUkE4nZDYRZtSQQ==\"},\"shape\":[32],\"dtype\":\"float64\",\"order\":\"little\"}]],[[{\"type\":\"ndarray\",\"array\":{\"type\":\"bytes\",\"data\":\"PbFPUGuWUkFnWnC28JRSQfesmgxwlFJBCfXmuUuUUkEMpchYcZRSQXX0ncBulFJBH9mtDKCUUkFA5P6dr5RSQZ1SfDdClVJBNXdbKSyVUkEk/f19gJVSQZIbGwc9lVJBzLCQOHKVUkEPZVgWg5VSQUdc/tGklVJBH1u2eL2VUkH5+34f1pVSQUEGp17xlVJB4pwODP2VUkE0mf3285VSQWtMSZzclVJB4iutVs6VUkHSZvzu0JVSQVFpiv3mlVJBRp2HuQiWUkEoDJzOEZZSQYojRm83llJBSpW90nGWUkHoKZYYgJZSQYWK2faQllJBPPxf25SWUkEo4sxLtZZSQbqrxYbQllJBjpeK/eOWUkFpxoPA+JZSQX80iYMNl1JB+O6DQC+XUkE91HIuVpdSQXLJybpyl1JB3g/cVqWXUkEElbQvw5dSQQkEjDnml1JBEgP9iReYUkF1S3mvNphSQcUrpCw9mFJBOYaSfW6YUkHroPR3e5hSQUKpUKONmFJBW94/BZiYUkF6L+etsJhSQbm1pFbJmFJBwa28QP2YUkF/pCQV65hSQeIYaJLxmFJBUYg22f+YUkFoikI7CplSQbM+D1ETmVJBIMHO3i+ZUkFZBTu+QJlSQasLsp1RmVJB8QFLZ1mZUkFJK36SLplSQRmAITsKmVJBYbYJqPqYUkE1sThtWJhSQZYUnNsLmFJBJVcAkc2XUkE9sU9Qa5ZSQQ==\"},\"shape\":[68],\"dtype\":\"float64\",\"order\":\"little\"}]],[[{\"type\":\"ndarray\",\"array\":{\"type\":\"bytes\",\"data\":\"LlYV8ZiKUkEw8qZNdYpSQWgaboFPilJBH7I18keKUkFxeT39H4pSQWmP9rUOilJBKskhjQyKUkGU4gij14lSQdEeQC0uilJBUIMEcy6KUkFT5clOZopSQcRN4MxmilJB\"},\"shape\":[12],\"dtype\":\"float64\",\"order\":\"little\"}]],[[{\"type\":\"ndarray\",\"array\":{\"type\":\"bytes\",\"data\":\"vRRs/6KOUkF8W+ilIo5SQUyBh9yxjVJByzPAVYWNUkF+W5fcZY1SQe8D8HtgjVJB99NyCSGNUkFzs1oXHI1SQQvAO/zHjFJBV2bo56KMUkHEI9Xkf4xSQZTkZEBdjFJBff9O31mMUkH6iZZeU4xSQQQXQUBQjFJBGmaOskiMUkFBILxXQIxSQZjF5ALPjFJBZxpRrWaNUkGQAxEMK41SQRMQw+8LjVJBijw/a++MUkG2Re3TyYxSQb3c6vCijFJBBbMQ3UiNUkG16A/xuo1SQXsA9IAQjlJBA11PnQyOUkHDmE5xdI5SQXfoW6B1jlJBqGXChIKOUkHb0Nzvg45SQZJpv64yj1JBn0Cce2WPUkEfw+4kTo9SQfOPyadFjlJBDTDrbFKPUkHBZj80U49SQTp0466wj1JByTHdfIiPUkFHZ+W7UI9SQVGDNtYpj1JBVmM3muuOUkG9FGz/oo5SQQ==\"},\"shape\":[44],\"dtype\":\"float64\",\"order\":\"little\"}]],[[{\"type\":\"ndarray\",\"array\":{\"type\":\"bytes\",\"data\":\"YeGF/NOhUkEu6RuL0qFSQZC0jGLSoVJBZisx/dGhUkHbjHfN0aFSQfOcc5rSoVJB/A3uzdOhUkHGPmw01KFSQRpX6prUoVJBSxFJ09ahUkE157/T2KFSQRXz+BTZoVJB4wlrl9mhUkEP/WqX2aFSQQuoPTrZoVJBUEuSdtihUkHJlJwP1qFSQazOIdzUoVJBlHEsddKhUkHV8infzaFSQeuK2nLIoVJBYTKasMehUkETCO3bv6FSQe6hWkq6oVJBKjRrFrehUkHaBxiurqFSQSn5K+SmoVJBH6kx75mhUkGumBU4l6FSQRbyKayRoVJB6ZItAY+hUkFoYzRJjKFSQUdUH4+GoVJBYzHWGYahUkHurdiCf6FSQUO0hrR4oVJBXVOT5HehUkGflNzyc6FSQW/qOosxoVJBKMV/UMGgUkGHKNP+IqFSQY0rkc9+oFJBu0ACd0CgUkH5eOKaKaBSQZ6aaYein1JB//tTHGKfUkHSf/ncQJ9SQRorSNjHnlJBw1ImFW+eUkHQzX8EEp5SQeq3xQm2nVJBM3gTR3edUkH6D+UkW51SQbUJx2GtnVJBHps0KyGeUkHi00PMQ55SQfzgFbBcnlJBY6c9mAafUkEyebFAD59SQbdbDr8Vn1JB+LJSExqfUkGfDnZb6J9SQZWWWR8EoFJBjK2/LlagUkF8fqAQYKBSQVrtg2VkoFJBm6qQnoagUkGdOU7AoqBSQditWoXZoFJBevNIXeKgUkH49hY67KBSQcbjOGTtoFJBf0MjCfegUkH1mAv9/6BSQbBnEN9ioVJBZcaN15ShUkHmKfm+CKJSQcqxerEdolJBFNa61CiiUkHBunF6NKJSQS/OZWFAolJBGF3KuECiUkGg/Ws3QqJSQfI8w7lTolJBWxiM2F6iUkH6/fQ3bKJSQYMEoe9wolJBhH0e4XaiUkEBZz+wr6JSQUQQVnPSolJBVnbwH+iiUkFEKel3/KJSQd3II2INo1JBTIqN0xOjUkEz9IVBMKNSQXlTRDREo1JB2dxwgEqjUkE9QjDqZ6NSQc6C1dR/o1JBXgN4PH2jUkEsdkvJd6NSQSJxZvJ0o1JB67iywnCjUkGzHheDZaNSQaX7By1Mo1JBeVNorkijUkFr9pMFRKNSQadU2KdBo1JBNUjDbTmjUkEG8aeZL6NSQcTMYjUmo1JBf1pm9hyjUkHS21dDA6NSQY/f0W/7olJBbe2WPvGiUkHGJyQ57qJSQV38TFXdolJBNPcx1teiUkHMOJYGzaJSQQxvJqm5olJBUNyBybiiUkF3RTrXt6JSQUHNYGazolJB8J+dlZGiUkGaAXmCj6JSQTdiPaeNolJBAflsmoyiUkHcRi1bh6JSQfEtKsCBolJBu3JvxXCiUkFOP9KhcKJSQb5DHKNqolJBm5qVUGiiUkGLuGnfXKJSQVQm0ZVaolJBHfIfuE6iUkGBATQPSKJSQajRm1E3olJBA1fYRjWiUkGbypjtMaJSQeGRp7EwolJBd48GWC+iUkHjkktSLqJSQUaTV/UoolJB9x/ROiiiUkHvQoMtJqJSQbiSKNMkolJBILBPoySiUkETTNDiI6JSQWKOPQQcolJBZeClLhuiUkE8H6YbG6JSQbbAqAgbolJBVeE3jhiiUkGYmc1rDaJSQQGSIY0QolJBY2JAVBSiUkFinXRgGKJSQQgfaC4dolJBfUN1GJSiUkEepg5jn6JSQeTygIKiolJBu7ASU7GiUkGjoCeft6JSQejhd9u2olJBcQSgebaiUkHtJ8gXtqJSQYpeq7C0olJBp7ETILKiUkGBIzbMsaJSQRWWWHixolJBPl/ufa2iUkFTcJ9/qaJSQQ+LL0ajolJBI+D15ZaiUkFMkMBSi6JSQTxDveh8olJB5PklIHuiUkHWOQ+9daJSQScnqINvolJBwuIR7myiUkGxcJUfZqJSQbp+nINcolJBZ8H0V1WiUkEAeXtWT6JSQTaDgYhKolJB6Mp9uECiUkFw+ICJO6JSQdECjiIzolJBlpwAWC+iUkH0AglXK6JSQdQ74g4lolJBJiX39h6iUkHKDJbxG6JSQZXtC/UWolJBaUk6uw6iUkFnHpWQC6JSQQ88LygDolJBLYhMWfqhUkE1Yi3f9aFSQW5M1VvxoVJB0h3JX+6hUkH9O2OR56FSQRtc2S7koVJBpAQluuKhUkHD6meU4KFSQVH218veoVJB9SP6LNyhUkH9fNAC26FSQYtFBMbZoVJB1Qh4MNehUkFh4YX806FSQQ==\"},\"shape\":[212],\"dtype\":\"float64\",\"order\":\"little\"}]],[[{\"type\":\"ndarray\",\"array\":{\"type\":\"bytes\",\"data\":\"grCmAw+VUkHGOt78G5VSQde4iTgjlVJBMnGrtk6VUkF2TGPKMJVSQbRMrrw6lVJBSUzR2JeVUkHiNHBTPpVSQWAZav/plFJBJooLwW6UUkEPylesZZRSQfEAuc6ElFJBLOupIhmUUkFa0WAc9pNSQeCbjB6Wk1JBn3hSbUeTUkGvhexLKJNSQR25hwAXk1JBqJixPwKTUkHQqQ6jzJJSQTHeOLKyklJBbqJOdoeSUkH5kRLN25JSQXqh6enqklJBiXvp+tGSUkHBBnsDCpNSQTEnR1oTk1JBxcQNxh2TUkEsGCCeO5NSQUFMqvVxk1JBJPkYFoaTUkHLpe/iz5NSQcIj4SbFk1JB4lSUgWWUUkGsLcGObZRSQS+sGxjolFJB\"},\"shape\":[36],\"dtype\":\"float64\",\"order\":\"little\"}]],[[{\"type\":\"ndarray\",\"array\":{\"type\":\"bytes\",\"data\":\"ayRy3caIUkECjKq0xIhSQcBZxSW9iFJBgsdfJSiIUkFYRrySVohSQR6KiQQ1iFJBZrWnLjaIUkF/RxoToYhSQfrfn6HhiFJBrSOO8OKIUkHIHYMPP4lSQTMVMc0/iVJBQvI3QQOKUkH8ad832olSQVd3KiWjiVJB3sENTqWJUkGi9Y+87YhSQWskct3GiFJB\"},\"shape\":[18],\"dtype\":\"float64\",\"order\":\"little\"}]],[[{\"type\":\"ndarray\",\"array\":{\"type\":\"bytes\",\"data\":\"y80rr32QUkFVkNmH9Y9SQdSSLK8HkFJB+ODR85+PUkFv5GNTqo9SQVvVekiUj1JBOJ6P1YCPUkFfhR6bZY9SQX0/KplCj1JBS6s6VBGPUkGs8BHsE49SQUd22y90kFJBW5hFB4iQUkFslX16iJBSQZLnqgmJkFJBjFUVIYqQUkGNa7ZKjZBSQRuqUfCVkFJBeBvaHcSQUkEKVOZZy5BSQZuXIq3LkFJBXhHazMuQUkH93rK23JBSQXoPWSjpkFJBQ9KZP+mQUkH5tvYl9JBSQeg1JFMNkVJBHumd/w6RUkFvT3FbEpFSQeh1hFEYkVJBB6xRbxiRUkEXoepLHJFSQW8wN1ohkVJB6kYEfiGRUkGtaIUgJZFSQS7ZSY0skVJB/zedGS6RUkFwVQTaPJFSQcjDqohHkVJBWGKF10iRUkEm5nBQSZFSQSkS/3BJkVJB4F6tkkmRUkE5/UPlSZFSQQRT4lRKkVJBCVTua0uRUkFEnktgIpFSQZOkglQMkVJBfnqPFc6QUkHLzSuvfZBSQQ==\"},\"shape\":[50],\"dtype\":\"float64\",\"order\":\"little\"}]],[[{\"type\":\"ndarray\",\"array\":{\"type\":\"bytes\",\"data\":\"KvV3C7GHUkEV70IL+odSQbDaE1EsiFJBFjqG7keIUkG7BBKPQYhSQde6yXB5iFJBheeQYE+IUkG9jeuMTIhSQZKYlIuLh1JB2r7j84GHUkG9FIuDhIdSQa4qJ/6bh1JBeOOWQZyHUkEXtGfTqodSQQ==\"},\"shape\":[14],\"dtype\":\"float64\",\"order\":\"little\"}]],[[{\"type\":\"ndarray\",\"array\":{\"type\":\"bytes\",\"data\":\"jIhP8GOFUkGd81m5qoRSQRM9aMLWhFJBqRhjdsmDUkHVgzOwSYNSQXLyOXapglJB9zxljM6BUkGHGwKLlIFSQVFnO9NigVJBXRqU30SBUkGnbLSFQ4FSQctezmAigVJBBWRPTgOBUkFtKj64rIBSQXOY6m+pgFJBvWqsKaiAUkHwAjLzFYFSQV4bu5higVJBX6np4J+AUkFwmdzgvIBSQaE5DSrFgFJBmt6ILMSAUkEqnLPO9IBSQeTyEb6DgVJBsmI1nRCCUkEBelyfSoJSQdvDErfAglJB/VzSvTSDUkGqjnSIS4NSQfOhUd+Wg1JBUUofKZWFUkGc97brTYVSQc73Q7m6hVJBZqajEG2GUkHm+5uMdoZSQbrjYH92hlJBTKXbxm6GUkFK3vWsx4VSQQ==\"},\"shape\":[38],\"dtype\":\"float64\",\"order\":\"little\"}]],[[{\"type\":\"ndarray\",\"array\":{\"type\":\"bytes\",\"data\":\"h/orVMeHUkHpwraswYdSQU6LugC5h1JBmev/6raHUkE/dHgLsYdSQfa2Z9Oqh1JBojx+FKqHUkFmDaPZs4ZSQW/TEF3DhlJBX954NOyGUkEuRzED7oZSQWTwrcDuhlJB8J+E5vyGUkFff3vx/IZSQQ0e7d3Oh1JBh/orVMeHUkE=\"},\"shape\":[16],\"dtype\":\"float64\",\"order\":\"little\"}]],[[{\"type\":\"ndarray\",\"array\":{\"type\":\"bytes\",\"data\":\"WCr7zuuQUkHkB3Lj4JFSQWYrm11qklJBVuii+/WTUkHZZqsdFZRSQb/XwDhBlFJBpi0982KUUkFZXGN2jJRSQeY8CjihlFJB6aMR3rmUUkF1CWrJ4JRSQR34CwEJlVJBNFI2WyCVUkGzXDEVgpRSQRCh7/r1k1JBa119f7+TUkFfKoaJUpNSQVDHiv1fklJBQOUqJlKSUkEOdYgqOpJSQc9Iff0xklJBQC2lSC6SUkEa9ZERKpJSQfqGuI8OklJBI0VIINyRUkGv/nK02pFSQXmEwIWZkVJBuiJ9SZiRUkFgmtmPlZFSQYAltGF8kVJB8QwXyE6RUkFYKvvO65BSQQ==\"},\"shape\":[32],\"dtype\":\"float64\",\"order\":\"little\"}]],[[{\"type\":\"ndarray\",\"array\":{\"type\":\"bytes\",\"data\":\"Nt6TxiOaUkF6jxuJG5pSQWTS8/x4mlJBYvQluKeaUkHrDEs4vppSQWtXJHQDm1JB1SAyWX6bUkFHIqwVrZtSQeLIHLb8m1JBgFILuCmcUkGFGeiVkZxSQYeX4vWsnFJBsaiPlzadUkGpr9f8SJxSQZI1Xg0unFJBsqIQPOabUkGlkyMPiptSQcdaIvBQm1JBk2aAIgybUkFR4pNSippSQQ==\"},\"shape\":[20],\"dtype\":\"float64\",\"order\":\"little\"}]],[[{\"type\":\"ndarray\",\"array\":{\"type\":\"bytes\",\"data\":\"6dOeebmNUkFm2ikZ441SQZCFxBYVjlJBEEr2iyiOUkGsVjupR45SQfz7atNsjlJBPpsRgWiOUkFvgHkphI5SQZnunnaojlJBMSjyvuyOUkGlWWaG9I5SQZlVbpsgj1JB8eyWoTyPUkHUIQwQV49SQVM9mtwLj1JBDgN6JLmNUkE=\"},\"shape\":[16],\"dtype\":\"float64\",\"order\":\"little\"}]],[[{\"type\":\"ndarray\",\"array\":{\"type\":\"bytes\",\"data\":\"vjW1LA6OUkF6Pnhc/Y1SQVv9s5nrjVJBHoXfo/+MUkG2sExmAY1SQa2rBY9BjFJB2LwxGj6MUkF5U5VpL4xSQWmBzVNcjFJBZJZnYZWMUkFUkr9XooxSQUwIjUGpjFJBUXe46MSMUkGRHDRqzoxSQbb43ATkjFJBXpHVQwKNUkFvObnhKo1SQdlV99FXjVJBlVYaz4qNUkEIM/VazY1SQShgrSXojVJBq6I5/QiOUkGQhcQWFY5SQb41tSwOjlJB\"},\"shape\":[24],\"dtype\":\"float64\",\"order\":\"little\"}]],[[{\"type\":\"ndarray\",\"array\":{\"type\":\"bytes\",\"data\":\"rAzkSgmVUkHzMvDp/pRSQZflsVQKlVJBOw6bOhWVUkG1bIfCI5VSQWA4D/MolVJBXpOJxTGVUkHXXPo5PpVSQUwjkSlKlVJBVetJNlmVUkG5w/uGb5VSQWLujv6JlVJBU1LqIamVUkELJl+jxJVSQVYhY3zplVJBc/BEXw+WUkE1IZujP5ZSQZhCEW1wllJBT8drnp6WUkGw0om985ZSQT+EKX4jl1JB//XuM0KXUkEXDoZF2ZdSQRLr44H4l1JBH2MsckuYUkGfH5zP/pdSQbG+icv6l1JBSmD18fGXUkEMuhDM8ZdSQd2DBHq8l1JBnAphoLiXUkE+QGj1WJdSQa8rmMBLllJBZlW6CsuVUkGpQZjux5VSQWTPcayvlVJBtI+JZ16VUkGK1i+iQpVSQV3pmnQblVJBrAzkSgmVUkE=\"},\"shape\":[40],\"dtype\":\"float64\",\"order\":\"little\"}]],[[{\"type\":\"ndarray\",\"array\":{\"type\":\"bytes\",\"data\":\"BbMQ3UiNUkG93OrwooxSQRlYxoo8jFJBk+pbDlKLUkGSJTOWEItSQapJOXYCi1JByUAz2AGLUkEY/gjt+4pSQXYhyu2nilJB+LB5O6KKUkFriN+AnIpSQRKALvGailJBakWDCYCKUkEmnxcQe4pSQdST185eilJBnQQZMV6KUkGoZQlnH4tSQfeVX/YLi1JBKQUmC0OLUkE78EpnOotSQesNwvZBi1JBnO0cxneLUkHiHYmxe4tSQZ+MondWjFJBIFAfcVmMUkGEbh5kcIxSQRkMR4ATjVJBozBHVNuMUkF2FHTzQY1SQfiBoutpjVJBIcpU5ruNUkG16A/xuo1SQQ==\"},\"shape\":[32],\"dtype\":\"float64\",\"order\":\"little\"}]],[[{\"type\":\"ndarray\",\"array\":{\"type\":\"bytes\",\"data\":\"Ls1QG+OEUkF+HbylKIVSQYr8hrgjhVJBBkMHDfGEUkFTRn2n0YRSQdQvGmjOhFJBZBSyJBeEUkGHMKyldYNSQQvvhlSfg1JBqRhjdsmDUkETPWjC1oRSQS7NUBvjhFJB\"},\"shape\":[12],\"dtype\":\"float64\",\"order\":\"little\"}]],[[{\"type\":\"ndarray\",\"array\":{\"type\":\"bytes\",\"data\":\"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\"},\"shape\":[238],\"dtype\":\"float64\",\"order\":\"little\"}]],[[{\"type\":\"ndarray\",\"array\":{\"type\":\"bytes\",\"data\":\"PUnFcyKaUkEo96JQT5lSQS70/EgPmVJBOz/NSuKYUkHyPHOx4JhSQRaSxzi8mFJBKSh1UVuYUkFcXmtLG5hSQSLuS+nul1JBb4RbxPGXUkGR0O8oC5hSQbx9jOwfmFJBMRJiTiqYUkGtcHP8NZhSQdNRxPZCmFJBjf64uZSYUkFY7E1XBJlSQfUYdhsZmVJBdtg2eDCZUkGCUSw3UplSQT1PRrCimVJBzc//AtSZUkEFdRc/g5pSQTEPH7hnm1JB\"},\"shape\":[24],\"dtype\":\"float64\",\"order\":\"little\"}]],[[{\"type\":\"ndarray\",\"array\":{\"type\":\"bytes\",\"data\":\"BAABwrmAUkFy1VDwsoBSQXIc1168gFJBAGaQb7yAUkEAP8TaFIFSQeCzuXRJg1JBxTYAiaeDUkHlO6plq4NSQXEXnJYWhFJBzthIf6OEUkFQMjDLx4RSQd/CjRB4hlJBllMI5nqGUkG3aNWOxIZSQUqppPUjh1JBE9oO+iWHUkE/c7/rf4dSQZ/B4/OBh1JB2KiUi4uHUkGrp+uMTIhSQWfkkGBPiFJBPvkkFX6IUkElWcUBJolSQUTzgjqViVJB0GLtTpaJUkEWCrORSYpSQZgM+u1AilJBPM7Cl+aJUkEN/JGI14lSQabyVYt1iVJB/UhIvG+JUkFCpNPpZolSQaQYoltAiVJBfnpr3zyJUkFnRRsHN4lSQYnwDoo1iVJB5TK8izGJUkHo2/hTMYlSQfrZBE4eiVJB0urGZeaIUkEh9S0vuIhSQXB+4IqQiFJBoHPhwF+IUkFEQpbcPohSQUkIQlE+iFJBTyCnlC+IUkFyceoIL4hSQaCRJM0ViFJBvX9jQRWIUkH5nZ5lEohSQaWY3dkRiFJBQc+Q8tmHUkH27IWE2YdSQXNMJP7Mh1JBaLrkcsyHUkEJ4vopdIdSQY3mLUFah1JBTr2sSjKHUkEaABYXModSQVljQL0xh1JBjSOsOg+HUkG9arMAD4dSQYe3/WruhlJBkliIhuWGUkHmXjwE5YZSQQVwctXNhlJBdIwPA5uGUkHLXvJ+moZSQalvB9eChlJBikKQSoKGUkE0+WYyfIZSQRk5JKZ7hlJByopbzmOGUkExTSicY4ZSQWBJQyJShlJBQo8QRkKGUkEe0uYu3IVSQT9xhWPZhVJBF92yjaCFUkHm3fO8l4VSQZcvpFOLhVJBWf9+zmyFUkH/FC7DXoVSQQCHwtLohFJBIBTCJdCEUkGQMpTdy4RSQQdDLG/JhFJBjJM2K5KEUkE8yQapb4RSQWMs+ccuhFJBbnld5iGEUkHD02A1+INSQZeOPJvPg1JBoWsJb8uDUkH7+qDesoNSQVLQle+Ug1JBZO39ZJSDUkGFpAAnPINSQXXtfpYsg1JByi53CSyDUkF12MRNAYNSQZjTnYHwglJBLQYqesWCUkGWHc4GxIJSQT4dPo/BglJBAU4D/6GCUkFET86xd4JSQQiLY910glJBwGG+RHOCUkG5b/shb4JSQTcuBG1mglJBtl7FUUaCUkFHbhblMYJSQQ8OdA0OglJBFAUFfMuBUkFHRNEUmIFSQVhLST95gVJBX2SknnWBUkHSqa07O4FSQUu7yfnzgFJB1iq4f7uAUkEEAAHCuYBSQQ==\"},\"shape\":[122],\"dtype\":\"float64\",\"order\":\"little\"}]],[[{\"type\":\"ndarray\",\"array\":{\"type\":\"bytes\",\"data\":\"kdDvKAuYUkFvhFvE8ZdSQSLuS+nul1JBH9Flk+yXUkEs/10d6ZdSQZb5Wx3pl1JBRATCFMWXUkG8d2KEeJdSQWqzp6tal1JBEhMAkyGXUkF+2CccDpdSQbxR40Ygl1JBXwdP2S+XUkHf/YolMZdSQQgcUURdl1JB0Wol/k6XUkHBy3hcKZdSQY103HEyl1JB5FJtzUmXUkHJ1W3BY5dSQeXTjjKEl1JBdtxniKiXUkFmONlZEJhSQZHQ7ygLmFJB\"},\"shape\":[24],\"dtype\":\"float64\",\"order\":\"little\"}]],[[{\"type\":\"ndarray\",\"array\":{\"type\":\"bytes\",\"data\":\"R3bbL3SQUkGs8BHsE49SQUurOlQRj1JBsbl5nu+OUkF9rujf2o5SQZEySk6FjlJBY+2DtoKOUkGOApMSJI5SQcc8OuL7jVJBO7XPsGqNUkEocsBkRo1SQQCaSkhKjVJB8L8J1N+MUkGMmKZu0IxSQQmPkxm5jFJBKPaOi6mMUkGaPD3HsIxSQTmfk1KxjFJBXjU7ObmMUkF6g2LM3IxSQS+6uEHhjFJByco+4AaNUkGF0b1TJI1SQeecRz9XjVJBpwk5fHKNUkHmBPyep41SQWasJKWpjVJBtUSnALmNUkEOU2sI641SQelkbnnrjVJBRunWBvCNUkF9RMfzTY5SQdOkywFhjlJBobkrbG6OUkH7PL2aho5SQY8FjgCOjlJBrSSzkZOOUkEFScU8n45SQe4k/VefjlJB+VcU0Z+OUkGoiN3ZyY5SQSKacTD/jlJB+8VHmxiPUkEeARzlSo9SQRaUs/9Nj1JBVK6b3FCPUkEf8bjKW49SQddcLA5ej1JBz92Rw2yPUkGqP+IWfI9SQSdFk52Ij1JBfIeWnYiPUkEa1bimiI9SQXbC65SLj1JBQUJniJOPUkGmemtto49SQcY96Fy0j1JB2FZNTrePUkGbbCvjuY9SQcahLu7Pj1JBw/rr1u+PUkHyieok8Y9SQb1wK2P/j1JBx/u9ugCQUkH6BI+pBJBSQeGihssGkFJB6oiUgQeQUkEQCueXCJBSQY54hJoSkFJB7VZDfReQUkE7SyL/F5BSQSEMUZcYkFJBI1eLH0KQUkFHdtsvdJBSQQ==\"},\"shape\":[74],\"dtype\":\"float64\",\"order\":\"little\"}]],[[{\"type\":\"ndarray\",\"array\":{\"type\":\"bytes\",\"data\":\"ZC+Pb+uKUkHVpABTwYpSQXsK0V1+ilJB42cUfVeKUkH5D7tAHopSQWLxCdc3ilJBY+9cVDeKUkHpZR7OrIpSQVBIRyTpilJBZC+Pb+uKUkE=\"},\"shape\":[10],\"dtype\":\"float64\",\"order\":\"little\"}]],[[{\"type\":\"ndarray\",\"array\":{\"type\":\"bytes\",\"data\":\"zxiNVqCQUkFo3JeUnpBSQYSzNt+XkFJBwbp/75WQUkEKWJrpT5BSQZH4VnAtkFJBVdra6XGPUkHo4CwDIJBSQRx5+l8fkFJBURnI6jiRUkGXe7uc2ZBSQQBmy17WkFJB\"},\"shape\":[12],\"dtype\":\"float64\",\"order\":\"little\"}]],[[{\"type\":\"ndarray\",\"array\":{\"type\":\"bytes\",\"data\":\"xY5Hhe2MUkFoPflouItSQb+qSwG5i1JBazT7oLmLUkHP9aaZ2YtSQUmcA6wajFJB3AgdRhWNUkHFjkeF7YxSQQ==\"},\"shape\":[8],\"dtype\":\"float64\",\"order\":\"little\"}]],[[{\"type\":\"ndarray\",\"array\":{\"type\":\"bytes\",\"data\":\"PkU207COUkGU2/lrgI5SQXfoW6B1jlJBw5hOcXSOUkEryckP9I1SQRkMR4ATjVJBhG4eZHCMUkEgUB9xWYxSQfaIhMV/jFJBR3dzy6WMUkGoJmFf24xSQRr/JJXbjFJBeJtENpiNUkG/30s40I5SQQ==\"},\"shape\":[14],\"dtype\":\"float64\",\"order\":\"little\"}]],[[{\"type\":\"ndarray\",\"array\":{\"type\":\"bytes\",\"data\":\"kAlPgVyQUkGrj0RyW5BSQY3hKpNHj1JBpWjx4ISPUkF7LZb/o49SQduti7Gyj1JBXZx2EfCPUkF4FOpW7o9SQeG09rHlj1JBupgEDd2PUkGKEY+62I9SQcwPdTDej1JBdAxjh2uQUkFK+A+t0JBSQYvickj2kFJBvOD/sxaRUkFAs8LAMpFSQY9ChBdEkVJBfVc+426RUkE7pcny95FSQbB7BNXLkFJB7/e47aSQUkHNKFDhlpBSQZAJT4FckFJB\"},\"shape\":[24],\"dtype\":\"float64\",\"order\":\"little\"}]],[[{\"type\":\"ndarray\",\"array\":{\"type\":\"bytes\",\"data\":\"iJn7t8ORUkHhVa7dzZFSQYMFRBrmkVJBeMvOovaRUkECMobpCpJSQW+nlaUzklJBgDu86TySUkGo3PFtTJJSQRIv2PNsklJBjr6YpG2SUkGatBxjipJSQefc29WTklJBPcH6ZqqSUkE1VZGwy5JSQXaitgjqklJBDxlkCOySUkF4eqWp+JJSQeLbE9gEk1JBPkyUtxqTUkHFxA3GHZNSQTEnR1oTk1JBwQZ7AwqTUkGJe+n60ZJSQXqh6enqklJB+ZESzduSUkFuok52h5JSQTHeOLKyklJB0KkOo8ySUkGomLE/ApNSQR25hwAXk1JBr4XsSyiTUkGfeFJtR5NSQeCbjB6Wk1JB0sCtjYaTUkFmBPPTZJNSQZBnfL9bk1JBHH5AzkGTUkE0aukFOpNSQTF2FpP2klJBmuDHyu6SUkFbwS3u3ZJSQYymaAyqklJB0YqIN4ySUkHCEwsPepJSQUiEvBZtklJBeqeJTmWSUkFhUEmiWZJSQTAlR1ZYklJBPQ7olUOSUkEBpCDJGJJSQQ==\"},\"shape\":[50],\"dtype\":\"float64\",\"order\":\"little\"}]],[[{\"type\":\"ndarray\",\"array\":{\"type\":\"bytes\",\"data\":\"QvI3QQOKUkEzFTHNP4lSQcyhgUt0iVJBY+9cVDeKUkFi8QnXN4pSQfkPu0AeilJBUhaafgaKUkFC8jdBA4pSQQ==\"},\"shape\":[8],\"dtype\":\"float64\",\"order\":\"little\"}]],[[{\"type\":\"ndarray\",\"array\":{\"type\":\"bytes\",\"data\":\"DR7t3c6HUkFff3vx/IZSQbpHRjr9hlJBKkzwixSHUkHVDGMf6IdSQT0S8uznh1JB\"},\"shape\":[6],\"dtype\":\"float64\",\"order\":\"little\"}]],[[{\"type\":\"ndarray\",\"array\":{\"type\":\"bytes\",\"data\":\"2hNuxdOHUkEmp51K4IdSQaOLpa0qiFJBjZlJpH6IUkEfnFDmfIhSQTmOjmMWiVJBrSOO8OKIUkH635+h4YhSQX9HGhOhiFJBZrWnLjaIUkE=\"},\"shape\":[10],\"dtype\":\"float64\",\"order\":\"little\"}]],[[{\"type\":\"ndarray\",\"array\":{\"type\":\"bytes\",\"data\":\"Kp/AfjqaUkHNjCKtKplSQdyBeA9+mFJBJVdg/2eYUkEfYyxyS5hSQRLr44H4l1JBFw6GRdmXUkH/9e4zQpdSQbaGyu5Al1JBFZf6xweWUkGKW8pnB5ZSQZ8QXGEUllJBPbFPUGuWUkElVwCRzZdSQZYUnNsLmFJBNbE4bViYUkFhtgmo+phSQRmAITsKmVJBSSt+ki6ZUkHxAUtnWZlSQVBY9qh0mVJBiBbuqbGZUkGFCItJSppSQccpjwFJmlJBE3+UjkCaUkGiV6zgP5pSQQ==\"},\"shape\":[26],\"dtype\":\"float64\",\"order\":\"little\"}]],[[{\"type\":\"ndarray\",\"array\":{\"type\":\"bytes\",\"data\":\"v99LONCOUkH+Y62A4I9SQZH4VnAtkFJBClia6U+QUkHBun/vlZBSQYSzNt+XkFJB5uLYKpiQUkEvHnpvOZBSQVBauHbGj1JB3OlTwKSPUkH5OjV/ho9SQTHXPchWj1JBPkU207COUkG/30s40I5SQQ==\"},\"shape\":[14],\"dtype\":\"float64\",\"order\":\"little\"}]],[[{\"type\":\"ndarray\",\"array\":{\"type\":\"bytes\",\"data\":\"Q4vxHnKJUkH8lEftcIlSQZ28EvEriVJBAL9+PdGIUkHTLyk2t4hSQRxb3U+SiFJB8FodlISIUkFeo//sTohSQXa1ifYqiFJBGjT+BeiHUkHoPlQX14dSQXo6HmXEh1JBLvbuHrOHUkETs7CtuodSQf5Ljd/Kh1JBTfT0LuqHUkG8w5SA7odSQVL4HGPfh1JBDZWxX8yHUkH6DmyP94dSQSnExgU0iFJBrbFlmJqIUkFEkf3eq4hSQQOaaw+7iFJBoSceIMKIUkHAsH5DzIhSQWskct3GiFJBovWPvO2IUkHewQ1OpYlSQVd3KiWjiVJB/GnfN9qJUkEnqjyU0YlSQQmiAX/riVJBZJcXVumJUkG5SUtAHopSQT/awWgtilJBUIMEcy6KUkHRHkAtLopSQZTiCKPXiVJBKskhjQyKUkFpj/a1DopSQXF5Pf0filJBH7I18keKUkFoGm6BT4pSQTDypk11ilJBLlYV8ZiKUkE7yzgFtYpSQRcEV2JbilJBybLajAyKUkF3Qe0otolSQQ==\"},\"shape\":[50],\"dtype\":\"float64\",\"order\":\"little\"}]],[[{\"type\":\"ndarray\",\"array\":{\"type\":\"bytes\",\"data\":\"cReclhaEUkHlO6plq4NSQdHX2gXfg1JBxcL6g9+DUkEFc5NS74RSQe4eR8bghFJBzofiMuCEUkFQMjDLx4RSQc7YSH+jhFJBcReclhaEUkE=\"},\"shape\":[10],\"dtype\":\"float64\",\"order\":\"little\"}]],[[{\"type\":\"ndarray\",\"array\":{\"type\":\"bytes\",\"data\":\"BLNFmAmUUkFNmpoqoJNSQcHXP1h1k1JBnv+Iby6TUkGAWxdC6ZJSQdJ6Nku8klJBzxk7FxGSUkE1kRpW/5FSQRZCgfYfklJBuV3SByuSUkEL34aOOZJSQXQ0JBk2klJBu0AlGy2SUkFn2BxqLJJSQe8KxI45klJBt00RoESSUkGfHMZzW5JSQe/fLoNvklJBkCPGp3ySUkFjVslBjZJSQZ5BjXuTklJBHsIxoKCSUkHK+RpTmJJSQfKmNQ7IklJBbaA2fuaSUkEBQ2MD/pJSQT/ww04Pk1JBMGfCwCSTUkHPt+f4M5NSQYqlmLs/k1JBje4ElTuTUkEeF6XlMZNSQYPrkkkqk1JBKf8BIyaTUkEfrxm/LZNSQU8beW43k1JBQQLlRzOTUkHQjQ0jJpNSQS7uuXMck1JB2noSFQmTUkHyTPhOD5NSQQL6rK0ik1JB+ayG0i+TUkEnPRhmZJNSQfOZzjiEk1JBJ+0rN42TUkEpRbSskJNSQcvsVtOUk1JBA74UL7qTUkEW8TUexpNSQR0EO0HIk1JBszy7UsaTUkGZJOV4xpNSQRn8LXzIk1JBiB+hwOaTUkFgz3h6GJRSQQyfas0clFJBSRqjxB+UUkGsJeFjFZRSQYVK82TVk1JBH6x8zbKTUkF4HlH3pJNSQSs6hTyjk1JBy2lxuLmTUkHfd3mw5pNSQSwW6CQqlFJB\"},\"shape\":[66],\"dtype\":\"float64\",\"order\":\"little\"}]],[[{\"type\":\"ndarray\",\"array\":{\"type\":\"bytes\",\"data\":\"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\"},\"shape\":[244],\"dtype\":\"float64\",\"order\":\"little\"}]],[[{\"type\":\"ndarray\",\"array\":{\"type\":\"bytes\",\"data\":\"Ez1owtaEUkGd81m5qoRSQYyIT/BjhVJBSt71rMeFUkFMpdvGboZSQbrjYH92hlJBgn7p4XaGUkHPFIBAroZSQVbai3rfhlJBEF9NtUmHUkGwQ07BjYdSQZMDQkK9h1JBDZWxX8yHUkFS+Bxj34dSQbzDlIDuh1JBTfT0LuqHUkH+S43fyodSQROzsK26h1JBLvbuHrOHUkF6Oh5lxIdSQcnwZWeph1JBDmZAY2WHUkFBzslXcodSQcqf8otnh1JB27PrngeGUkG/xiz8/oVSQbybb5W1hVJB3zN+ZKWFUkEuzVAb44RSQRM9aMLWhFJB\"},\"shape\":[30],\"dtype\":\"float64\",\"order\":\"little\"}]],[[{\"type\":\"ndarray\",\"array\":{\"type\":\"bytes\",\"data\":\"n0Cce2WPUkFnccrOb49SQWUUW8RokFJBxIztZlWQUkGHQhwMOZBSQavRO2IdkFJByuaWNDSQUkF9VpDGFZBSQZ2Qa2QUkFJBv8fqYR2QUkEdqg+/MJBSQThKO6J9kFJBibx5eXyQUkGSPEovZZBSQRL8wE1kkFJB36E48l+QUkEyXPXEW5BSQWgtfR1bkFJB1mDrmkiQUkGm99wTLJBSQTFQF10KkFJBmFRqS/GPUkGv6JzTvY9SQTp0466wj1JBwWY/NFOPUkENMOtsUo9SQfOPyadFjlJBH8PuJE6PUkE=\"},\"shape\":[28],\"dtype\":\"float64\",\"order\":\"little\"}]],[[{\"type\":\"ndarray\",\"array\":{\"type\":\"bytes\",\"data\":\"v99LONCOUkF4m0Q2mI1SQRr/JJXbjFJBqCZhX9uMUkHFjkeF7YxSQdwIHUYVjVJB9jDAHzKNUkHp0555uY1SQQ4DeiS5jVJBUz2a3AuPUkHUIQwQV49SQYb5hGtvj1JBVdra6XGPUkGR+FZwLZBSQf5jrYDgj1JBv99LONCOUkE=\"},\"shape\":[16],\"dtype\":\"float64\",\"order\":\"little\"}]],[[{\"type\":\"ndarray\",\"array\":{\"type\":\"bytes\",\"data\":\"ZtopGeONUkHp0555uY1SQfYwwB8yjVJB3AgdRhWNUkFJnAOsGoxSQc/1ppnZi1JBORpL1vmLUkFbShIhHoxSQckUZcuYjFJBTJeT4eSMUkG2sExmAY1SQR6F36P/jFJBW/2zmeuNUkF6Pnhc/Y1SQb41tSwOjlJBoZIyCA2OUkE=\"},\"shape\":[16],\"dtype\":\"float64\",\"order\":\"little\"}]],[[{\"type\":\"ndarray\",\"array\":{\"type\":\"bytes\",\"data\":\"wgv6RXKVUkEoa2B8b5VSQd53tyJ4lVJBqm7J3YGVUkGpQZjux5VSQWZVugrLlVJBryuYwEuWUkE+QGj1WJdSQZwKYaC4l1JBLriHiG2XUkGFlcVwRJdSQYFlH9Aul1JBw67KZqSWUkHCC/pFcpVSQQ==\"},\"shape\":[14],\"dtype\":\"float64\",\"order\":\"little\"}]],[[{\"type\":\"ndarray\",\"array\":{\"type\":\"bytes\",\"data\":\"yp/yi2eHUkGXOaNgQIdSQSpM8IsUh1JB5ocTr46GUkEAXq0MYIZSQWrdNI4KhlJB03v3pCmGUkHWaRibzoVSQb/GLPz+hVJB27PrngeGUkE=\"},\"shape\":[10],\"dtype\":\"float64\",\"order\":\"little\"}]],[[{\"type\":\"ndarray\",\"array\":{\"type\":\"bytes\",\"data\":\"R3dzy6WMUkHNpzYbsotSQQLkckqyi1JBv7sz57GLUkFoPflouItSQcWOR4XtjFJBqCZhX9uMUkFHd3PLpYxSQQ==\"},\"shape\":[8],\"dtype\":\"float64\",\"order\":\"little\"}]],[[{\"type\":\"ndarray\",\"array\":{\"type\":\"bytes\",\"data\":\"gsdfJSiIUkEpxMYFNIhSQfoObI/3h1JBDZWxX8yHUkGTA0JCvYdSQbBDTsGNh1JBLTXmEpKHUkEx6cpFyYZSQcQIla6zhlJB4IDYgsyGUkEzZyKvwYZSQcqMp7+NhlJBGXW64GSGUkGZRuuyOYZSQVw8+JwThlJB71wfG6KGUkHaE27F04dSQWa1py42iFJBHoqJBDWIUkFYRrySVohSQQ==\"},\"shape\":[20],\"dtype\":\"float64\",\"order\":\"little\"}]],[[{\"type\":\"ndarray\",\"array\":{\"type\":\"bytes\",\"data\":\"J0nONk6SUkEp3ZN1C5JSQVEZyOo4kVJBHHn6Xx+QUkHo4CwDIJBSQauPRHJbkFJBkAlPgVyQUkHNKFDhlpBSQe/3uO2kkFJBsHsE1cuQUkE7pcny95FSQUjX3rA/klJB1KrDyWuSUkGD/K7JgpJSQQuGvxSUklJBHPOP0bqSUkEzJXqbopJSQQWLHTlFklJBgnB8rKKRUkHivJVwVJJSQQ==\"},\"shape\":[20],\"dtype\":\"float64\",\"order\":\"little\"}]],[[{\"type\":\"ndarray\",\"array\":{\"type\":\"bytes\",\"data\":\"7mPmNNOaUkHNjCKtKplSQSqfwH46mlJBzCNcFW2aUkF0L10/cJpSQVKk0Q6AmlJB4UPsV5CaUkG/KT8SlppSQVZKsYKXmlJBtX4NgpiaUkGY3vt4nppSQdM8iJq1mlJBBa6gqLiaUkHFVq2K8ZpSQfPAy537mlJBfKlEggObUkGl8PXDDZtSQXwosHAXm1JBfptbOSGbUkFzZkiEKZtSQYxkM1g1m1JBNAev9DWbUkEQfos2QptSQcGQ6LVJm1JBTiQ2cU2bUkFH0XxcTptSQUGwKqxXm1JBEpwNqGCbUkHyOVORaZtSQWs4p/Nym1JB6Yy+MHybUkHQLoT5hZtSQdlCHoGPm1JBMuitj5ibUkFBYN+woZtSQQp+Zkaqm1JBHu7rcLObUkH/mgLKvJtSQbhc8Tzpm1JBO6ip1uqbUkE3IaI85ZtSQVzRXujem1JBmSLFhdObUkEpTXHizZtSQfId4oTHm1JBbDc7BrqbUkHffbN5rZtSQb5DN8Ofm1JBt9H5NJKbUkHmCKZthZtSQYbWxsWAm1JBnvW0IF+bUkG9wsRDO5tSQXHnAQIxm1JBLnpbPi6bUkEJO0GLEZtSQU2QbuL+mlJBS9Xn2eKaUkEbllGB4ZpSQZuSFlvhmlJBh4US/uCaUkHuY+Y005pSQQ==\"},\"shape\":[62],\"dtype\":\"float64\",\"order\":\"little\"}]],[[{\"type\":\"ndarray\",\"array\":{\"type\":\"bytes\",\"data\":\"qlBmTtSWUkGOe8MUrJZSQRfaJY+CllJBkjJv+3SWUkHBru9VWpZSQagdIkdEllJBPPviSTiWUkH1wNR1GZZSQRxriM0VllJBtskiRRSWUkGrmmOmHpZSQc9XSgImllJBi447+C6WUkGs5NbDSpZSQRxXa92NllJBqM3i46aWUkGwjY8XopVSQdmLje2PlVJB6wuSS9qUUkGSL6qOeZRSQYC78gJulFJBVykqiFaUUkG8M9tTOpRSQZHEZ3j4k1JBh6LSp+6TUkEHf90rxJNSQX4QUoq6k1JB6AB40RaTUkGGmaDo3ZJSQa1axoDZklJBrSseTseSUkH1dZ1TwpJSQXcHDhC1klJBODHouaeSUkEuzLh1g5JSQWEMgMCBklJBKsiZHnySUkERXPiue5JSQXidEH10klJBk6gSZ22SUkFQx4r9X5JSQV8qholSk1JBa119f7+TUkEQoe/69ZNSQbNcMRWClFJBNFI2WyCVUkGKituogZVSQZE9Ta0RllJBL5wUwzSWUkFJ7xYfNpZSQQoQ5rs3llJBgrmotWWWUkEQj70DZpZSQTQy+ap+llJBmwyf6pmWUkFvy3Ier5ZSQWZ9sMK3llJBb/7y5cGWUkGbD9nqxZZSQQkuXDnLllJBjEc8zMyWUkHNAQerzZZSQQRhDWrQllJBmCUqcMOWUkHlYI6kyJZSQSQr2ubWllJBHi52lOKWUkGBjhpt2JZSQQ==\"},\"shape\":[68],\"dtype\":\"float64\",\"order\":\"little\"}]],[[{\"type\":\"ndarray\",\"array\":{\"type\":\"bytes\",\"data\":\"CtS0bDmLUkF0CDjAOYtSQUqL0DWYilJB45sa6omKUkHQjBDziYpSQYoLoFOJilJBQx+sRZGKUkG7Q2ES0opSQfi+UPzSilJBdJ43HUaLUkE8HKsQQItSQQrUtGw5i1JB\"},\"shape\":[12],\"dtype\":\"float64\",\"order\":\"little\"}]],[[{\"type\":\"ndarray\",\"array\":{\"type\":\"bytes\",\"data\":\"9WXLKaSKUkHETrCGc4tSQatJuccYjFJBVW+dLOiLUkEigvb414tSQfVlyymkilJB\"},\"shape\":[6],\"dtype\":\"float64\",\"order\":\"little\"}]],[[{\"type\":\"ndarray\",\"array\":{\"type\":\"bytes\",\"data\":\"wgv6RXKVUkH2LV5KKpVSQUwkStsJlVJBQBFIGeWUUkGalX79yJRSQSuUnJy2lFJBIOAaxpCUUkEE8Yb2hZRSQTsqN39nk1JBImz78ueSUkGiY+K2vJJSQajRni2oklJBibRIBKaSUkE+UpVdrpJSQbwrnJW9klJByA7fL86SUkEPqXhW0pJSQZiCRkPQklJBOANXC8GSUkFFLIZlwpJSQQQjVRfnklJBfdJHwQuTUkG2X3sxKpNSQZYXusZVk1JBVR1M6HSTUkEjECtslZNSQYBZ/VOuk1JBZkxjJdeTUkGNfX+E6pNSQRt83lMTlFJBmOlTbDGUUkH+G0GCQZRSQcFBUdlKlFJB+/N/cU2UUkGXw7YmU5RSQVQjEldYlFJBcwFmalqUUkFJXCGKa5RSQW7MPb1+lFJB4AVxDZWUUkFVvqccspRSQRW8j9fTlFJB/2wswOyUUkFilhSCAZVSQSl2jBMRlVJBcfskYRmVUkE7x0Z+HJVSQV3pmnQblVJBitYvokKVUkG0j4lnXpVSQWTPcayvlVJBqUGY7seVUkGqbsndgZVSQd53tyJ4lVJBKGtgfG+VUkHCC/pFcpVSQQ==\"},\"shape\":[56],\"dtype\":\"float64\",\"order\":\"little\"}]],[[{\"type\":\"ndarray\",\"array\":{\"type\":\"bytes\",\"data\":\"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\"},\"shape\":[194],\"dtype\":\"float64\",\"order\":\"little\"}]],[[{\"type\":\"ndarray\",\"array\":{\"type\":\"bytes\",\"data\":\"pNdjXAiZUkFNVDIbsJhSQf/4TSaWmFJB49HcLXmYUkFmnhR2d5hSQe2N+pZmmFJBrF/nt1WYUkG3IZYgFphSQaUA640GmFJB+VxoXVeXUkFTcmZSSZdSQRJlvMGEl1JB+WTvjxmYUkGqjSl5TZhSQd1SmMSLmFJBarslAj6ZUkE/mlZsiJlSQWZY9delmVJBP96sgbqZUkGxEnxXvJlSQfF9YxkBmVJBpNdjXAiZUkE=\"},\"shape\":[22],\"dtype\":\"float64\",\"order\":\"little\"}]],[[{\"type\":\"ndarray\",\"array\":{\"type\":\"bytes\",\"data\":\"5tiAqHmcUkEi9oUcUJxSQRkf4704nFJBjdYeIGWbUkGjikPmL5tSQafYTdhWm1JBdWOWdUybUkG764c6q5tSQSpIQpbxmlJBM6azTuOaUkFn0iUH1ZpSQfjoXHKJmlJBPgc3GoeaUkH4NCeOOppSQc4PFn0kmlJBxDiU2P6ZUkEqqjdK4plSQdoIooXNmVJBdEGpQ7KZUkE9T0awoplSQYJRLDdSmVJBdtg2eDCZUkH1GHYbGZlSQVjsTVcEmVJBjf64uZSYUkHTUcT2QphSQa1wc/w1mFJBMRJiTiqYUkG8fYzsH5hSQZHQ7ygLmFJBZjjZWRCYUkF23GeIqJdSQeXTjjKEl1JBydVtwWOXUkHkUm3NSZdSQY103HEyl1JBwct4XCmXUkHRaiX+TpdSQQgcUURdl1JB3/2KJTGXUkFfB0/ZL5dSQbxR40Ygl1JBftgnHA6XUkESEwCTIZdSQWqzp6tal1JBvHdihHiXUkFEBMIUxZdSQTkKpxx7l1JBRCLrxlaXUkFCYl30K5dSQavgA1/sllJBoSjKQMCWUkGORZ7WkpZSQWi2p8d8llJBPat3xUyWUkGLjjv4LpZSQc9XSgImllJBD16t/xaWUkEca4jNFZZSQfXA1HUZllJBPPviSTiWUkGoHSJHRJZSQcGu71VallJBkjJv+3SWUkEX2iWPgpZSQY57wxSsllJBqlBmTtSWUkGBjhpt2JZSQR4udpTillJBJCva5taWUkHlYI6kyJZSQZglKnDDllJBBGENatCWUkHNAQerzZZSQRXqYqTNllJBjEc8zMyWUkEJLlw5y5ZSQZsP2erFllJBp6tBs8SWUkFv/vLlwZZSQWZ9sMK3llJBb8tyHq+WUkGbDJ/qmZZSQTQy+ap+llJBEI+9A2aWUkGCuai1ZZZSQQoQ5rs3llJBn0Py4TeWUkFJ7xYfNpZSQS+cFMM0llJBoJn3Mz2WUkE8NkwnV5ZSQb+dz9RillJBPt+wUWmWUkGwEWlLdpZSQQfOjm+VllJBI5ZkMqqWUkGtKbBHs5ZSQTrKammillJB4CV0WoyWUkFoXPfjeJZSQSZ3ef90llJBvMNDwomWUkGYCxC8lpZSQaTbq0rjllJBx+iOgduWUkG+HNeW5JZSQXyxTam9llJB7AEz4LWWUkH93YfW/5ZSQS6eVcoZl1JBvyaX0zyXUkH8LwDReZdSQbMoZ46bl1JB2yvV0uaXUkHlCv8HHJhSQTHtQdBgmFJBr8+bbZOYUkExUcc22JhSQZgbOgsDmVJBZy6+5Q+ZUkF19JeIE5lSQekD7WcamVJBrSBA5SCZUkGdt9muKJlSQZEyRbQbmVJBY2b/FmOZUkFFbYg9gplSQboyTDiPmVJB0ftNlaaZUkHW78yb1plSQRdAZGDrmVJBqBN1OcyZUkFZzW9P1ZlSQcTqWZ0TmlJBhbsVYiiaUkFT1MULQZpSQbIe1fW+mlJBEVm5pMqaUkHsiGM9zZpSQaQL29rCmlJB8ji1n1CaUkEtuBgMQZpSQRpQZ/OBmlJBfrTOpEOaUkFh7vxl3plSQTU3D4QfmlJBTgKV75SaUkEY1/UDmppSQVkLaHTymlJBht2QmQGbUkFqpYv9E5tSQb3cwhRKm1JBYAAr8+abUkEmrvZw7ZtSQUajzdnym1JBE0kDm++bUkEd/Xn/AZxSQYFPO5oxnFJBE3flv0CcUkG0yKO7TZxSQQaTTuFcnFJBJlNR4VycUkEWU5UkTpxSQUXFKHFPnFJB+rLU/4ucUkEfuLrFjJxSQd1eSomNnFJBWK/8HLicUkEnJ4k9wpxSQeIE9cwFnVJB0CQeEwmdUkHo5JSACZ1SQcwZMT0MnVJBfDsaQg2dUkENmVxVE51SQUSKAa8enVJBqbAP3k2dUkHr0mhjVp1SQR47qccJnVJBODpFewidUkFMhjDBzJxSQXw26ni+nFJBXPGvFbScUkFc96s0o5xSQebYgKh5nFJB\"},\"shape\":[186],\"dtype\":\"float64\",\"order\":\"little\"}]],[[{\"type\":\"ndarray\",\"array\":{\"type\":\"bytes\",\"data\":\"b4B5KYSOUkE+mxGBaI5SQfz7atNsjlJBrFY7qUeOUkEQSvaLKI5SQZCFxBYVjlJBq6I5/QiOUkEoYK0l6I1SQQgz9VrNjVJBlVYaz4qNUkHZVffRV41SQW85ueEqjVJBXpHVQwKNUkG2+NwE5IxSQRf+r5IDjVJBzFmOpS+NUkH4b4nZ041SQema4JjajlJB6KZBnCCPUkFyDJ2xTI9SQTVhbX1nj1JBkagzunKPUkG7VPwQio9SQSXcrv+jj1JBihGPutiPUkG6mAQN3Y9SQeG09rHlj1JBeBTqVu6PUkFdnHYR8I9SQduti7Gyj1JBey2W/6OPUkGlaPHghI9SQY3hKpNHj1JBxExNgUePUkHIE98ERY9SQZp6kasij1JBVuOunyKPUkGZVW6bII9SQaVZZob0jlJBMSjyvuyOUkGZ7p52qI5SQW+AeSmEjlJB\"},\"shape\":[42],\"dtype\":\"float64\",\"order\":\"little\"}]],[[{\"type\":\"ndarray\",\"array\":{\"type\":\"bytes\",\"data\":\"72yEhMGJUkEVGrdmSIlSQY+iGSBYiVJBNXfhUpaJUkH51DMNmIlSQbcdqSndiVJB\"},\"shape\":[6],\"dtype\":\"float64\",\"order\":\"little\"}]],[[{\"type\":\"ndarray\",\"array\":{\"type\":\"bytes\",\"data\":\"z7fn+DOTUkEwZ8LAJJNSQT/ww04Pk1JBAUNjA/6SUkFtoDZ+5pJSQfKmNQ7IklJByvkaU5iSUkEewjGgoJJSQZ5BjXuTklJBY1bJQY2SUkGQI8anfJJSQe/fLoNvklJBnxzGc1uSUkG3TRGgRJJSQe8KxI45klJBZ9gcaiySUkG7QCUbLZJSQXQ0JBk2klJBC9+GjjmSUkG5XdIHK5JSQRZCgfYfklJBNZEaVv+RUkF6Hgnv/pFSQfUxbWH7kVJB2NnL68uRUkHHmacrt5FSQbg7mGNckVJB0IQH6UWRUkHLpnaeNJFSQYfc77sgkVJBqCQQX/aQUkGQNuQh65BSQSanmqfUkFJBat7Zr8eQUkHozIVltpBSQd6RJ7OnkFJBBkGuW5CQUkE4SjuifZBSQR2qD78wkFJBv8fqYR2QUkGdkGtkFJBSQX1WkMYVkFJByuaWNDSQUkGr0TtiHZBSQYdCHAw5kFJBxIztZlWQUkFlFFvEaJBSQe+xnC8tkVJBWcwIi5yRUkHLmmp0C5JSQftUFhK2klJBgyScv8iSUkH5rIbSL5NSQQL6rK0ik1JB8kz4Tg+TUkHaehIVCZNSQS7uuXMck1JB0I0NIyaTUkFBAuVHM5NSQU8beW43k1JBH68Zvy2TUkEp/wEjJpNSQYPrkkkqk1JBHhel5TGTUkGN7gSVO5NSQYqlmLs/k1JB\"},\"shape\":[66],\"dtype\":\"float64\",\"order\":\"little\"}]],[[{\"type\":\"ndarray\",\"array\":{\"type\":\"bytes\",\"data\":\"tx2pKd2JUkH51DMNmIlSQTV34VKWiVJBj6IZIFiJUkEVGrdmSIlSQaXX6NRFiVJBm/mXnvyIUkHmZawcH4lSQYoOCZsCiVJB9OIJpwiJUkGhUunVDYlSQe7KlUskiVJBMIIQaiuJUkEo4FjqK4lSQYc4zXxPiVJBUTGZk0iJUkGac8PC8olSQbcdqSndiVJB\"},\"shape\":[18],\"dtype\":\"float64\",\"order\":\"little\"}]],[[{\"type\":\"ndarray\",\"array\":{\"type\":\"bytes\",\"data\":\"eVOVaS+MUkFt+tMF/4tSQTPsV/n4i1JBOpRs5RKMUkE8HKsQQItSQXSeNx1Gi1JBrnrK4JOLUkEdVdQo/otSQazajSEejFJBxZEQLiSMUkERTHZGW4xSQWmBzVNcjFJB\"},\"shape\":[12],\"dtype\":\"float64\",\"order\":\"little\"}]],[[{\"type\":\"ndarray\",\"array\":{\"type\":\"bytes\",\"data\":\"BLNFmAmUUkEsFugkKpRSQS3Jna5mlFJBMNOtTRyVUkEYnc7zJJVSQWUC0LU5lVJBuzwIAjiWUkGYCxC8lpZSQbzDQ8KJllJBJnd5/3SWUkFoXPfjeJZSQeAldFqMllJBOspqaaKWUkGtKbBHs5ZSQSOWZDKqllJBB86Ob5WWUkGwEWlLdpZSQT7fsFFpllJBv53P1GKWUkE8NkwnV5ZSQaCZ9zM9llJBL5wUwzSWUkGRPU2tEZZSQYqK26iBlVJBNFI2WyCVUkEd+AsBCZVSQXUJasnglFJB6aMR3rmUUkHmPAo4oZRSQVlcY3aMlFJBpi0982KUUkG/18A4QZRSQdlmqx0VlFJBVuii+/WTUkGROUDu35NSQXDnTBHPk1JBNZyEzMCTUkHrYK07sZNSQWC2Kz2Bk1JBfgf/ikOTUkGsQ/HPN5NSQY2znk03k1JBTZqaKqCTUkEEs0WYCZRSQQ==\"},\"shape\":[44],\"dtype\":\"float64\",\"order\":\"little\"}]],[[{\"type\":\"ndarray\",\"array\":{\"type\":\"bytes\",\"data\":\"L29hZM+aUkFUhysByJpSQfMME6a0mlJBn+psQbSaUkEzu/5vrJpSQcK2kimnmlJBY1gnuKKaUkGL47qdoppSQaKPeMKWmlJB64VH7ouaUkFxxr8CgZpSQfVmqNt5mlJBP+k/JXWaUkGaHRoMdZpSQYYwmz5wmlJBxUlPkW6aUkG9alv9bZpSQcOIEZVdmlJBakeBE12aUkHphUNdOZpSQYgBZHwimlJBSZTuwiGaUkGwU8L1FJpSQSqHc6ISmlJBIE5X8g2aUkEugxwiDZpSQafP/kILmlJBPnoGDQqaUkF/gpaTBZpSQdQzlZz5mVJBvF51UO6ZUkFUbiTU7ZlSQYjJp7ntmVJB4lJEcuiZUkEV2sF24ZlSQTtpSZLPmVJBkhNzY8GZUkGIEJzXtplSQTbpZoOemVJBiKWMBZOZUkGTRi+DkJlSQSuzFemEmVJBJAnQnnqZUkG+hvH4cplSQd7Q2adimVJBITmHkF2ZUkEa8H+CVplSQbsEktFPmVJBXYXpKUOZUkFDpLbMMJlSQfNB5eMXmVJBoIRXLgSZUkFX5H2265hSQaqOO2bmmFJBKSU3AOaYUkFnhg2s5ZhSQX+qeIvlmFJBqM7jauWYUkHDrspmpJZSQYFlH9Aul1JBhZXFcESXUkEuuIeIbZdSQZwKYaC4l1JB3YMEeryXUkEMuhDM8ZdSQUpg9fHxl1JBsb6Jy/qXUkGfH5zP/pdSQR9jLHJLmFJBJVdg/2eYUkHcgXgPfphSQc2MIq0qmVJB7mPmNNOaUkGoz6wn0JpSQXkFhJLPmlJBL29hZM+aUkE=\"},\"shape\":[76],\"dtype\":\"float64\",\"order\":\"little\"}]],[[{\"type\":\"ndarray\",\"array\":{\"type\":\"bytes\",\"data\":\"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\"},\"shape\":[680],\"dtype\":\"float64\",\"order\":\"little\"}]],[[{\"type\":\"ndarray\",\"array\":{\"type\":\"bytes\",\"data\":\"xE6whnOLUkHd08wdLotSQWDX9WYri1JBE0vlH5aKUkHfdkeGm4pSQc+LW12ZilJBUhaafgaKUkH5D7tAHopSQeNnFH1XilJBewrRXX6KUkHVpABTwYpSQWQvj2/rilJBUEhHJOmKUkFwe4r514tSQapldDkRjFJBgM4fGQKMUkGrSbnHGIxSQcROsIZzi1JB\"},\"shape\":[18],\"dtype\":\"float64\",\"order\":\"little\"}]],[[{\"type\":\"ndarray\",\"array\":{\"type\":\"bytes\",\"data\":\"2AeZ+jODUkHyEguCLINSQeTCEkcsg1JBAF6aqzKDUkEQYXjx04JSQfmDgGcnglJBnWmbUimCUkGwLcXnRoJSQRKs+qlRglJBbS0/FleCUkFEBpD0d4JSQcacvxOCglJB+t2I+oSCUkGlpPDLpIJSQREi0M6nglJBFoWt6qeCUkFJOwb4qIJSQWxT7tapglJBcbtU6KuCUkHC0XdyroJSQavvfpqxglJBwOguW7aCUkESJnqwu4JSQd1djZu/glJBXSTci8KCUkEZBu7byIJSQQNQ9wPMglJBQLbZBs+CUkF9t6Cn0oJSQcmaa4nWglJBWmnDCNuCUkE0TnDV24JSQRLcmI3gglJBXpIy/+OCUkHJSI9N5YJSQSvOHenpglJBHhHMJ+6CUkGNP7XQ84JSQUClWbH5glJBdYFEWv+CUkFfcjphA4NSQWuNpdcHg1JBQLlaKwmDUkHa9x/tCoNSQZN34MoNg1JBaROE4Q6DUkGX7JtnEINSQcWziIcRg1JB+XaurBGDUkEcGJ8NE4NSQeG06XsVg1JB5ZxfUBiDUkFsyf7AGYNSQTBxiNoag1JBxiuTwR2DUkECzeO7IYNSQTFVXEUjg1JBPZEeIyaDUkHR7OAkK4NSQRJpwskvg1JBGeC1cjWDUkHXiR3RNYNSQewHTw46g1JBQx1MFT6DUkFLHQRUQoNSQQuDTVxDg1JBxpmw80eDUkH1QMc4SYNSQQWRFIpNg1JB7uQKD1GDUkFSlsD1UYNSQdhJ8tBTg1JB2SATvFeDUkHi+Pp9WoNSQULlDqZdg1JBF8F6mmGDUkGcA8BpZYNSQe1Q8Rdqg1JBfIx282qDUkGmgOzAb4NSQetX7ap1g1JBuUwu/3yDUkHgfAWggINSQawXDuiEg1JB9w0XMImDUkGTQzSZjINSQTQStG2Pg1JBhAJ0yZGDUkH7zpbgk4NSQTJw1vqUg1JBcYGk45iDUkG3T3RVmYNSQUPdPQmdg1JBcJcjRqGDUkHaqkUApINSQU8PEiqkg1JB23PeU6SDUkFSxNB2poNSQYCF1peng1JBP76xOKuDUkEPA+zmr4NSQbxNLNa0g1JBFRwZOrmDUkFBTVCnvYNSQdXvanHCg1JBqMedncaDUkF6TsNkyINSQbu3InLJg1JBWoJaWsqDUkH02i55zYNSQQWiYqXRg1JBL1J07dWDUkEv6+OU14NSQUTv92Pag1JB1E3zSd+DUkGig6kJ5oNSQaf8833ug1JB5EFk8PGDUkEYMTVw9oNSQfPjBk75g1JBBf+wBvyDUkE082AA/4NSQc5e6dQBhFJBrJBEQwSEUkHsfAWPBYRSQV8CS8gHhFJBjiOtGQyEUkE6FMAgEIRSQW9QRvgVhFJBpKczjBqEUkGHqOlyG4RSQWTBkOodhFJB/wPcHR6EUkHU5VONHoRSQZN7qO4ehFJBgFc90h+EUkEdVXbpH4RSQS0xABwhhFJBXQ0eYSKEUkHJ412KI4RSQY2cNwclhFJBzFfNuyaEUkEiHC/JJ4RSQa3paLEohFJBPwdlty6EUkHThATQL4RSQap7+HE2hFJBjb4enTyEUkEYr0IpRIRSQWZwSntThFJB5LehBFSEUkHiEbwLWIRSQdIRpg1dhFJBOzXmjl2EUkH8LuMeX4RSQZJ5lUVehFJBHPCXUDuEUkHa9wYsJ4RSQSKZVcX6g1JBlZB8Oe+DUkEpp6Ir6INSQVYwAGTlg1JBbcvvieSDUkEF4MD/y4NSQS/5nDKYg1JB2AeZ+jODUkE=\"},\"shape\":[166],\"dtype\":\"float64\",\"order\":\"little\"}]],[[{\"type\":\"ndarray\",\"array\":{\"type\":\"bytes\",\"data\":\"pdfo1EWJUkEVGrdmSIlSQe9shITBiVJBB5/9Vs+JUkHhsH0p3YlSQRB1Kw/kiVJBAuZ21OOJUkGiAzJNzIlSQVzAy5+1iVJBRPOCOpWJUkElWcUBJolSQT75JBV+iFJBZ+SQYE+IUkGU2FDDiIhSQddC4YL2iFJBm/mXnvyIUkE=\"},\"shape\":[16],\"dtype\":\"float64\",\"order\":\"little\"}]],[[{\"type\":\"ndarray\",\"array\":{\"type\":\"bytes\",\"data\":\"llMI5nqGUkHfwo0QeIZSQVAyMMvHhFJBzofiMuCEUkHuHkfG4IRSQag+Vdc1hVJBPhKMy5CFUkGH1Vp364VSQdw6oNJBhlJBfuefQpSGUkFjNFO6lIZSQZZTCOZ6hlJB\"},\"shape\":[12],\"dtype\":\"float64\",\"order\":\"little\"}]],[[{\"type\":\"ndarray\",\"array\":{\"type\":\"bytes\",\"data\":\"FZf6xweWUkHk9akE/JRSQYcSDnNzlFJBnPWhXGaUUkEIFgdqFZRSQZUgXCLFk1JBgDWPyAGUUkH3rJoMcJRSQWdacLbwlFJBPbFPUGuWUkGfEFxhFJZSQYpbymcHllJB\"},\"shape\":[12],\"dtype\":\"float64\",\"order\":\"little\"}]],[[{\"type\":\"ndarray\",\"array\":{\"type\":\"bytes\",\"data\":\"aPbYiWGTUkG09BEQ8pJSQdW3i/1Dk1JBlSBcIsWTUkEIFgdqFZRSQZz1oVxmlFJBRQV/VhOUUkFyangOxJNSQQfYZOtik1JBaPbYiWGTUkE=\"},\"shape\":[10],\"dtype\":\"float64\",\"order\":\"little\"}]],[[{\"type\":\"ndarray\",\"array\":{\"type\":\"bytes\",\"data\":\"5AKxtCiIUkEqE5KfHIhSQTxO0kQKiFJBEVYWGiOIUkFeo//sTohSQfBaHZSEiFJBHFvdT5KIUkHTLyk2t4hSQepUsESfiFJB5AKxtCiIUkE=\"},\"shape\":[10],\"dtype\":\"float64\",\"order\":\"little\"}]],[[{\"type\":\"ndarray\",\"array\":{\"type\":\"bytes\",\"data\":\"v8Ys/P6FUkHWaRibzoVSQft1r/7MhVJBfh28pSiFUkEuzVAb44RSQd8zfmSlhVJBvJtvlbWFUkG/xiz8/oVSQQ==\"},\"shape\":[8],\"dtype\":\"float64\",\"order\":\"little\"}]],[[{\"type\":\"ndarray\",\"array\":{\"type\":\"bytes\",\"data\":\"dyxefi2FUkFTRn2n0YRSQQZDBw3xhFJBivyGuCOFUkF+HbylKIVSQft1r/7MhVJB1mkYm86FUkHTe/ekKYZSQWrdNI4KhlJBdyxefi2FUkE=\"},\"shape\":[10],\"dtype\":\"float64\",\"order\":\"little\"}]],[[{\"type\":\"ndarray\",\"array\":{\"type\":\"bytes\",\"data\":\"dyxefi2FUkFq3TSOCoZSQZ5i+qXwhVJBVsTqc9SFUkF0o0DLz4VSQbA1eJdOhVJBhUZak1+FUkHb+kGYBYVSQbXYkqYFhVJBdyxefi2FUkE=\"},\"shape\":[10],\"dtype\":\"float64\",\"order\":\"little\"}]],[[{\"type\":\"ndarray\",\"array\":{\"type\":\"bytes\",\"data\":\"oSceIMKIUkEDmmsPu4hSQUSR/d6riFJBrbFlmJqIUkEpxMYFNIhSQYLHXyUoiFJBwFnFJb2IUkECjKq0xIhSQWskct3GiFJBwLB+Q8yIUkE=\"},\"shape\":[10],\"dtype\":\"float64\",\"order\":\"little\"}]],[[{\"type\":\"ndarray\",\"array\":{\"type\":\"bytes\",\"data\":\"q0m5xxiMUkGAzh8ZAoxSQapldDkRjFJBFOvobDyMUkEo9o6LqYxSQQmPkxm5jFJBjJimbtCMUkHwvwnU34xSQQCaSkhKjVJB9NvjzEmNUkHGX9f2uoxSQatJuccYjFJB\"},\"shape\":[12],\"dtype\":\"float64\",\"order\":\"little\"}]],[[{\"type\":\"ndarray\",\"array\":{\"type\":\"bytes\",\"data\":\"Y7pSaemVUkEh+mYK2pRSQYKPONPxlFJBeVKu7r2UUkE+/XgDl5RSQbCFBKaIlFJBF9LTH6CUUkEHLd2ts5RSQXBYLjLLlFJBCZLFk8yUUkGEzCuh0ZRSQfITaVjslFJB7V+EQvSUUkGbQbLy9ZRSQVy79IcwlVJBuAUkslqVUkHteZJSmJVSQaLplDn0lVJBlYFvQQ+WUkFk972HLZZSQVRyXolVllJBT/BIUUWWUkFP+S5JKpZSQWO6UmnplVJB\"},\"shape\":[24],\"dtype\":\"float64\",\"order\":\"little\"}]],[[{\"type\":\"ndarray\",\"array\":{\"type\":\"bytes\",\"data\":\"XDz4nBOGUkHcMExdBYZSQWwJYJ7ahVJBi5pHEmyEUkFKb4WYZYRSQY3sd10ehFJBhgwiiOiDUkFty++J5INSQVYwAGTlg1JBKaeiK+iDUkGVkHw574NSQSKZVcX6g1JB2vcGLCeEUkEc8JdQO4RSQZJ5lUVehFJB/C7jHl+EUkE7NeaOXYRSQVBris5hhFJBYLyNNWmEUkGVgX11a4RSQdXAgHhuhFJBWVnuT3GEUkG9s+F5cYRSQbVAjY1yhFJB8pFat3KEUkF9bfEtd4RSQRU+FnZ7hFJBawLI8ICEUkESrX9uiYRSQXz+iX6KhFJB3tCmVYyEUkGy46u5kIRSQec/dwmShFJBIr57dpSEUkG9DczjmIRSQfhPRXadhFJButJ7QKKEUkFv/7IKp4RSQZnUPUKwhFJBZjGkTbGEUkHr2ay4vYRSQbwF22HDhFJBMVYBaceEUkEyEgoLyYRSQeun/enJhFJBwG0CvcuEUkGklWe5zYRSQQLpJvvQhFJBpTnsK9GEUkHfyJZE14RSQUQiWp/bhFJBeEVh4NuEUkEeaWgh3IRSQTgGq8vfhFJBO35SIuOEUkHd48xz54RSQfYmxnfxhFJB8D1CyfWEUkGD6F3P+4RSQUVSK5n+hFJBVKz8BACFUkHtstPhBIVSQWybQ0wIhVJBWw+z/wmFUkGuJT7zD4VSQdfzD7EahVJBH2ztbR6FUkHjmNqsIoVSQcSiV50lhVJB9/lUvSaFUkFtEzH5J4VSQZj5ayErhVJBy4w7XC6FUkFkJRBXL4VSQaKEGDkzhVJBVIu9bjeFUkFWI2WEOoVSQcCjSQE8hVJBlkqlLUCFUkGIFojKQoVSQVlJrw9EhVJBLsk0YUiFUkGeKAd9UYVSQaGu6FlWhVJB7XNoalqFUkEP3ypDXoVSQRDdQFdfhVJBHVCk8mCFUkE2s0/oYoVSQQXDbgxlhVJBYHaBBmaFUkFryqbTZoVSQS/Fe+5ohVJB/V+rlGuFUkEurlbKb4VSQUGGPIdzhVJB5dkYYHaFUkH5XfH9d4VSQTFX0Hl7hVJBEkEjBH6FUkEgZ6ckfoVSQTSNK0V+hVJBRPmnFIKFUkH8NtrahYVSQf1d9B2LhVJBNjZ7bpGFUkGIrfD8lIVSQcbe+72ZhVJBQ/R/w5qFUkHIBiAinoVSQVt9l9CihVJBlJRB5aeFUkHPumR8qIVSQQTC+jurhVJBTOcgoK+FUkEdvsy0tIVSQTvmQ4K8hVJB/d7OksCFUkGejuq0xoVSQd3CaYPMhVJBCySIA9qFUkEtS34f44VSQRoaH5PkhVJBsCkis+WFUkEgGbrl5oVSQTymqILphVJBqWpwRuuFUkGsRiwy7IVSQfhNWXfthVJBkOWbXvCFUkEfEDix8oVSQVe7SUDzhVJB/KUDSvSFUkHbnFWT9oVSQafSuV75hVJBt40i+/qFUkFewlSw/YVSQZ+kQ0wChlJBpi8QbgOGUkFZ89VcBoZSQeCDHKYHhlJBHPoihQmGUkEmaBmMCoZSQcGeUtL1hVJBs1/dKeqFUkEMNl6N0YVSQe9cHxuihlJBXDz4nBOGUkE=\"},\"shape\":[148],\"dtype\":\"float64\",\"order\":\"little\"}]],[[{\"type\":\"ndarray\",\"array\":{\"type\":\"bytes\",\"data\":\"PFd1T5GfUkFEAR+Njp9SQVfNhMKIn1JB4HFJhYWfUkGSAQwfgZ9SQQyuzbN3n1JBnvdNU3GfUkEn2Qc1cJ9SQdBtA7KOn1JBFeWJ2I+fUkGwWgoje59SQfi2RI1jn1JB4qb7ryGfUkFXkizL8J5SQQelTzvynlJBa5Q+VOueUkG0KdkH+Z5SQWwBIXXpnlJBXP/g1OCeUkE99wER2p5SQZhCXUfQnlJBOwF828qeUkGWqj7DyZ5SQVgDFpLHnlJBvfvKqryeUkF+gYGzuJ5SQZePMt6wnlJBEvV3GK+eUkFjS9deqJ5SQa1Fuu2YnlJBbRWEkpaeUkEaZKhMlp5SQT6zzAaWnlJBST8Lu5KeUkFdQCgikp5SQcHSI2WOnlJBWbj9IIqeUkGCt6uLh55SQQMQ24CFnlJBKDmUhoSeUkHfB9w4gp5SQRqniGd+nlJBG+lHKHyeUkEy1/7zep5SQTIRR1Z4nlJBYKmlK3OeUkHyxTkFc55SQZ7izd5ynlJBQY3oBnKeUkFHhOfEcJ5SQY7lQqZtnlJBk+DPf22eUkG621xZbZ5SQXymKY5snlJBhzQ5h2ieUkHT9n+TXJ5SQbvUpWRanlJBVKczLFaeUkGYib2gU55SQQgah2NSnlJBuu361kueUkFTSD9wSZ5SQV1eMZlCnlJBaetGZT2eUkG45pycOZ5SQc7vXMoznlJBSJhQOS6eUkFyZGqeJJ5SQXv93KEbnlJB5qdzBg6eUkFaISpxC55SQdpAndsGnlJBe5NBqAWeUkFpZTSjAp5SQaZRvxcBnlJBwAMEQf+dUkHfTLtX/p1SQZln7BH7nVJBDe6E2fadUkFVfMt58Z1SQRcXdkPunVJBFkzxsOmdUkHvQONW6Z1SQZ821fzonVJB8og83OedUkGc8+Ws4Z1SQXVYdwDgnVJB4iVjrN2dUkHpfK5F251SQQMatEnWnVJBXcmrM9WdUkFvYEd50Z1SQXXQeU3PnVJBl2nQNcydUkFD0cyFyp1SQXC8uEzJnVJB5B1/GcmdUkGJf0XmyJ1SQeexelO+nVJBWPvLNb6dUkE7px8Yvp1SQfXGwU+8nVJBQkG9urudUkEWgBbuvJ1SQSm7fbq5nVJB786tkbmdUkFXCpyCuZ1SQRayCb6wnVJB6ZZTwq2dUkGvJnY8rJ1SQdvUS+qqnVJB644my6mdUkFHLlR3qZ1SQexCQFJynVJBKc6+AiedUkGFQFdj55xSQVfsiSF1nFJBqa/X/EicUkGxqI+XNp1SQYeX4vWsnFJB8GteTn+dUkEufVul+p1SQXTSOmN5nlJB3LHRtZyeUkFSJ67gu55SQUQHpAvbnlJBXDzCiR2fUkEfzsUeAqBSQaaP2f4zoFJBStaiXJWgUkFRmmyulaBSQTjfb/CZoFJBnDtDNaWgUkEx6ct/rKBSQairI0u8oFJBGOIger6gUkF3RxdHv6BSQXZ5JXe+oFJBSO7I6rygUkGegsR9uaBSQUei2rS1oFJBM+J1xqigUkHy/BO2pKBSQS2T1qCfoFJBCHX5fJ6gUkHnKixjnaBSQfYJWYqboFJBq6ddW5mgUkHLFfoLmKBSQd7qm4mWoFJBLxzfIZGgUkGBmvY4kKBSQcCyLeCMoFJBMnnuwYKgUkFcjpKpaKBSQTtU0MNcoFJB6BSAzVWgUkGQEjuWSaBSQRj63ZlGoFJBvpWo00GgUkHkq4wxOqBSQUyKHzQvoFJBeefBOiegUkGDawJpH6BSQdTaqgAVoFJBr4W74xOgUkFC8ivQDqBSQXE7Ji8MoFJBEQWnoQqgUkFstkek/59SQT/i/D7sn1JBSw9PkuKfUkHVR8oM2J9SQZTilnXLn1JBTup9McKfUkGIpfEVvZ9SQbXR7q66n1JBMloPrrSfUkGA+5d5rZ9SQc2enUmln1JB5ibVuJ6fUkE8V3VPkZ9SQQ==\"},\"shape\":[182],\"dtype\":\"float64\",\"order\":\"little\"}]],[[{\"type\":\"ndarray\",\"array\":{\"type\":\"bytes\",\"data\":\"pVwdRESBUkHG/2+FQ4FSQYS7NqtSgVJBanY/KlaBUkGXCvrNUIFSQQA/xNoUgVJBctVQ8LKAUkF2kSJiS4BSQRkMNlskgFJBKVvWkg+AUkG//TMKC4BSQUJs7zXzf1JBKe5t2tt/UkGk5Vkyl39SQQKwMjWFf1JBgFbkInB/UkFBTbcZaX9SQahiTANhf1JBXMSxtk9/UkG42UUBQn9SQTY3nQZBf1JBjyzTtTx/UkGep/xYPH9SQbkrjrw5f1JBFck7hjd/UkFl58npNH9SQSualVozf1JByJf0nDF/UkHBy+7tLn9SQfNGcqIpf1JBK6ZOTCZ/UkF2t67bIH9SQdcEIIggf1JBINhPNxx/UkHfyNsoFn9SQVqItOIPf1JBtLPWpQl/UkFg1h8cAH9SQUdZV3r+flJBSQtE3/l+UkG0hdbA9n5SQeD8pY7uflJBtpV86uJ+UkFy0MgC1H5SQWveyYPIflJBU12e471+UkG3c51gkYBSQa0uzK+XgFJBvWqsKaiAUkFzmOpvqYBSQW0qPrisgFJBBWRPTgOBUkHLXs5gIoFSQadstIVDgVJBXRqU30SBUkFmPVEoRYFSQXGGUZmcgVJBnSxNYpaBUkF52MD/koFSQZmOoTxYgVJBaIGHJliBUkExd/tWUIFSQQ==\"},\"shape\":[62],\"dtype\":\"float64\",\"order\":\"little\"}]],[[{\"type\":\"ndarray\",\"array\":{\"type\":\"bytes\",\"data\":\"t2jVjsSGUkGWUwjmeoZSQWM0U7qUhlJBZg2j2bOGUkGiPH4UqodSQfa2Z9Oqh1JBpMiWQZyHUkEbQCf+m4dSQW4Li4OEh1JBn8Hj84GHUkE/c7/rf4dSQRPaDvolh1JBSqmk9SOHUkG3aNWOxIZSQQ==\"},\"shape\":[14],\"dtype\":\"float64\",\"order\":\"little\"}]],[[{\"type\":\"ndarray\",\"array\":{\"type\":\"bytes\",\"data\":\"N2NkVNaDUkGTkFpMqoNSQUyslj+3g1JBM4Kyg0mDUkG8iCXf/oJSQWpe4+ypglJBC3P9oYSCUkGqYbmgZ4JSQUV0TcROglJB5MISRyyDUkHyEguCLINSQdgHmfozg1JBL/mcMpiDUkGe5sXSo4NSQQ==\"},\"shape\":[14],\"dtype\":\"float64\",\"order\":\"little\"}]],[[{\"type\":\"ndarray\",\"array\":{\"type\":\"bytes\",\"data\":\"H6x8zbKTUkEu+Ozg65NSQR6EIFxClFJBcW1MhXSUUkGxc869TJVSQft2C2MVlVJBi4X/me2UUkHEBMFGyZRSQSZODySqlFJBzTTw15iUUkEtyZ2uZpRSQSwW6CQqlFJB33d5sOaTUkHLaXG4uZNSQSs6hTyjk1JBeB5R96STUkE=\"},\"shape\":[16],\"dtype\":\"float64\",\"order\":\"little\"}]],[[{\"type\":\"ndarray\",\"array\":{\"type\":\"bytes\",\"data\":\"WCr7zuuQUkHqjOn4q5BSQWFUeZCLkFJBaJEMw3mQUkF2Bf8hSZBSQTLliUWfkFJBqqdshN2QUkGSuP6wv5BSQd9HDv3AkFJBzJl2IbCQUkHP1rnXJJFSQaAWoafFkVJB38TIUVSSUkGPHVlHkZJSQc5TL4SsklJB2L+62vOSUkGNs55NN5NSQaxD8c83k1JBfgf/ikOTUkFgtis9gZNSQetgrTuxk1JBNZyEzMCTUkFw50wRz5NSQZE5QO7fk1JBVuii+/WTUkFmK5tdapJSQeQHcuPgkVJBWCr7zuuQUkE=\"},\"shape\":[28],\"dtype\":\"float64\",\"order\":\"little\"}]],[[{\"type\":\"ndarray\",\"array\":{\"type\":\"bytes\",\"data\":\"CUG7XymPUkFW466fIo9SQZp6kasij1JByBPfBEWPUkHETE2BR49SQY3hKpNHj1JBq49EcluQUkHo4CwDIJBSQVXa2ulxj1JBhvmEa2+PUkHUIQwQV49SQfHslqE8j1JB\"},\"shape\":[12],\"dtype\":\"float64\",\"order\":\"little\"}]],[[{\"type\":\"ndarray\",\"array\":{\"type\":\"bytes\",\"data\":\"d+hboHWOUkGU2/lrgI5SQT5FNtOwjlJBMdc9yFaPUkH5OjV/ho9SQbfeiWlaj1JBK9+TjCaPUkGvYEUC945SQdj1hlG1jlJBqGXChIKOUkE=\"},\"shape\":[10],\"dtype\":\"float64\",\"order\":\"little\"}]],[[{\"type\":\"ndarray\",\"array\":{\"type\":\"bytes\",\"data\":\"VrMSa6GQUkFlFFvEaJBSQWdxys5vj1JBn0Cce2WPUkGSab+uMo9SQdvQ3O+DjlJBqGXChIKOUkHY9YZRtY5SQa9gRQL3jlJBK9+TjCaPUkG33olpWo9SQfk6NX+Gj1JB3OlTwKSPUkFQWrh2xo9SQS8eem85kFJB5uLYKpiQUkGEszbfl5BSQWjcl5SekFJBzxiNVqCQUkFWsxJroZBSQQ==\"},\"shape\":[20],\"dtype\":\"float64\",\"order\":\"little\"}]],[[{\"type\":\"ndarray\",\"array\":{\"type\":\"bytes\",\"data\":\"ihGPutiPUkEl3K7/o49SQbtU/BCKj1JBkagzunKPUkE1YW19Z49SQXIMnbFMj1JB6KZBnCCPUkHpmuCY2o5SQfhvidnTjVJBzFmOpS+NUkEX/q+SA41SQbb43ATkjFJBkRw0as6MUkFRd7joxIxSQUwIjUGpjFJBVJK/V6KMUkFklmdhlYxSQWmBzVNcjFJBEUx2RluMUkHFkRAuJIxSQazajSEejFJBHVXUKP6LUkGuesrgk4tSQXSeNx1Gi1JB+L5Q/NKKUkG7Q2ES0opSQZC+xU3dilJBmkO3IOuKUkHR39BN3YpSQVqWNgbMilJB8R5PNdGKUkFOQLNw3IpSQZ/d/fvYilJBVAsobdeKUkHLzqiV+YpSQYY9srQ+i1JB9hj4tFmLUkE+ttt3cYtSQQ2hQvOSi1JByaYQPfWLUkHWMQRAYoxSQQRc7s1xjFJBY0+tNZKMUkEnmoA+y4xSQSrrVd8pjVJBSxmyBYKNUkGzg1Keyo1SQTzpjoLxjVJBNk+LkJOOUkFIyQWFOY9SQcwPdTDej1JBihGPutiPUkE=\"},\"shape\":[52],\"dtype\":\"float64\",\"order\":\"little\"}]],[[{\"type\":\"ndarray\",\"array\":{\"type\":\"bytes\",\"data\":\"tegP8bqNUkEhylTmu41SQfiBoutpjVJBdhR080GNUkGjMEdU24xSQRkMR4ATjVJBK8nJD/SNUkHDmE5xdI5SQQNdT50MjlJBewD0gBCOUkE=\"},\"shape\":[10],\"dtype\":\"float64\",\"order\":\"little\"}]],[[{\"type\":\"ndarray\",\"array\":{\"type\":\"bytes\",\"data\":\"VetJNlmVUkHk9akE/JRSQRWX+scHllJBtobK7kCXUkH/9e4zQpdSQT+EKX4jl1JBsNKJvfOWUkFPx2uenpZSQZhCEW1wllJBNSGboz+WUkFz8ERfD5ZSQVYhY3zplVJBCyZfo8SVUkFTUuohqZVSQWLujv6JlVJBucP7hm+VUkE=\"},\"shape\":[16],\"dtype\":\"float64\",\"order\":\"little\"}]],[[{\"type\":\"ndarray\",\"array\":{\"type\":\"bytes\",\"data\":\"gn7p4XaGUkG642B/doZSQeb7m4x2hlJBZqajEG2GUkHO90O5uoVSQZz3tutNhVJBUUofKZWFUkEpf3LFrYVSQWTvCw5ghVJBteKhXneFUkFujToplYVSQWwJYJ7ahVJB3DBMXQWGUkFcPPicE4ZSQZlG67I5hlJBGXW64GSGUkHKjKe/jYZSQTNnIq/BhlJB4IDYgsyGUkHECJWus4ZSQTHpykXJhlJBLTXmEpKHUkGwQ07BjYdSQRBfTbVJh1JBVtqLet+GUkHPFIBAroZSQQ==\"},\"shape\":[26],\"dtype\":\"float64\",\"order\":\"little\"}]],[[{\"type\":\"ndarray\",\"array\":{\"type\":\"bytes\",\"data\":\"NchhXs+BUkGdLE1iloFSQXGGUZmcgVJBZj1RKEWBUkFdGpTfRIFSQVFnO9NigVJBhxsCi5SBUkH3PGWMzoFSQXLyOXapglJB1YMzsEmDUkGpGGN2yYNSQQvvhlSfg1JBhzCspXWDUkG3+21DdYNSQQ==\"},\"shape\":[14],\"dtype\":\"float64\",\"order\":\"little\"}]],[[{\"type\":\"ndarray\",\"array\":{\"type\":\"bytes\",\"data\":\"S7JxpG6KUkGOsY/YaopSQVL6ohNsilJBX5EDfWOKUkEQdSsP5IlSQeGwfSndiVJBB5/9Vs+JUkHvbISEwYlSQbcdqSndiVJBmnPDwvKJUkExXe2r84lSQSmjcJFZilJB25dywF6KUkGKC6BTiYpSQdCMEPOJilJB45sa6omKUkGEEI/SiYpSQV6XrIh5ilJB+QStB3CKUkHsP6awbopSQQ==\"},\"shape\":[20],\"dtype\":\"float64\",\"order\":\"little\"}]],[[{\"type\":\"ndarray\",\"array\":{\"type\":\"bytes\",\"data\":\"5dS7ALmHUkHc9ytUx4dSQXn98eznh1JBSg9jH+iHUkHH+wmnCIlSQRApCZsCiVJBn4CsHB+JUkGn4pee/IhSQX4w4YL2iFJB8XsJUpmIUkGD81DDiIhSQde6yXB5iFJBuwQSj0GIUkEWOobuR4hSQbDaE1EsiFJBFe9CC/qHUkEq9XcLsYdSQVzl/+q2h1JB\"},\"shape\":[18],\"dtype\":\"float64\",\"order\":\"little\"}]],[[{\"type\":\"ndarray\",\"array\":{\"type\":\"bytes\",\"data\":\"8GteTn+dUkGHl+L1rJxSQYUZ6JWRnFJBgFILuCmcUkHiyBy2/JtSQUcirBWtm1JB1SAyWX6bUkGHP8IlgJtSQTidkNhFm1JB4rtwpQibUkGH59iQtZpSQd2tPa6UmlJBLV9J6X+aUkF+n4SabppSQVNCifZnmlJBSgbQGiuaUkG2h+YkEZpSQdIUKBb+mVJB8sQGW/2ZUkHRv6UL25lSQf3nUwzUmVJBk5OqU8aZUkGxEnxXvJlSQT/erIG6mVJBKUJpJsqZUkHM+FY7yplSQT1JxXMimlJBMQ8fuGebUkHVgMIAVJxSQfoP5SRbnVJBM3gTR3edUkHqt8UJtp1SQdDNfwQSnlJBw1ImFW+eUkEaK0jYx55SQawnvKB4nlJB17Pg91KeUkHwa15Of51SQQ==\"},\"shape\":[38],\"dtype\":\"float64\",\"order\":\"little\"}]],[[{\"type\":\"ndarray\",\"array\":{\"type\":\"bytes\",\"data\":\"X+K40EyWUkEKdFaYcZdSQda+Tdhkl1JBQ1/peFaXUkHTW29JRpdSQVYlQJpFl1JBMPk2MzyXUkGJWfPNOpdSQUlsPGgsl1JB1wTsHyqXUkGy2O3nKZdSQQR0OTIol1JBqJj6DAqXUkGO6C8kCZdSQaYILn8Il1JBLId4rd6WUkHIg6Gr05ZSQdVHrlXTllJB+/4EL9OWUkHSEfAAu5ZSQRo9td6wllJBNgkwJaaWUkF+Qyb1o5ZSQclaatCjllJBTpDyrp+WUkF0gyyHjJZSQe8jIWWJllJBDq+Mf3yWUkGruTSfO5ZSQZb5gOkMllJB1yrUzPCVUkHNJ6VQ+pVSQbJjZMb9lVJB2B9CWA2WUkGx6MxKF5ZSQTqp1RoillJBSs/JbjaWUkFf4rjQTJZSQQ==\"},\"shape\":[38],\"dtype\":\"float64\",\"order\":\"little\"}]],[[{\"type\":\"ndarray\",\"array\":{\"type\":\"bytes\",\"data\":\"gL4Dz2OZUkFLMEcrPplSQS3ZYuQvmVJBJwR2nSGZUkEEAVs7F5lSQYAYaWH5mFJBjidMqMqYUkGK0xbJuZhSQXl23TKsmFJBaodCFMSYUkHdhjK+/phSQZUw7MyTmFJBfiX+oPuYUkHXM0aRX5lSQQ5OyBSWmVJBd15WjuaZUkFUY3ryLZpSQWdSVOhXmlJBv5lJ7FmaUkFvVKYKnJpSQUKLjGOnmlJBh5HpAaqaUkFZmySlsZpSQU8RGWm8mlJBhLWiuMWaUkECIio7yppSQYcQS9XVmlJB0ydzzN+aUkF844bOCZtSQUK8HLwNm1JBlF21uBebUkFbrkUjHJtSQTDLlTsvm1JBmuGqIEGbUkHptuO/UZtSQVVwRONVm1JBaciYn1abUkHzY1hcV5tSQdPOvbxqm1JBFYgsF2ubUkHzoNaua5tSQeoaE0XFm1JBT6lNRsWbUkE0jVaLrptSQWXLYXmYm1JB7Lb3OpSbUkFCUmKdeptSQVtLISUdm1JBFfZ29c2aUkHYQ1rheppSQVPQlzJvmlJBGwb1vk6aUkHTsPbQRppSQRajdUsumlJBj841BCCaUkHT5DDuFppSQZ5vs1oHmlJBTEtTzOqZUkH8WEug2JlSQaQA4WTtmVJBlFzaevaZUkH1+sVO5JlSQQ==\"},\"shape\":[62],\"dtype\":\"float64\",\"order\":\"little\"}]],[[{\"type\":\"ndarray\",\"array\":{\"type\":\"bytes\",\"data\":\"VAsobdeKUkGfUq/x1opSQTvLOAW1ilJBLlYV8ZiKUkHETeDMZopSQfVlyymkilJBIoL2+NeLUkHHqm5V6otSQeyX/TBLjFJB1jEEQGKMUkHJphA99YtSQQ2hQvOSi1JBPrbbd3GLUkH2GPi0WYtSQYY9srQ+i1JBy86olfmKUkE=\"},\"shape\":[16],\"dtype\":\"float64\",\"order\":\"little\"}]],[[{\"type\":\"ndarray\",\"array\":{\"type\":\"bytes\",\"data\":\"W0oSIR6MUkE6lGzlEoxSQTPsV/n4i1JBbfrTBf+LUkF5U5VpL4xSQdi8MRo+jFJBrasFj0GMUkG2sExmAY1SQUyXk+HkjFJByRRly5iMUkE=\"},\"shape\":[10],\"dtype\":\"float64\",\"order\":\"little\"}]],[[{\"type\":\"ndarray\",\"array\":{\"type\":\"bytes\",\"data\":\"aD35aLiLUkF5d7mAnotSQWRAtoZBi1JBdyOL2CWLUkH1soeEwopSQew/prBuilJB+QStB3CKUkFel6yIeYpSQYQQj9KJilJB45sa6omKUkFKi9A1mIpSQXQIOMA5i1JBz/WmmdmLUkFrNPuguYtSQb+qSwG5i1JBaD35aLiLUkE=\"},\"shape\":[16],\"dtype\":\"float64\",\"order\":\"little\"}]],[[{\"type\":\"ndarray\",\"array\":{\"type\":\"bytes\",\"data\":\"UvqiE2yKUkGOsY/YaopSQUuycaRuilJB7D+msG6KUkH1soeEwopSQXcji9gli1JBZEC2hkGLUkF5d7mAnotSQWg9+Wi4i1JBv7sz57GLUkGSwDWvxIpSQVL6ohNsilJB\"},\"shape\":[12],\"dtype\":\"float64\",\"order\":\"little\"}]],[[{\"type\":\"ndarray\",\"array\":{\"type\":\"bytes\",\"data\":\"u0NhEtKKUkFDH6xFkYpSQYoLoFOJilJB25dywF6KUkEpo3CRWYpSQTFd7avziVJBmnPDwvKJUkFRMZmTSIlSQYc4zXxPiVJBKOBY6iuJUkFDi/EecolSQXdB7Si2iVJBybLajAyKUkEXBFdiW4pSQTvLOAW1ilJBn1Kv8daKUkFUCyht14pSQZ/d/fvYilJBTkCzcNyKUkHxHk810YpSQVqWNgbMilJB0d/QTd2KUkGaQ7cg64pSQZC+xU3dilJB\"},\"shape\":[24],\"dtype\":\"float64\",\"order\":\"little\"}]],[[{\"type\":\"ndarray\",\"array\":{\"type\":\"bytes\",\"data\":\"BXOTUu+EUkHFwvqD34NSQWQUsiQXhFJB1C8aaM6EUkFTRn2n0YRSQXcsXn4thVJBtdiSpgWFUkHb+kGYBYVSQQ==\"},\"shape\":[8],\"dtype\":\"float64\",\"order\":\"little\"}]],[[{\"type\":\"ndarray\",\"array\":{\"type\":\"bytes\",\"data\":\"4LO5dEmDUkEAP8TaFIFSQZcK+s1QgVJBanY/KlaBUkGEuzarUoFSQcb/b4VDgVJBpVwdRESBUkExd/tWUIFSQWiBhyZYgVJBmY6hPFiBUkF52MD/koFSQZ0sTWKWgVJBNchhXs+BUkG3+21DdYNSQYcwrKV1g1JBZBSyJBeEUkHFwvqD34NSQdHX2gXfg1JB5TuqZauDUkHFNgCJp4NSQQ==\"},\"shape\":[20],\"dtype\":\"float64\",\"order\":\"little\"}]],[[{\"type\":\"ndarray\",\"array\":{\"type\":\"bytes\",\"data\":\"3dPMHS6LUkHETrCGc4tSQfVlyymkilJBCKI8KomKUkETS+UflopSQWDX9WYri1JB\"},\"shape\":[6],\"dtype\":\"float64\",\"order\":\"little\"}]],[[{\"type\":\"ndarray\",\"array\":{\"type\":\"bytes\",\"data\":\"Z2Cow7mMUkG+zNEROoxSQeyX/TBLjFJBx6puVeqLUkEigvb414tSQVVvnSzoi1JBq0m5xxiMUkHGX9f2uoxSQQ==\"},\"shape\":[8],\"dtype\":\"float64\",\"order\":\"little\"}]],[[{\"type\":\"ndarray\",\"array\":{\"type\":\"bytes\",\"data\":\"xE3gzGaKUkFT5clOZopSQVCDBHMuilJBP9rBaC2KUkG5SUtAHopSQWSXF1bpiVJBCaIBf+uJUkEnqjyU0YlSQfxp3zfaiVJBQvI3QQOKUkFSFpp+BopSQc+LW12ZilJB33ZHhpuKUkETS+UflopSQQiiPCqJilJB9WXLKaSKUkE=\"},\"shape\":[16],\"dtype\":\"float64\",\"order\":\"little\"}]],[[{\"type\":\"ndarray\",\"array\":{\"type\":\"bytes\",\"data\":\"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\"},\"shape\":[206],\"dtype\":\"float64\",\"order\":\"little\"}]],[[{\"type\":\"ndarray\",\"array\":{\"type\":\"bytes\",\"data\":\"6w3C9kGLUkE78EpnOotSQSkFJgtDi1JB95Vf9guLUkGoZQlnH4tSQZ0EGTFeilJBVD3zTx+KUkGnzq0PHYpSQaZ1OwQLilJBfPc5VQaKUkHMH7+76IlSQTzOwpfmiVJBmAz67UCKUkEWCrORSYpSQdBi7U6WiVJBRPOCOpWJUkFcwMuftYlSQaIDMk3MiVJBAuZ21OOJUkEQdSsP5IlSQV+RA31jilJBUvqiE2yKUkGSwDWvxIpSQb+7M+exi1JBAuRySrKLUkHNpzYbsotSQbDFXtygi1JBy5/L95KLUkEeyetUf4tSQeIdibF7i1JBnO0cxneLUkHrDcL2QYtSQQ==\"},\"shape\":[32],\"dtype\":\"float64\",\"order\":\"little\"}]],[[{\"type\":\"ndarray\",\"array\":{\"type\":\"bytes\",\"data\":\"GDJtz4WdUkG1mnqThJ1SQaD9htuEnVJBH/5AmIWdUkEJ+0CYhZ1SQS8qGTF/nVJBE9NGpX6dUkHHQjRkfp1SQeVOSG18nVJBmvKo9XmdUkH6pt0OeZ1SQWfmXQZ4nVJBuIXd2HSdUkEK8vXec51SQeB1Z9ZrnVJBk8kMCWedUkELaUeWYp1SQbCFrAxenVJBNX1yB1mdUkEFZdypVJ1SQQBp9I5LnVJBGDNkd0mdUkFxxytBQJ1SQTo+DUU5nVJBMTZktzedUkGXeJ2qMZ1SQcu8suItnVJBV4ae4SmdUkH05O1tJ51SQZaOnrIlnVJBuu2Eth6dUkE2cR39G51SQRrv3lQanVJB001TsRmdUkFjtXYbEZ1SQQsHB1cOnVJBHc+dGgmdUkHLskK3+ZxSQYas8EPdnFJBhLEiY8icUkGAdmXIvJxSQWhw2JyrnFJBZIMdwaqcUkETWjWOpJxSQUdZdDWhnFJB1mhZIJ+cUkHHKJNsmZxSQfNWcoKQnFJBRfKo34ecUkG7I9gIhJxSQXBKS7OBnFJBVLhLCH6cUkGWp0GqepxSQWg/X0R5nFJBg4NJOHicUkH6QXmubpxSQeyScrFbnFJBthXJPFmcUkGyoEYeOpxSQccXNOc2nFJBIO3tATacUkHrc8eIM5xSQamGolornFJBHaA3/SmcUkHPShcmKJxSQVdtm/sjnFJB9LEqvyGcUkHMgYOrH5xSQb/zR5AdnFJBECTzJBqcUkFczsuPF5xSQQzqgGwXnFJB3AU2SRecUkELMQXyFJxSQWCWdS0QnFJBBgIiwgycUkHj7NDBCJxSQV+OfV8BnFJB7WeeMP2bUkGV2Lor+ptSQWRcJzD3m1JBckery/abUkGzqhmd9ptSQY82pbL1m1JBqRNCjfWbUkHd8N5n9ZtSQc5a51P0m1JBfpK3Z/ObUkEN4kgK8JtSQZP4hZ7lm1JBjS/JieWbUkF5TYPR4ptSQYDTM2bfm1JBIGMTPNybUkFhe1Zq2JtSQe7SZpbXm1JBRsZcF9WbUkE83Apq1JtSQUkCMgjTm1JBnVHAK9CbUkEGhuSgxptSQTwse3HBm1JBXpzCcb6bUkF6Cp/XtptSQXVehsyzm1JBniapRq2bUkHUD/JAqZtSQezbPkanm1JBu/gfrJ+bUkEHpZOwnJtSQZEYJRKam1JBFOIDMZebUkFxLJkWl5tSQUi6fUWXm1JBs6l3TpebUkFJ/D4Tl5tSQQTQrWWWm1JBo+ou45ObUkHZDckakJtSQaFVr/eKm1JBTIXUs4ebUkGO+sl2eJtSQQC1Grx3m1JBDVbPj3ebUkFH94Njd5tSQXAFJ+pvm1JBwM9l/GmbUkHXGfbyZ5tSQYRSL9Jkm1JBR1lyh2CbUkE5Mr7qW5tSQd5kTMNVm1JBdvLDJFGbUkGnPHOrRptSQca71o5Am1JBAxIVzTubUkGyN3gjO5tSQSsMPsY4m1JBtQbzhDabUkGO0rnKNZtSQXtGGXIym1JBiCzUmy+bUkGt0tzBKZtSQShXzQEom1JBEBFrTxybUkFei2oFFZtSQXFqgrESm1JBSb+50QubUkHGt+AyBptSQZHDl28Em1JB3MNCy/+aUkEZnlai+5pSQaYeNn34mlJBSaVG4/OaUkH7BvUM85pSQYnSqansmlJBn3XsoOqaUkFZHOV745pSQcXg1UPfmlJBtGjmdtyaUkFV9VhP3JpSQTbHIDrcmlJB0AV7ENyaUkHsJXSl3JpSQVhussrcmlJBxNz/B92aUkFSOkmNZptSQWmcMFKam1JBRqnSySScUkEjS32/PZxSQamv1/xInFJBV+yJIXWcUkGFQFdj55xSQSnOvgInnVJB7EJAUnKdUkFHLlR3qZ1SQcEqDWOnnVJBk3V3bKadUkG61okZpZ1SQZeMvvihnVJBZHB3XpydUkEAjSoEl51SQaNo3XySnVJBpFuj+oqdUkEOO7eThp1SQRgybc+FnVJB\"},\"shape\":[186],\"dtype\":\"float64\",\"order\":\"little\"}]],[[{\"type\":\"ndarray\",\"array\":{\"type\":\"bytes\",\"data\":\"8GteTn+dUkHXs+D3Up5SQawnvKB4nlJBGitI2MeeUkHSf/ncQJ9SQS59W6X6nVJB\"},\"shape\":[6],\"dtype\":\"float64\",\"order\":\"little\"}]],[[{\"type\":\"ndarray\",\"array\":{\"type\":\"bytes\",\"data\":\"fiX+oPuYUkGVMOzMk5hSQd2GMr7+mFJBaodCFMSYUkF5dt0yrJhSQYrTFsm5mFJB6s5HXU+YUkHpFS8iJ5hSQduF3PVRmFJBRWOyyXyYUkHPqL+IYZhSQSpDQ+f+l1JBVHhoCO6XUkHyJoDX6JdSQfUBChTUl1JBa46p2M2XUkHXvRM7tpdSQSZgN2iLl1JBxVki4n6XUkHlJT6sfpdSQR0Fottul1JBydKR4WGXUkEkCRdby5ZSQYxQeGexllJBycAgH3OWUkEp9VcjNpZSQSQUF1ILllJB4FS+7QqWUkE8mUok85VSQdJrEpi2lVJBr4udwJCVUkHtkC6rapVSQTsjU+lqlVJBgfldDsqVUkFjulJp6ZVSQU/5LkkqllJBT/BIUUWWUkFUcl6JVZZSQcifgylrllJBlnpUjaWWUkEHGn44/pZSQYyBTgU+l1JByhOeyWKXUkFAPnphXZdSQWqmaYg3l1JBMrhGQRmXUkFUZ7U4/pZSQUokrG7mllJBVEYh/sWWUkG0cXHtj5ZSQRj+lpY7llJBAFBKaxSWUkGTAn/WOJZSQY4hZUc/llJBi6+QbmSWUkE76Q3GcZZSQWwTkQd3llJBH78DaH+WUkEd5KXnp5ZSQVj9+bbBllJBwavrDeOWUkFNH/cmF5dSQfjHFS08l1JB1hXFhVKXUkGQy8cga5dSQbCHfiKTl1JBz2rMl5OXUkHMhNfPm5dSQRIYgUSkl1JBEIKxcaSXUkHFuC/Rq5dSQb2sWdqvl1JBSF7lZbKXUkGVZut8uZdSQVdJDurcl1JBLzS+LxOYUkHxEzDek5hSQXw5jYDPmFJB3pF0tNGYUkFYHKX3/plSQfprEDtPmlJBW061DFWaUkHoEZFgV5pSQfOxcqRXmlJBZ1JU6FeaUkFUY3ryLZpSQXdeVo7mmVJBDk7IFJaZUkHXM0aRX5lSQX4l/qD7mFJB\"},\"shape\":[90],\"dtype\":\"float64\",\"order\":\"little\"}]],[[{\"type\":\"ndarray\",\"array\":{\"type\":\"bytes\",\"data\":\"qD5V1zWFUkHuHkfG4IRSQQVzk1LvhFJB2/pBmAWFUkGFRlqTX4VSQbA1eJdOhVJB0tzFQE6FUkGoPlXXNYVSQQ==\"},\"shape\":[8],\"dtype\":\"float64\",\"order\":\"little\"}]],[[{\"type\":\"ndarray\",\"array\":{\"type\":\"bytes\",\"data\":\"R3dzy6WMUkH2iITFf4xSQSBQH3FZjFJBn4yid1aMUkHiHYmxe4tSQR7J61R/i1JBy5/L95KLUkGwxV7coItSQc2nNhuyi1JBR3dzy6WMUkE=\"},\"shape\":[10],\"dtype\":\"float64\",\"order\":\"little\"}]],[[{\"type\":\"ndarray\",\"array\":{\"type\":\"bytes\",\"data\":\"nPWhXGaUUkGHEg5zc5RSQeT1qQT8lFJBdQEURN6UUkFALqV1mpRSQZRgo2BLlFJBtDbJizSUUkFXEMuLNJRSQfG01FcKlFJBEVKNuBSUUkH2Tbx3xJNSQXJqeA7Ek1JBRQV/VhOUUkGc9aFcZpRSQQ==\"},\"shape\":[14],\"dtype\":\"float64\",\"order\":\"little\"}]],[[{\"type\":\"ndarray\",\"array\":{\"type\":\"bytes\",\"data\":\"N4tEEAyUUkGNfX+E6pNSQWZMYyXXk1JBgFn9U66TUkEjECtslZNSQVUdTOh0k1JBlhe6xlWTUkG2X3sxKpNSQX3SR8ELk1JBBCNVF+eSUkFFLIZlwpJSQTgDVwvBklJBHPOP0bqSUkELhr8UlJJSQYP8rsmCklJB1KrDyWuSUkGBkEWp8JJSQbT0ERDyklJBaPbYiWGTUkEH2GTrYpNSQXJqeA7Ek1JB9k28d8STUkERUo24FJRSQfG01FcKlFJBVxDLizSUUkG0NsmLNJRSQZRgo2BLlFJBN4tEEAyUUkE=\"},\"shape\":[28],\"dtype\":\"float64\",\"order\":\"little\"}]],[[{\"type\":\"ndarray\",\"array\":{\"type\":\"bytes\",\"data\":\"KOBY6iuJUkEwghBqK4lSQe7KlUskiVJBoVLp1Q2JUkH04gmnCIlSQdUMYx/oh1JB5AKxtCiIUkHqVLBEn4hSQdMvKTa3iFJBAL9+PdGIUkGdvBLxK4lSQfyUR+1wiVJBQ4vxHnKJUkEo4FjqK4lSQQ==\"},\"shape\":[14],\"dtype\":\"float64\",\"order\":\"little\"}]],[[{\"type\":\"ndarray\",\"array\":{\"type\":\"bytes\",\"data\":\"5AKxtCiIUkHVDGMf6IdSQSpM8IsUh1JBlzmjYECHUkHKn/KLZ4dSQUHOyVdyh1JBDmZAY2WHUkHJ8GVnqYdSQXo6HmXEh1JB6D5UF9eHUkEaNP4F6IdSQXa1ifYqiFJBXqP/7E6IUkERVhYaI4hSQTxO0kQKiFJBKhOSnxyIUkE=\"},\"shape\":[16],\"dtype\":\"float64\",\"order\":\"little\"}]],[[{\"type\":\"ndarray\",\"array\":{\"type\":\"bytes\",\"data\":\"xjMNVP+FUkFWxOpz1IVSQZ5i+qXwhVJBat00jgqGUkEAXq0MYIZSQeaHE6+OhlJBKkzwixSHUkG6R0Y6/YZSQWTwrcDuhlJBLkcxA+6GUkFv0xBdw4ZSQYr+p2lXhlJB\"},\"shape\":[12],\"dtype\":\"float64\",\"order\":\"little\"}]],[[{\"type\":\"ndarray\",\"array\":{\"type\":\"bytes\",\"data\":\"PhKMy5CFUkGoPlXXNYVSQdLcxUBOhVJBsDV4l06FUkF0o0DLz4VSQVbE6nPUhVJBxjMNVP+FUkGK/qdpV4ZSQW/TEF3DhlJBZg2j2bOGUkFjNFO6lIZSQX7nn0KUhlJB3Dqg0kGGUkGH1Vp364VSQQ==\"},\"shape\":[14],\"dtype\":\"float64\",\"order\":\"little\"}]],[[{\"type\":\"ndarray\",\"array\":{\"type\":\"bytes\",\"data\":\"yB2DDz+JUkGtI47w4ohSQTmOjmMWiVJBZPPOgheJUkFr0B8kcolSQcyhgUt0iVJBMxUxzT+JUkHIHYMPP4lSQQ==\"},\"shape\":[8],\"dtype\":\"float64\",\"order\":\"little\"}]],[[{\"type\":\"ndarray\",\"array\":{\"type\":\"bytes\",\"data\":\"tEyuvDqVUkF2TGPKMJVSQTJxq7ZOlVJBSuYazU6VUkHtkC6rapVSQa+LncCQlVJB0msSmLaVUkE8mUok85VSQeBUvu0KllJBJBQXUguWUkGAzN4035VSQUlM0diXlVJB\"},\"shape\":[12],\"dtype\":\"float64\",\"order\":\"little\"}]],[[{\"type\":\"ndarray\",\"array\":{\"type\":\"bytes\",\"data\":\"AFBKaxSWUkEY/paWO5ZSQbRxce2PllJBVEYh/sWWUkFKJKxu5pZSQVRntTj+llJBMrhGQRmXUkFqpmmIN5dSQUA+emFdl1JByhOeyWKXUkGMgU4FPpdSQQcafjj+llJBlnpUjaWWUkHIn4Mpa5ZSQVRyXolVllJBZPe9hy2WUkGVgW9BD5ZSQaLplDn0lVJB7XmSUpiVUkG4BSSyWpVSQVy79IcwlVJBm0Gy8vWUUkHSKjKv+5RSQSW/dQEKlVJBEai89w2VUkEyXof3D5VSQcGMorEQlVJBPaizMxOVUkGozEq5IJVSQZ3kggItlVJB6RBSJjuVUkHqXyX8PZVSQQTzZZZHlVJBz5VPYUqVUkHRqSERVZVSQfrbbvt0lVJBt+Crs4mVUkGYniG3lpVSQS12M4SelVJBY1fP7K6VUkFpgxFn1pVSQacflyXalVJBycftlN6VUkGcJ7P365VSQW+HFpz4lVJBYB0x1wmWUkEnFoeHEJZSQQBQSmsUllJB\"},\"shape\":[48],\"dtype\":\"float64\",\"order\":\"little\"}]],[[{\"type\":\"ndarray\",\"array\":{\"type\":\"bytes\",\"data\":\"L6wbGOiUUkF5McUsmZRSQTKZefx7lFJBMuA6H2OUUkH0qJfFQ5RSQWIeYUkwlFJBCi/420KUUkHBMNPFRJRSQZXVRFpjlFJBB8F7zWyUUkGH0WRhdZRSQYBbwG56lFJBjqARGYiUUkGwhQSmiJRSQT79eAOXlFJBeVKu7r2UUkGCjzjT8ZRSQSH6ZgralFJBY7pSaemVUkGB+V0OypVSQTsjU+lqlVJB7ZAuq2qVUkFK5hrNTpVSQTJxq7ZOlVJBxjre/BuVUkGCsKYDD5VSQQ==\"},\"shape\":[26],\"dtype\":\"float64\",\"order\":\"little\"}]]]],[\"label\",{\"type\":\"ndarray\",\"array\":{\"type\":\"bytes\",\"data\":\"AAAAAAAA8D8AAAAAAAD4fwAAAAAAAPh/AAAAAAAAAAAAAAAAAAD4fwAAAAAAAPh/AAAAAAAA+H8AAAAAAAD4fwAAAAAAAPh/AAAAAAAA+H8AAAAAAAD4fwAAAAAAAPA/AAAAAAAAAAAAAAAAAAD4fwAAAAAAAPA/AAAAAAAA+H8AAAAAAAAAAAAAAAAAAPA/AAAAAAAAAAAAAAAAAAD4fwAAAAAAAPh/AAAAAAAAAAAAAAAAAAAQQAAAAAAAAPh/AAAAAAAA8D8AAAAAAAAAAAAAAAAAAPA/AAAAAAAA+H8AAAAAAAD4fwAAAAAAAPh/AAAAAAAA+H8AAAAAAAD4fwAAAAAAAAAAAAAAAAAA+H8AAAAAAAD4fwAAAAAAAPh/AAAAAAAAAAAAAAAAAAAAAAAAAAAAAAAAAAAAAAAA8D8AAAAAAAAAAAAAAAAAABBAAAAAAAAA8D8AAAAAAAAQQAAAAAAAAPh/AAAAAAAAAAAAAAAAAADwPwAAAAAAAPh/AAAAAAAA8D8AAAAAAAAAAAAAAAAAAAAAAAAAAAAAEEAAAAAAAAAAAAAAAAAAAPh/AAAAAAAA8D8AAAAAAAAAAAAAAAAAAPh/AAAAAAAAAAAAAAAAAAD4fwAAAAAAAAAAAAAAAAAA8D8AAAAAAAAAAAAAAAAAAAAAAAAAAAAAAAAAAAAAAAAAAAAAAAAAAAAAAAAAAAAAAAAAAAAAAAAAAAAAAAAAAPh/AAAAAAAAEEAAAAAAAAAAAAAAAAAAAPh/AAAAAAAAAAAAAAAAAAAAAAAAAAAAAAAAAAAAAAAAAAAAAAAAAAAAAAAAAAAAAAAAAAAAAAAAEEAAAAAAAAAAAAAAAAAAAAAAAAAAAAAAAAAAAAAAAAD4fwAAAAAAAPA/AAAAAAAAEEAAAAAAAAAAAAAAAAAAAAAAAAAAAAAA8D8AAAAAAAD4fwAAAAAAAPh/AAAAAAAA+H8AAAAAAAAAAAAAAAAAAPh/AAAAAAAAAAAAAAAAAAAQQAAAAAAAAPA/AAAAAAAA8D8AAAAAAADwPwAAAAAAAAAAAAAAAAAA+H8AAAAAAAAQQAAAAAAAAAAAAAAAAAAA+H8AAAAAAAAAAAAAAAAAAAAAAAAAAAAAAAAAAAAAAAAAAAAAAAAAAAAAAAAAAAAAAAAAAAAAAAD4fwAAAAAAAPh/AAAAAAAAAAAAAAAAAAD4fwAAAAAAAPh/AAAAAAAAEEAAAAAAAAD4fwAAAAAAAPh/AAAAAAAA8D8AAAAAAAD4fwAAAAAAAPh/AAAAAAAA+H8AAAAAAAAQQAAAAAAAAAAAAAAAAAAAAAAAAAAAAAD4fwAAAAAAAPA/AAAAAAAA+H8AAAAAAAAQQAAAAAAAAPh/AAAAAAAA+H8AAAAAAAD4fwAAAAAAAAAAAAAAAAAAAEAAAAAAAAAAAAAAAAAAAAAAAAAAAAAAEEAAAAAAAAAAAAAAAAAAAAAAAAAAAAAAAAAAAAAAAAD4fwAAAAAAAAAAAAAAAAAA+H8AAAAAAAAQQAAAAAAAAPh/AAAAAAAA+H8AAAAAAAAAAAAAAAAAAAAAAAAAAAAAAAAAAAAAAAAAAAAAAAAAAAAAAAAAAAAACEAAAAAAAAAQQAAAAAAAAAAAAAAAAAAAAAAAAAAAAAAAAAAAAAAAAPh/AAAAAAAA+H8AAAAAAAAAAA==\"},\"shape\":[158],\"dtype\":\"float64\",\"order\":\"little\"}],[\"color\",{\"type\":\"ndarray\",\"array\":{\"type\":\"bytes\",\"data\":\"AAAAAAAA8D8AAAAAAAD4fwAAAAAAAPh/AAAAAAAAAAAAAAAAAAD4fwAAAAAAAPh/AAAAAAAA+H8AAAAAAAD4fwAAAAAAAPh/AAAAAAAA+H8AAAAAAAD4fwAAAAAAAPA/AAAAAAAAAAAAAAAAAAD4fwAAAAAAAPA/AAAAAAAA+H8AAAAAAAAAAAAAAAAAAPA/AAAAAAAAAAAAAAAAAAD4fwAAAAAAAPh/AAAAAAAAAAAAAAAAAAAQQAAAAAAAAPh/AAAAAAAA8D8AAAAAAAAAAAAAAAAAAPA/AAAAAAAA+H8AAAAAAAD4fwAAAAAAAPh/AAAAAAAA+H8AAAAAAAD4fwAAAAAAAAAAAAAAAAAA+H8AAAAAAAD4fwAAAAAAAPh/AAAAAAAAAAAAAAAAAAAAAAAAAAAAAAAAAAAAAAAA8D8AAAAAAAAAAAAAAAAAABBAAAAAAAAA8D8AAAAAAAAQQAAAAAAAAPh/AAAAAAAAAAAAAAAAAADwPwAAAAAAAPh/AAAAAAAA8D8AAAAAAAAAAAAAAAAAAAAAAAAAAAAAEEAAAAAAAAAAAAAAAAAAAPh/AAAAAAAA8D8AAAAAAAAAAAAAAAAAAPh/AAAAAAAAAAAAAAAAAAD4fwAAAAAAAAAAAAAAAAAA8D8AAAAAAAAAAAAAAAAAAAAAAAAAAAAAAAAAAAAAAAAAAAAAAAAAAAAAAAAAAAAAAAAAAAAAAAAAAAAAAAAAAPh/AAAAAAAAEEAAAAAAAAAAAAAAAAAAAPh/AAAAAAAAAAAAAAAAAAAAAAAAAAAAAAAAAAAAAAAAAAAAAAAAAAAAAAAAAAAAAAAAAAAAAAAAEEAAAAAAAAAAAAAAAAAAAAAAAAAAAAAAAAAAAAAAAAD4fwAAAAAAAPA/AAAAAAAAEEAAAAAAAAAAAAAAAAAAAAAAAAAAAAAA8D8AAAAAAAD4fwAAAAAAAPh/AAAAAAAA+H8AAAAAAAAAAAAAAAAAAPh/AAAAAAAAAAAAAAAAAAAQQAAAAAAAAPA/AAAAAAAA8D8AAAAAAADwPwAAAAAAAAAAAAAAAAAA+H8AAAAAAAAQQAAAAAAAAAAAAAAAAAAA+H8AAAAAAAAAAAAAAAAAAAAAAAAAAAAAAAAAAAAAAAAAAAAAAAAAAAAAAAAAAAAAAAAAAAAAAAD4fwAAAAAAAPh/AAAAAAAAAAAAAAAAAAD4fwAAAAAAAPh/AAAAAAAAEEAAAAAAAAD4fwAAAAAAAPh/AAAAAAAA8D8AAAAAAAD4fwAAAAAAAPh/AAAAAAAA+H8AAAAAAAAQQAAAAAAAAAAAAAAAAAAAAAAAAAAAAAD4fwAAAAAAAPA/AAAAAAAA+H8AAAAAAAAQQAAAAAAAAPh/AAAAAAAA+H8AAAAAAAD4fwAAAAAAAAAAAAAAAAAAAEAAAAAAAAAAAAAAAAAAAAAAAAAAAAAAEEAAAAAAAAAAAAAAAAAAAAAAAAAAAAAAAAAAAAAAAAD4fwAAAAAAAAAAAAAAAAAA+H8AAAAAAAAQQAAAAAAAAPh/AAAAAAAA+H8AAAAAAAAAAAAAAAAAAAAAAAAAAAAAAAAAAAAAAAAAAAAAAAAAAAAAAAAAAAAACEAAAAAAAAAQQAAAAAAAAAAAAAAAAAAAAAAAAAAAAAAAAAAAAAAAAPh/AAAAAAAA+H8AAAAAAAAAAA==\"},\"shape\":[158],\"dtype\":\"float64\",\"order\":\"little\"}]]}}},\"view\":{\"type\":\"object\",\"name\":\"CDSView\",\"id\":\"p2241\",\"attributes\":{\"filter\":{\"type\":\"object\",\"name\":\"AllIndices\",\"id\":\"p2242\"}}},\"glyph\":{\"type\":\"object\",\"name\":\"MultiPolygons\",\"id\":\"p2235\",\"attributes\":{\"xs\":{\"type\":\"field\",\"field\":\"xs\"},\"ys\":{\"type\":\"field\",\"field\":\"ys\"},\"fill_color\":{\"type\":\"field\",\"field\":\"color\",\"transform\":{\"type\":\"object\",\"name\":\"LinearColorMapper\",\"id\":\"p2228\",\"attributes\":{\"palette\":[\"#440154\",\"#440255\",\"#440357\",\"#450558\",\"#45065a\",\"#45085b\",\"#46095c\",\"#460b5e\",\"#460c5f\",\"#460e61\",\"#470f62\",\"#471163\",\"#471265\",\"#471466\",\"#471567\",\"#471669\",\"#47186a\",\"#48196b\",\"#481a6c\",\"#481c6e\",\"#481d6f\",\"#481e70\",\"#482071\",\"#482172\",\"#482273\",\"#482374\",\"#472575\",\"#472676\",\"#472777\",\"#472878\",\"#472a79\",\"#472b7a\",\"#472c7b\",\"#462d7c\",\"#462f7c\",\"#46307d\",\"#46317e\",\"#45327f\",\"#45347f\",\"#453580\",\"#453681\",\"#443781\",\"#443982\",\"#433a83\",\"#433b83\",\"#433c84\",\"#423d84\",\"#423e85\",\"#424085\",\"#414186\",\"#414286\",\"#404387\",\"#404487\",\"#3f4587\",\"#3f4788\",\"#3e4888\",\"#3e4989\",\"#3d4a89\",\"#3d4b89\",\"#3d4c89\",\"#3c4d8a\",\"#3c4e8a\",\"#3b508a\",\"#3b518a\",\"#3a528b\",\"#3a538b\",\"#39548b\",\"#39558b\",\"#38568b\",\"#38578c\",\"#37588c\",\"#37598c\",\"#365a8c\",\"#365b8c\",\"#355c8c\",\"#355d8c\",\"#345e8d\",\"#345f8d\",\"#33608d\",\"#33618d\",\"#32628d\",\"#32638d\",\"#31648d\",\"#31658d\",\"#31668d\",\"#30678d\",\"#30688d\",\"#2f698d\",\"#2f6a8d\",\"#2e6b8e\",\"#2e6c8e\",\"#2e6d8e\",\"#2d6e8e\",\"#2d6f8e\",\"#2c708e\",\"#2c718e\",\"#2c728e\",\"#2b738e\",\"#2b748e\",\"#2a758e\",\"#2a768e\",\"#2a778e\",\"#29788e\",\"#29798e\",\"#287a8e\",\"#287a8e\",\"#287b8e\",\"#277c8e\",\"#277d8e\",\"#277e8e\",\"#267f8e\",\"#26808e\",\"#26818e\",\"#25828e\",\"#25838d\",\"#24848d\",\"#24858d\",\"#24868d\",\"#23878d\",\"#23888d\",\"#23898d\",\"#22898d\",\"#228a8d\",\"#228b8d\",\"#218c8d\",\"#218d8c\",\"#218e8c\",\"#208f8c\",\"#20908c\",\"#20918c\",\"#1f928c\",\"#1f938b\",\"#1f948b\",\"#1f958b\",\"#1f968b\",\"#1e978a\",\"#1e988a\",\"#1e998a\",\"#1e998a\",\"#1e9a89\",\"#1e9b89\",\"#1e9c89\",\"#1e9d88\",\"#1e9e88\",\"#1e9f88\",\"#1ea087\",\"#1fa187\",\"#1fa286\",\"#1fa386\",\"#20a485\",\"#20a585\",\"#21a685\",\"#21a784\",\"#22a784\",\"#23a883\",\"#23a982\",\"#24aa82\",\"#25ab81\",\"#26ac81\",\"#27ad80\",\"#28ae7f\",\"#29af7f\",\"#2ab07e\",\"#2bb17d\",\"#2cb17d\",\"#2eb27c\",\"#2fb37b\",\"#30b47a\",\"#32b57a\",\"#33b679\",\"#35b778\",\"#36b877\",\"#38b976\",\"#39b976\",\"#3bba75\",\"#3dbb74\",\"#3ebc73\",\"#40bd72\",\"#42be71\",\"#44be70\",\"#45bf6f\",\"#47c06e\",\"#49c16d\",\"#4bc26c\",\"#4dc26b\",\"#4fc369\",\"#51c468\",\"#53c567\",\"#55c666\",\"#57c665\",\"#59c764\",\"#5bc862\",\"#5ec961\",\"#60c960\",\"#62ca5f\",\"#64cb5d\",\"#67cc5c\",\"#69cc5b\",\"#6bcd59\",\"#6dce58\",\"#70ce56\",\"#72cf55\",\"#74d054\",\"#77d052\",\"#79d151\",\"#7cd24f\",\"#7ed24e\",\"#81d34c\",\"#83d34b\",\"#86d449\",\"#88d547\",\"#8bd546\",\"#8dd644\",\"#90d643\",\"#92d741\",\"#95d73f\",\"#97d83e\",\"#9ad83c\",\"#9dd93a\",\"#9fd938\",\"#a2da37\",\"#a5da35\",\"#a7db33\",\"#aadb32\",\"#addc30\",\"#afdc2e\",\"#b2dd2c\",\"#b5dd2b\",\"#b7dd29\",\"#bade27\",\"#bdde26\",\"#bfdf24\",\"#c2df22\",\"#c5df21\",\"#c7e01f\",\"#cae01e\",\"#cde01d\",\"#cfe11c\",\"#d2e11b\",\"#d4e11a\",\"#d7e219\",\"#dae218\",\"#dce218\",\"#dfe318\",\"#e1e318\",\"#e4e318\",\"#e7e419\",\"#e9e419\",\"#ece41a\",\"#eee51b\",\"#f1e51c\",\"#f3e51e\",\"#f6e61f\",\"#f8e621\",\"#fae622\",\"#fde724\"],\"low\":0.0,\"high\":4.0}}},\"hatch_color\":{\"type\":\"field\",\"field\":\"color\",\"transform\":{\"id\":\"p2228\"}}}},\"selection_glyph\":{\"type\":\"object\",\"name\":\"MultiPolygons\",\"id\":\"p2237\",\"attributes\":{\"xs\":{\"type\":\"field\",\"field\":\"xs\"},\"ys\":{\"type\":\"field\",\"field\":\"ys\"},\"fill_color\":{\"type\":\"field\",\"field\":\"color\",\"transform\":{\"id\":\"p2228\"}},\"hatch_color\":{\"type\":\"field\",\"field\":\"color\",\"transform\":{\"id\":\"p2228\"}}}},\"nonselection_glyph\":{\"type\":\"object\",\"name\":\"MultiPolygons\",\"id\":\"p2236\",\"attributes\":{\"xs\":{\"type\":\"field\",\"field\":\"xs\"},\"ys\":{\"type\":\"field\",\"field\":\"ys\"},\"line_alpha\":{\"type\":\"value\",\"value\":0.1},\"fill_color\":{\"type\":\"field\",\"field\":\"color\",\"transform\":{\"id\":\"p2228\"}},\"fill_alpha\":{\"type\":\"value\",\"value\":0.1},\"hatch_color\":{\"type\":\"field\",\"field\":\"color\",\"transform\":{\"id\":\"p2228\"}},\"hatch_alpha\":{\"type\":\"value\",\"value\":0.1}}},\"hover_glyph\":{\"type\":\"object\",\"name\":\"MultiPolygons\",\"id\":\"p2238\",\"attributes\":{\"xs\":{\"type\":\"field\",\"field\":\"xs\"},\"ys\":{\"type\":\"field\",\"field\":\"ys\"},\"fill_color\":{\"type\":\"field\",\"field\":\"color\",\"transform\":{\"id\":\"p2228\"}},\"hatch_color\":{\"type\":\"field\",\"field\":\"color\",\"transform\":{\"id\":\"p2228\"}}}},\"muted_glyph\":{\"type\":\"object\",\"name\":\"MultiPolygons\",\"id\":\"p2239\",\"attributes\":{\"xs\":{\"type\":\"field\",\"field\":\"xs\"},\"ys\":{\"type\":\"field\",\"field\":\"ys\"},\"line_alpha\":{\"type\":\"value\",\"value\":0.2},\"fill_color\":{\"type\":\"field\",\"field\":\"color\",\"transform\":{\"id\":\"p2228\"}},\"fill_alpha\":{\"type\":\"value\",\"value\":0.2},\"hatch_color\":{\"type\":\"field\",\"field\":\"color\",\"transform\":{\"id\":\"p2228\"}},\"hatch_alpha\":{\"type\":\"value\",\"value\":0.2}}}}},{\"type\":\"object\",\"name\":\"GlyphRenderer\",\"id\":\"p2258\",\"attributes\":{\"data_source\":{\"type\":\"object\",\"name\":\"ColumnDataSource\",\"id\":\"p2249\",\"attributes\":{\"selected\":{\"type\":\"object\",\"name\":\"Selection\",\"id\":\"p2250\",\"attributes\":{\"indices\":[],\"line_indices\":[]}},\"selection_policy\":{\"type\":\"object\",\"name\":\"UnionRenderers\",\"id\":\"p2251\"},\"data\":{\"type\":\"map\",\"entries\":[[\"xs\",[{\"type\":\"ndarray\",\"array\":{\"type\":\"bytes\",\"data\":\"kxB8Rfgbc8GTEHxF+BtzwZMQfEX4G3NBkxB8Rfgbc0GTEHxF+BtzwQ==\"},\"shape\":[5],\"dtype\":\"float64\",\"order\":\"little\"}]],[\"ys\",[{\"type\":\"ndarray\",\"array\":{\"type\":\"bytes\",\"data\":\"NQuqYcQec8E1C6phxB5zQTULqmHEHnNBNQuqYcQec8E1C6phxB5zwQ==\"},\"shape\":[5],\"dtype\":\"float64\",\"order\":\"little\"}]]]}}},\"view\":{\"type\":\"object\",\"name\":\"CDSView\",\"id\":\"p2259\",\"attributes\":{\"filter\":{\"type\":\"object\",\"name\":\"AllIndices\",\"id\":\"p2260\"}}},\"glyph\":{\"type\":\"object\",\"name\":\"MultiLine\",\"id\":\"p2255\",\"attributes\":{\"xs\":{\"type\":\"field\",\"field\":\"xs\"},\"ys\":{\"type\":\"field\",\"field\":\"ys\"}}},\"selection_glyph\":{\"type\":\"object\",\"name\":\"MultiLine\",\"id\":\"p2261\",\"attributes\":{\"xs\":{\"type\":\"field\",\"field\":\"xs\"},\"ys\":{\"type\":\"field\",\"field\":\"ys\"},\"line_color\":{\"type\":\"value\",\"value\":\"black\"},\"line_alpha\":{\"type\":\"value\",\"value\":1.0},\"line_width\":{\"type\":\"value\",\"value\":1},\"line_join\":{\"type\":\"value\",\"value\":\"bevel\"},\"line_cap\":{\"type\":\"value\",\"value\":\"butt\"},\"line_dash\":{\"type\":\"value\",\"value\":[]},\"line_dash_offset\":{\"type\":\"value\",\"value\":0}}},\"nonselection_glyph\":{\"type\":\"object\",\"name\":\"MultiLine\",\"id\":\"p2256\",\"attributes\":{\"xs\":{\"type\":\"field\",\"field\":\"xs\"},\"ys\":{\"type\":\"field\",\"field\":\"ys\"},\"line_alpha\":{\"type\":\"value\",\"value\":0.1}}},\"muted_glyph\":{\"type\":\"object\",\"name\":\"MultiLine\",\"id\":\"p2257\",\"attributes\":{\"xs\":{\"type\":\"field\",\"field\":\"xs\"},\"ys\":{\"type\":\"field\",\"field\":\"ys\"},\"line_alpha\":{\"type\":\"value\",\"value\":0.2}}}}}],\"toolbar\":{\"type\":\"object\",\"name\":\"Toolbar\",\"id\":\"p2212\",\"attributes\":{\"tools\":[{\"type\":\"object\",\"name\":\"WheelZoomTool\",\"id\":\"p2199\",\"attributes\":{\"zoom_on_axis\":false}},{\"type\":\"object\",\"name\":\"BoxZoomTool\",\"id\":\"p2200\",\"attributes\":{\"overlay\":{\"type\":\"object\",\"name\":\"BoxAnnotation\",\"id\":\"p1004\",\"attributes\":{\"syncable\":false,\"level\":\"overlay\",\"visible\":false,\"left_units\":\"canvas\",\"right_units\":\"canvas\",\"bottom_units\":\"canvas\",\"top_units\":\"canvas\",\"line_color\":\"black\",\"line_alpha\":1.0,\"line_width\":2,\"line_dash\":[4,4],\"fill_color\":\"lightgrey\",\"fill_alpha\":0.5}},\"match_aspect\":true}},{\"type\":\"object\",\"name\":\"HoverTool\",\"id\":\"p2202\",\"attributes\":{\"tags\":[\"hv_created\"],\"renderers\":[{\"id\":\"p2240\"}],\"tooltips\":[[\"label\",\"@{label}\"]]}},{\"type\":\"object\",\"name\":\"SaveTool\",\"id\":\"p2225\"},{\"type\":\"object\",\"name\":\"PanTool\",\"id\":\"p2226\"},{\"type\":\"object\",\"name\":\"ResetTool\",\"id\":\"p2227\"}],\"active_drag\":{\"id\":\"p2226\"}}},\"left\":[{\"type\":\"object\",\"name\":\"LinearAxis\",\"id\":\"p2220\",\"attributes\":{\"visible\":false,\"ticker\":{\"type\":\"object\",\"name\":\"BasicTicker\",\"id\":\"p2221\",\"attributes\":{\"mantissas\":[1,2,5]}},\"formatter\":{\"type\":\"object\",\"name\":\"BasicTickFormatter\",\"id\":\"p2222\"},\"axis_label\":\"Latitude\",\"major_label_policy\":{\"type\":\"object\",\"name\":\"AllLabels\",\"id\":\"p2223\"}}}],\"right\":[{\"type\":\"object\",\"name\":\"ColorBar\",\"id\":\"p2244\",\"attributes\":{\"location\":[0,0],\"ticker\":{\"type\":\"object\",\"name\":\"BasicTicker\",\"id\":\"p2243\",\"attributes\":{\"mantissas\":[1,2,5]}},\"major_label_policy\":{\"type\":\"object\",\"name\":\"NoOverlap\",\"id\":\"p2245\"},\"label_standoff\":8,\"major_tick_line_color\":\"black\",\"bar_line_color\":\"black\",\"color_mapper\":{\"id\":\"p2228\"}}}],\"below\":[{\"type\":\"object\",\"name\":\"LinearAxis\",\"id\":\"p2215\",\"attributes\":{\"visible\":false,\"ticker\":{\"type\":\"object\",\"name\":\"BasicTicker\",\"id\":\"p2216\",\"attributes\":{\"mantissas\":[1,2,5]}},\"formatter\":{\"type\":\"object\",\"name\":\"BasicTickFormatter\",\"id\":\"p2217\"},\"axis_label\":\"Longitude\",\"major_label_policy\":{\"type\":\"object\",\"name\":\"AllLabels\",\"id\":\"p2218\"}}}],\"center\":[{\"type\":\"object\",\"name\":\"Grid\",\"id\":\"p2219\",\"attributes\":{\"axis\":{\"id\":\"p2215\"},\"grid_line_color\":null}},{\"type\":\"object\",\"name\":\"Grid\",\"id\":\"p2224\",\"attributes\":{\"dimension\":1,\"axis\":{\"id\":\"p2220\"},\"grid_line_color\":null}}],\"frame_width\":600,\"frame_height\":600,\"min_border_top\":10,\"min_border_bottom\":10,\"min_border_left\":10,\"min_border_right\":10,\"output_backend\":\"webgl\",\"match_aspect\":true}},{\"type\":\"object\",\"name\":\"Spacer\",\"id\":\"p2263\",\"attributes\":{\"name\":\"HSpacer02071\",\"stylesheets\":[\"\\n:host(.pn-loading.pn-arc):before, .pn-loading.pn-arc:before {\\n  background-image: url(\\\"data:image/svg+xml;base64,PHN2ZyB4bWxucz0iaHR0cDovL3d3dy53My5vcmcvMjAwMC9zdmciIHN0eWxlPSJtYXJnaW46IGF1dG87IGJhY2tncm91bmQ6IG5vbmU7IGRpc3BsYXk6IGJsb2NrOyBzaGFwZS1yZW5kZXJpbmc6IGF1dG87IiB2aWV3Qm94PSIwIDAgMTAwIDEwMCIgcHJlc2VydmVBc3BlY3RSYXRpbz0ieE1pZFlNaWQiPiAgPGNpcmNsZSBjeD0iNTAiIGN5PSI1MCIgZmlsbD0ibm9uZSIgc3Ryb2tlPSIjYzNjM2MzIiBzdHJva2Utd2lkdGg9IjEwIiByPSIzNSIgc3Ryb2tlLWRhc2hhcnJheT0iMTY0LjkzMzYxNDMxMzQ2NDE1IDU2Ljk3Nzg3MTQzNzgyMTM4Ij4gICAgPGFuaW1hdGVUcmFuc2Zvcm0gYXR0cmlidXRlTmFtZT0idHJhbnNmb3JtIiB0eXBlPSJyb3RhdGUiIHJlcGVhdENvdW50PSJpbmRlZmluaXRlIiBkdXI9IjFzIiB2YWx1ZXM9IjAgNTAgNTA7MzYwIDUwIDUwIiBrZXlUaW1lcz0iMDsxIj48L2FuaW1hdGVUcmFuc2Zvcm0+ICA8L2NpcmNsZT48L3N2Zz4=\\\");\\n  background-size: auto calc(min(50%, 400px));\\n}\",{\"id\":\"p2190\"},{\"id\":\"p2188\"},{\"id\":\"p2189\"}],\"margin\":0,\"sizing_mode\":\"stretch_width\",\"align\":\"start\"}}]}}],\"defs\":[{\"type\":\"model\",\"name\":\"ReactiveHTML1\"},{\"type\":\"model\",\"name\":\"FlexBox1\",\"properties\":[{\"name\":\"align_content\",\"kind\":\"Any\",\"default\":\"flex-start\"},{\"name\":\"align_items\",\"kind\":\"Any\",\"default\":\"flex-start\"},{\"name\":\"flex_direction\",\"kind\":\"Any\",\"default\":\"row\"},{\"name\":\"flex_wrap\",\"kind\":\"Any\",\"default\":\"wrap\"},{\"name\":\"justify_content\",\"kind\":\"Any\",\"default\":\"flex-start\"}]},{\"type\":\"model\",\"name\":\"FloatPanel1\",\"properties\":[{\"name\":\"config\",\"kind\":\"Any\",\"default\":{\"type\":\"map\"}},{\"name\":\"contained\",\"kind\":\"Any\",\"default\":true},{\"name\":\"position\",\"kind\":\"Any\",\"default\":\"right-top\"},{\"name\":\"offsetx\",\"kind\":\"Any\",\"default\":null},{\"name\":\"offsety\",\"kind\":\"Any\",\"default\":null},{\"name\":\"theme\",\"kind\":\"Any\",\"default\":\"primary\"},{\"name\":\"status\",\"kind\":\"Any\",\"default\":\"normalized\"}]},{\"type\":\"model\",\"name\":\"GridStack1\",\"properties\":[{\"name\":\"mode\",\"kind\":\"Any\",\"default\":\"warn\"},{\"name\":\"ncols\",\"kind\":\"Any\",\"default\":null},{\"name\":\"nrows\",\"kind\":\"Any\",\"default\":null},{\"name\":\"allow_resize\",\"kind\":\"Any\",\"default\":true},{\"name\":\"allow_drag\",\"kind\":\"Any\",\"default\":true},{\"name\":\"state\",\"kind\":\"Any\",\"default\":[]}]},{\"type\":\"model\",\"name\":\"drag1\",\"properties\":[{\"name\":\"slider_width\",\"kind\":\"Any\",\"default\":5},{\"name\":\"slider_color\",\"kind\":\"Any\",\"default\":\"black\"},{\"name\":\"value\",\"kind\":\"Any\",\"default\":50}]},{\"type\":\"model\",\"name\":\"click1\",\"properties\":[{\"name\":\"terminal_output\",\"kind\":\"Any\",\"default\":\"\"},{\"name\":\"debug_name\",\"kind\":\"Any\",\"default\":\"\"},{\"name\":\"clears\",\"kind\":\"Any\",\"default\":0}]},{\"type\":\"model\",\"name\":\"FastWrapper1\",\"properties\":[{\"name\":\"object\",\"kind\":\"Any\",\"default\":null},{\"name\":\"style\",\"kind\":\"Any\",\"default\":null}]},{\"type\":\"model\",\"name\":\"NotificationAreaBase1\",\"properties\":[{\"name\":\"js_events\",\"kind\":\"Any\",\"default\":{\"type\":\"map\"}},{\"name\":\"position\",\"kind\":\"Any\",\"default\":\"bottom-right\"},{\"name\":\"_clear\",\"kind\":\"Any\",\"default\":0}]},{\"type\":\"model\",\"name\":\"NotificationArea1\",\"properties\":[{\"name\":\"js_events\",\"kind\":\"Any\",\"default\":{\"type\":\"map\"}},{\"name\":\"notifications\",\"kind\":\"Any\",\"default\":[]},{\"name\":\"position\",\"kind\":\"Any\",\"default\":\"bottom-right\"},{\"name\":\"_clear\",\"kind\":\"Any\",\"default\":0},{\"name\":\"types\",\"kind\":\"Any\",\"default\":[{\"type\":\"map\",\"entries\":[[\"type\",\"warning\"],[\"background\",\"#ffc107\"],[\"icon\",{\"type\":\"map\",\"entries\":[[\"className\",\"fas fa-exclamation-triangle\"],[\"tagName\",\"i\"],[\"color\",\"white\"]]}]]},{\"type\":\"map\",\"entries\":[[\"type\",\"info\"],[\"background\",\"#007bff\"],[\"icon\",{\"type\":\"map\",\"entries\":[[\"className\",\"fas fa-info-circle\"],[\"tagName\",\"i\"],[\"color\",\"white\"]]}]]}]}]},{\"type\":\"model\",\"name\":\"Notification\",\"properties\":[{\"name\":\"background\",\"kind\":\"Any\",\"default\":null},{\"name\":\"duration\",\"kind\":\"Any\",\"default\":3000},{\"name\":\"icon\",\"kind\":\"Any\",\"default\":null},{\"name\":\"message\",\"kind\":\"Any\",\"default\":\"\"},{\"name\":\"notification_type\",\"kind\":\"Any\",\"default\":null},{\"name\":\"_destroyed\",\"kind\":\"Any\",\"default\":false}]},{\"type\":\"model\",\"name\":\"TemplateActions1\",\"properties\":[{\"name\":\"open_modal\",\"kind\":\"Any\",\"default\":0},{\"name\":\"close_modal\",\"kind\":\"Any\",\"default\":0}]},{\"type\":\"model\",\"name\":\"BootstrapTemplateActions1\",\"properties\":[{\"name\":\"open_modal\",\"kind\":\"Any\",\"default\":0},{\"name\":\"close_modal\",\"kind\":\"Any\",\"default\":0}]},{\"type\":\"model\",\"name\":\"MaterialTemplateActions1\",\"properties\":[{\"name\":\"open_modal\",\"kind\":\"Any\",\"default\":0},{\"name\":\"close_modal\",\"kind\":\"Any\",\"default\":0}]}]}};\n",
       "  var render_items = [{\"docid\":\"b21b32fe-e4ba-4a2c-bb9b-8ad547dccb3e\",\"roots\":{\"p2187\":\"e88ba0fb-3e22-4310-8503-5d10eb60864a\"},\"root_ids\":[\"p2187\"]}];\n",
       "  var docs = Object.values(docs_json)\n",
       "  if (!docs) {\n",
       "    return\n",
       "  }\n",
       "  const py_version = docs[0].version.replace('rc', '-rc.').replace('.dev', '-dev.')\n",
       "  const is_dev = py_version.indexOf(\"+\") !== -1 || py_version.indexOf(\"-\") !== -1\n",
       "  function embed_document(root) {\n",
       "    var Bokeh = get_bokeh(root)\n",
       "    Bokeh.embed.embed_items_notebook(docs_json, render_items);\n",
       "    for (const render_item of render_items) {\n",
       "      for (const root_id of render_item.root_ids) {\n",
       "\tconst id_el = document.getElementById(root_id)\n",
       "\tif (id_el.children.length && (id_el.children[0].className === 'bk-root')) {\n",
       "\t  const root_el = id_el.children[0]\n",
       "\t  root_el.id = root_el.id + '-rendered'\n",
       "\t}\n",
       "      }\n",
       "    }\n",
       "  }\n",
       "  function get_bokeh(root) {\n",
       "    if (root.Bokeh === undefined) {\n",
       "      return null\n",
       "    } else if (root.Bokeh.version !== py_version && !is_dev) {\n",
       "      if (root.Bokeh.versions === undefined || !root.Bokeh.versions.has(py_version)) {\n",
       "\treturn null\n",
       "      }\n",
       "      return root.Bokeh.versions.get(py_version);\n",
       "    } else if (root.Bokeh.version === py_version) {\n",
       "      return root.Bokeh\n",
       "    }\n",
       "    return null\n",
       "  }\n",
       "  function is_loaded(root) {\n",
       "    var Bokeh = get_bokeh(root)\n",
       "    return (Bokeh != null && Bokeh.Panel !== undefined)\n",
       "  }\n",
       "  if (is_loaded(root)) {\n",
       "    embed_document(root);\n",
       "  } else {\n",
       "    var attempts = 0;\n",
       "    var timer = setInterval(function(root) {\n",
       "      if (is_loaded(root)) {\n",
       "        clearInterval(timer);\n",
       "        embed_document(root);\n",
       "      } else if (document.readyState == \"complete\") {\n",
       "        attempts++;\n",
       "        if (attempts > 200) {\n",
       "          clearInterval(timer);\n",
       "\t  var Bokeh = get_bokeh(root)\n",
       "\t  if (Bokeh == null || Bokeh.Panel == null) {\n",
       "            console.warn(\"Panel: ERROR: Unable to run Panel code because Bokeh or Panel library is missing\");\n",
       "\t  } else {\n",
       "\t    console.warn(\"Panel: WARNING: Attempting to render but not all required libraries could be resolved.\")\n",
       "\t    embed_document(root)\n",
       "\t  }\n",
       "        }\n",
       "      }\n",
       "    }, 25, root)\n",
       "  }\n",
       "})(window);</script>"
      ],
      "text/plain": [
       ":Polygons   [Longitude,Latitude]   (label)"
      ]
     },
     "execution_count": 67,
     "metadata": {
      "application/vnd.holoviews_exec.v0+json": {
       "id": "p2187"
      }
     },
     "output_type": "execute_result"
    }
   ],
   "source": [
    "import hvplot.pandas\n",
    "\n",
    "merged.to_crs(epsg=3857).hvplot(\n",
    "    c=\"label\",\n",
    "    frame_width=600,\n",
    "    frame_height=600,\n",
    "    geo=True,\n",
    "    crs=3857,\n",
    "    cmap=\"viridis\"\n",
    ")"
   ]
  },
  {
   "cell_type": "code",
   "execution_count": null,
   "metadata": {},
   "outputs": [],
   "source": []
  },
  {
   "cell_type": "markdown",
   "metadata": {
    "hide_input": true,
    "slideshow": {
     "slide_type": "slide"
    }
   },
   "source": [
    "#### Based on these results, where would you want to stay?\n",
    "\n",
    "\n"
   ]
  },
  {
   "cell_type": "code",
   "execution_count": null,
   "metadata": {},
   "outputs": [],
   "source": []
  },
  {
   "cell_type": "markdown",
   "metadata": {
    "slideshow": {
     "slide_type": "slide"
    }
   },
   "source": [
    "### Why 5 groups? \n",
    "\n",
    "Use the [\"Elbow\" method](https://en.wikipedia.org/wiki/Elbow_method_(clustering))..."
   ]
  },
  {
   "cell_type": "code",
   "execution_count": 50,
   "metadata": {
    "slideshow": {
     "slide_type": "subslide"
    }
   },
   "outputs": [
    {
     "data": {
      "image/png": "[encoded data removed]",
      "text/plain": [
       "<Figure size 1600x1200 with 1 Axes>"
      ]
     },
     "metadata": {},
     "output_type": "display_data"
    }
   ],
   "source": [
    "# Number of clusters to try out\n",
    "n_clusters = list(range(2, 10))\n",
    "\n",
    "# Run kmeans for each value of k\n",
    "inertias = []\n",
    "for k in n_clusters:\n",
    "    \n",
    "    # Initialize and run\n",
    "    kmeans = KMeans(n_clusters=k, n_init=10)\n",
    "    kmeans.fit(scaled_airbnb_data)\n",
    "    \n",
    "    # Save the \"inertia\"\n",
    "    inertias.append(kmeans.inertia_)\n",
    "    \n",
    "# Plot it!\n",
    "plt.plot(n_clusters, inertias, marker='o', ms=10, mfc='white', lw=4, mew=3);"
   ]
  },
  {
   "cell_type": "markdown",
   "metadata": {
    "slideshow": {
     "slide_type": "slide"
    }
   },
   "source": [
    "### The `kneed` package\n",
    "\n",
    "There is also a nice package called kneed that can determine the “knee” point quantitatively, using the [kneedle algorithm](https://raghavan.usc.edu/papers/kneedle-simplex11.pdf)."
   ]
  },
  {
   "cell_type": "code",
   "execution_count": 51,
   "metadata": {},
   "outputs": [
    {
     "data": {
      "text/plain": [
       "[2, 3, 4, 5, 6, 7, 8, 9]"
      ]
     },
     "execution_count": 51,
     "metadata": {},
     "output_type": "execute_result"
    }
   ],
   "source": [
    "n_clusters"
   ]
  },
  {
   "cell_type": "code",
   "execution_count": 52,
   "metadata": {
    "slideshow": {
     "slide_type": "slide"
    }
   },
   "outputs": [
    {
     "name": "stdout",
     "output_type": "stream",
     "text": [
      "5\n"
     ]
    }
   ],
   "source": [
    "from kneed import KneeLocator\n",
    "\n",
    "# Initialize the knee algorithm\n",
    "kn = KneeLocator(n_clusters, inertias, curve='convex', direction='decreasing')\n",
    "\n",
    "# Print out the knee \n",
    "print(kn.knee)"
   ]
  },
  {
   "cell_type": "markdown",
   "metadata": {},
   "source": [
    "## That's it!\n",
    "\n",
    "More clustering on Wednesday!"
   ]
  },
  {
   "cell_type": "code",
   "execution_count": null,
   "metadata": {},
   "outputs": [],
   "source": []
  }
 ],
 "metadata": {
  "celltoolbar": "Slideshow",
  "kernelspec": {
   "display_name": "Python 3 (ipykernel)",
   "language": "python",
   "name": "python3"
  },
  "language_info": {
   "codemirror_mode": {
    "name": "ipython",
    "version": 3
   },
   "file_extension": ".py",
   "mimetype": "text/x-python",
   "name": "python",
   "nbconvert_exporter": "python",
   "pygments_lexer": "ipython3",
   "version": "3.10.12"
  }
 },
 "nbformat": 4,
 "nbformat_minor": 4
}
